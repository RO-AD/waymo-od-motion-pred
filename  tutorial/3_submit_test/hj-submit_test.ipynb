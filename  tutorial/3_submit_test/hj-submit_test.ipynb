{
  "nbformat": 4,
  "nbformat_minor": 0,
  "metadata": {
    "colab": {
      "provenance": [],
      "authorship_tag": "ABX9TyNk5ZD5WYaYvFAPhMGwi3YQ",
      "include_colab_link": true
    },
    "kernelspec": {
      "name": "python3",
      "display_name": "Python 3"
    },
    "language_info": {
      "name": "python"
    }
  },
  "cells": [
    {
      "cell_type": "markdown",
      "metadata": {
        "id": "view-in-github",
        "colab_type": "text"
      },
      "source": [
        "<a href=\"https://colab.research.google.com/github/RO-AD/waymo-od-motion-pred/blob/main/%20tutorial/3_submit_test/hj-submit_test.ipynb\" target=\"_parent\"><img src=\"https://colab.research.google.com/assets/colab-badge.svg\" alt=\"Open In Colab\"/></a>"
      ]
    },
    {
      "cell_type": "markdown",
      "source": [
        "tutorial/3_submit_test/hj-submit_test.ipynb"
      ],
      "metadata": {
        "id": "XOuPbulLH5bd"
      }
    },
    {
      "cell_type": "markdown",
      "source": [
        "# Validation Set Submission"
      ],
      "metadata": {
        "id": "IkM2fvc3H6xc"
      }
    },
    {
      "cell_type": "code",
      "execution_count": null,
      "metadata": {
        "id": "laeY3EznHxrv"
      },
      "outputs": [],
      "source": []
    }
  ]
}