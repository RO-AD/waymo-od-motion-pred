{
  "nbformat": 4,
  "nbformat_minor": 0,
  "metadata": {
    "colab": {
      "provenance": [],
      "authorship_tag": "ABX9TyNSSc5kEBs1dDPQ+mIltkCY",
      "include_colab_link": true
    },
    "kernelspec": {
      "name": "python3",
      "display_name": "Python 3"
    },
    "language_info": {
      "name": "python"
    }
  },
  "cells": [
    {
      "cell_type": "markdown",
      "metadata": {
        "id": "view-in-github",
        "colab_type": "text"
      },
      "source": [
        "<a href=\"https://colab.research.google.com/github/RO-AD/waymo-od-motion-pred/blob/main/hj_transformer.ipynb\" target=\"_parent\"><img src=\"https://colab.research.google.com/assets/colab-badge.svg\" alt=\"Open In Colab\"/></a>"
      ]
    },
    {
      "cell_type": "markdown",
      "source": [
        "## Attention is All You Need (NIPS 2017) 실습\n",
        "- 아래 링크 보고 transformer 모델 만들어보기\n",
        "https://github.com/hyojinlee98/College/blob/master/tutorial/1_transformer/hj_transformer.ipynb\n",
        "\n",
        "- 코드 실행 전에 [런타임] → [런타임 유형 변경] → 유형을 GPU로 설정"
      ],
      "metadata": {
        "id": "0Had3Q4rSS93"
      }
    },
    {
      "cell_type": "markdown",
      "source": [
        "## BLEU Score 계산을 위한 라이브러리 업데이트\n",
        "- [Restart Runtime] 버튼을 눌러 런타임을 재시작\n",
        "- `bleu_score` 모듈이 있는 torchtext 라이브러리 설치 \n",
        "  - from torchtext.data.metrics import bleu_score"
      ],
      "metadata": {
        "id": "14TpZ8nHS1KN"
      }
    },
    {
      "cell_type": "code",
      "source": [
        "%%capture\n",
        "!pip install torchtext==0.6.0"
      ],
      "metadata": {
        "id": "yioMXLIfSVPj"
      },
      "execution_count": 1,
      "outputs": []
    },
    {
      "cell_type": "markdown",
      "source": [
        "## 데이터 전처리 (Preprocessing)\n",
        "\n",
        "NLP에서 텍스트 전처리 작업이 필요하다. 텍스트 전처리를 위해서는 클렌징, 토큰화, 불용어 제거, 정규화 등의 작업이 필요하다. 이번에는 토큰화를 진행할 것이다. 토큰(Token)이란 문법적으로 더 이상 나눌 수 없는 언어 요소를 뜻한다. 텍스트 토큰화란 말뭉치로부터 토큰을 분리하는 작업을 뜻한다. 문장 토큰화와 단어 토큰화가 있는데, 이번에 사용하는 라이브러리는 단어 토큰화를 해볼 것이다. 기본적으로 띄어쓰기를 기준으로 하고, 콤마와 마침표는 별도의 토큰으로 구분한다. `Don't` 같은 경우는 `Do`와 `n't`로 분리된다.\n",
        "\n",
        "- spaCy 라이브러리 : 문장의 토큰화(tokenization), 태깅(tagging) 등의 전처리 기능을 위한 라이브러리\n",
        "  - 영어(English)와 한국어(Korea) 전처리 모듈 설치"
      ],
      "metadata": {
        "id": "ynjyBmE_TWny"
      }
    },
    {
      "cell_type": "code",
      "source": [
        "# %%는 Colab의 매직 커맨드 (결과 출력 X / 뒤에 이름 지정해주면 지정 파일에 결과값 저장)\n",
        "%%capture \n",
        "!python -m spacy download en_core_web_sm\n",
        "!python -m spacy download ko_core_news_sm # ko가 없음"
      ],
      "metadata": {
        "id": "yRmEUFm0TN5G"
      },
      "execution_count": 2,
      "outputs": []
    },
    {
      "cell_type": "code",
      "source": [
        "import spacy\n",
        "\n",
        "spacy_en = spacy.load('en_core_web_sm') # 영어 토큰화(tokenization)\n",
        "spacy_ko = spacy.load('ko_core_news_sm') # 한국어 토큰화(tokenization)"
      ],
      "metadata": {
        "colab": {
          "base_uri": "https://localhost:8080/"
        },
        "id": "7OgYofVrUpok",
        "outputId": "521727cb-0c12-4070-c209-ee8884bcb9c9"
      },
      "execution_count": 3,
      "outputs": [
        {
          "output_type": "stream",
          "name": "stderr",
          "text": [
            "/usr/local/lib/python3.8/dist-packages/torch/cuda/__init__.py:497: UserWarning: Can't initialize NVML\n",
            "  warnings.warn(\"Can't initialize NVML\")\n"
          ]
        }
      ]
    },
    {
      "cell_type": "code",
      "source": [
        "# 간단히 영어 토큰화 기능 써보기 - 단어로 토큰화 \n",
        "tokenized = spacy_en.tokenizer(\"I am a graduate student.\")\n",
        "\n",
        "for i, token in enumerate(tokenized) :\n",
        "  print(f'인덱스 {i} : {token.text}')"
      ],
      "metadata": {
        "colab": {
          "base_uri": "https://localhost:8080/"
        },
        "id": "1cdjrzxgUq9P",
        "outputId": "a9b6600e-3318-44a2-b8b7-306857501d3a"
      },
      "execution_count": 4,
      "outputs": [
        {
          "output_type": "stream",
          "name": "stdout",
          "text": [
            "인덱스 0 : I\n",
            "인덱스 1 : am\n",
            "인덱스 2 : a\n",
            "인덱스 3 : graduate\n",
            "인덱스 4 : student\n",
            "인덱스 5 : .\n"
          ]
        }
      ]
    },
    {
      "cell_type": "code",
      "source": [
        "# 간단히 한국어 토큰화 기능 써보기 - 단어로 토큰화\n",
        "tokenized = spacy_ko.tokenizer(\"나는 대학원생이다.\")\n",
        "\n",
        "for i, token in enumerate(tokenized) :\n",
        "  print(f\"인덱스 {i} : {token.text}\")"
      ],
      "metadata": {
        "colab": {
          "base_uri": "https://localhost:8080/"
        },
        "id": "av-L8yDLZLVg",
        "outputId": "7fa4b062-af05-47d4-8699-f60420d3bcf4"
      },
      "execution_count": 5,
      "outputs": [
        {
          "output_type": "stream",
          "name": "stdout",
          "text": [
            "인덱스 0 : 나는\n",
            "인덱스 1 : 대학원생이다\n",
            "인덱스 2 : .\n"
          ]
        }
      ]
    },
    {
      "cell_type": "markdown",
      "source": [
        "- 영어(English) 및 한국어(Korea) 토큰화 함수 정의"
      ],
      "metadata": {
        "id": "Pvm22LHUY7PC"
      }
    },
    {
      "cell_type": "code",
      "source": [
        "# 한국어 문장을 토큰화 하는 함수 (순서를 뒤집지 않음)\n",
        "def tokenize_ko(text) :\n",
        "  return [token.text for token in spacy_ko.tokenizer(text)]\n",
        "\n",
        "# 영어 문장을 토큰화 하는 함수\n",
        "def tokenize_en(text) :\n",
        "  return [token.text for token in spacy_en.tokenizer(text)]"
      ],
      "metadata": {
        "id": "SdR66QGjX5B1"
      },
      "execution_count": 6,
      "outputs": []
    },
    {
      "cell_type": "markdown",
      "source": [
        "- 필드(field) 라이브러리를 이용해 데이터셋에 대한 구체적인 전처리 내용을 명시한다.\n",
        "- Seq2Seq 모델과는 다르게 batch_first 속성의 값을 True로 설정한다.\n",
        "- 번역 목표 \n",
        "  - 소스(SRC) : 한국어\n",
        "  - 목표(TRG) : 영어"
      ],
      "metadata": {
        "id": "c2pN8vLkaMTG"
      }
    },
    {
      "cell_type": "code",
      "source": [
        "from torchtext.data import Field, BucketIterator\n",
        "\n",
        "# sos : Start Of Statement\n",
        "# eos : End Of Statement\n",
        "# batch_first : input 의 shape 에서 batch_size 를 shape 의 첫번째에 위치할 수 있도록 설정\n",
        "SRC = Field(tokenize=tokenize_ko, init_token=\"<sos>\", eos_token=\"<eos>\", lower=True, batch_first=True)\n",
        "TRG = Field(tokenize=tokenize_en, init_token=\"<sos>\", eos_token=\"<eos>\", lower=True, batch_first=True)"
      ],
      "metadata": {
        "id": "je8eWxSQaTwl"
      },
      "execution_count": 7,
      "outputs": []
    },
    {
      "cell_type": "markdown",
      "source": [
        "- 원래 예제는 영어-독일어 번역 모델을 만드는 거라 대표적인 영어-독어 번역 데이터셋인 **torchtext.datasets.Multi30k**를 사용했다. \n",
        "- 영어-한국어 번역 모델을 만드는 게 목표이기 때문에 AI hub에 있는 번역 데이터셋인 Korpora 설치"
      ],
      "metadata": {
        "id": "jxdUGZgWczzb"
      }
    },
    {
      "cell_type": "code",
      "source": [
        "!pip install Korpora"
      ],
      "metadata": {
        "colab": {
          "base_uri": "https://localhost:8080/"
        },
        "id": "hJI9L0NRZ0UH",
        "outputId": "ce08e031-d7cc-4d99-8449-27aaaa56a51c"
      },
      "execution_count": 8,
      "outputs": [
        {
          "output_type": "stream",
          "name": "stdout",
          "text": [
            "Looking in indexes: https://pypi.org/simple, https://us-python.pkg.dev/colab-wheels/public/simple/\n",
            "Requirement already satisfied: Korpora in /usr/local/lib/python3.8/dist-packages (0.2.0)\n",
            "Requirement already satisfied: tqdm>=4.46.0 in /usr/local/lib/python3.8/dist-packages (from Korpora) (4.64.1)\n",
            "Requirement already satisfied: numpy>=1.18.0 in /usr/local/lib/python3.8/dist-packages (from Korpora) (1.22.4)\n",
            "Requirement already satisfied: dataclasses>=0.6 in /usr/local/lib/python3.8/dist-packages (from Korpora) (0.6)\n",
            "Requirement already satisfied: xlrd>=1.2.0 in /usr/local/lib/python3.8/dist-packages (from Korpora) (1.2.0)\n",
            "Requirement already satisfied: requests>=2.20.0 in /usr/local/lib/python3.8/dist-packages (from Korpora) (2.25.1)\n",
            "Requirement already satisfied: chardet<5,>=3.0.2 in /usr/local/lib/python3.8/dist-packages (from requests>=2.20.0->Korpora) (4.0.0)\n",
            "Requirement already satisfied: idna<3,>=2.5 in /usr/local/lib/python3.8/dist-packages (from requests>=2.20.0->Korpora) (2.10)\n",
            "Requirement already satisfied: certifi>=2017.4.17 in /usr/local/lib/python3.8/dist-packages (from requests>=2.20.0->Korpora) (2022.12.7)\n",
            "Requirement already satisfied: urllib3<1.27,>=1.21.1 in /usr/local/lib/python3.8/dist-packages (from requests>=2.20.0->Korpora) (1.26.14)\n"
          ]
        }
      ]
    },
    {
      "cell_type": "markdown",
      "source": [
        "- Korpora 데이터셋 종류"
      ],
      "metadata": {
        "id": "hOSP1wCFhz3G"
      }
    },
    {
      "cell_type": "code",
      "source": [
        "from Korpora import Korpora\n",
        "Korpora.corpus_list()"
      ],
      "metadata": {
        "colab": {
          "base_uri": "https://localhost:8080/"
        },
        "id": "qTJQ4H9AgiLc",
        "outputId": "2301c44c-c599-4046-e437-360fb09d3af7"
      },
      "execution_count": 9,
      "outputs": [
        {
          "output_type": "execute_result",
          "data": {
            "text/plain": [
              "{'kcbert': 'beomi@github 님이 만드신 KcBERT 학습데이터',\n",
              " 'korean_chatbot_data': 'songys@github 님이 만드신 챗봇 문답 데이터',\n",
              " 'korean_hate_speech': '{inmoonlight,warnikchow,beomi}@github 님이 만드신 혐오댓글데이터',\n",
              " 'korean_parallel_koen_news': 'jungyeul@github 님이 만드신 병렬 말뭉치',\n",
              " 'korean_petitions': 'lovit@github 님이 만드신 2017.08 ~ 2019.03 청와대 청원데이터',\n",
              " 'kornli': 'KakaoBrain 에서 제공하는 Natural Language Inference (NLI) 데이터',\n",
              " 'korsts': 'KakaoBrain 에서 제공하는 Semantic Textual Similarity (STS) 데이터',\n",
              " 'kowikitext': 'lovit@github 님이 만드신 wikitext 형식의 한국어 위키피디아 데이터',\n",
              " 'namuwikitext': 'lovit@github 님이 만드신 wikitext 형식의 나무위키 데이터',\n",
              " 'naver_changwon_ner': '네이버 + 창원대 NER shared task data',\n",
              " 'nsmc': 'e9t@github 님이 만드신 Naver sentiment movie corpus v1.0',\n",
              " 'question_pair': 'songys@github 님이 만드신 질문쌍(Paired Question v.2)',\n",
              " 'modu_news': '국립국어원에서 만든 모두의 말뭉치: 뉴스 말뭉치',\n",
              " 'modu_messenger': '국립국어원에서 만든 모두의 말뭉치: 메신저 말뭉치',\n",
              " 'modu_mp': '국립국어원에서 만든 모두의 말뭉치: 형태 분석 말뭉치',\n",
              " 'modu_ne': '국립국어원에서 만든 모두의 말뭉치: 개체명 분석 말뭉치',\n",
              " 'modu_spoken': '국립국어원에서 만든 모두의 말뭉치: 구어 말뭉치',\n",
              " 'modu_web': '국립국어원에서 만든 모두의 말뭉치: 웹 말뭉치',\n",
              " 'modu_written': '국립국어원에서 만든 모두의 말뭉치: 문어 말뭉치',\n",
              " 'open_subtitles': 'Open parallel corpus (OPUS) 에서 제공하는 영화 자막 번역 병렬 말뭉치',\n",
              " 'aihub_translation': 'AI Hub 에서 제공하는 번역용 병렬 말뭉치 (구어 + 대화 + 뉴스 + 한국문화 + 조례 + 지자체웹사이트)',\n",
              " 'aihub_spoken_translation': 'AI Hub 에서 제공하는 번역용 병렬 말뭉치 (구어)',\n",
              " 'aihub_conversation_translation': 'AI Hub 에서 제공하는 번역용 병렬 말뭉치 (대화)',\n",
              " 'aihub_news_translation': 'AI Hub 에서 제공하는 번역용 병렬 말뭉치 (뉴스)',\n",
              " 'aihub_korean_culture_translation': 'AI Hub 에서 제공하는 번역용 병렬 말뭉치 (한국문화)',\n",
              " 'aihub_decree_translation': 'AI Hub 에서 제공하는 번역용 병렬 말뭉치 (조례)',\n",
              " 'aihub_government_website_translation': 'AI Hub 에서 제공하는 번역용 병렬 말뭉치 (지자체웹사이트)'}"
            ]
          },
          "metadata": {},
          "execution_count": 9
        }
      ]
    },
    {
      "cell_type": "code",
      "source": [
        "Korpora.fetch('korean_parallel_koen_news', root_dir='/content/Korpora')"
      ],
      "metadata": {
        "colab": {
          "base_uri": "https://localhost:8080/"
        },
        "id": "BDhET-nihWRp",
        "outputId": "959e9699-539e-422f-d60d-b2efed38e8c0"
      },
      "execution_count": 36,
      "outputs": [
        {
          "output_type": "stream",
          "name": "stderr",
          "text": [
            "[korean_parallel] download korean-english-park.train.tar.gz: 8.72MB [00:00, 63.4MB/s]                            \n"
          ]
        },
        {
          "output_type": "stream",
          "name": "stdout",
          "text": [
            "decompress /content/Korpora/korean_parallel/korean-english-park.train.tar.gz\n"
          ]
        },
        {
          "output_type": "stream",
          "name": "stderr",
          "text": [
            "[korean_parallel] download korean-english-park.dev.tar.gz: 115kB [00:00, 1.88MB/s]\n"
          ]
        },
        {
          "output_type": "stream",
          "name": "stdout",
          "text": [
            "decompress /content/Korpora/korean_parallel/korean-english-park.dev.tar.gz\n"
          ]
        },
        {
          "output_type": "stream",
          "name": "stderr",
          "text": [
            "[korean_parallel] download korean-english-park.test.tar.gz: 238kB [00:00, 3.66MB/s]"
          ]
        },
        {
          "output_type": "stream",
          "name": "stdout",
          "text": [
            "decompress /content/Korpora/korean_parallel/korean-english-park.test.tar.gz\n"
          ]
        },
        {
          "output_type": "stream",
          "name": "stderr",
          "text": [
            "\n"
          ]
        }
      ]
    },
    {
      "cell_type": "code",
      "source": [
        "!ls /content/Korpora/korean_parallel"
      ],
      "metadata": {
        "colab": {
          "base_uri": "https://localhost:8080/"
        },
        "id": "q10opZ0vjroh",
        "outputId": "9c846e4e-27c7-491c-eeac-39d9431a0443"
      },
      "execution_count": 56,
      "outputs": [
        {
          "output_type": "stream",
          "name": "stdout",
          "text": [
            "korean-english-park.dev.en\tkorean-english-park.test.tar.gz\n",
            "korean-english-park.dev.ko\tkorean-english-park.train.en\n",
            "korean-english-park.dev.tar.gz\tkorean-english-park.train.ko\n",
            "korean-english-park.test.en\tkorean-english-park.train.tar.gz\n",
            "korean-english-park.test.ko\n"
          ]
        }
      ]
    },
    {
      "cell_type": "code",
      "source": [
        "datasets = Korpora.load('korean_parallel_koen_news', root_dir='/content/Korpora')\n",
        "datasets"
      ],
      "metadata": {
        "colab": {
          "base_uri": "https://localhost:8080/"
        },
        "id": "gAhVr1v4mHgx",
        "outputId": "65af7770-a9f2-43d6-f149-fbab9e26ee0c"
      },
      "execution_count": 62,
      "outputs": [
        {
          "output_type": "stream",
          "name": "stdout",
          "text": [
            "\n",
            "    Korpora 는 다른 분들이 연구 목적으로 공유해주신 말뭉치들을\n",
            "    손쉽게 다운로드, 사용할 수 있는 기능만을 제공합니다.\n",
            "\n",
            "    말뭉치들을 공유해 주신 분들에게 감사드리며, 각 말뭉치 별 설명과 라이센스를 공유 드립니다.\n",
            "    해당 말뭉치에 대해 자세히 알고 싶으신 분은 아래의 description 을 참고,\n",
            "    해당 말뭉치를 연구/상용의 목적으로 이용하실 때에는 아래의 라이센스를 참고해 주시기 바랍니다.\n",
            "\n",
            "    # Description\n",
            "    Author : KakaoBrain\n",
            "    Repository : https://github.com/jungyeul/korean-parallel-corpora\n",
            "    References :\n",
            "        - Jungyeul Park, Jeen-Pyo Hong and Jeong-Won Cha (2016) Korean Language Resources for Everyone.\n",
            "          In Proceedings of the 30th Pacific Asia Conference on Language, Information and Computation\n",
            "          (PACLIC 30). October 28 - 30, 2016. Seoul, Korea. \n",
            "          (https://www.aclweb.org/anthology/Y16-2002/)\n",
            "\n",
            "    # License\n",
            "    Creative Commons Attribution Noncommercial No-Derivative-Works 3.0\n",
            "    Details in https://creativecommons.org/licenses/by-nc-nd/3.0/\n",
            "\n"
          ]
        },
        {
          "output_type": "execute_result",
          "data": {
            "text/plain": [
              "<Korpora.korpus_korean_parallel.KoreanParallelKOENNewsKorpus at 0x7f0d21522ee0>"
            ]
          },
          "metadata": {},
          "execution_count": 62
        }
      ]
    },
    {
      "cell_type": "code",
      "source": [
        "datasets.train"
      ],
      "metadata": {
        "colab": {
          "base_uri": "https://localhost:8080/"
        },
        "id": "KDRC2i8mn_fz",
        "outputId": "f585929c-a585-4fa6-8bf4-2bc93e2ec627"
      },
      "execution_count": 72,
      "outputs": [
        {
          "output_type": "execute_result",
          "data": {
            "text/plain": [
              "SentencePair(text='개인용 컴퓨터 사용의 상당 부분은 \"이것보다 뛰어날 수 있느냐?\"', pair='Much of personal computing is about \"can you top this?\"')"
            ]
          },
          "metadata": {},
          "execution_count": 72
        }
      ]
    },
    {
      "cell_type": "code",
      "source": [
        "import pandas as pd"
      ],
      "metadata": {
        "id": "VDmdQJs6n_iI"
      },
      "execution_count": 135,
      "outputs": []
    },
    {
      "cell_type": "code",
      "source": [
        "train_ko_df = pd.DataFrame(datasets.train.texts, columns=['src'])\n",
        "train_en_df = pd.DataFrame(datasets.train.pairs, columns=['trg'])\n",
        "train_df = train_ko_df.join(train_en_df)\n",
        "train_df.head()"
      ],
      "metadata": {
        "colab": {
          "base_uri": "https://localhost:8080/",
          "height": 337
        },
        "id": "5bU_l5_203KL",
        "outputId": "c686e4f5-9570-43eb-c7c2-cca796e76b61"
      },
      "execution_count": 136,
      "outputs": [
        {
          "output_type": "execute_result",
          "data": {
            "text/plain": [
              "                                                 src  \\\n",
              "0               개인용 컴퓨터 사용의 상당 부분은 \"이것보다 뛰어날 수 있느냐?\"   \n",
              "1  모든 광마우스와 마찬가지 로 이 광마우스도 책상 위에 놓는 마우스 패드를 필요로 하...   \n",
              "2                         그러나 이것은 또한 책상도 필요로 하지 않는다.   \n",
              "3  79.95달러하는 이 최첨단 무선 광마우스는 허공에서 팔목, 팔, 그외에 어떤 부분...   \n",
              "4  정보 관리들은 동남 아시아에서의 선박들에 대한 많은 (테러) 계획들이 실패로 돌아갔...   \n",
              "\n",
              "                                                 trg  \n",
              "0  Much of personal computing is about \"can you t...  \n",
              "1  so a mention a few weeks ago about a rechargea...  \n",
              "2  Like all optical mice, But it also doesn't nee...  \n",
              "3  uses gyroscopic sensors to control the cursor ...  \n",
              "4  Intelligence officials have revealed a spate o...  "
            ],
            "text/html": [
              "\n",
              "  <div id=\"df-998453e3-f431-4f90-8ecc-3dd7f7697d8e\">\n",
              "    <div class=\"colab-df-container\">\n",
              "      <div>\n",
              "<style scoped>\n",
              "    .dataframe tbody tr th:only-of-type {\n",
              "        vertical-align: middle;\n",
              "    }\n",
              "\n",
              "    .dataframe tbody tr th {\n",
              "        vertical-align: top;\n",
              "    }\n",
              "\n",
              "    .dataframe thead th {\n",
              "        text-align: right;\n",
              "    }\n",
              "</style>\n",
              "<table border=\"1\" class=\"dataframe\">\n",
              "  <thead>\n",
              "    <tr style=\"text-align: right;\">\n",
              "      <th></th>\n",
              "      <th>src</th>\n",
              "      <th>trg</th>\n",
              "    </tr>\n",
              "  </thead>\n",
              "  <tbody>\n",
              "    <tr>\n",
              "      <th>0</th>\n",
              "      <td>개인용 컴퓨터 사용의 상당 부분은 \"이것보다 뛰어날 수 있느냐?\"</td>\n",
              "      <td>Much of personal computing is about \"can you t...</td>\n",
              "    </tr>\n",
              "    <tr>\n",
              "      <th>1</th>\n",
              "      <td>모든 광마우스와 마찬가지 로 이 광마우스도 책상 위에 놓는 마우스 패드를 필요로 하...</td>\n",
              "      <td>so a mention a few weeks ago about a rechargea...</td>\n",
              "    </tr>\n",
              "    <tr>\n",
              "      <th>2</th>\n",
              "      <td>그러나 이것은 또한 책상도 필요로 하지 않는다.</td>\n",
              "      <td>Like all optical mice, But it also doesn't nee...</td>\n",
              "    </tr>\n",
              "    <tr>\n",
              "      <th>3</th>\n",
              "      <td>79.95달러하는 이 최첨단 무선 광마우스는 허공에서 팔목, 팔, 그외에 어떤 부분...</td>\n",
              "      <td>uses gyroscopic sensors to control the cursor ...</td>\n",
              "    </tr>\n",
              "    <tr>\n",
              "      <th>4</th>\n",
              "      <td>정보 관리들은 동남 아시아에서의 선박들에 대한 많은 (테러) 계획들이 실패로 돌아갔...</td>\n",
              "      <td>Intelligence officials have revealed a spate o...</td>\n",
              "    </tr>\n",
              "  </tbody>\n",
              "</table>\n",
              "</div>\n",
              "      <button class=\"colab-df-convert\" onclick=\"convertToInteractive('df-998453e3-f431-4f90-8ecc-3dd7f7697d8e')\"\n",
              "              title=\"Convert this dataframe to an interactive table.\"\n",
              "              style=\"display:none;\">\n",
              "        \n",
              "  <svg xmlns=\"http://www.w3.org/2000/svg\" height=\"24px\"viewBox=\"0 0 24 24\"\n",
              "       width=\"24px\">\n",
              "    <path d=\"M0 0h24v24H0V0z\" fill=\"none\"/>\n",
              "    <path d=\"M18.56 5.44l.94 2.06.94-2.06 2.06-.94-2.06-.94-.94-2.06-.94 2.06-2.06.94zm-11 1L8.5 8.5l.94-2.06 2.06-.94-2.06-.94L8.5 2.5l-.94 2.06-2.06.94zm10 10l.94 2.06.94-2.06 2.06-.94-2.06-.94-.94-2.06-.94 2.06-2.06.94z\"/><path d=\"M17.41 7.96l-1.37-1.37c-.4-.4-.92-.59-1.43-.59-.52 0-1.04.2-1.43.59L10.3 9.45l-7.72 7.72c-.78.78-.78 2.05 0 2.83L4 21.41c.39.39.9.59 1.41.59.51 0 1.02-.2 1.41-.59l7.78-7.78 2.81-2.81c.8-.78.8-2.07 0-2.86zM5.41 20L4 18.59l7.72-7.72 1.47 1.35L5.41 20z\"/>\n",
              "  </svg>\n",
              "      </button>\n",
              "      \n",
              "  <style>\n",
              "    .colab-df-container {\n",
              "      display:flex;\n",
              "      flex-wrap:wrap;\n",
              "      gap: 12px;\n",
              "    }\n",
              "\n",
              "    .colab-df-convert {\n",
              "      background-color: #E8F0FE;\n",
              "      border: none;\n",
              "      border-radius: 50%;\n",
              "      cursor: pointer;\n",
              "      display: none;\n",
              "      fill: #1967D2;\n",
              "      height: 32px;\n",
              "      padding: 0 0 0 0;\n",
              "      width: 32px;\n",
              "    }\n",
              "\n",
              "    .colab-df-convert:hover {\n",
              "      background-color: #E2EBFA;\n",
              "      box-shadow: 0px 1px 2px rgba(60, 64, 67, 0.3), 0px 1px 3px 1px rgba(60, 64, 67, 0.15);\n",
              "      fill: #174EA6;\n",
              "    }\n",
              "\n",
              "    [theme=dark] .colab-df-convert {\n",
              "      background-color: #3B4455;\n",
              "      fill: #D2E3FC;\n",
              "    }\n",
              "\n",
              "    [theme=dark] .colab-df-convert:hover {\n",
              "      background-color: #434B5C;\n",
              "      box-shadow: 0px 1px 3px 1px rgba(0, 0, 0, 0.15);\n",
              "      filter: drop-shadow(0px 1px 2px rgba(0, 0, 0, 0.3));\n",
              "      fill: #FFFFFF;\n",
              "    }\n",
              "  </style>\n",
              "\n",
              "      <script>\n",
              "        const buttonEl =\n",
              "          document.querySelector('#df-998453e3-f431-4f90-8ecc-3dd7f7697d8e button.colab-df-convert');\n",
              "        buttonEl.style.display =\n",
              "          google.colab.kernel.accessAllowed ? 'block' : 'none';\n",
              "\n",
              "        async function convertToInteractive(key) {\n",
              "          const element = document.querySelector('#df-998453e3-f431-4f90-8ecc-3dd7f7697d8e');\n",
              "          const dataTable =\n",
              "            await google.colab.kernel.invokeFunction('convertToInteractive',\n",
              "                                                     [key], {});\n",
              "          if (!dataTable) return;\n",
              "\n",
              "          const docLinkHtml = 'Like what you see? Visit the ' +\n",
              "            '<a target=\"_blank\" href=https://colab.research.google.com/notebooks/data_table.ipynb>data table notebook</a>'\n",
              "            + ' to learn more about interactive tables.';\n",
              "          element.innerHTML = '';\n",
              "          dataTable['output_type'] = 'display_data';\n",
              "          await google.colab.output.renderOutput(dataTable, element);\n",
              "          const docLink = document.createElement('div');\n",
              "          docLink.innerHTML = docLinkHtml;\n",
              "          element.appendChild(docLink);\n",
              "        }\n",
              "      </script>\n",
              "    </div>\n",
              "  </div>\n",
              "  "
            ]
          },
          "metadata": {},
          "execution_count": 136
        }
      ]
    },
    {
      "cell_type": "code",
      "source": [
        "test_ko_df = pd.DataFrame(datasets.test.texts, columns=['src'])\n",
        "test_en_df = pd.DataFrame(datasets.test.pairs, columns=['trg'])\n",
        "test_df = test_ko_df.join(test_en_df)\n",
        "test_df.head()"
      ],
      "metadata": {
        "colab": {
          "base_uri": "https://localhost:8080/",
          "height": 337
        },
        "id": "JtDPTnuT047J",
        "outputId": "08aecdbf-b4e4-4590-cb3e-e21318507c82"
      },
      "execution_count": 137,
      "outputs": [
        {
          "output_type": "execute_result",
          "data": {
            "text/plain": [
              "                                                 src  \\\n",
              "0  토론에 참여한 사람들은 법 집행과 국가 안전보장에 대한 우려를 표명해야 할 필요성을...   \n",
              "1  또한 새로운 기술 개발이 어떤 해결책을 제공해 주는데 도움이 될 것이고, 동시 에 ...   \n",
              "2  그래서 클리퍼 칩에 대한 개인적인 해결책은 서서히 자취를 감출 것입니다. 그러나 이...   \n",
              "3  이탈리아의 천문학자들이 멀리에 있는 별들의 궤도를 도는 행성의 대기에서 생명체의 필...   \n",
              "4  물이 있다는 것이 다른 행성에 생명체들이 가득하다는 것을 의미하지는 않지만, 이번 ...   \n",
              "\n",
              "                                                 trg  \n",
              "0  Those involved in the discussions do take seri...  \n",
              "1  There is also some hope that new technology de...  \n",
              "2  So the individual solution of the clipper chip...  \n",
              "3  Italian astronomers have found signs of water,...  \n",
              "4  Having water does not mean other planets will ...  "
            ],
            "text/html": [
              "\n",
              "  <div id=\"df-62209edf-c1f3-4631-8f8a-b9c91f14fc65\">\n",
              "    <div class=\"colab-df-container\">\n",
              "      <div>\n",
              "<style scoped>\n",
              "    .dataframe tbody tr th:only-of-type {\n",
              "        vertical-align: middle;\n",
              "    }\n",
              "\n",
              "    .dataframe tbody tr th {\n",
              "        vertical-align: top;\n",
              "    }\n",
              "\n",
              "    .dataframe thead th {\n",
              "        text-align: right;\n",
              "    }\n",
              "</style>\n",
              "<table border=\"1\" class=\"dataframe\">\n",
              "  <thead>\n",
              "    <tr style=\"text-align: right;\">\n",
              "      <th></th>\n",
              "      <th>src</th>\n",
              "      <th>trg</th>\n",
              "    </tr>\n",
              "  </thead>\n",
              "  <tbody>\n",
              "    <tr>\n",
              "      <th>0</th>\n",
              "      <td>토론에 참여한 사람들은 법 집행과 국가 안전보장에 대한 우려를 표명해야 할 필요성을...</td>\n",
              "      <td>Those involved in the discussions do take seri...</td>\n",
              "    </tr>\n",
              "    <tr>\n",
              "      <th>1</th>\n",
              "      <td>또한 새로운 기술 개발이 어떤 해결책을 제공해 주는데 도움이 될 것이고, 동시 에 ...</td>\n",
              "      <td>There is also some hope that new technology de...</td>\n",
              "    </tr>\n",
              "    <tr>\n",
              "      <th>2</th>\n",
              "      <td>그래서 클리퍼 칩에 대한 개인적인 해결책은 서서히 자취를 감출 것입니다. 그러나 이...</td>\n",
              "      <td>So the individual solution of the clipper chip...</td>\n",
              "    </tr>\n",
              "    <tr>\n",
              "      <th>3</th>\n",
              "      <td>이탈리아의 천문학자들이 멀리에 있는 별들의 궤도를 도는 행성의 대기에서 생명체의 필...</td>\n",
              "      <td>Italian astronomers have found signs of water,...</td>\n",
              "    </tr>\n",
              "    <tr>\n",
              "      <th>4</th>\n",
              "      <td>물이 있다는 것이 다른 행성에 생명체들이 가득하다는 것을 의미하지는 않지만, 이번 ...</td>\n",
              "      <td>Having water does not mean other planets will ...</td>\n",
              "    </tr>\n",
              "  </tbody>\n",
              "</table>\n",
              "</div>\n",
              "      <button class=\"colab-df-convert\" onclick=\"convertToInteractive('df-62209edf-c1f3-4631-8f8a-b9c91f14fc65')\"\n",
              "              title=\"Convert this dataframe to an interactive table.\"\n",
              "              style=\"display:none;\">\n",
              "        \n",
              "  <svg xmlns=\"http://www.w3.org/2000/svg\" height=\"24px\"viewBox=\"0 0 24 24\"\n",
              "       width=\"24px\">\n",
              "    <path d=\"M0 0h24v24H0V0z\" fill=\"none\"/>\n",
              "    <path d=\"M18.56 5.44l.94 2.06.94-2.06 2.06-.94-2.06-.94-.94-2.06-.94 2.06-2.06.94zm-11 1L8.5 8.5l.94-2.06 2.06-.94-2.06-.94L8.5 2.5l-.94 2.06-2.06.94zm10 10l.94 2.06.94-2.06 2.06-.94-2.06-.94-.94-2.06-.94 2.06-2.06.94z\"/><path d=\"M17.41 7.96l-1.37-1.37c-.4-.4-.92-.59-1.43-.59-.52 0-1.04.2-1.43.59L10.3 9.45l-7.72 7.72c-.78.78-.78 2.05 0 2.83L4 21.41c.39.39.9.59 1.41.59.51 0 1.02-.2 1.41-.59l7.78-7.78 2.81-2.81c.8-.78.8-2.07 0-2.86zM5.41 20L4 18.59l7.72-7.72 1.47 1.35L5.41 20z\"/>\n",
              "  </svg>\n",
              "      </button>\n",
              "      \n",
              "  <style>\n",
              "    .colab-df-container {\n",
              "      display:flex;\n",
              "      flex-wrap:wrap;\n",
              "      gap: 12px;\n",
              "    }\n",
              "\n",
              "    .colab-df-convert {\n",
              "      background-color: #E8F0FE;\n",
              "      border: none;\n",
              "      border-radius: 50%;\n",
              "      cursor: pointer;\n",
              "      display: none;\n",
              "      fill: #1967D2;\n",
              "      height: 32px;\n",
              "      padding: 0 0 0 0;\n",
              "      width: 32px;\n",
              "    }\n",
              "\n",
              "    .colab-df-convert:hover {\n",
              "      background-color: #E2EBFA;\n",
              "      box-shadow: 0px 1px 2px rgba(60, 64, 67, 0.3), 0px 1px 3px 1px rgba(60, 64, 67, 0.15);\n",
              "      fill: #174EA6;\n",
              "    }\n",
              "\n",
              "    [theme=dark] .colab-df-convert {\n",
              "      background-color: #3B4455;\n",
              "      fill: #D2E3FC;\n",
              "    }\n",
              "\n",
              "    [theme=dark] .colab-df-convert:hover {\n",
              "      background-color: #434B5C;\n",
              "      box-shadow: 0px 1px 3px 1px rgba(0, 0, 0, 0.15);\n",
              "      filter: drop-shadow(0px 1px 2px rgba(0, 0, 0, 0.3));\n",
              "      fill: #FFFFFF;\n",
              "    }\n",
              "  </style>\n",
              "\n",
              "      <script>\n",
              "        const buttonEl =\n",
              "          document.querySelector('#df-62209edf-c1f3-4631-8f8a-b9c91f14fc65 button.colab-df-convert');\n",
              "        buttonEl.style.display =\n",
              "          google.colab.kernel.accessAllowed ? 'block' : 'none';\n",
              "\n",
              "        async function convertToInteractive(key) {\n",
              "          const element = document.querySelector('#df-62209edf-c1f3-4631-8f8a-b9c91f14fc65');\n",
              "          const dataTable =\n",
              "            await google.colab.kernel.invokeFunction('convertToInteractive',\n",
              "                                                     [key], {});\n",
              "          if (!dataTable) return;\n",
              "\n",
              "          const docLinkHtml = 'Like what you see? Visit the ' +\n",
              "            '<a target=\"_blank\" href=https://colab.research.google.com/notebooks/data_table.ipynb>data table notebook</a>'\n",
              "            + ' to learn more about interactive tables.';\n",
              "          element.innerHTML = '';\n",
              "          dataTable['output_type'] = 'display_data';\n",
              "          await google.colab.output.renderOutput(dataTable, element);\n",
              "          const docLink = document.createElement('div');\n",
              "          docLink.innerHTML = docLinkHtml;\n",
              "          element.appendChild(docLink);\n",
              "        }\n",
              "      </script>\n",
              "    </div>\n",
              "  </div>\n",
              "  "
            ]
          },
          "metadata": {},
          "execution_count": 137
        }
      ]
    },
    {
      "cell_type": "code",
      "source": [
        "train_df.to_csv('/content/Korpora/korean_parallel/train.csv', index=False)\n",
        "test_df.to_csv('/content/Korpora/korean_parallel/test.csv', index=False)"
      ],
      "metadata": {
        "id": "uo6nUZb01NA7"
      },
      "execution_count": 160,
      "outputs": []
    },
    {
      "cell_type": "code",
      "source": [
        "from torchtext.data import TabularDataset"
      ],
      "metadata": {
        "id": "-1CMTqx6smQk"
      },
      "execution_count": 89,
      "outputs": []
    },
    {
      "cell_type": "code",
      "source": [],
      "metadata": {
        "id": "9CWu-v1R04Tm"
      },
      "execution_count": null,
      "outputs": []
    },
    {
      "cell_type": "code",
      "source": [
        "train_dataset, test_dataset = TabularDataset.splits(path='/content/Korpora/korean_parallel', \n",
        "                                              train='train.csv', test='test.csv', skip_header=True,\n",
        "                                              format='csv', fields = [('src', SRC), ('trg', TRG)])"
      ],
      "metadata": {
        "id": "dQzg3eObtvMo"
      },
      "execution_count": 162,
      "outputs": []
    },
    {
      "cell_type": "code",
      "source": [
        "train_dataset.examples[0].trg"
      ],
      "metadata": {
        "colab": {
          "base_uri": "https://localhost:8080/"
        },
        "id": "tHutPOY0uZfp",
        "outputId": "8ccd5ebf-ad3f-43ab-e532-75f588b60ac5"
      },
      "execution_count": 166,
      "outputs": [
        {
          "output_type": "execute_result",
          "data": {
            "text/plain": [
              "['much',\n",
              " 'of',\n",
              " 'personal',\n",
              " 'computing',\n",
              " 'is',\n",
              " 'about',\n",
              " '\"',\n",
              " 'can',\n",
              " 'you',\n",
              " 'top',\n",
              " 'this',\n",
              " '?',\n",
              " '\"']"
            ]
          },
          "metadata": {},
          "execution_count": 166
        }
      ]
    },
    {
      "cell_type": "code",
      "source": [
        "print(f\"학습 데이터셋(training dataset) 크기: {len(train_dataset.examples)}개\")\n",
        "print(f\"테스트 데이터셋(testing dataset) 크기: {len(test_dataset.examples)}개\")"
      ],
      "metadata": {
        "id": "1UaqL_Nwx3Gx"
      },
      "execution_count": null,
      "outputs": []
    }
  ]
}