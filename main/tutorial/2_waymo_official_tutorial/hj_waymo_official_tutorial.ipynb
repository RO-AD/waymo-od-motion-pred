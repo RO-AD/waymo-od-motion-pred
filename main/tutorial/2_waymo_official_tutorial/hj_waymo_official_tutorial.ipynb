{
  "nbformat": 4,
  "nbformat_minor": 0,
  "metadata": {
    "colab": {
      "provenance": [],
      "include_colab_link": true
    },
    "kernelspec": {
      "name": "python3",
      "display_name": "Python 3"
    },
    "language_info": {
      "name": "python"
    }
  },
  "cells": [
    {
      "cell_type": "markdown",
      "metadata": {
        "id": "view-in-github",
        "colab_type": "text"
      },
      "source": [
        "<a href=\"https://colab.research.google.com/github/RO-AD/waymo-od-motion-pred/blob/main/main/tutorial/2_waymo_official_tutorial/hj_waymo_official_tutorial.ipynb\" target=\"_parent\"><img src=\"https://colab.research.google.com/assets/colab-badge.svg\" alt=\"Open In Colab\"/></a>"
      ]
    },
    {
      "cell_type": "markdown",
      "source": [
        "## Waymo Open Dataset Motion Tutorial"
      ],
      "metadata": {
        "id": "MaS-rW4osYAd"
      }
    },
    {
      "cell_type": "markdown",
      "source": [
        "https://github.com/waymo-research/waymo-open-dataset/blob/master/tutorial/tutorial_motion.ipynb\n",
        "\n",
        "### 튜토리얼 목차\n",
        "- 데이터를 디코딩하고 해석하는 방법\n",
        "- Tensorflow로 간단한 모델을 훈련시키는 방법\n",
        "\n",
        "### 데이터셋 다운로드\n",
        "https://waymo.com/open/"
      ],
      "metadata": {
        "id": "eT9q_t2cvLHl"
      }
    },
    {
      "cell_type": "code",
      "source": [],
      "metadata": {
        "id": "Qo7mqURIvKP_"
      },
      "execution_count": null,
      "outputs": []
    }
  ]
}