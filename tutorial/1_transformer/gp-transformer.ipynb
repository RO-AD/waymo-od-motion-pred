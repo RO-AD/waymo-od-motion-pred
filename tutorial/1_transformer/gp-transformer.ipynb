{
  "nbformat": 4,
  "nbformat_minor": 0,
  "metadata": {
    "colab": {
      "provenance": [],
      "authorship_tag": "ABX9TyPrz99BUX2WwcUNnnPjeIJ6",
      "include_colab_link": true
    },
    "kernelspec": {
      "name": "python3",
      "display_name": "Python 3"
    },
    "language_info": {
      "name": "python"
    },
    "accelerator": "GPU",
    "gpuClass": "standard"
  },
  "cells": [
    {
      "cell_type": "markdown",
      "metadata": {
        "id": "view-in-github",
        "colab_type": "text"
      },
      "source": [
        "<a href=\"https://colab.research.google.com/github/RO-AD/waymo-od-motion-pred/blob/main/tutorial/1_transformer/gp-transformer.ipynb\" target=\"_parent\"><img src=\"https://colab.research.google.com/assets/colab-badge.svg\" alt=\"Open In Colab\"/></a>"
      ]
    },
    {
      "cell_type": "markdown",
      "source": [
        "# Transformer 실습\n",
        "참고 : [Attention is All You Need Tutorial(ndb796)](https://github.com/ndb796/Deep-Learning-Paper-Review-and-Practice/blob/master/code_practices/Attention_is_All_You_Need_Tutorial_(German_English).ipynb)\n",
        "\n",
        "자연어처리 끝판왕. 다른 분야에도 고르게 사용됨."
      ],
      "metadata": {
        "id": "Yzlf9NcHRx-Q"
      }
    },
    {
      "cell_type": "code",
      "source": [
        "# 아,,, colab에서 UTF-8 오류 뜨는데 아래 코드로 해결함,,, 찝찝,,,,하네\n",
        "import locale\n",
        "locale.getpreferredencoding = lambda: \"UTF-8\""
      ],
      "metadata": {
        "id": "x3eIgf7XRq8B"
      },
      "execution_count": null,
      "outputs": []
    },
    {
      "cell_type": "markdown",
      "source": [
        "## 자연어를 어떻게 Input으로 줄 수 있을까?\n",
        "기본적으로 모델의 INPUT은 숫자 형태로 들어가기 때문에 처리하고자 하는 문장을 분해 및 숫자로 변환하는 전처리 작업이 필요하다. 이 과정을 문장의 토큰화(tokenization)이라고 한다.\n",
        "\n",
        "**torchtext**는 자연어처리에 유용한 라이브러리로, 데이터셋과 전처리 클래스, 스코어링 함수 등이 존재한다. 설치해보자!"
      ],
      "metadata": {
        "id": "BVf0y93oS3WD"
      }
    },
    {
      "cell_type": "code",
      "execution_count": null,
      "metadata": {
        "id": "ZV6L3KLCF4Iu"
      },
      "outputs": [],
      "source": [
        "%%capture\n",
        "!pip install torchtext==0.6.0"
      ]
    },
    {
      "cell_type": "markdown",
      "source": [
        "이번에는 **spaCy** 라이브러리를 이용해보자. **토큰화(tokenization), 태깅(tagging) 등의 전처리**를 위한 라이브러리다. 영어와 한국어 전처리 모듈을 설치하고 확인해보자"
      ],
      "metadata": {
        "id": "RjoiP6KPVF6k"
      }
    },
    {
      "cell_type": "code",
      "source": [
        "%%capture\n",
        "!python -m spacy download en_core_web_sm\n",
        "!python -m spacy download ko_core_news_sm"
      ],
      "metadata": {
        "id": "99OQurMnTyp3"
      },
      "execution_count": null,
      "outputs": []
    },
    {
      "cell_type": "code",
      "source": [
        "import spacy\n",
        "\n",
        "spacy_en = spacy.load('en_core_web_sm') # 영어 토큰화(tokenization)\n",
        "spacy_ko = spacy.load('ko_core_news_sm') # 한국어 토큰화(tokenization)"
      ],
      "metadata": {
        "id": "_WcabdT8VwUu"
      },
      "execution_count": null,
      "outputs": []
    },
    {
      "cell_type": "code",
      "source": [
        "# 간단히 토큰화(tokenization) 기능 써보기\n",
        "_tmp_en_tokens = spacy_en.tokenizer(\"I graduated last week.\")\n",
        "_tmp_ko_tokens = spacy_ko.tokenizer(\"저는 저번 주에 졸업했습니다.\")\n",
        "\n",
        "# 영어 문장 토큰화\n",
        "for i, token in enumerate(_tmp_en_tokens):\n",
        "    print(f\"인덱스 {i}: {token.text}\")\n",
        "\n",
        "print(\"--------------\")\n",
        "\n",
        "# 한국어 문장 토큰화\n",
        "for i, token in enumerate(_tmp_ko_tokens):\n",
        "    print(f\"인덱스 {i}: {token.text}\")"
      ],
      "metadata": {
        "id": "9RYjNqBeW2qH",
        "outputId": "691b65a3-d1fa-4adf-b391-28cf91df7601",
        "colab": {
          "base_uri": "https://localhost:8080/"
        }
      },
      "execution_count": null,
      "outputs": [
        {
          "output_type": "stream",
          "name": "stdout",
          "text": [
            "인덱스 0: I\n",
            "인덱스 1: graduated\n",
            "인덱스 2: last\n",
            "인덱스 3: week\n",
            "인덱스 4: .\n",
            "--------------\n",
            "인덱스 0: 저는\n",
            "인덱스 1: 저번\n",
            "인덱스 2: 주에\n",
            "인덱스 3: 졸업했습니다\n",
            "인덱스 4: .\n"
          ]
        }
      ]
    },
    {
      "cell_type": "markdown",
      "source": [
        "토큰화 과정을 함수화 해보자"
      ],
      "metadata": {
        "id": "oBS1FTYGX7nX"
      }
    },
    {
      "cell_type": "code",
      "source": [
        "tokenizer_en = lambda text: [token.text for token in spacy_en.tokenizer(text)]\n",
        "tokenizer_ko = lambda text: [token.text for token in spacy_ko.tokenizer(text)]"
      ],
      "metadata": {
        "id": "SR4CVOO8XfH5"
      },
      "execution_count": null,
      "outputs": []
    },
    {
      "cell_type": "code",
      "source": [
        "tokenizer_en('I graduated last week.')"
      ],
      "metadata": {
        "id": "HK3S4Y-nYPjM",
        "outputId": "9b414a80-481d-4822-fece-9e9cf32d0838",
        "colab": {
          "base_uri": "https://localhost:8080/"
        }
      },
      "execution_count": null,
      "outputs": [
        {
          "output_type": "execute_result",
          "data": {
            "text/plain": [
              "['I', 'graduated', 'last', 'week', '.']"
            ]
          },
          "metadata": {},
          "execution_count": 7
        }
      ]
    },
    {
      "cell_type": "markdown",
      "source": [
        "필드(field)를 이용해 데이터셋에 대한 구체적인 전처리 과정을 명시할 수 있다. 이 작업을 통해 추후 코드에서 전처리를 조금 더 단순하게 다룰 수 있다."
      ],
      "metadata": {
        "id": "pxEBfimqY2A4"
      }
    },
    {
      "cell_type": "code",
      "source": [
        "from torchtext.data import Field\n",
        "\n",
        "# 목표 : ko -> en 로 번역\n",
        "src_field = Field(tokenize=tokenizer_ko, init_token=\"<sos>\", eos_token=\"<eos>\", lower=True, batch_first=True)\n",
        "trg_field = Field(tokenize=tokenizer_en, init_token=\"<sos>\", eos_token=\"<eos>\", lower=True, batch_first=True)"
      ],
      "metadata": {
        "id": "RrUd3OiRYTI7"
      },
      "execution_count": null,
      "outputs": []
    },
    {
      "cell_type": "markdown",
      "source": [
        "**Parameter**\n",
        "- tokenize : 어떤 토큰화 함수를 적용할 것인지 지정(default : split)\n",
        "- init_token : ?\n",
        "- eos_token : ?\n",
        "- lower : 대문자가 있다면 소문자로 변경할 것인지\n",
        "- batch_first : ?(미니배치 차원을 맨 앞으로 하여 데이터를 불러올 것인지)"
      ],
      "metadata": {
        "id": "GWYQxmJHZ2Io"
      }
    },
    {
      "cell_type": "markdown",
      "source": [
        "이제 데이터셋을 불러오자. **torchtext의 datasets**에는 대표적인 번역 데이터셋인 **Mullti30k**이 있다. 였는데,,, 아쉽게도 한국어는 없어서 다른 라이브러리를 사용함.\n",
        "\n",
        "여러 데이터셋을 모아서 라이브러리화 하는 **Korpora**라는 라이브러리가 있었음"
      ],
      "metadata": {
        "id": "rwvn4ltVZvf1"
      }
    },
    {
      "cell_type": "code",
      "source": [
        "%%capture\n",
        "!pip install Korpora"
      ],
      "metadata": {
        "id": "OR1DWDxUhl7x"
      },
      "execution_count": null,
      "outputs": []
    },
    {
      "cell_type": "code",
      "source": [
        "from Korpora import Korpora\n",
        "Korpora.fetch(\"korean_parallel_koen_news\")\n",
        "datasets = Korpora.load(\"korean_parallel_koen_news\")"
      ],
      "metadata": {
        "colab": {
          "base_uri": "https://localhost:8080/"
        },
        "id": "7lS2pfM5iULU",
        "outputId": "e1bb3ef1-66f3-4fbd-b4d1-953df0c729cf"
      },
      "execution_count": null,
      "outputs": [
        {
          "output_type": "stream",
          "name": "stderr",
          "text": [
            "[korean_parallel] download korean-english-park.train.tar.gz: 8.72MB [00:00, 103MB/s]\n"
          ]
        },
        {
          "output_type": "stream",
          "name": "stdout",
          "text": [
            "decompress /root/Korpora/korean_parallel/korean-english-park.train.tar.gz\n"
          ]
        },
        {
          "output_type": "stream",
          "name": "stderr",
          "text": [
            "[korean_parallel] download korean-english-park.dev.tar.gz: 115kB [00:00, 3.08MB/s]\n"
          ]
        },
        {
          "output_type": "stream",
          "name": "stdout",
          "text": [
            "decompress /root/Korpora/korean_parallel/korean-english-park.dev.tar.gz\n"
          ]
        },
        {
          "output_type": "stream",
          "name": "stderr",
          "text": [
            "[korean_parallel] download korean-english-park.test.tar.gz: 238kB [00:00, 5.06MB/s]\n"
          ]
        },
        {
          "output_type": "stream",
          "name": "stdout",
          "text": [
            "decompress /root/Korpora/korean_parallel/korean-english-park.test.tar.gz\n",
            "\n",
            "    Korpora 는 다른 분들이 연구 목적으로 공유해주신 말뭉치들을\n",
            "    손쉽게 다운로드, 사용할 수 있는 기능만을 제공합니다.\n",
            "\n",
            "    말뭉치들을 공유해 주신 분들에게 감사드리며, 각 말뭉치 별 설명과 라이센스를 공유 드립니다.\n",
            "    해당 말뭉치에 대해 자세히 알고 싶으신 분은 아래의 description 을 참고,\n",
            "    해당 말뭉치를 연구/상용의 목적으로 이용하실 때에는 아래의 라이센스를 참고해 주시기 바랍니다.\n",
            "\n",
            "    # Description\n",
            "    Author : KakaoBrain\n",
            "    Repository : https://github.com/jungyeul/korean-parallel-corpora\n",
            "    References :\n",
            "        - Jungyeul Park, Jeen-Pyo Hong and Jeong-Won Cha (2016) Korean Language Resources for Everyone.\n",
            "          In Proceedings of the 30th Pacific Asia Conference on Language, Information and Computation\n",
            "          (PACLIC 30). October 28 - 30, 2016. Seoul, Korea. \n",
            "          (https://www.aclweb.org/anthology/Y16-2002/)\n",
            "\n",
            "    # License\n",
            "    Creative Commons Attribution Noncommercial No-Derivative-Works 3.0\n",
            "    Details in https://creativecommons.org/licenses/by-nc-nd/3.0/\n",
            "\n"
          ]
        }
      ]
    },
    {
      "cell_type": "code",
      "source": [
        "datasets.train"
      ],
      "metadata": {
        "colab": {
          "base_uri": "https://localhost:8080/"
        },
        "id": "_wV4QbSDi_-g",
        "outputId": "1933c090-8cef-4a88-8b35-8f78f8149062"
      },
      "execution_count": null,
      "outputs": [
        {
          "output_type": "execute_result",
          "data": {
            "text/plain": [
              "koennews.train: size=94123\n",
              "  - koennews.train.texts : list[str]\n",
              "  - koennews.train.pairs : list[str]"
            ]
          },
          "metadata": {},
          "execution_count": 11
        }
      ]
    },
    {
      "cell_type": "code",
      "source": [
        "datasets.test"
      ],
      "metadata": {
        "colab": {
          "base_uri": "https://localhost:8080/"
        },
        "id": "5RN3iiZWjBSQ",
        "outputId": "4fb20b54-ad6f-4a52-d9ee-b4915a795295"
      },
      "execution_count": null,
      "outputs": [
        {
          "output_type": "execute_result",
          "data": {
            "text/plain": [
              "koennews.test: size=2000\n",
              "  - koennews.test.texts : list[str]\n",
              "  - koennews.test.pairs : list[str]"
            ]
          },
          "metadata": {},
          "execution_count": 12
        }
      ]
    },
    {
      "cell_type": "markdown",
      "source": [
        "불러온 데이터셋을 예제를 따라가기 편한 구조로 변경해주었다. 기존의 `torchtext.datasets.translation.Multi30k` 구조가 `torchtext.data.Example`의 집합을 `torchtext.data.Dataset`으로 묶어준 형태여서 이것을 그대로 재현했다."
      ],
      "metadata": {
        "id": "7Ye8t-EFVKij"
      }
    },
    {
      "cell_type": "code",
      "source": [
        "from torchtext.data import Example\n",
        "\n",
        "test_dataset_examples = []\n",
        "\n",
        "for text, pair in zip(datasets.test.texts, datasets.test.pairs):\n",
        "  example = Example.fromlist([text, pair], [(\"src\", src_field), (\"trg\", trg_field)])\n",
        "  test_dataset_examples.append(example)\n",
        "\n",
        "train_dataset_examples = []\n",
        "\n",
        "for text, pair in zip(datasets.train.texts, datasets.train.pairs):\n",
        "  example = Example.fromlist([text, pair], [(\"src\", src_field), (\"trg\", trg_field)])\n",
        "  train_dataset_examples.append(example)"
      ],
      "metadata": {
        "id": "ogSIV47d3JsH"
      },
      "execution_count": null,
      "outputs": []
    },
    {
      "cell_type": "code",
      "source": [
        "from torchtext.data import Dataset\n",
        "\n",
        "train_dataset = Dataset(examples=train_dataset_examples, fields=[(\"src\", src_field), (\"trg\", trg_field)])\n",
        "test_dataset  = Dataset(examples=test_dataset_examples,  fields=[(\"src\", src_field), (\"trg\", trg_field)])"
      ],
      "metadata": {
        "id": "6CYNdaKGUNG9"
      },
      "execution_count": null,
      "outputs": []
    },
    {
      "cell_type": "code",
      "source": [
        "# 학습 데이터 중 하나를 선택해 출력\n",
        "print(vars(train_dataset.examples[30])['src'])\n",
        "print(vars(train_dataset.examples[30])['trg'])"
      ],
      "metadata": {
        "colab": {
          "base_uri": "https://localhost:8080/"
        },
        "id": "z1pM5_HGWfp_",
        "outputId": "fd6910dc-5006-4b01-9538-01412c6b9a20"
      },
      "execution_count": null,
      "outputs": [
        {
          "output_type": "stream",
          "name": "stdout",
          "text": [
            "['이', '박테리아들은', '로켓이나', '위성에', '실려', '우주로', '갔을', '수도', '있으며', ',', '아니면', '정말로', '다른', '행성에서', '온', '것일', '수도', '있다', '.']\n",
            "['the', 'bacteria', 'could', 'have', 'hitched', 'a', 'ride', 'on', 'a', 'rocket', 'or', 'satellite', 'into', 'space', 'or', 'they', 'really', 'could', 'be', 'from', 'another', 'planet', '.']\n"
          ]
        }
      ]
    },
    {
      "cell_type": "markdown",
      "source": [
        "이렇게 토큰화된 dataset을 구비했다. 이제 각 단어를 숫자 형태로 변경해주어야 한다. **Field**의 **build_vocab** 메서드를 이용해 사전을 만들 수 있고, 이를 기반으로 숫자로 변경한다."
      ],
      "metadata": {
        "id": "wgtyItSZVvbO"
      }
    },
    {
      "cell_type": "code",
      "source": [
        "src_field.build_vocab(train_dataset, min_freq=2)\n",
        "trg_field.build_vocab(train_dataset, min_freq=2)\n",
        "\n",
        "print(f\"src vocab len : {len(src_field.vocab)}\")\n",
        "print(f\"trg vocab len : {len(trg_field.vocab)}\")"
      ],
      "metadata": {
        "colab": {
          "base_uri": "https://localhost:8080/"
        },
        "id": "WHjlWc9iUga-",
        "outputId": "4ac1a8a9-88d5-4a64-b43e-5d917991b64e"
      },
      "execution_count": null,
      "outputs": [
        {
          "output_type": "stream",
          "name": "stdout",
          "text": [
            "src vocab len : 4162\n",
            "trg vocab len : 4020\n"
          ]
        }
      ]
    },
    {
      "cell_type": "markdown",
      "source": [
        "**Parameter**\n",
        "- min_freq : 최소 2번 이상 등장한 단어"
      ],
      "metadata": {
        "id": "Dgm6ljYzX368"
      }
    },
    {
      "cell_type": "code",
      "source": [
        "trg_field.vocab.itos[4]"
      ],
      "metadata": {
        "colab": {
          "base_uri": "https://localhost:8080/",
          "height": 36
        },
        "id": "d1EEWGmfiwAi",
        "outputId": "4e4c4592-0258-4e8f-f01b-2cd7c414f97a"
      },
      "execution_count": null,
      "outputs": [
        {
          "output_type": "execute_result",
          "data": {
            "text/plain": [
              "'the'"
            ],
            "application/vnd.google.colaboratory.intrinsic+json": {
              "type": "string"
            }
          },
          "metadata": {},
          "execution_count": 17
        }
      ]
    },
    {
      "cell_type": "code",
      "source": [
        "print(trg_field.vocab.stoi[\"hihihihi\"]) # 없는 단어: 0\n",
        "print(trg_field.vocab.stoi[trg_field.pad_token]) # 패딩(padding): 1\n",
        "print(trg_field.vocab.stoi[\"<sos>\"]) # : 2\n",
        "print(trg_field.vocab.stoi[\"<eos>\"]) # : 3\n",
        "print(trg_field.vocab.stoi[\"a\"])\n",
        "print(trg_field.vocab.stoi[\"world\"])"
      ],
      "metadata": {
        "colab": {
          "base_uri": "https://localhost:8080/"
        },
        "id": "az8LsQzfUzNM",
        "outputId": "b74f6ae8-a773-46be-a6e8-aebae7fc0f9d"
      },
      "execution_count": null,
      "outputs": [
        {
          "output_type": "stream",
          "name": "stdout",
          "text": [
            "0\n",
            "1\n",
            "2\n",
            "3\n",
            "8\n",
            "93\n"
          ]
        }
      ]
    },
    {
      "cell_type": "markdown",
      "source": [
        "vocab 내에서 각 데이터를 숫자로 변환할 수 있는 것을 확인할 수 있었다. 그러나 각 문장 내 단어의 개수가 각기 다르기 때문에 BucketIterator를 이용하여 패딩을 포함한 동일한 개수로 맞춰줄 수 있다.\n",
        "- 배치 크기(batch size): 128"
      ],
      "metadata": {
        "id": "tyjNQeciU1wt"
      }
    },
    {
      "cell_type": "code",
      "source": [
        "import torch\n",
        "from torchtext.data import BucketIterator\n",
        "\n",
        "BATCH_SIZE = 128\n",
        "\n",
        "device = torch.device('cuda' if torch.cuda.is_available() else 'cpu')\n",
        "\n",
        "# 일반적인 데이터 로더(data loader)의 iterator와 유사하게 사용 가능\n",
        "train_iterator, test_iterator = BucketIterator.splits(\n",
        "    (train_dataset, test_dataset),\n",
        "    batch_size=BATCH_SIZE,\n",
        "    device=device)"
      ],
      "metadata": {
        "id": "gYAcPpjlWxCL"
      },
      "execution_count": null,
      "outputs": []
    },
    {
      "cell_type": "code",
      "source": [
        "for i, batch in enumerate(train_iterator):\n",
        "    src = batch.src\n",
        "    trg = batch.trg\n",
        "\n",
        "    print(f\"첫 번째 배치 크기: {src.shape}\")\n",
        "\n",
        "    # 현재 배치에 있는 하나의 문장에 포함된 정보 출력\n",
        "    for i in range(src.shape[1]):\n",
        "        print(f\"인덱스 {i}: {src[0][i].item()}\") # 여기에서는 [Seq_num, Seq_len]\n",
        "\n",
        "    # 첫 번째 배치만 확인\n",
        "    break"
      ],
      "metadata": {
        "colab": {
          "base_uri": "https://localhost:8080/"
        },
        "id": "99kR6lincGRe",
        "outputId": "6009de32-0322-4777-d4d4-42724d67d116"
      },
      "execution_count": null,
      "outputs": [
        {
          "output_type": "stream",
          "name": "stdout",
          "text": [
            "첫 번째 배치 크기: torch.Size([128, 41])\n",
            "인덱스 0: 2\n",
            "인덱스 1: 364\n",
            "인덱스 2: 0\n",
            "인덱스 3: 3376\n",
            "인덱스 4: 62\n",
            "인덱스 5: 2514\n",
            "인덱스 6: 0\n",
            "인덱스 7: 24\n",
            "인덱스 8: 1173\n",
            "인덱스 9: 0\n",
            "인덱스 10: 1352\n",
            "인덱스 11: 0\n",
            "인덱스 12: 5\n",
            "인덱스 13: 613\n",
            "인덱스 14: 0\n",
            "인덱스 15: 123\n",
            "인덱스 16: 0\n",
            "인덱스 17: 3140\n",
            "인덱스 18: 1595\n",
            "인덱스 19: 0\n",
            "인덱스 20: 94\n",
            "인덱스 21: 1352\n",
            "인덱스 22: 1596\n",
            "인덱스 23: 4\n",
            "인덱스 24: 3\n",
            "인덱스 25: 1\n",
            "인덱스 26: 1\n",
            "인덱스 27: 1\n",
            "인덱스 28: 1\n",
            "인덱스 29: 1\n",
            "인덱스 30: 1\n",
            "인덱스 31: 1\n",
            "인덱스 32: 1\n",
            "인덱스 33: 1\n",
            "인덱스 34: 1\n",
            "인덱스 35: 1\n",
            "인덱스 36: 1\n",
            "인덱스 37: 1\n",
            "인덱스 38: 1\n",
            "인덱스 39: 1\n",
            "인덱스 40: 1\n"
          ]
        }
      ]
    },
    {
      "cell_type": "markdown",
      "source": [
        "## Transformer - Multi Head Attention 아키텍처\n",
        "![image.png](data:image/png;base64,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)\n",
        "- Attention은 **Query, Key, Value**를 입력는다. \n",
        "- 하이퍼파라미터\n",
        "  - hidden_dim : 하나의 단어에 대한 임베딩 차원(?)\n",
        "  - n_heads : 헤드의 개수(?)\n",
        "  - dropout_ratio : dropout 비율\n"
      ],
      "metadata": {
        "id": "i5z9RXz2kRVX"
      }
    },
    {
      "cell_type": "code",
      "source": [
        "import torch.nn as nn\n",
        "\n",
        "class MultiHeadAttentionLayer(nn.Module):\n",
        "  def __init__(self, hidden_dim=256, n_heads=8, dropout_ratio=0.1, device=device):\n",
        "    super().__init__()\n",
        "\n",
        "    assert hidden_dim % n_heads == 0\n",
        "    \n",
        "    self.hidden_dim = hidden_dim # 임베딩 차원\n",
        "    self.n_heads    = n_heads    # 헤드(각 attention)의 개수\n",
        "    self.head_dim   = hidden_dim // n_heads # 각 헤드에서의 임베딩 차원\n",
        "\n",
        "    # Input FC\n",
        "    self.fc_q = nn.Linear(hidden_dim, hidden_dim) # Query FC\n",
        "    self.fc_k = nn.Linear(hidden_dim, hidden_dim) # Key FC\n",
        "    self.fc_v = nn.Linear(hidden_dim, hidden_dim) # Value FC\n",
        "\n",
        "    # Output FC\n",
        "    self.fc_o = nn.Linear(hidden_dim, hidden_dim)\n",
        "\n",
        "    # Dropout\n",
        "    self.dropout = nn.Dropout(dropout_ratio)\n",
        "\n",
        "    self.scale = torch.sqrt(torch.FloatTensor([self.head_dim])).to(device)\n",
        "  \n",
        "  def forward(self, query, key, value, mask = None):\n",
        "    batch_size = query.shape[0]\n",
        "    \n",
        "    Q = self.fc_q(query)\n",
        "    K = self.fc_k(key)\n",
        "    V = self.fc_v(value)\n",
        "\n",
        "    # hidden_dim -> 헤드 개수만큼 {(n_heads) x (head_dim)} 형태로 변형\n",
        "    # .view()     ==> .reshape 같은 느낌\n",
        "    # .permute()  ==> 차원 순서 변경 (? 왜함)\n",
        "    Q = Q.view(batch_size, -1, self.n_heads, self.head_dim).permute(0, 2, 1, 3)\n",
        "    K = K.view(batch_size, -1, self.n_heads, self.head_dim).permute(0, 2, 1, 3)\n",
        "    V = V.view(batch_size, -1, self.n_heads, self.head_dim).permute(0, 2, 1, 3)\n",
        "\n",
        "    # Attention Energy 계산\n",
        "    energy = torch.matmul(Q, K.permute(0, 1, 3, 2)) / self.scale\n",
        "\n",
        "    # (?) energy: [batch_size, n_heads, query_len, key_len]\n",
        "    \n",
        "    # 마스크(mask)를 사용하는 경우\n",
        "    if mask is not None:\n",
        "      # 마스크(mask) 값이 0인 부분을 -1e10으로 채우기\n",
        "      energy = energy.masked_fill(mask==0, -1e10)\n",
        "\n",
        "    # 어텐션(attention) 스코어 계산: 각 단어에 대한 확률 값 (?)\n",
        "    attention = torch.softmax(energy, dim=-1)\n",
        "\n",
        "    # (?) attention: [batch_size, n_heads, query_len, key_len]\n",
        "\n",
        "    # (?) Scaled Dot-Product Attention 계산\n",
        "    x = torch.matmul(self.dropout(attention), V)\n",
        "\n",
        "    # x: [batch_size, n_heads, query_len, head_dim]\n",
        "\n",
        "    # .contiguous() : 축 변경은 해당되는 정보만 변경되고, 메모리 상에서의\n",
        "    #                 구조가 바뀌지 않음. 근데 두 번 이상 변경하면 문제 발생.\n",
        "    #                 복제하는 방식으로 해결해 주는 듯.\n",
        "    x = x.permute(0, 2, 1, 3).contiguous() # (? 왜 permute?)\n",
        "\n",
        "    # x: [batch_size, query_len, n_heads, head_dim]\n",
        "\n",
        "    x = x.view(batch_size, -1, self.hidden_dim)\n",
        "\n",
        "    # x: [batch_size, query_len, hidden_dim]\n",
        "\n",
        "    x = self.fc_o(x)\n",
        "\n",
        "    # x: [batch_size, query_len, hidden_dim]\n",
        "\n",
        "    return x, attention\n",
        "\n",
        "    "
      ],
      "metadata": {
        "id": "kYLGcVyTkIUt"
      },
      "execution_count": null,
      "outputs": []
    },
    {
      "cell_type": "code",
      "source": [
        "MultiHeadAttentionLayer()"
      ],
      "metadata": {
        "colab": {
          "base_uri": "https://localhost:8080/"
        },
        "id": "ZOoUPWRfU6MC",
        "outputId": "6c86eefd-76bd-4592-c390-c6e4a21b3945"
      },
      "execution_count": null,
      "outputs": [
        {
          "output_type": "execute_result",
          "data": {
            "text/plain": [
              "MultiHeadAttentionLayer(\n",
              "  (fc_q): Linear(in_features=256, out_features=256, bias=True)\n",
              "  (fc_k): Linear(in_features=256, out_features=256, bias=True)\n",
              "  (fc_v): Linear(in_features=256, out_features=256, bias=True)\n",
              "  (fc_o): Linear(in_features=256, out_features=256, bias=True)\n",
              "  (dropout): Dropout(p=0.1, inplace=False)\n",
              ")"
            ]
          },
          "metadata": {},
          "execution_count": 50
        }
      ]
    },
    {
      "cell_type": "markdown",
      "source": [
        "한줄평 : 흐름은 이해가 됐는데, 차원 변환이 이해가 안된다,,,"
      ],
      "metadata": {
        "id": "S8IGLlJSgAVO"
      }
    },
    {
      "cell_type": "code",
      "source": [
        "# tutorial/1_transformer/gp-transformer.ipynb"
      ],
      "metadata": {
        "id": "g3x48X80aztP"
      },
      "execution_count": null,
      "outputs": []
    }
  ]
}