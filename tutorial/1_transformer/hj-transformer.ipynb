{
  "nbformat": 4,
  "nbformat_minor": 0,
  "metadata": {
    "colab": {
      "provenance": [],
      "include_colab_link": true
    },
    "kernelspec": {
      "name": "python3",
      "display_name": "Python 3"
    },
    "language_info": {
      "name": "python"
    }
  },
  "cells": [
    {
      "cell_type": "markdown",
      "metadata": {
        "id": "view-in-github",
        "colab_type": "text"
      },
      "source": [
        "<a href=\"https://colab.research.google.com/github/RO-AD/waymo-od-motion-pred/blob/main/tutorial/1_transformer/hj-transformer.ipynb\" target=\"_parent\"><img src=\"https://colab.research.google.com/assets/colab-badge.svg\" alt=\"Open In Colab\"/></a>"
      ]
    },
    {
      "cell_type": "markdown",
      "source": [
        "## Attention is All You Need (NIPS 2017) 실습\n",
        "- 아래 링크 보고 transformer 모델 만들어보기\n",
        "https://github.com/hyojinlee98/College/blob/master/tutorial/1_transformer/hj_transformer.ipynb\n",
        "  - 예제는 독일어-영어 번역 모델이지만, 나는 한국어-영어 모델을 만들어보고자 한다\n",
        "\n",
        "- 코드 실행 전에 [런타임] → [런타임 유형 변경] → 유형을 GPU로 설정"
      ],
      "metadata": {
        "id": "0Had3Q4rSS93"
      }
    },
    {
      "cell_type": "markdown",
      "source": [
        "## BLEU Score 계산을 위한 라이브러리 업데이트\n",
        "- [Restart Runtime] 버튼을 눌러 런타임을 재시작\n",
        "- `bleu_score` 모듈이 있는 torchtext 라이브러리 설치 \n",
        "  - from torchtext.data.metrics import bleu_score"
      ],
      "metadata": {
        "id": "14TpZ8nHS1KN"
      }
    },
    {
      "cell_type": "code",
      "source": [
        "%%capture\n",
        "!pip install torchtext==0.6.0"
      ],
      "metadata": {
        "id": "yioMXLIfSVPj"
      },
      "execution_count": null,
      "outputs": []
    },
    {
      "cell_type": "markdown",
      "source": [
        "## 데이터 전처리 (Preprocessing)\n",
        "\n",
        "NLP에서 텍스트 전처리 작업이 필요하다. 텍스트 전처리를 위해서는 클렌징, 토큰화, 불용어 제거, 정규화 등의 작업이 필요하다. 이번에는 토큰화를 진행할 것이다. 토큰(Token)이란 문법적으로 더 이상 나눌 수 없는 언어 요소를 뜻한다. 텍스트 토큰화란 말뭉치로부터 토큰을 분리하는 작업을 뜻한다. 문장 토큰화와 단어 토큰화가 있는데, 이번에 사용하는 라이브러리는 단어 토큰화를 해볼 것이다. 기본적으로 띄어쓰기를 기준으로 하고, 콤마와 마침표는 별도의 토큰으로 구분한다. `Don't` 같은 경우는 `Do`와 `n't`로 분리된다.\n",
        "\n",
        "- spaCy 라이브러리 : 문장의 토큰화(tokenization), 태깅(tagging) 등의 전처리 기능을 위한 라이브러리\n",
        "  - 영어(English)와 한국어(Korea) 전처리 모듈 설치"
      ],
      "metadata": {
        "id": "ynjyBmE_TWny"
      }
    },
    {
      "cell_type": "code",
      "source": [
        "# %%는 Colab의 매직 커맨드 (결과 출력 X / 뒤에 이름 지정해주면 지정 파일에 결과값 저장)\n",
        "%%capture \n",
        "!python -m spacy download en_core_web_sm\n",
        "!python -m spacy download ko_core_news_sm # ko가 없음"
      ],
      "metadata": {
        "id": "yRmEUFm0TN5G"
      },
      "execution_count": null,
      "outputs": []
    },
    {
      "cell_type": "code",
      "source": [
        "import spacy\n",
        "\n",
        "spacy_en = spacy.load('en_core_web_sm') # 영어 토큰화(tokenization)\n",
        "spacy_ko = spacy.load('ko_core_news_sm') # 한국어 토큰화(tokenization)"
      ],
      "metadata": {
        "id": "7OgYofVrUpok"
      },
      "execution_count": null,
      "outputs": []
    },
    {
      "cell_type": "code",
      "source": [
        "# 간단히 영어 토큰화 기능 써보기 - 단어로 토큰화 \n",
        "tokenized = spacy_en.tokenizer(\"I am a graduate student.\")\n",
        "\n",
        "for i, token in enumerate(tokenized) :\n",
        "  print(f'인덱스 {i} : {token.text}')"
      ],
      "metadata": {
        "colab": {
          "base_uri": "https://localhost:8080/"
        },
        "id": "1cdjrzxgUq9P",
        "outputId": "74e66f99-1230-493a-95e3-ed8107753449"
      },
      "execution_count": null,
      "outputs": [
        {
          "output_type": "stream",
          "name": "stdout",
          "text": [
            "인덱스 0 : I\n",
            "인덱스 1 : am\n",
            "인덱스 2 : a\n",
            "인덱스 3 : graduate\n",
            "인덱스 4 : student\n",
            "인덱스 5 : .\n"
          ]
        }
      ]
    },
    {
      "cell_type": "code",
      "source": [
        "# 간단히 한국어 토큰화 기능 써보기 - 단어로 토큰화\n",
        "tokenized = spacy_ko.tokenizer(\"나는 대학원생이다.\")\n",
        "\n",
        "for i, token in enumerate(tokenized) :\n",
        "  print(f\"인덱스 {i} : {token.text}\")"
      ],
      "metadata": {
        "colab": {
          "base_uri": "https://localhost:8080/"
        },
        "id": "av-L8yDLZLVg",
        "outputId": "20ac5e8c-ab8a-4886-f4e8-3a94d366092b"
      },
      "execution_count": null,
      "outputs": [
        {
          "output_type": "stream",
          "name": "stdout",
          "text": [
            "인덱스 0 : 나는\n",
            "인덱스 1 : 대학원생이다\n",
            "인덱스 2 : .\n"
          ]
        }
      ]
    },
    {
      "cell_type": "markdown",
      "source": [
        "- 영어(English) 및 한국어(Korea) 토큰화 함수 정의"
      ],
      "metadata": {
        "id": "Pvm22LHUY7PC"
      }
    },
    {
      "cell_type": "code",
      "source": [
        "# 한국어 문장을 토큰화 하는 함수 (순서를 뒤집지 않음)\n",
        "def tokenize_ko(text) :\n",
        "  return [token.text for token in spacy_ko.tokenizer(text)]\n",
        "\n",
        "# 영어 문장을 토큰화 하는 함수\n",
        "def tokenize_en(text) :\n",
        "  return [token.text for token in spacy_en.tokenizer(text)]"
      ],
      "metadata": {
        "id": "SdR66QGjX5B1"
      },
      "execution_count": null,
      "outputs": []
    },
    {
      "cell_type": "markdown",
      "source": [
        "- 필드(field) 라이브러리를 이용해 데이터셋에 대한 구체적인 전처리 내용을 명시한다.\n",
        "- Seq2Seq 모델과는 다르게 batch_first 속성의 값을 True로 설정한다.\n",
        "- 번역 목표 \n",
        "  - 소스(SRC) : 한국어\n",
        "  - 목표(TRG) : 영어"
      ],
      "metadata": {
        "id": "c2pN8vLkaMTG"
      }
    },
    {
      "cell_type": "code",
      "source": [
        "from torchtext.data import Field, BucketIterator\n",
        "\n",
        "# sos : Start Of Statement\n",
        "# eos : End Of Statement\n",
        "# batch_first : input 의 shape 에서 batch_size 를 shape 의 첫번째에 위치할 수 있도록 설정\n",
        "SRC = Field(tokenize=tokenize_ko, init_token=\"<sos>\", eos_token=\"<eos>\", lower=True, batch_first=True)\n",
        "TRG = Field(tokenize=tokenize_en, init_token=\"<sos>\", eos_token=\"<eos>\", lower=True, batch_first=True)"
      ],
      "metadata": {
        "id": "je8eWxSQaTwl"
      },
      "execution_count": null,
      "outputs": []
    },
    {
      "cell_type": "markdown",
      "source": [
        "- 원래 예제는 영어-독일어 번역 모델을 만드는 거라 대표적인 영어-독어 번역 데이터셋인 **torchtext.datasets.Multi30k**를 사용했다. \n",
        "- 영어-한국어 번역 모델을 만드는 게 목표이기 때문에 AI hub에 있는 번역 데이터셋인 Korpora 설치"
      ],
      "metadata": {
        "id": "jxdUGZgWczzb"
      }
    },
    {
      "cell_type": "code",
      "source": [
        "!pip install Korpora"
      ],
      "metadata": {
        "colab": {
          "base_uri": "https://localhost:8080/",
          "height": 423
        },
        "id": "hJI9L0NRZ0UH",
        "outputId": "6e968f02-438e-4217-cf60-5c26674140f7"
      },
      "execution_count": null,
      "outputs": [
        {
          "output_type": "stream",
          "name": "stdout",
          "text": [
            "Looking in indexes: https://pypi.org/simple, https://us-python.pkg.dev/colab-wheels/public/simple/\n",
            "Collecting Korpora\n",
            "  Downloading Korpora-0.2.0-py3-none-any.whl (57 kB)\n",
            "\u001b[2K     \u001b[90m━━━━━━━━━━━━━━━━━━━━━━━━━━━━━━━━━━━━━━━━\u001b[0m \u001b[32m57.8/57.8 KB\u001b[0m \u001b[31m3.7 MB/s\u001b[0m eta \u001b[36m0:00:00\u001b[0m\n",
            "\u001b[?25hRequirement already satisfied: numpy>=1.18.0 in /usr/local/lib/python3.8/dist-packages (from Korpora) (1.22.4)\n",
            "Requirement already satisfied: xlrd>=1.2.0 in /usr/local/lib/python3.8/dist-packages (from Korpora) (1.2.0)\n",
            "Requirement already satisfied: tqdm>=4.46.0 in /usr/local/lib/python3.8/dist-packages (from Korpora) (4.64.1)\n",
            "Requirement already satisfied: requests>=2.20.0 in /usr/local/lib/python3.8/dist-packages (from Korpora) (2.25.1)\n",
            "Collecting dataclasses>=0.6\n",
            "  Downloading dataclasses-0.6-py3-none-any.whl (14 kB)\n",
            "Requirement already satisfied: chardet<5,>=3.0.2 in /usr/local/lib/python3.8/dist-packages (from requests>=2.20.0->Korpora) (4.0.0)\n",
            "Requirement already satisfied: idna<3,>=2.5 in /usr/local/lib/python3.8/dist-packages (from requests>=2.20.0->Korpora) (2.10)\n",
            "Requirement already satisfied: urllib3<1.27,>=1.21.1 in /usr/local/lib/python3.8/dist-packages (from requests>=2.20.0->Korpora) (1.26.14)\n",
            "Requirement already satisfied: certifi>=2017.4.17 in /usr/local/lib/python3.8/dist-packages (from requests>=2.20.0->Korpora) (2022.12.7)\n",
            "Installing collected packages: dataclasses, Korpora\n",
            "Successfully installed Korpora-0.2.0 dataclasses-0.6\n"
          ]
        },
        {
          "output_type": "display_data",
          "data": {
            "application/vnd.colab-display-data+json": {
              "pip_warning": {
                "packages": [
                  "dataclasses"
                ]
              }
            }
          },
          "metadata": {}
        }
      ]
    },
    {
      "cell_type": "markdown",
      "source": [
        "- Korpora 데이터셋 종류"
      ],
      "metadata": {
        "id": "hOSP1wCFhz3G"
      }
    },
    {
      "cell_type": "code",
      "source": [
        "from Korpora import Korpora\n",
        "Korpora.corpus_list()"
      ],
      "metadata": {
        "colab": {
          "base_uri": "https://localhost:8080/"
        },
        "id": "qTJQ4H9AgiLc",
        "outputId": "dc3d0e84-3ffc-4077-f260-544169b1f57e"
      },
      "execution_count": null,
      "outputs": [
        {
          "output_type": "execute_result",
          "data": {
            "text/plain": [
              "{'kcbert': 'beomi@github 님이 만드신 KcBERT 학습데이터',\n",
              " 'korean_chatbot_data': 'songys@github 님이 만드신 챗봇 문답 데이터',\n",
              " 'korean_hate_speech': '{inmoonlight,warnikchow,beomi}@github 님이 만드신 혐오댓글데이터',\n",
              " 'korean_parallel_koen_news': 'jungyeul@github 님이 만드신 병렬 말뭉치',\n",
              " 'korean_petitions': 'lovit@github 님이 만드신 2017.08 ~ 2019.03 청와대 청원데이터',\n",
              " 'kornli': 'KakaoBrain 에서 제공하는 Natural Language Inference (NLI) 데이터',\n",
              " 'korsts': 'KakaoBrain 에서 제공하는 Semantic Textual Similarity (STS) 데이터',\n",
              " 'kowikitext': 'lovit@github 님이 만드신 wikitext 형식의 한국어 위키피디아 데이터',\n",
              " 'namuwikitext': 'lovit@github 님이 만드신 wikitext 형식의 나무위키 데이터',\n",
              " 'naver_changwon_ner': '네이버 + 창원대 NER shared task data',\n",
              " 'nsmc': 'e9t@github 님이 만드신 Naver sentiment movie corpus v1.0',\n",
              " 'question_pair': 'songys@github 님이 만드신 질문쌍(Paired Question v.2)',\n",
              " 'modu_news': '국립국어원에서 만든 모두의 말뭉치: 뉴스 말뭉치',\n",
              " 'modu_messenger': '국립국어원에서 만든 모두의 말뭉치: 메신저 말뭉치',\n",
              " 'modu_mp': '국립국어원에서 만든 모두의 말뭉치: 형태 분석 말뭉치',\n",
              " 'modu_ne': '국립국어원에서 만든 모두의 말뭉치: 개체명 분석 말뭉치',\n",
              " 'modu_spoken': '국립국어원에서 만든 모두의 말뭉치: 구어 말뭉치',\n",
              " 'modu_web': '국립국어원에서 만든 모두의 말뭉치: 웹 말뭉치',\n",
              " 'modu_written': '국립국어원에서 만든 모두의 말뭉치: 문어 말뭉치',\n",
              " 'open_subtitles': 'Open parallel corpus (OPUS) 에서 제공하는 영화 자막 번역 병렬 말뭉치',\n",
              " 'aihub_translation': 'AI Hub 에서 제공하는 번역용 병렬 말뭉치 (구어 + 대화 + 뉴스 + 한국문화 + 조례 + 지자체웹사이트)',\n",
              " 'aihub_spoken_translation': 'AI Hub 에서 제공하는 번역용 병렬 말뭉치 (구어)',\n",
              " 'aihub_conversation_translation': 'AI Hub 에서 제공하는 번역용 병렬 말뭉치 (대화)',\n",
              " 'aihub_news_translation': 'AI Hub 에서 제공하는 번역용 병렬 말뭉치 (뉴스)',\n",
              " 'aihub_korean_culture_translation': 'AI Hub 에서 제공하는 번역용 병렬 말뭉치 (한국문화)',\n",
              " 'aihub_decree_translation': 'AI Hub 에서 제공하는 번역용 병렬 말뭉치 (조례)',\n",
              " 'aihub_government_website_translation': 'AI Hub 에서 제공하는 번역용 병렬 말뭉치 (지자체웹사이트)'}"
            ]
          },
          "metadata": {},
          "execution_count": 18
        }
      ]
    },
    {
      "cell_type": "markdown",
      "source": [
        "- Korpora의 `korean_parallel_koen_news` 데이터셋을 `/content/Korpora` 경로에 다운로드"
      ],
      "metadata": {
        "id": "06s5v59NSTDU"
      }
    },
    {
      "cell_type": "code",
      "source": [
        "Korpora.fetch('korean_parallel_koen_news', root_dir='/content/Korpora')"
      ],
      "metadata": {
        "id": "BDhET-nihWRp"
      },
      "execution_count": null,
      "outputs": []
    },
    {
      "cell_type": "code",
      "source": [
        "!ls /content/Korpora/korean_parallel"
      ],
      "metadata": {
        "id": "q10opZ0vjroh"
      },
      "execution_count": null,
      "outputs": []
    },
    {
      "cell_type": "markdown",
      "source": [
        "- 데이터셋 로드"
      ],
      "metadata": {
        "id": "B8SmQALvSe_a"
      }
    },
    {
      "cell_type": "code",
      "source": [
        "datasets = Korpora.load('korean_parallel_koen_news', root_dir='/content/Korpora')\n",
        "datasets"
      ],
      "metadata": {
        "colab": {
          "base_uri": "https://localhost:8080/"
        },
        "id": "gAhVr1v4mHgx",
        "outputId": "5e7af66d-0247-4ac1-c187-e99dbd34f367"
      },
      "execution_count": null,
      "outputs": [
        {
          "output_type": "stream",
          "name": "stdout",
          "text": [
            "\n",
            "    Korpora 는 다른 분들이 연구 목적으로 공유해주신 말뭉치들을\n",
            "    손쉽게 다운로드, 사용할 수 있는 기능만을 제공합니다.\n",
            "\n",
            "    말뭉치들을 공유해 주신 분들에게 감사드리며, 각 말뭉치 별 설명과 라이센스를 공유 드립니다.\n",
            "    해당 말뭉치에 대해 자세히 알고 싶으신 분은 아래의 description 을 참고,\n",
            "    해당 말뭉치를 연구/상용의 목적으로 이용하실 때에는 아래의 라이센스를 참고해 주시기 바랍니다.\n",
            "\n",
            "    # Description\n",
            "    Author : KakaoBrain\n",
            "    Repository : https://github.com/jungyeul/korean-parallel-corpora\n",
            "    References :\n",
            "        - Jungyeul Park, Jeen-Pyo Hong and Jeong-Won Cha (2016) Korean Language Resources for Everyone.\n",
            "          In Proceedings of the 30th Pacific Asia Conference on Language, Information and Computation\n",
            "          (PACLIC 30). October 28 - 30, 2016. Seoul, Korea. \n",
            "          (https://www.aclweb.org/anthology/Y16-2002/)\n",
            "\n",
            "    # License\n",
            "    Creative Commons Attribution Noncommercial No-Derivative-Works 3.0\n",
            "    Details in https://creativecommons.org/licenses/by-nc-nd/3.0/\n",
            "\n"
          ]
        },
        {
          "output_type": "stream",
          "name": "stderr",
          "text": [
            "[korean_parallel] download korean-english-park.train.tar.gz: 8.72MB [00:00, 14.6MB/s]                            \n"
          ]
        },
        {
          "output_type": "stream",
          "name": "stdout",
          "text": [
            "decompress /content/Korpora/korean_parallel/korean-english-park.train.tar.gz\n"
          ]
        },
        {
          "output_type": "stream",
          "name": "stderr",
          "text": [
            "[korean_parallel] download korean-english-park.dev.tar.gz: 115kB [00:00, 221kB/s]                             \n"
          ]
        },
        {
          "output_type": "stream",
          "name": "stdout",
          "text": [
            "decompress /content/Korpora/korean_parallel/korean-english-park.dev.tar.gz\n"
          ]
        },
        {
          "output_type": "stream",
          "name": "stderr",
          "text": [
            "[korean_parallel] download korean-english-park.test.tar.gz: 238kB [00:00, 4.69MB/s]"
          ]
        },
        {
          "output_type": "stream",
          "name": "stdout",
          "text": [
            "decompress /content/Korpora/korean_parallel/korean-english-park.test.tar.gz\n"
          ]
        },
        {
          "output_type": "stream",
          "name": "stderr",
          "text": [
            "\n"
          ]
        },
        {
          "output_type": "execute_result",
          "data": {
            "text/plain": [
              "<Korpora.korpus_korean_parallel.KoreanParallelKOENNewsKorpus at 0x7fcac51fd1c0>"
            ]
          },
          "metadata": {},
          "execution_count": 19
        }
      ]
    },
    {
      "cell_type": "code",
      "source": [
        "datasets.train[0]"
      ],
      "metadata": {
        "colab": {
          "base_uri": "https://localhost:8080/"
        },
        "id": "KDRC2i8mn_fz",
        "outputId": "4a10a472-afea-4a9d-f1bc-da7e204c571a"
      },
      "execution_count": null,
      "outputs": [
        {
          "output_type": "execute_result",
          "data": {
            "text/plain": [
              "SentencePair(text='개인용 컴퓨터 사용의 상당 부분은 \"이것보다 뛰어날 수 있느냐?\"', pair='Much of personal computing is about \"can you top this?\"')"
            ]
          },
          "metadata": {},
          "execution_count": 20
        }
      ]
    },
    {
      "cell_type": "markdown",
      "source": [
        "- 데이터셋 생성\n",
        "  - 기존 예제에서는 `torchtext.data`에 있는 데이터셋을 불러와서 사용했기 때문에 해당 형태를 맞춰주기 위해 `TabularDataset`을 사용할 것이다. \n",
        "  - `TabularDataset`은 데이터를 불러오면서 필드에서 정의했던 토큰화 방법으로 토큰화를 수행한다. 이때, 소문자화 같은 기본적인 전처리도 함께 이루어진다.\n",
        "  - 데이터셋을 csv 파일로 저장하기 위해 pandas를 사용한다.  "
      ],
      "metadata": {
        "id": "pw0RIAy-SpO8"
      }
    },
    {
      "cell_type": "code",
      "source": [
        "import pandas as pd"
      ],
      "metadata": {
        "id": "VDmdQJs6n_iI"
      },
      "execution_count": null,
      "outputs": []
    },
    {
      "cell_type": "code",
      "source": [
        "train_ko_df = pd.DataFrame(datasets.train.texts, columns=['src'])\n",
        "train_en_df = pd.DataFrame(datasets.train.pairs, columns=['trg'])\n",
        "train_df = train_ko_df.join(train_en_df)\n",
        "train_df.head()"
      ],
      "metadata": {
        "colab": {
          "base_uri": "https://localhost:8080/",
          "height": 337
        },
        "id": "5bU_l5_203KL",
        "outputId": "693b6d5f-3db4-471b-eda7-026c3bec0d2e"
      },
      "execution_count": null,
      "outputs": [
        {
          "output_type": "execute_result",
          "data": {
            "text/plain": [
              "                                                 src  \\\n",
              "0               개인용 컴퓨터 사용의 상당 부분은 \"이것보다 뛰어날 수 있느냐?\"   \n",
              "1  모든 광마우스와 마찬가지 로 이 광마우스도 책상 위에 놓는 마우스 패드를 필요로 하...   \n",
              "2                         그러나 이것은 또한 책상도 필요로 하지 않는다.   \n",
              "3  79.95달러하는 이 최첨단 무선 광마우스는 허공에서 팔목, 팔, 그외에 어떤 부분...   \n",
              "4  정보 관리들은 동남 아시아에서의 선박들에 대한 많은 (테러) 계획들이 실패로 돌아갔...   \n",
              "\n",
              "                                                 trg  \n",
              "0  Much of personal computing is about \"can you t...  \n",
              "1  so a mention a few weeks ago about a rechargea...  \n",
              "2  Like all optical mice, But it also doesn't nee...  \n",
              "3  uses gyroscopic sensors to control the cursor ...  \n",
              "4  Intelligence officials have revealed a spate o...  "
            ],
            "text/html": [
              "\n",
              "  <div id=\"df-d7e189c6-7b35-46c7-af75-87c971e222df\">\n",
              "    <div class=\"colab-df-container\">\n",
              "      <div>\n",
              "<style scoped>\n",
              "    .dataframe tbody tr th:only-of-type {\n",
              "        vertical-align: middle;\n",
              "    }\n",
              "\n",
              "    .dataframe tbody tr th {\n",
              "        vertical-align: top;\n",
              "    }\n",
              "\n",
              "    .dataframe thead th {\n",
              "        text-align: right;\n",
              "    }\n",
              "</style>\n",
              "<table border=\"1\" class=\"dataframe\">\n",
              "  <thead>\n",
              "    <tr style=\"text-align: right;\">\n",
              "      <th></th>\n",
              "      <th>src</th>\n",
              "      <th>trg</th>\n",
              "    </tr>\n",
              "  </thead>\n",
              "  <tbody>\n",
              "    <tr>\n",
              "      <th>0</th>\n",
              "      <td>개인용 컴퓨터 사용의 상당 부분은 \"이것보다 뛰어날 수 있느냐?\"</td>\n",
              "      <td>Much of personal computing is about \"can you t...</td>\n",
              "    </tr>\n",
              "    <tr>\n",
              "      <th>1</th>\n",
              "      <td>모든 광마우스와 마찬가지 로 이 광마우스도 책상 위에 놓는 마우스 패드를 필요로 하...</td>\n",
              "      <td>so a mention a few weeks ago about a rechargea...</td>\n",
              "    </tr>\n",
              "    <tr>\n",
              "      <th>2</th>\n",
              "      <td>그러나 이것은 또한 책상도 필요로 하지 않는다.</td>\n",
              "      <td>Like all optical mice, But it also doesn't nee...</td>\n",
              "    </tr>\n",
              "    <tr>\n",
              "      <th>3</th>\n",
              "      <td>79.95달러하는 이 최첨단 무선 광마우스는 허공에서 팔목, 팔, 그외에 어떤 부분...</td>\n",
              "      <td>uses gyroscopic sensors to control the cursor ...</td>\n",
              "    </tr>\n",
              "    <tr>\n",
              "      <th>4</th>\n",
              "      <td>정보 관리들은 동남 아시아에서의 선박들에 대한 많은 (테러) 계획들이 실패로 돌아갔...</td>\n",
              "      <td>Intelligence officials have revealed a spate o...</td>\n",
              "    </tr>\n",
              "  </tbody>\n",
              "</table>\n",
              "</div>\n",
              "      <button class=\"colab-df-convert\" onclick=\"convertToInteractive('df-d7e189c6-7b35-46c7-af75-87c971e222df')\"\n",
              "              title=\"Convert this dataframe to an interactive table.\"\n",
              "              style=\"display:none;\">\n",
              "        \n",
              "  <svg xmlns=\"http://www.w3.org/2000/svg\" height=\"24px\"viewBox=\"0 0 24 24\"\n",
              "       width=\"24px\">\n",
              "    <path d=\"M0 0h24v24H0V0z\" fill=\"none\"/>\n",
              "    <path d=\"M18.56 5.44l.94 2.06.94-2.06 2.06-.94-2.06-.94-.94-2.06-.94 2.06-2.06.94zm-11 1L8.5 8.5l.94-2.06 2.06-.94-2.06-.94L8.5 2.5l-.94 2.06-2.06.94zm10 10l.94 2.06.94-2.06 2.06-.94-2.06-.94-.94-2.06-.94 2.06-2.06.94z\"/><path d=\"M17.41 7.96l-1.37-1.37c-.4-.4-.92-.59-1.43-.59-.52 0-1.04.2-1.43.59L10.3 9.45l-7.72 7.72c-.78.78-.78 2.05 0 2.83L4 21.41c.39.39.9.59 1.41.59.51 0 1.02-.2 1.41-.59l7.78-7.78 2.81-2.81c.8-.78.8-2.07 0-2.86zM5.41 20L4 18.59l7.72-7.72 1.47 1.35L5.41 20z\"/>\n",
              "  </svg>\n",
              "      </button>\n",
              "      \n",
              "  <style>\n",
              "    .colab-df-container {\n",
              "      display:flex;\n",
              "      flex-wrap:wrap;\n",
              "      gap: 12px;\n",
              "    }\n",
              "\n",
              "    .colab-df-convert {\n",
              "      background-color: #E8F0FE;\n",
              "      border: none;\n",
              "      border-radius: 50%;\n",
              "      cursor: pointer;\n",
              "      display: none;\n",
              "      fill: #1967D2;\n",
              "      height: 32px;\n",
              "      padding: 0 0 0 0;\n",
              "      width: 32px;\n",
              "    }\n",
              "\n",
              "    .colab-df-convert:hover {\n",
              "      background-color: #E2EBFA;\n",
              "      box-shadow: 0px 1px 2px rgba(60, 64, 67, 0.3), 0px 1px 3px 1px rgba(60, 64, 67, 0.15);\n",
              "      fill: #174EA6;\n",
              "    }\n",
              "\n",
              "    [theme=dark] .colab-df-convert {\n",
              "      background-color: #3B4455;\n",
              "      fill: #D2E3FC;\n",
              "    }\n",
              "\n",
              "    [theme=dark] .colab-df-convert:hover {\n",
              "      background-color: #434B5C;\n",
              "      box-shadow: 0px 1px 3px 1px rgba(0, 0, 0, 0.15);\n",
              "      filter: drop-shadow(0px 1px 2px rgba(0, 0, 0, 0.3));\n",
              "      fill: #FFFFFF;\n",
              "    }\n",
              "  </style>\n",
              "\n",
              "      <script>\n",
              "        const buttonEl =\n",
              "          document.querySelector('#df-d7e189c6-7b35-46c7-af75-87c971e222df button.colab-df-convert');\n",
              "        buttonEl.style.display =\n",
              "          google.colab.kernel.accessAllowed ? 'block' : 'none';\n",
              "\n",
              "        async function convertToInteractive(key) {\n",
              "          const element = document.querySelector('#df-d7e189c6-7b35-46c7-af75-87c971e222df');\n",
              "          const dataTable =\n",
              "            await google.colab.kernel.invokeFunction('convertToInteractive',\n",
              "                                                     [key], {});\n",
              "          if (!dataTable) return;\n",
              "\n",
              "          const docLinkHtml = 'Like what you see? Visit the ' +\n",
              "            '<a target=\"_blank\" href=https://colab.research.google.com/notebooks/data_table.ipynb>data table notebook</a>'\n",
              "            + ' to learn more about interactive tables.';\n",
              "          element.innerHTML = '';\n",
              "          dataTable['output_type'] = 'display_data';\n",
              "          await google.colab.output.renderOutput(dataTable, element);\n",
              "          const docLink = document.createElement('div');\n",
              "          docLink.innerHTML = docLinkHtml;\n",
              "          element.appendChild(docLink);\n",
              "        }\n",
              "      </script>\n",
              "    </div>\n",
              "  </div>\n",
              "  "
            ]
          },
          "metadata": {},
          "execution_count": 22
        }
      ]
    },
    {
      "cell_type": "code",
      "source": [
        "test_ko_df = pd.DataFrame(datasets.test.texts, columns=['src'])\n",
        "test_en_df = pd.DataFrame(datasets.test.pairs, columns=['trg'])\n",
        "test_df = test_ko_df.join(test_en_df)\n",
        "test_df.head()"
      ],
      "metadata": {
        "colab": {
          "base_uri": "https://localhost:8080/",
          "height": 337
        },
        "id": "JtDPTnuT047J",
        "outputId": "3d2fb81c-633b-4c13-f371-2e38b0a7973a"
      },
      "execution_count": null,
      "outputs": [
        {
          "output_type": "execute_result",
          "data": {
            "text/plain": [
              "                                                 src  \\\n",
              "0  토론에 참여한 사람들은 법 집행과 국가 안전보장에 대한 우려를 표명해야 할 필요성을...   \n",
              "1  또한 새로운 기술 개발이 어떤 해결책을 제공해 주는데 도움이 될 것이고, 동시 에 ...   \n",
              "2  그래서 클리퍼 칩에 대한 개인적인 해결책은 서서히 자취를 감출 것입니다. 그러나 이...   \n",
              "3  이탈리아의 천문학자들이 멀리에 있는 별들의 궤도를 도는 행성의 대기에서 생명체의 필...   \n",
              "4  물이 있다는 것이 다른 행성에 생명체들이 가득하다는 것을 의미하지는 않지만, 이번 ...   \n",
              "\n",
              "                                                 trg  \n",
              "0  Those involved in the discussions do take seri...  \n",
              "1  There is also some hope that new technology de...  \n",
              "2  So the individual solution of the clipper chip...  \n",
              "3  Italian astronomers have found signs of water,...  \n",
              "4  Having water does not mean other planets will ...  "
            ],
            "text/html": [
              "\n",
              "  <div id=\"df-8a769c00-17e0-48f2-9b41-89bcff9aa442\">\n",
              "    <div class=\"colab-df-container\">\n",
              "      <div>\n",
              "<style scoped>\n",
              "    .dataframe tbody tr th:only-of-type {\n",
              "        vertical-align: middle;\n",
              "    }\n",
              "\n",
              "    .dataframe tbody tr th {\n",
              "        vertical-align: top;\n",
              "    }\n",
              "\n",
              "    .dataframe thead th {\n",
              "        text-align: right;\n",
              "    }\n",
              "</style>\n",
              "<table border=\"1\" class=\"dataframe\">\n",
              "  <thead>\n",
              "    <tr style=\"text-align: right;\">\n",
              "      <th></th>\n",
              "      <th>src</th>\n",
              "      <th>trg</th>\n",
              "    </tr>\n",
              "  </thead>\n",
              "  <tbody>\n",
              "    <tr>\n",
              "      <th>0</th>\n",
              "      <td>토론에 참여한 사람들은 법 집행과 국가 안전보장에 대한 우려를 표명해야 할 필요성을...</td>\n",
              "      <td>Those involved in the discussions do take seri...</td>\n",
              "    </tr>\n",
              "    <tr>\n",
              "      <th>1</th>\n",
              "      <td>또한 새로운 기술 개발이 어떤 해결책을 제공해 주는데 도움이 될 것이고, 동시 에 ...</td>\n",
              "      <td>There is also some hope that new technology de...</td>\n",
              "    </tr>\n",
              "    <tr>\n",
              "      <th>2</th>\n",
              "      <td>그래서 클리퍼 칩에 대한 개인적인 해결책은 서서히 자취를 감출 것입니다. 그러나 이...</td>\n",
              "      <td>So the individual solution of the clipper chip...</td>\n",
              "    </tr>\n",
              "    <tr>\n",
              "      <th>3</th>\n",
              "      <td>이탈리아의 천문학자들이 멀리에 있는 별들의 궤도를 도는 행성의 대기에서 생명체의 필...</td>\n",
              "      <td>Italian astronomers have found signs of water,...</td>\n",
              "    </tr>\n",
              "    <tr>\n",
              "      <th>4</th>\n",
              "      <td>물이 있다는 것이 다른 행성에 생명체들이 가득하다는 것을 의미하지는 않지만, 이번 ...</td>\n",
              "      <td>Having water does not mean other planets will ...</td>\n",
              "    </tr>\n",
              "  </tbody>\n",
              "</table>\n",
              "</div>\n",
              "      <button class=\"colab-df-convert\" onclick=\"convertToInteractive('df-8a769c00-17e0-48f2-9b41-89bcff9aa442')\"\n",
              "              title=\"Convert this dataframe to an interactive table.\"\n",
              "              style=\"display:none;\">\n",
              "        \n",
              "  <svg xmlns=\"http://www.w3.org/2000/svg\" height=\"24px\"viewBox=\"0 0 24 24\"\n",
              "       width=\"24px\">\n",
              "    <path d=\"M0 0h24v24H0V0z\" fill=\"none\"/>\n",
              "    <path d=\"M18.56 5.44l.94 2.06.94-2.06 2.06-.94-2.06-.94-.94-2.06-.94 2.06-2.06.94zm-11 1L8.5 8.5l.94-2.06 2.06-.94-2.06-.94L8.5 2.5l-.94 2.06-2.06.94zm10 10l.94 2.06.94-2.06 2.06-.94-2.06-.94-.94-2.06-.94 2.06-2.06.94z\"/><path d=\"M17.41 7.96l-1.37-1.37c-.4-.4-.92-.59-1.43-.59-.52 0-1.04.2-1.43.59L10.3 9.45l-7.72 7.72c-.78.78-.78 2.05 0 2.83L4 21.41c.39.39.9.59 1.41.59.51 0 1.02-.2 1.41-.59l7.78-7.78 2.81-2.81c.8-.78.8-2.07 0-2.86zM5.41 20L4 18.59l7.72-7.72 1.47 1.35L5.41 20z\"/>\n",
              "  </svg>\n",
              "      </button>\n",
              "      \n",
              "  <style>\n",
              "    .colab-df-container {\n",
              "      display:flex;\n",
              "      flex-wrap:wrap;\n",
              "      gap: 12px;\n",
              "    }\n",
              "\n",
              "    .colab-df-convert {\n",
              "      background-color: #E8F0FE;\n",
              "      border: none;\n",
              "      border-radius: 50%;\n",
              "      cursor: pointer;\n",
              "      display: none;\n",
              "      fill: #1967D2;\n",
              "      height: 32px;\n",
              "      padding: 0 0 0 0;\n",
              "      width: 32px;\n",
              "    }\n",
              "\n",
              "    .colab-df-convert:hover {\n",
              "      background-color: #E2EBFA;\n",
              "      box-shadow: 0px 1px 2px rgba(60, 64, 67, 0.3), 0px 1px 3px 1px rgba(60, 64, 67, 0.15);\n",
              "      fill: #174EA6;\n",
              "    }\n",
              "\n",
              "    [theme=dark] .colab-df-convert {\n",
              "      background-color: #3B4455;\n",
              "      fill: #D2E3FC;\n",
              "    }\n",
              "\n",
              "    [theme=dark] .colab-df-convert:hover {\n",
              "      background-color: #434B5C;\n",
              "      box-shadow: 0px 1px 3px 1px rgba(0, 0, 0, 0.15);\n",
              "      filter: drop-shadow(0px 1px 2px rgba(0, 0, 0, 0.3));\n",
              "      fill: #FFFFFF;\n",
              "    }\n",
              "  </style>\n",
              "\n",
              "      <script>\n",
              "        const buttonEl =\n",
              "          document.querySelector('#df-8a769c00-17e0-48f2-9b41-89bcff9aa442 button.colab-df-convert');\n",
              "        buttonEl.style.display =\n",
              "          google.colab.kernel.accessAllowed ? 'block' : 'none';\n",
              "\n",
              "        async function convertToInteractive(key) {\n",
              "          const element = document.querySelector('#df-8a769c00-17e0-48f2-9b41-89bcff9aa442');\n",
              "          const dataTable =\n",
              "            await google.colab.kernel.invokeFunction('convertToInteractive',\n",
              "                                                     [key], {});\n",
              "          if (!dataTable) return;\n",
              "\n",
              "          const docLinkHtml = 'Like what you see? Visit the ' +\n",
              "            '<a target=\"_blank\" href=https://colab.research.google.com/notebooks/data_table.ipynb>data table notebook</a>'\n",
              "            + ' to learn more about interactive tables.';\n",
              "          element.innerHTML = '';\n",
              "          dataTable['output_type'] = 'display_data';\n",
              "          await google.colab.output.renderOutput(dataTable, element);\n",
              "          const docLink = document.createElement('div');\n",
              "          docLink.innerHTML = docLinkHtml;\n",
              "          element.appendChild(docLink);\n",
              "        }\n",
              "      </script>\n",
              "    </div>\n",
              "  </div>\n",
              "  "
            ]
          },
          "metadata": {},
          "execution_count": 23
        }
      ]
    },
    {
      "cell_type": "code",
      "source": [
        "train_df.to_csv('/content/Korpora/korean_parallel/train.csv', index=False)\n",
        "test_df.to_csv('/content/Korpora/korean_parallel/test.csv', index=False)"
      ],
      "metadata": {
        "id": "uo6nUZb01NA7"
      },
      "execution_count": null,
      "outputs": []
    },
    {
      "cell_type": "code",
      "source": [
        "from torchtext.data import TabularDataset"
      ],
      "metadata": {
        "id": "-1CMTqx6smQk"
      },
      "execution_count": null,
      "outputs": []
    },
    {
      "cell_type": "code",
      "source": [
        "train_dataset, test_dataset = TabularDataset.splits(path='/content/Korpora/korean_parallel', \n",
        "                                              train='train.csv', test='test.csv', skip_header=True,\n",
        "                                              format='csv', fields = [('src', SRC), ('trg', TRG)])"
      ],
      "metadata": {
        "id": "dQzg3eObtvMo"
      },
      "execution_count": null,
      "outputs": []
    },
    {
      "cell_type": "code",
      "source": [
        "print(f\"학습 데이터셋(training dataset) 크기: {len(train_dataset.examples)}개\")\n",
        "print(f\"테스트 데이터셋(testing dataset) 크기: {len(test_dataset.examples)}개\")"
      ],
      "metadata": {
        "colab": {
          "base_uri": "https://localhost:8080/"
        },
        "id": "1UaqL_Nwx3Gx",
        "outputId": "c685945a-e048-41a9-a1f8-596b1b33d456"
      },
      "execution_count": null,
      "outputs": [
        {
          "output_type": "stream",
          "name": "stdout",
          "text": [
            "학습 데이터셋(training dataset) 크기: 94123개\n",
            "테스트 데이터셋(testing dataset) 크기: 2000개\n"
          ]
        }
      ]
    },
    {
      "cell_type": "code",
      "source": [
        "# 학습 데이터 중 하나를 선택해 출력\n",
        "print(vars(train_dataset.examples[31])['src'])\n",
        "print(vars(train_dataset.examples[31])['trg'])"
      ],
      "metadata": {
        "colab": {
          "base_uri": "https://localhost:8080/"
        },
        "id": "nQQAmFlCUkgB",
        "outputId": "e2efe8c6-b42a-45c9-e897-19dab6cf3fc5"
      },
      "execution_count": null,
      "outputs": [
        {
          "output_type": "stream",
          "name": "stdout",
          "text": [
            "['그와', '동시', '에', '노동', '비용은', '더욱', '상승하고', '있습니다', '.', '\"', '라고', '말했다', '.']\n",
            "['at', 'the', 'same', 'time', ',', 'labor', 'costs', 'are', 'more', 'and', 'more', '.', '”']\n"
          ]
        }
      ]
    },
    {
      "cell_type": "markdown",
      "source": [
        "- 필드(field) 객체의 **vuild_vocab** 메서드를 이용해 영어와 한국어의 단어 사전을 생성한다.\n",
        "  - 최소 2번 이상 등장한 단어만 선택"
      ],
      "metadata": {
        "id": "Sn_gZhlhUzov"
      }
    },
    {
      "cell_type": "code",
      "source": [
        "SRC.build_vocab(train_dataset, min_freq=2)\n",
        "TRG.build_vocab(train_dataset, min_freq=2)\n",
        "\n",
        "print(f\"len(SRC) : {len(SRC.vocab)}\")\n",
        "print(f\"len(TRG) : {len(TRG.vocab)}\")"
      ],
      "metadata": {
        "colab": {
          "base_uri": "https://localhost:8080/"
        },
        "id": "0ChJI2wVU3mk",
        "outputId": "1c21323f-8adf-46ba-aab5-c7c2f78e65c9"
      },
      "execution_count": null,
      "outputs": [
        {
          "output_type": "stream",
          "name": "stdout",
          "text": [
            "len(SRC) : 96941\n",
            "len(TRG) : 32910\n"
          ]
        }
      ]
    },
    {
      "cell_type": "markdown",
      "source": [
        "- `TEXT.vocab.stoi`를 통해서 현재 단어 집합의 단어와 맵핑된 고유한 정수 출력"
      ],
      "metadata": {
        "id": "0ZA3EkF5WYxl"
      }
    },
    {
      "cell_type": "code",
      "source": [
        "|print(TRG.vocab.stoi['abcabc'])\n",
        "print(TRG.vocab.stoi[TRG.pad_token])\n",
        "print(TRG.vocab.stoi[\"<sos>\"])\n",
        "print(TRG.vocab.stoi[\"<eos>\"])\n",
        "print(TRG.vocab.stoi[\"hello\"])\n",
        "print(TRG.vocab.stoi[\"world\"])"
      ],
      "metadata": {
        "colab": {
          "base_uri": "https://localhost:8080/"
        },
        "id": "ZsTwbSUlVRvi",
        "outputId": "6eec61a7-e9f3-41ab-e922-6bc3a130a4bd"
      },
      "execution_count": null,
      "outputs": [
        {
          "output_type": "stream",
          "name": "stdout",
          "text": [
            "0\n",
            "1\n",
            "2\n",
            "3\n",
            "8158\n",
            "92\n"
          ]
        }
      ]
    },
    {
      "cell_type": "markdown",
      "source": [
        "- 한 문장에 포함된 단어가 순서대로 나열된 상태로 네트워크에 입력되어야 한다.\n",
        "  - 따라서 하나의 배치에 포함된 문장들이 가지는 단어의 개수가 유사하도록 만들면 좋다.\n",
        "  - 이를 위해 `BucketIterator`를 사용한다.\n",
        "  - **배치 크기(batch size)** : 128"
      ],
      "metadata": {
        "id": "XNQ1VsPqV-Ht"
      }
    },
    {
      "cell_type": "code",
      "source": [
        "import torch\n",
        "\n",
        "device = torch.device('cuda' if torch.cuda.is_available() else 'cpu')\n",
        "\n",
        "BATCH_SIZE = 128\n",
        "\n",
        "# 일반적인 데이터 로더(data loader)의 iterator와 유사하게 사용 가능\n",
        "train_iterator, valid_iterator, test_iterator = BucketIterator.splits(\n",
        "    (train_dataset, test_dataset, test_dataset),\n",
        "    batch_size=BATCH_SIZE,\n",
        "    device=device) "
      ],
      "metadata": {
        "id": "9GDrLmkZV5jz"
      },
      "execution_count": null,
      "outputs": []
    },
    {
      "cell_type": "code",
      "source": [
        "for i, batch in enumerate(train_iterator) :\n",
        "  src = batch.src\n",
        "  trg = batch.trg\n",
        "\n",
        "  print(f\"첫 번째 배치 크기 : {src.shape}\")\n",
        "  \n",
        "  # 현재 배치에 있는 하나의 문장에 포함된 정보 출력\n",
        "  for i in range(src.shape[1]) :\n",
        "    print(f\"인덱스 {i} : {src[0][i].item()}\") # 여기에서는 [Seq_num, Seq_len]\n",
        "  \n",
        "  break"
      ],
      "metadata": {
        "colab": {
          "base_uri": "https://localhost:8080/"
        },
        "id": "PfXsY2CLbZrH",
        "outputId": "36574e3c-e2a6-4697-abf7-6d16377fcf6e"
      },
      "execution_count": null,
      "outputs": [
        {
          "output_type": "stream",
          "name": "stdout",
          "text": [
            "첫 번째 배치 크기 : torch.Size([128, 44])\n",
            "인덱스 0 : 2\n",
            "인덱스 1 : 24\n",
            "인덱스 2 : 7818\n",
            "인덱스 3 : 60\n",
            "인덱스 4 : 5\n",
            "인덱스 5 : 812\n",
            "인덱스 6 : 12056\n",
            "인덱스 7 : 1323\n",
            "인덱스 8 : 229\n",
            "인덱스 9 : 3974\n",
            "인덱스 10 : 77318\n",
            "인덱스 11 : 373\n",
            "인덱스 12 : 88\n",
            "인덱스 13 : 179\n",
            "인덱스 14 : 549\n",
            "인덱스 15 : 453\n",
            "인덱스 16 : 70\n",
            "인덱스 17 : 20612\n",
            "인덱스 18 : 4275\n",
            "인덱스 19 : 9272\n",
            "인덱스 20 : 552\n",
            "인덱스 21 : 4\n",
            "인덱스 22 : 3\n",
            "인덱스 23 : 1\n",
            "인덱스 24 : 1\n",
            "인덱스 25 : 1\n",
            "인덱스 26 : 1\n",
            "인덱스 27 : 1\n",
            "인덱스 28 : 1\n",
            "인덱스 29 : 1\n",
            "인덱스 30 : 1\n",
            "인덱스 31 : 1\n",
            "인덱스 32 : 1\n",
            "인덱스 33 : 1\n",
            "인덱스 34 : 1\n",
            "인덱스 35 : 1\n",
            "인덱스 36 : 1\n",
            "인덱스 37 : 1\n",
            "인덱스 38 : 1\n",
            "인덱스 39 : 1\n",
            "인덱스 40 : 1\n",
            "인덱스 41 : 1\n",
            "인덱스 42 : 1\n",
            "인덱스 43 : 1\n"
          ]
        }
      ]
    },
    {
      "cell_type": "markdown",
      "source": [
        "### 데이터 전처리 통합 (런타임 재시작 시 여기부터 시작)"
      ],
      "metadata": {
        "id": "aEEJcNvFYYZa"
      }
    },
    {
      "cell_type": "code",
      "source": [
        "%%capture\n",
        "!pip install torchtext==0.6.0\n",
        "!python -m spacy download en_core_web_sm\n",
        "!python -m spacy download ko_core_news_sm\n",
        "!pip install Korpora"
      ],
      "metadata": {
        "id": "qdyxG8tAYdzD"
      },
      "execution_count": null,
      "outputs": []
    },
    {
      "cell_type": "code",
      "source": [
        "import spacy\n",
        "import torch\n",
        "from torchtext.data import Field, BucketIterator, TabularDataset, Example, Dataset\n",
        "from Korpora import Korpora\n",
        "\n",
        "\n",
        "BATCH_SIZE = 128\n",
        "\n",
        "# 한국어 문장을 토큰화 하는 함수 (순서를 뒤집지 않음)\n",
        "def tokenize_ko(text) :\n",
        "  return [token.text for token in spacy_ko.tokenizer(text)]\n",
        "\n",
        "# 영어 문장을 토큰화 하는 함수\n",
        "def tokenize_en(text) :\n",
        "  return [token.text for token in spacy_en.tokenizer(text)]\n",
        "\n",
        "spacy_en = spacy.load('en_core_web_sm') # 영어 토큰화(tokenization)\n",
        "spacy_ko = spacy.load('ko_core_news_sm') # 한국어 토큰화(tokenization)\n",
        "\n",
        "SRC = Field(tokenize=tokenize_ko, init_token=\"<sos>\", eos_token=\"<eos>\", lower=True, batch_first=True)\n",
        "TRG = Field(tokenize=tokenize_en, init_token=\"<sos>\", eos_token=\"<eos>\", lower=True, batch_first=True)\n",
        "\n",
        "\n",
        "### 내가 짰던 데이터 전처리 과정이 너무 오래 걸려서 재승이 코드 참고\n",
        "datasets = Korpora.load('korean_parallel_koen_news', root_dir='/content/Korpora')\n",
        "\n",
        "train_dataset_examples = []\n",
        "\n",
        "for text, pair in zip(datasets.train.texts, datasets.train.pairs):\n",
        "  example = Example.fromlist([text, pair], [(\"src\", SRC), (\"trg\", TRG)])\n",
        "  train_dataset_examples.append(example)\n",
        "\n",
        "test_dataset_examples = []\n",
        "\n",
        "for text, pair in zip(datasets.test.texts, datasets.test.pairs):\n",
        "  example = Example.fromlist([text, pair], [(\"src\", SRC), (\"trg\", TRG)])\n",
        "  test_dataset_examples.append(example)\n",
        "\n",
        "\n",
        "train_dataset = Dataset(examples=train_dataset_examples, fields=[(\"src\", SRC), (\"trg\", TRG)])\n",
        "test_dataset  = Dataset(examples=test_dataset_examples,  fields=[(\"src\", SRC), (\"trg\", TRG)])\n",
        "\n",
        "\n",
        "SRC.build_vocab(train_dataset, min_freq=2)\n",
        "TRG.build_vocab(train_dataset, min_freq=2)\n",
        "\n",
        "device = torch.device('cuda' if torch.cuda.is_available() else 'cpu')\n",
        "\n",
        "# 일반적인 데이터 로더(data loader)의 iterator와 유사하게 사용 가능\n",
        "train_iterator, valid_iterator, test_iterator = BucketIterator.splits(\n",
        "    (train_dataset, test_dataset, test_dataset),\n",
        "    batch_size=BATCH_SIZE,\n",
        "    device=device) \n",
        "\n"
      ],
      "metadata": {
        "colab": {
          "base_uri": "https://localhost:8080/"
        },
        "id": "cxdL5jkiZflv",
        "outputId": "646607d2-519a-4298-abd0-4a5317730a09"
      },
      "execution_count": null,
      "outputs": [
        {
          "output_type": "stream",
          "name": "stdout",
          "text": [
            "\n",
            "    Korpora 는 다른 분들이 연구 목적으로 공유해주신 말뭉치들을\n",
            "    손쉽게 다운로드, 사용할 수 있는 기능만을 제공합니다.\n",
            "\n",
            "    말뭉치들을 공유해 주신 분들에게 감사드리며, 각 말뭉치 별 설명과 라이센스를 공유 드립니다.\n",
            "    해당 말뭉치에 대해 자세히 알고 싶으신 분은 아래의 description 을 참고,\n",
            "    해당 말뭉치를 연구/상용의 목적으로 이용하실 때에는 아래의 라이센스를 참고해 주시기 바랍니다.\n",
            "\n",
            "    # Description\n",
            "    Author : KakaoBrain\n",
            "    Repository : https://github.com/jungyeul/korean-parallel-corpora\n",
            "    References :\n",
            "        - Jungyeul Park, Jeen-Pyo Hong and Jeong-Won Cha (2016) Korean Language Resources for Everyone.\n",
            "          In Proceedings of the 30th Pacific Asia Conference on Language, Information and Computation\n",
            "          (PACLIC 30). October 28 - 30, 2016. Seoul, Korea. \n",
            "          (https://www.aclweb.org/anthology/Y16-2002/)\n",
            "\n",
            "    # License\n",
            "    Creative Commons Attribution Noncommercial No-Derivative-Works 3.0\n",
            "    Details in https://creativecommons.org/licenses/by-nc-nd/3.0/\n",
            "\n"
          ]
        }
      ]
    },
    {
      "cell_type": "markdown",
      "source": [
        "## Multi Head Attention 아키텍처\n",
        "![image.png](data:image/png;base64,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)\n",
        "https://wikidocs.net/162098\n",
        "- 어텐션(Attention)은 **세 가지 요소**를 입력으로 받는다.\n",
        "  - **쿼리(queries)**\n",
        "  - **키(keys)**\n",
        "  - **값(values)**\n",
        "  - 현재 구현에서는 Query, Key, Value의 차원이 모두 같다.\n",
        "- 하이퍼 파라미터(hyperparameter)\n",
        "  - **hidden_dim** : 하나의 단어에 대한 임베딩 차원\n",
        "  - **n_heads** : 헤드(head)의 개수 = scaled dot-product attention의 개수\n",
        "  - **dropout_ratio** : 드롭아웃(dropout) 비율"
      ],
      "metadata": {
        "id": "lf_10j3GfHKU"
      }
    },
    {
      "cell_type": "code",
      "source": [
        "import torch.nn as nn\n",
        "\n",
        "\n",
        "class MultiHeadAttentionLayer(nn.Module) :\n",
        "  def __init__(self, hidden_dim, n_heads, dropout_ratio, device) :\n",
        "    super().__init__()\n",
        "\n",
        "    assert hidden_dim % n_heads == 0\n",
        "\n",
        "    self.hidden_dim = hidden_dim # 임베딩 차원\n",
        "    self.n_heads = n_heads # 헤드(head)의 개수 : 서로 다른 어텐션(attention) 컨셉의 수\n",
        "    self.head_dim = hidden_dim // n_heads # 각 헤드(head)에서의 임베딩 차원\n",
        "\n",
        "    self.fc_q = nn.Linear(hidden_dim, hidden_dim) # Query 값에 적용될 FC 레이어\n",
        "    self.fc_k = nn.Linear(hidden_dim, hidden_dim) # Key 값에 적용될 FC 레이어\n",
        "    self.fc_v = nn.Linear(hidden_dim, hidden_dim) # Value 값에 적용될 FC 레이어\n",
        "\n",
        "    self.fc_o = nn.Linear(hidden_dim, hidden_dim)\n",
        "\n",
        "    self.dropout = nn.Dropout(dropout_ratio)\n",
        "\n",
        "    self.scale = torch.sqrt(torch.FloatTensor([self.head_dim])).to(device)\n",
        "  \n",
        "  def forward(self, query, key, value, mask = None) :\n",
        "    batch_size = query.shape[0]\n",
        "\n",
        "    # query : [batch_size, query_len, hidden_dim] \n",
        "    # key : [batch_size, key_len, hidden_dim]\n",
        "    # value : [batch_size, value_len, hidden_dim]\n",
        "\n",
        "    Q = self.fc_q(query)\n",
        "    K = self.fc_k(key)\n",
        "    V = self.fc_v(value)\n",
        "\n",
        "    # Q : [batch_size, query_len, hidden_dim]\n",
        "    # K : [batch_size, key_len, hidden_dim]\n",
        "    # V : [batch_size, value_len, hidden_dim]\n",
        "\n",
        "    # hidden_dim -> n_heads X head_dim 형태로 변형\n",
        "    # n_heads(h)개의 서로 다른 어텐션(attention) 컨셉을 학습하도록 유도\n",
        "    # view는 reshape 함수 느낌\n",
        "    # permute는 파라미터에 인덱스를 넣어 순서 변경\n",
        "    Q = Q.view(batch_size, -1, self.n_heads, self.head_dim).permute(0, 2, 1, 3)\n",
        "    K = K.view(batch_size, -1, self.n_heads, self.head_dim).permute(0, 2, 1, 3)\n",
        "    V = V.view(batch_size, -1, self.n_heads, self.head_dim).permute(0, 2, 1, 3)\n",
        "\n",
        "    # Q : [batch_size, n_heads, query_len, head_dim]\n",
        "    # K : [batch_size, n_heads, key_len, head_dim]\n",
        "    # V : [batch_size, n_heads, value_len, head_dim]\n",
        "\n",
        "    # Attention Energy 계산 (두 tensor의 행렬곱)\n",
        "    energy = torch.matmul(Q, K.permute(0, 1, 3, 2)) / self.scale\n",
        "\n",
        "    # energy : [batch_size, n_heads, query_len, key_len]\n",
        "\n",
        "    # 마스크(mask)를 사용하는 경우\n",
        "    # 마스크란 진짜 데이터와 더미 데이터의 위치 표시\n",
        "    if mask is not None :\n",
        "      # 마스크(mask) 값이 0인 부분을 -1e10으로 채우기\n",
        "      energy = energy.masked_fill(mask==0, -1e10)\n",
        "\n",
        "    # 어텐션(attention) 스코어 계산 : 각 단어에 대한 확률 값\n",
        "    attention = torch.softmax(energy, dim=-1)\n",
        "\n",
        "    # attention : [batch_size, n_heads, query_len, key_len]\n",
        "\n",
        "    # 여기에서 Scaled Dot-Product Attention을 계산\n",
        "    x = torch.matmul(self.dropout(attention), V)\n",
        "\n",
        "    # x : [batch_size, n_heads, query_len, head_dim]\n",
        "\n",
        "    # contiguous())는 contigous가 False인 경우(axis 순서로 자료가 저장된 상태)를 True로 변경하여 메모리 상 저장 구조 변경 \n",
        "    x = x.permute(0, 2, 1, 3).contiguous()\n",
        "\n",
        "    # x : [batch_size, query_len, n_heads, head_dim]\n",
        "\n",
        "    x = x.view(batch_size, -1, self.hidden_dim)\n",
        "\n",
        "    # x : [batch_size, query_len, hidden_dim]\n",
        "\n",
        "    x = self.fc_o(x)\n",
        "\n",
        "    # x : [batch_size, query_len, hidden_dim]\n",
        "\n",
        "    return x, attention\n",
        "\n"
      ],
      "metadata": {
        "id": "4xjFud4aknz6"
      },
      "execution_count": null,
      "outputs": []
    },
    {
      "cell_type": "code",
      "source": [
        "test_model = MultiHeadAttentionLayer(256, 8, 0.1, torch.device('cuda' if torch.cuda.is_available() else 'cpu'))"
      ],
      "metadata": {
        "id": "fL2uwCQSaagW"
      },
      "execution_count": null,
      "outputs": []
    },
    {
      "cell_type": "code",
      "source": [
        "test_model"
      ],
      "metadata": {
        "colab": {
          "base_uri": "https://localhost:8080/"
        },
        "id": "JXNGDfUbbpWS",
        "outputId": "8fb11a09-22aa-4bcf-d397-e3284f10e529"
      },
      "execution_count": null,
      "outputs": [
        {
          "output_type": "execute_result",
          "data": {
            "text/plain": [
              "MultiHeadAttentionLayer(\n",
              "  (fc_q): Linear(in_features=256, out_features=256, bias=True)\n",
              "  (fc_k): Linear(in_features=256, out_features=256, bias=True)\n",
              "  (fc_v): Linear(in_features=256, out_features=256, bias=True)\n",
              "  (fc_o): Linear(in_features=256, out_features=256, bias=True)\n",
              "  (dropout): Dropout(p=0.1, inplace=False)\n",
              ")"
            ]
          },
          "metadata": {},
          "execution_count": 51
        }
      ]
    },
    {
      "cell_type": "markdown",
      "source": [
        "## Multi-Head Attention 구조 다시 익히기!!!!"
      ],
      "metadata": {
        "id": "QNNWHggCboQH"
      }
    },
    {
      "cell_type": "code",
      "source": [],
      "metadata": {
        "id": "3g4TDcfTgHot"
      },
      "execution_count": null,
      "outputs": []
    }
  ]
}