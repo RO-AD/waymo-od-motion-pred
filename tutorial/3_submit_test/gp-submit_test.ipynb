{
  "nbformat": 4,
  "nbformat_minor": 0,
  "metadata": {
    "colab": {
      "provenance": [],
      "authorship_tag": "ABX9TyOrinVx0WyBp2B+um3P33TQ",
      "include_colab_link": true
    },
    "kernelspec": {
      "name": "python3",
      "display_name": "Python 3"
    },
    "language_info": {
      "name": "python"
    }
  },
  "cells": [
    {
      "cell_type": "markdown",
      "metadata": {
        "id": "view-in-github",
        "colab_type": "text"
      },
      "source": [
        "<a href=\"https://colab.research.google.com/github/RO-AD/waymo-od-motion-pred/blob/main/tutorial/3_submit_test/gp-submit_test.ipynb\" target=\"_parent\"><img src=\"https://colab.research.google.com/assets/colab-badge.svg\" alt=\"Open In Colab\"/></a>"
      ]
    },
    {
      "cell_type": "markdown",
      "source": [
        "# Submit Test\n",
        "\n",
        "제출 형태도 정해져있으므로 Validation Set을 이용해서 제출해보기"
      ],
      "metadata": {
        "id": "VMs0snH2HCDG"
      }
    },
    {
      "cell_type": "code",
      "execution_count": null,
      "metadata": {
        "id": "BYv7t0nYGp23"
      },
      "outputs": [],
      "source": [
        "# tutorial/3_submit_test/gp-submit_test.ipynb"
      ]
    }
  ]
}