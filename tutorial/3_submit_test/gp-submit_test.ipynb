{
  "nbformat": 4,
  "nbformat_minor": 0,
  "metadata": {
    "colab": {
      "provenance": [],
      "collapsed_sections": [
        "ft-wdon0J9He",
        "lJR1y36zZq0J",
        "svyklvHAQ_Ax",
        "3eKjmK3A37Fy"
      ],
      "authorship_tag": "ABX9TyMc/2OvBp78uAtoCAjeHmEz",
      "include_colab_link": true
    },
    "kernelspec": {
      "name": "python3",
      "display_name": "Python 3"
    },
    "language_info": {
      "name": "python"
    },
    "accelerator": "GPU",
    "gpuClass": "standard"
  },
  "cells": [
    {
      "cell_type": "markdown",
      "metadata": {
        "id": "view-in-github",
        "colab_type": "text"
      },
      "source": [
        "<a href=\"https://colab.research.google.com/github/RO-AD/waymo-od-motion-pred/blob/main/tutorial/3_submit_test/gp-submit_test.ipynb\" target=\"_parent\"><img src=\"https://colab.research.google.com/assets/colab-badge.svg\" alt=\"Open In Colab\"/></a>"
      ]
    },
    {
      "cell_type": "markdown",
      "source": [
        "# Submit Test\n",
        "\n",
        "제출 형태도 정해져있으므로 Validation Set을 이용해서 제출해보기.\n",
        "- Waymo에서 제공하는 Motion Prediction 튜토리얼에는 모델 학습까지만 있고 제출용 결과물을 생성하는 코드가 없음.\n",
        "- 다른 challenge 튜토리얼 중 해당 부분이 존재하는 것을 확인.\n",
        "  - [Waymo Open Dataset 3D Semantic Segmentation Tutorial](https://github.com/waymo-research/waymo-open-dataset/blob/master/tutorial/tutorial_3d_semseg.ipynb)\n",
        "- proto만 변경해서 포맷에 맞게 세팅하면 될 것 같음. 해당 코드를 보고 Motion Prediction 제출용 결과물을 만들어보고자 함.\n",
        "  - [motion_submission.proto](https://github.com/waymo-research/waymo-open-dataset/blob/master/src/waymo_open_dataset/protos/motion_submission.proto)"
      ],
      "metadata": {
        "id": "VMs0snH2HCDG"
      }
    },
    {
      "cell_type": "markdown",
      "source": [
        "## GCS(Google Cloud Stoarge)에서 Google Drive로 데이터셋 다운받기"
      ],
      "metadata": {
        "id": "ft-wdon0J9He"
      }
    },
    {
      "cell_type": "markdown",
      "source": [
        "google drive를 먼저 colab에 연동한 뒤, 해당 디렉토리에 GCS로부터 데이터셋 다운받기"
      ],
      "metadata": {
        "id": "TvKFf7rnKWAj"
      }
    },
    {
      "cell_type": "code",
      "source": [
        "# GCS에 접근하기 위해 인증\n",
        "\n",
        "from google.colab import auth\n",
        "auth.authenticate_user()"
      ],
      "metadata": {
        "id": "SbBI_c7AKC8C"
      },
      "execution_count": null,
      "outputs": []
    },
    {
      "cell_type": "code",
      "source": [
        "# GCS 데이터 용량 확인. 전체를 다운받기에는 구글 클라우드로 감당이 안될듯.\n",
        "!gsutil ls -l \"gs://waymo_open_dataset_motion_v_1_2_0/uncompressed/\" | xargs -I{} gsutil du -sh  {}"
      ],
      "metadata": {
        "colab": {
          "base_uri": "https://localhost:8080/"
        },
        "id": "1hSePOVEBNyt",
        "outputId": "f035dd8e-4bec-4a32-9608-0feda481b742"
      },
      "execution_count": null,
      "outputs": [
        {
          "output_type": "stream",
          "name": "stdout",
          "text": [
            "0 B          gs://waymo_open_dataset_motion_v_1_2_0/uncompressed/lidar\n",
            "645.92 GiB   gs://waymo_open_dataset_motion_v_1_2_0/uncompressed/scenario\n",
            "1.08 TiB     gs://waymo_open_dataset_motion_v_1_2_0/uncompressed/tf_example\n"
          ]
        }
      ]
    },
    {
      "cell_type": "code",
      "source": [
        "# 라이다 데이터 validation set만 확인\n",
        "!gsutil du -ch -s \"gs://waymo_open_dataset_motion_v_1_2_0/uncompressed/lidar/validation\""
      ],
      "metadata": {
        "id": "pg4Ow6AVRHDJ",
        "colab": {
          "base_uri": "https://localhost:8080/"
        },
        "outputId": "28cfc866-15f9-41ad-9eed-929cef2e719f"
      },
      "execution_count": null,
      "outputs": [
        {
          "output_type": "stream",
          "name": "stdout",
          "text": [
            "200.35 GiB   gs://waymo_open_dataset_motion_v_1_2_0/uncompressed/lidar/validation\n",
            "200.35 GiB   total\n"
          ]
        }
      ]
    },
    {
      "cell_type": "code",
      "source": [
        "# 시나리오 데이터 validation set만 확인\n",
        "!gsutil du -ch -s \"gs://waymo_open_dataset_motion_v_1_2_0/uncompressed/scenario/validation\""
      ],
      "metadata": {
        "id": "4jbBZ0DhSE4K",
        "colab": {
          "base_uri": "https://localhost:8080/"
        },
        "outputId": "70f6e87b-ff89-459a-9158-cbec88aa6fbf"
      },
      "execution_count": null,
      "outputs": [
        {
          "output_type": "stream",
          "name": "stdout",
          "text": [
            "38.4 GiB     gs://waymo_open_dataset_motion_v_1_2_0/uncompressed/scenario/validation\n",
            "38.4 GiB     total\n"
          ]
        }
      ]
    },
    {
      "cell_type": "markdown",
      "source": [
        "데이터셋을 저장할 Google Drive를 마운트"
      ],
      "metadata": {
        "id": "oQzICo10SfAo"
      }
    },
    {
      "cell_type": "code",
      "source": [
        "from google.colab import drive\n",
        "drive.mount('/content/drive')"
      ],
      "metadata": {
        "colab": {
          "base_uri": "https://localhost:8080/"
        },
        "id": "AxcCoGfSKQp0",
        "outputId": "6a5388f6-5902-4ce8-af37-3ebdb914a900"
      },
      "execution_count": null,
      "outputs": [
        {
          "output_type": "stream",
          "name": "stdout",
          "text": [
            "Drive already mounted at /content/drive; to attempt to forcibly remount, call drive.mount(\"/content/drive\", force_remount=True).\n"
          ]
        }
      ]
    },
    {
      "cell_type": "code",
      "source": [
        "# 구글 드라이브 위치. 마운트 잘 됐는지 확인.\n",
        "GDRIVE_WOD_PATH = \"/content/drive/MyDrive/waymo-od-dataset/motion_v_1_2_0/uncompressed\"\n",
        "\n",
        "!ls -al {GDRIVE_WOD_PATH}"
      ],
      "metadata": {
        "colab": {
          "base_uri": "https://localhost:8080/"
        },
        "id": "TyVmJ0LXAJis",
        "outputId": "5765ddcb-0fb8-4701-ca27-f30529fd3068"
      },
      "execution_count": null,
      "outputs": [
        {
          "output_type": "stream",
          "name": "stdout",
          "text": [
            "total 12\n",
            "drwx------ 2 root root 4096 Apr 14 03:28 .ipynb_checkpoints\n",
            "drwx------ 3 root root 4096 Apr 14 00:03 lidar\n",
            "drwx------ 2 root root 4096 Mar 29 06:17 tf_example\n"
          ]
        }
      ]
    },
    {
      "cell_type": "markdown",
      "source": [
        "GCS로부터 데이터셋을 다운로드. 라이다 데이터도 다운받으려고 했는데 몇시간 기다리다가 지쳐서 일단 보류. 당장 필요한 시나리오 데이터만 우선 받아본다"
      ],
      "metadata": {
        "id": "nJ8uDp9AwmUL"
      }
    },
    {
      "cell_type": "code",
      "source": [
        "# 시나리오 데이터 다운로드\n",
        "\n",
        "%%time\n",
        "%%capture\n",
        "\n",
        "!mkdir {GDRIVE_WOD_PATH}/scenario\n",
        "\n",
        "!gsutil -m cp -r \\\n",
        "  \"gs://waymo_open_dataset_motion_v_1_2_0/uncompressed/scenario/validation\" \\\n",
        "  {GDRIVE_WOD_PATH}/scenario/"
      ],
      "metadata": {
        "id": "8w1xDG5TKD4G",
        "colab": {
          "base_uri": "https://localhost:8080/"
        },
        "outputId": "8a159e25-0427-4210-897e-5f6bd70849e1"
      },
      "execution_count": null,
      "outputs": [
        {
          "output_type": "stream",
          "name": "stdout",
          "text": [
            "CPU times: user 6.6 s, sys: 1.27 s, total: 7.86 s\n",
            "Wall time: 12min 1s\n"
          ]
        }
      ]
    },
    {
      "cell_type": "code",
      "source": [
        "from google.colab import drive\n",
        "drive.flush_and_unmount()"
      ],
      "metadata": {
        "id": "H9VDTzjhRtiV"
      },
      "execution_count": null,
      "outputs": []
    },
    {
      "cell_type": "markdown",
      "source": [
        "## 환경세팅"
      ],
      "metadata": {
        "id": "lJR1y36zZq0J"
      }
    },
    {
      "cell_type": "code",
      "source": [
        "%%capture\n",
        "\n",
        "!pip3 install --upgrade pip\n",
        "!pip install waymo-open-dataset-tf-2-11-0==1.5.1 # 최신 버전으로 한 번 해볼까나?"
      ],
      "metadata": {
        "id": "LMoDZwAeZvAI"
      },
      "execution_count": 2,
      "outputs": []
    },
    {
      "cell_type": "code",
      "source": [
        "from google.colab import drive\n",
        "drive.mount('/content/drive')\n",
        "\n",
        "# 마운트 확인\n",
        "GDRIVE_WOD_PATH = \"/content/drive/MyDrive/waymo-od-dataset/motion_v_1_2_0/uncompressed\"\n",
        "VALIDSET_PATH   = GDRIVE_WOD_PATH + \"/scenario/validation\"\n",
        "\n",
        "!ls -al {VALIDSET_PATH} | wc -l"
      ],
      "metadata": {
        "colab": {
          "base_uri": "https://localhost:8080/"
        },
        "id": "iQgkw3wb3jHq",
        "outputId": "0a1c3e13-ecac-4a00-a43b-be8e240a51b1"
      },
      "execution_count": 3,
      "outputs": [
        {
          "output_type": "stream",
          "name": "stdout",
          "text": [
            "Mounted at /content/drive\n",
            "151\n"
          ]
        }
      ]
    },
    {
      "cell_type": "markdown",
      "source": [
        "## 데이터셋 로드"
      ],
      "metadata": {
        "id": "svyklvHAQ_Ax"
      }
    },
    {
      "cell_type": "code",
      "source": [
        "import glob\n",
        "\n",
        "# 로컬 디렉토리에 저장된 TFRecord 파일들의 경로 리스트 생성\n",
        "file_paths = glob.glob(VALIDSET_PATH + \"/*.tfrecord*\")\n",
        "len(file_paths)"
      ],
      "metadata": {
        "colab": {
          "base_uri": "https://localhost:8080/"
        },
        "id": "m5CeKfboV1sc",
        "outputId": "21c95845-3310-46f6-c75a-74650f0b6d55"
      },
      "execution_count": 4,
      "outputs": [
        {
          "output_type": "execute_result",
          "data": {
            "text/plain": [
              "150"
            ]
          },
          "metadata": {},
          "execution_count": 4
        }
      ]
    },
    {
      "cell_type": "code",
      "source": [
        "import tensorflow as tf\n",
        "\n",
        "# TFRecordDataset 클래스를 사용하여 데이터를 읽어들임\n",
        "dataset = tf.data.TFRecordDataset(file_paths, compression_type='')"
      ],
      "metadata": {
        "id": "GjiMm7G4Y1KX"
      },
      "execution_count": 5,
      "outputs": []
    },
    {
      "cell_type": "code",
      "source": [
        "# 데이터셋 한 개만 읽어보기\n",
        "from waymo_open_dataset.protos import scenario_pb2\n",
        "\n",
        "for data in dataset:\n",
        "  scenario = scenario_pb2.Scenario()\n",
        "  scenario.ParseFromString(bytearray(data.numpy()))\n",
        "  break\n",
        "\n",
        "scenario.scenario_id"
      ],
      "metadata": {
        "colab": {
          "base_uri": "https://localhost:8080/",
          "height": 0
        },
        "id": "jDsHjcZvZk9_",
        "outputId": "447cb3aa-4c0a-4d33-b839-be3d8d1b6e11"
      },
      "execution_count": 6,
      "outputs": [
        {
          "output_type": "execute_result",
          "data": {
            "text/plain": [
              "'a3cfb7f093ccd29'"
            ],
            "application/vnd.google.colaboratory.intrinsic+json": {
              "type": "string"
            }
          },
          "metadata": {},
          "execution_count": 6
        }
      ]
    },
    {
      "cell_type": "markdown",
      "source": [
        "## motion_submission import 및 metadata 채워보기"
      ],
      "metadata": {
        "id": "3eKjmK3A37Fy"
      }
    },
    {
      "cell_type": "markdown",
      "source": [
        "\n",
        "- [motion_submission.proto](https://github.com/waymo-research/waymo-open-dataset/blob/master/src/waymo_open_dataset/protos/motion_submission.proto) 참고\n",
        "\n",
        "```json\n",
        "// A set of ScenarioPredictions protos. A ScenarioPredictions proto for each\n",
        "// example in the test or validation set must be included for a valid\n",
        "// submission.\n",
        "message MotionChallengeSubmission {\n",
        "  enum SubmissionType {\n",
        "    UNKNOWN = 0;\n",
        "\n",
        "    // A submission for the Waymo open dataset motion prediction challenge.\n",
        "    MOTION_PREDICTION = 1;\n",
        "\n",
        "    // A submission for the Waymo open dataset interaction prediction challenge.\n",
        "    INTERACTION_PREDICTION = 2;\n",
        "  }\n",
        "\n",
        "  // This must be set as the full email used to register at waymo.com/open.\n",
        "  optional string account_name = 3;\n",
        "\n",
        "  // This name needs to be short, descriptive and unique. Only the latest result\n",
        "  // of the method from a user will show up on the leaderboard.\n",
        "  optional string unique_method_name = 4;\n",
        "\n",
        "  // Author information.\n",
        "  repeated string authors = 5;\n",
        "  optional string affiliation = 6;\n",
        "\n",
        "  // A brief description of the method.\n",
        "  optional string description = 7;\n",
        "\n",
        "  // Link to paper or other link that describes the method.\n",
        "  optional string method_link = 8;\n",
        "\n",
        "  // The challenge submission type.\n",
        "  optional SubmissionType submission_type = 2;\n",
        "\n",
        "  // Set this to true if your model uses the lidar data provided in the motion\n",
        "  // dataset.\n",
        "  optional bool uses_lidar_data = 9;\n",
        "\n",
        "  // The set of scenario predictions to evaluate. One entry should exist for\n",
        "  // every record in the test set.\n",
        "  repeated ChallengeScenarioPredictions scenario_predictions = 1;\n",
        "}\n",
        "```"
      ],
      "metadata": {
        "id": "M_REo7CKv76V"
      }
    },
    {
      "cell_type": "code",
      "source": [
        "from waymo_open_dataset.protos import motion_submission_pb2\n",
        "\n",
        "submission = motion_submission_pb2.MotionChallengeSubmission()\n",
        "\n",
        "submission.account_name = 'dlwotmd1998@gmail.com'\n",
        "submission.unique_method_name = 'JSNet'\n",
        "submission.authors.append('Jaeseung Lee')\n",
        "submission.authors.append('Hyojin Lee')\n",
        "submission.affiliation = 'RO:AD'\n",
        "submission.description = \"Validation Set Test\"\n",
        "submission.method_link = 'NA'\n",
        "submission.submission_type = submission.MOTION_PREDICTION\n",
        "submission.uses_lidar_data = False\n",
        "submission.scenario_predictions # 이 부분이 실제 예측 값을 넣는 부분\n",
        "\n",
        "submission"
      ],
      "metadata": {
        "colab": {
          "base_uri": "https://localhost:8080/"
        },
        "id": "WG79fYf7xJVz",
        "outputId": "bc368de5-8ca0-4fc7-9f6e-cead8d5464e3"
      },
      "execution_count": 7,
      "outputs": [
        {
          "output_type": "execute_result",
          "data": {
            "text/plain": [
              "submission_type: MOTION_PREDICTION\n",
              "account_name: \"dlwotmd1998@gmail.com\"\n",
              "unique_method_name: \"JSNet\"\n",
              "authors: \"Jaeseung Lee\"\n",
              "authors: \"Hyojin Lee\"\n",
              "affiliation: \"RO:AD\"\n",
              "description: \"Validation Set Test\"\n",
              "method_link: \"NA\"\n",
              "uses_lidar_data: false"
            ]
          },
          "metadata": {},
          "execution_count": 7
        }
      ]
    },
    {
      "cell_type": "markdown",
      "source": [
        "## prediction 결과를 담는 구조 파악해보기"
      ],
      "metadata": {
        "id": "LH5QSWbh3sB_"
      }
    },
    {
      "cell_type": "markdown",
      "source": [
        "- 이제 **ChallengeScenarioPredictions[ ]** 자료형의 **scenario_predictions**를 채워주면 된다.\n",
        "\n",
        "```json\n",
        "// A set of predictions for a single scenario.\n",
        "message ChallengeScenarioPredictions {\n",
        "  // The unique ID of the scenario being predicted. This ID must match the\n",
        "  // scenario_id field in the test or validation set tf.Example or scenario\n",
        "  // proto corresponding to this set of predictions.\n",
        "  optional string scenario_id = 1;\n",
        "\n",
        "  // The predictions for the scenario. For the motion prediction challenge,\n",
        "  // populate the predictions field. For the interaction prediction challenge,\n",
        "  // populate the joint_predictions_field.\n",
        "  oneof prediction_set {\n",
        "    // Single object predictions. This must be populated for the motion\n",
        "    // prediction challenge.\n",
        "    // 우리는 요거!!\n",
        "    PredictionSet single_predictions = 2;\n",
        "\n",
        "    // Joint predictions for the interacting objects. This must be populated for\n",
        "    // the interaction prediction challenge.\n",
        "    JointPrediction joint_prediction = 3;\n",
        "  }\n",
        "}\n",
        "```\n",
        "\n",
        "- **prediction_set**은 motion prediction challenge 이기 때문에 single_predictions를 선택한다\n",
        "- single_predictions은 **PredictionSet** 자료형을 가진다"
      ],
      "metadata": {
        "id": "DzyG1xfG4Dga"
      }
    },
    {
      "cell_type": "markdown",
      "source": [
        "```json\n",
        "message PredictionSet {\n",
        "  // A list of predictions for the required objects in the scene. These must\n",
        "  // exactly match the objects in the tracks_to_predict field of the test\n",
        "  // scenario or tf.Example.\n",
        "  repeated SingleObjectPrediction predictions = 1;\n",
        "}\n",
        "```\n",
        "\n",
        "```json\n",
        "message SingleObjectPrediction {\n",
        "  // The ID of the object being predicted. This must match the object_id field\n",
        "  // in the test or validation set tf.Example or scenario proto corresponding to\n",
        "  // this prediction. Note this must be the same as the object_id in the\n",
        "  // scenario track or the state/id field in the tf.Example, not the track\n",
        "  // index.\n",
        "  optional int32 object_id = 1;\n",
        "\n",
        "  // A set of up to 6 trajectory predictions for this object with varying\n",
        "  // confidences. Any predictions past the first six will be discarded.\n",
        "  repeated ScoredTrajectory trajectories = 2;\n",
        "}\n",
        "```\n",
        "\n",
        "```json\n",
        "message ScoredTrajectory {\n",
        "  // The object predicted trajectory.\n",
        "  optional Trajectory trajectory = 1;\n",
        "\n",
        "  // An optional confidence measure for this joint prediction. These confidence\n",
        "  // scores should reflect confidence in the existence of the trajectory across\n",
        "  // scenes, not normalized within a scene or per-agent.\n",
        "  optional float confidence = 2;\n",
        "}\n",
        "```\n",
        "\n",
        "```json\n",
        "message Trajectory {\n",
        "  // The predicted trajectory positions.\n",
        "  // For the Waymo prediction challenges, these fields must be exactly\n",
        "  // length 16 - 8 seconds with 2 steps per second starting at timestamp 1.5\n",
        "  // (step 15) in the scenario.\n",
        "  // IMPORTANT: For the challenges, the first entry in each of these fields must\n",
        "  // correspond to time step 15 in the scenario NOT step 10 or 11 (i.e. the\n",
        "  // entries in these fields must correspond to steps 15, 20, 25, ... 85, 90 in\n",
        "  // the scenario).\n",
        "  repeated float center_x = 2 [packed = true];\n",
        "  repeated float center_y = 3 [packed = true];\n",
        "}\n",
        "```\n",
        "\n",
        "- 드디어 실제 좌표값을 담는 부분까지 찾았다. 이제 내용을 담아 submission 결과물을 만들어본다"
      ],
      "metadata": {
        "id": "wfC7-vS21-mK"
      }
    },
    {
      "cell_type": "markdown",
      "source": [
        "## Validation 내 내용을 그대로 제출해보기"
      ],
      "metadata": {
        "id": "BVYHZ7k94rWv"
      }
    },
    {
      "cell_type": "code",
      "source": [
        "import glob\n",
        "import tensorflow as tf\n",
        "\n",
        "GDRIVE_WOD_PATH = \"/content/drive/MyDrive/waymo-od-dataset/motion_v_1_2_0/uncompressed\"\n",
        "VALIDSET_PATH   = GDRIVE_WOD_PATH + \"/scenario/validation\"\n",
        "\n",
        "file_paths = glob.glob(VALIDSET_PATH + \"/*.tfrecord*\")\n",
        "print(len(file_paths))\n",
        "\n",
        "dataset = tf.data.TFRecordDataset(file_paths, compression_type='')"
      ],
      "metadata": {
        "colab": {
          "base_uri": "https://localhost:8080/"
        },
        "id": "AXBz_4V_51n7",
        "outputId": "d9f99f9d-9c00-4067-b0f9-8fba70818bb4"
      },
      "execution_count": 1,
      "outputs": [
        {
          "output_type": "stream",
          "name": "stdout",
          "text": [
            "150\n"
          ]
        }
      ]
    },
    {
      "cell_type": "code",
      "source": [
        "from waymo_open_dataset.protos import motion_submission_pb2\n",
        "\n",
        "submission = motion_submission_pb2.MotionChallengeSubmission()\n",
        "\n",
        "submission.account_name = 'dlwotmd1998@gmail.com'\n",
        "submission.unique_method_name = 'JSNet'\n",
        "submission.authors.append('Jaeseung Lee')\n",
        "submission.authors.append('Hyojin Lee')\n",
        "submission.affiliation = 'RO:AD'\n",
        "submission.description = \"Validation Set Test (Case2)\"\n",
        "submission.method_link = 'NA'\n",
        "submission.submission_type = submission.MOTION_PREDICTION\n",
        "submission.uses_lidar_data = False"
      ],
      "metadata": {
        "id": "Y6dG7W2OEnyY"
      },
      "execution_count": 2,
      "outputs": []
    },
    {
      "cell_type": "code",
      "source": [
        "from waymo_open_dataset.protos import scenario_pb2\n",
        "\n",
        "for data in dataset:\n",
        "  scenario = scenario_pb2.Scenario()\n",
        "  scenario.ParseFromString(bytearray(data.numpy()))\n",
        "\n",
        "  if len(scenario.tracks_to_predict) == 0:\n",
        "    continue\n",
        "\n",
        "  scenario_preds = motion_submission_pb2.ChallengeScenarioPredictions()\n",
        "  scenario_preds.scenario_id = scenario.scenario_id\n",
        "\n",
        "  for ttp in scenario.tracks_to_predict:\n",
        "    track = scenario.tracks[ttp.track_index]\n",
        "    prediction = motion_submission_pb2.SingleObjectPrediction()\n",
        "    prediction.object_id = track.id\n",
        "    future_states = track.states[scenario.current_time_index + 1:]\n",
        "    for state in future_states:\n",
        "      trajectories = motion_submission_pb2.ScoredTrajectory()\n",
        "      trajectories.trajectory.center_x.append(state.center_x)\n",
        "      trajectories.trajectory.center_y.append(state.center_y)\n",
        "      prediction.trajectories.append(trajectories)\n",
        "\n",
        "    scenario_preds.single_predictions.predictions.append(prediction)\n",
        "  \n",
        "  submission.scenario_predictions.append(scenario_preds) # submission에 추가하기"
      ],
      "metadata": {
        "id": "6ecKzs_lEtko"
      },
      "execution_count": 3,
      "outputs": []
    },
    {
      "cell_type": "markdown",
      "source": [
        "- 약 20분정도 걸림 (동적으로 데이터셋 로드하고 해제하다보니 반복이 느림)"
      ],
      "metadata": {
        "id": "HxS-utWWkVyg"
      }
    },
    {
      "cell_type": "code",
      "source": [
        "import tarfile\n",
        "from time import time\n",
        "import io\n",
        "from google.colab import files\n",
        "\n",
        "timestamp = str(time()).split('.')[0]\n",
        "fname = f'result-case2-{timestamp}.tar.gz'\n",
        "\n",
        "# submission 파일의 형태는 bin이지만, tarball(tar.gz)로 압축해서 제출해야 함.\n",
        "with tarfile.open(fname, \"w:gz\") as tar:\n",
        "    f = io.BytesIO(submission.SerializeToString())\n",
        "    info = tarfile.TarInfo(name=fname)\n",
        "    info.size = len(f.getvalue())\n",
        "    tar.addfile(tarinfo=info, fileobj=f)\n",
        "\n",
        "files.download(fname)"
      ],
      "metadata": {
        "colab": {
          "base_uri": "https://localhost:8080/",
          "height": 17
        },
        "id": "PgpQnJ7jFaUg",
        "outputId": "70d580f7-5ca7-4e27-9216-3ab146d3d292"
      },
      "execution_count": 4,
      "outputs": [
        {
          "output_type": "display_data",
          "data": {
            "text/plain": [
              "<IPython.core.display.Javascript object>"
            ],
            "application/javascript": [
              "\n",
              "    async function download(id, filename, size) {\n",
              "      if (!google.colab.kernel.accessAllowed) {\n",
              "        return;\n",
              "      }\n",
              "      const div = document.createElement('div');\n",
              "      const label = document.createElement('label');\n",
              "      label.textContent = `Downloading \"${filename}\": `;\n",
              "      div.appendChild(label);\n",
              "      const progress = document.createElement('progress');\n",
              "      progress.max = size;\n",
              "      div.appendChild(progress);\n",
              "      document.body.appendChild(div);\n",
              "\n",
              "      const buffers = [];\n",
              "      let downloaded = 0;\n",
              "\n",
              "      const channel = await google.colab.kernel.comms.open(id);\n",
              "      // Send a message to notify the kernel that we're ready.\n",
              "      channel.send({})\n",
              "\n",
              "      for await (const message of channel.messages) {\n",
              "        // Send a message to notify the kernel that we're ready.\n",
              "        channel.send({})\n",
              "        if (message.buffers) {\n",
              "          for (const buffer of message.buffers) {\n",
              "            buffers.push(buffer);\n",
              "            downloaded += buffer.byteLength;\n",
              "            progress.value = downloaded;\n",
              "          }\n",
              "        }\n",
              "      }\n",
              "      const blob = new Blob(buffers, {type: 'application/binary'});\n",
              "      const a = document.createElement('a');\n",
              "      a.href = window.URL.createObjectURL(blob);\n",
              "      a.download = filename;\n",
              "      div.appendChild(a);\n",
              "      a.click();\n",
              "      div.remove();\n",
              "    }\n",
              "  "
            ]
          },
          "metadata": {}
        },
        {
          "output_type": "display_data",
          "data": {
            "text/plain": [
              "<IPython.core.display.Javascript object>"
            ],
            "application/javascript": [
              "download(\"download_ec8e45e0-beb3-4737-be69-ca9ce6aca303\", \"result-case2-1681556283.tar.gz\", 86387665)"
            ]
          },
          "metadata": {}
        }
      ]
    },
    {
      "cell_type": "markdown",
      "source": [
        "## 기타"
      ],
      "metadata": {
        "id": "8I6NuYqmEktm"
      }
    },
    {
      "cell_type": "markdown",
      "source": [
        "**Waymo 제출 시 메세지 정리**\n",
        "- This submission could not be found. If it was recently uploaded, it may still be processing. Check back in a few minutes.\n",
        "  - 업로드 한 직후 뜨는 메세지. 상황에 따라 다르지만 최소 15분정도 소요된다. 15분동안 다른 일 보다가 돌아오자.\n",
        "- INVALID_ARGUMENT\n",
        "  - INVALID_ARGUMENT: Not enough scenario predictions in submission : {숫자}\n",
        "    - 시나리오 몇개 빼먹었을 때. 처음에 너무 오래걸려서 for문에 break 넣었다가 맞이한 오류\n",
        "  - INVALID_ARGUMENT: Duplicate prediction scenario ID found : {시나리오 ID}\n",
        "    - 중복된 시나리오가 존재할 때. 중복이 발생한 원인 찾는게 머리아픔,,\n",
        "- CANCELLED\n",
        "  - CANCELLED: Invalid predicted trajectory length. Expected : 16 found : 0 trajectory : object_id: 1315\n",
        "    - 예측해야 할 trajectory 보다 더 많은 데이터가 들어갔을 때 뜨는 에러. future state만 넣어야 하는데 전체를 넣어서 오류 발생.\n",
        "  - CANCELLED: Invalid predicted trajectory length. Expected : 16 found : 1 trajectory : object_id: 3039 center_x: -2903.2134 center_y: -8315.674\n",
        "    - 뭐꼬,,, "
      ],
      "metadata": {
        "id": "lY7DLELWP4fw"
      }
    },
    {
      "cell_type": "code",
      "execution_count": null,
      "metadata": {
        "id": "BYv7t0nYGp23"
      },
      "outputs": [],
      "source": [
        "# tutorial/3_submit_test/gp-submit_test.ipynb"
      ]
    }
  ]
}