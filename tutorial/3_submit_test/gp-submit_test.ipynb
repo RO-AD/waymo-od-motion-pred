{
  "nbformat": 4,
  "nbformat_minor": 0,
  "metadata": {
    "colab": {
      "provenance": [],
      "collapsed_sections": [
        "lJR1y36zZq0J"
      ],
      "authorship_tag": "ABX9TyNTnAahGIwGWMo8aYDyvMCS",
      "include_colab_link": true
    },
    "kernelspec": {
      "name": "python3",
      "display_name": "Python 3"
    },
    "language_info": {
      "name": "python"
    }
  },
  "cells": [
    {
      "cell_type": "markdown",
      "metadata": {
        "id": "view-in-github",
        "colab_type": "text"
      },
      "source": [
        "<a href=\"https://colab.research.google.com/github/RO-AD/waymo-od-motion-pred/blob/main/tutorial/3_submit_test/gp-submit_test.ipynb\" target=\"_parent\"><img src=\"https://colab.research.google.com/assets/colab-badge.svg\" alt=\"Open In Colab\"/></a>"
      ]
    },
    {
      "cell_type": "markdown",
      "source": [
        "# Submit Test\n",
        "\n",
        "제출 형태도 정해져있으므로 Validation Set을 이용해서 제출해보기"
      ],
      "metadata": {
        "id": "VMs0snH2HCDG"
      }
    },
    {
      "cell_type": "markdown",
      "source": [
        "## GCS(Google Cloud Stoarge)에서 Google Drive로 데이터셋 다운받기"
      ],
      "metadata": {
        "id": "ft-wdon0J9He"
      }
    },
    {
      "cell_type": "markdown",
      "source": [
        "google drive를 먼저 colab에 연동한 뒤, 해당 디렉토리에 GCS로부터 데이터셋 다운받기"
      ],
      "metadata": {
        "id": "TvKFf7rnKWAj"
      }
    },
    {
      "cell_type": "code",
      "source": [
        "from google.colab import auth\n",
        "auth.authenticate_user()"
      ],
      "metadata": {
        "id": "SbBI_c7AKC8C"
      },
      "execution_count": null,
      "outputs": []
    },
    {
      "cell_type": "code",
      "source": [
        "from google.colab import drive\n",
        "drive.mount('/content/drive')"
      ],
      "metadata": {
        "colab": {
          "base_uri": "https://localhost:8080/"
        },
        "id": "AxcCoGfSKQp0",
        "outputId": "f4609576-25e8-4b57-ae54-13dc8b7eb035"
      },
      "execution_count": null,
      "outputs": [
        {
          "output_type": "stream",
          "name": "stdout",
          "text": [
            "Mounted at /content/drive\n"
          ]
        }
      ]
    },
    {
      "cell_type": "code",
      "source": [
        "%%capture\n",
        "\n",
        "# Validation Set만 70Gb 좀 넘어서 30분 정도 걸림. 감안 하고 실행해야 함.\n",
        "\n",
        "#!gsutil -m cp -r \\\n",
        "#  \"gs://waymo_open_dataset_motion_v_1_2_0/uncompressed/tf_example/validation/\" \\\n",
        "#  /content/drive/MyDrive/waymo-od-dataset/waymo_open_dataset_motion_v_1_2_0/uncompressed/tf_example/validation/"
      ],
      "metadata": {
        "id": "8w1xDG5TKD4G"
      },
      "execution_count": 4,
      "outputs": []
    },
    {
      "cell_type": "code",
      "source": [
        "drive.flush_and_unmount()"
      ],
      "metadata": {
        "id": "H9VDTzjhRtiV"
      },
      "execution_count": 2,
      "outputs": []
    },
    {
      "cell_type": "markdown",
      "source": [
        "## 환경세팅"
      ],
      "metadata": {
        "id": "lJR1y36zZq0J"
      }
    },
    {
      "cell_type": "code",
      "source": [
        "#%%capture\n",
        "!pip3 install --upgrade pip\n",
        "!pip install waymo-open-dataset-tf-2-11-0==1.5.1 # 최신 버전으로 한 번 해볼까나?"
      ],
      "metadata": {
        "colab": {
          "base_uri": "https://localhost:8080/"
        },
        "id": "LMoDZwAeZvAI",
        "outputId": "9b8a4f12-b949-4b04-a3f3-593fb567f0ed"
      },
      "execution_count": 1,
      "outputs": [
        {
          "output_type": "stream",
          "name": "stdout",
          "text": [
            "\u001b[33mWARNING: Ignoring invalid distribution -eras (/usr/local/lib/python3.9/dist-packages)\u001b[0m\u001b[33m\n",
            "\u001b[0m\u001b[33mWARNING: Ignoring invalid distribution -eras (/usr/local/lib/python3.9/dist-packages)\u001b[0m\u001b[33m\n",
            "\u001b[0mLooking in indexes: https://pypi.org/simple, https://us-python.pkg.dev/colab-wheels/public/simple/\n",
            "Requirement already satisfied: pip in /usr/local/lib/python3.9/dist-packages (23.0.1)\n",
            "\u001b[33mWARNING: Ignoring invalid distribution -eras (/usr/local/lib/python3.9/dist-packages)\u001b[0m\u001b[33m\n",
            "\u001b[0m\u001b[33mWARNING: Ignoring invalid distribution -eras (/usr/local/lib/python3.9/dist-packages)\u001b[0m\u001b[33m\n",
            "\u001b[0m\u001b[33mWARNING: Ignoring invalid distribution -eras (/usr/local/lib/python3.9/dist-packages)\u001b[0m\u001b[33m\n",
            "\u001b[0mLooking in indexes: https://pypi.org/simple, https://us-python.pkg.dev/colab-wheels/public/simple/\n",
            "Collecting waymo-open-dataset-tf-2-11-0==1.5.1\n",
            "  Using cached waymo_open_dataset_tf_2_11_0-1.5.1-py3-none-manylinux_2_24_x86_64.manylinux_2_28_x86_64.whl (4.0 MB)\n",
            "Requirement already satisfied: pillow==9.2.0 in /usr/local/lib/python3.9/dist-packages (from waymo-open-dataset-tf-2-11-0==1.5.1) (9.2.0)\n",
            "Requirement already satisfied: scikit-learn==1.2.2 in /usr/local/lib/python3.9/dist-packages (from waymo-open-dataset-tf-2-11-0==1.5.1) (1.2.2)\n",
            "Requirement already satisfied: numpy==1.21.5 in /usr/local/lib/python3.9/dist-packages (from waymo-open-dataset-tf-2-11-0==1.5.1) (1.21.5)\n",
            "Requirement already satisfied: setuptools==67.6.0 in /usr/local/lib/python3.9/dist-packages (from waymo-open-dataset-tf-2-11-0==1.5.1) (67.6.0)\n",
            "Collecting tensorflow_graphics==2021.12.3\n",
            "  Using cached tensorflow_graphics-2021.12.3-py3-none-any.whl (4.3 MB)\n",
            "Requirement already satisfied: pandas==1.5.3 in /usr/local/lib/python3.9/dist-packages (from waymo-open-dataset-tf-2-11-0==1.5.1) (1.5.3)\n",
            "Collecting immutabledict==2.2.0\n",
            "  Using cached immutabledict-2.2.0-py3-none-any.whl (4.0 kB)\n",
            "Collecting matplotlib==3.6.1\n",
            "  Using cached matplotlib-3.6.1-cp39-cp39-manylinux_2_17_x86_64.manylinux2014_x86_64.whl (11.8 MB)\n",
            "Requirement already satisfied: plotly==5.13.1 in /usr/local/lib/python3.9/dist-packages (from waymo-open-dataset-tf-2-11-0==1.5.1) (5.13.1)\n",
            "Collecting einsum==0.3.0\n",
            "  Using cached einsum-0.3.0-py3-none-any.whl (5.1 kB)\n",
            "Collecting absl-py==1.4.0\n",
            "  Using cached absl_py-1.4.0-py3-none-any.whl (126 kB)\n",
            "Requirement already satisfied: tensorflow_probability==0.19.0 in /usr/local/lib/python3.9/dist-packages (from waymo-open-dataset-tf-2-11-0==1.5.1) (0.19.0)\n",
            "Requirement already satisfied: openexr==1.3.9 in /usr/local/lib/python3.9/dist-packages (from waymo-open-dataset-tf-2-11-0==1.5.1) (1.3.9)\n",
            "Collecting tensorflow==2.11\n",
            "  Using cached tensorflow-2.11.0-cp39-cp39-manylinux_2_17_x86_64.manylinux2014_x86_64.whl (588.3 MB)\n",
            "Collecting scikit-image==0.20.0\n",
            "  Using cached scikit_image-0.20.0-cp39-cp39-manylinux_2_17_x86_64.manylinux2014_x86_64.whl (13.2 MB)\n",
            "Collecting dask[dataframe]==2023.3.1\n",
            "  Using cached dask-2023.3.1-py3-none-any.whl (1.2 MB)\n",
            "Collecting pyarrow==10.0.0\n",
            "  Using cached pyarrow-10.0.0-cp39-cp39-manylinux_2_17_x86_64.manylinux2014_x86_64.whl (35.2 MB)\n",
            "Collecting google-auth==2.16.2\n",
            "  Using cached google_auth-2.16.2-py2.py3-none-any.whl (177 kB)\n",
            "Requirement already satisfied: packaging>=20.0 in /usr/local/lib/python3.9/dist-packages (from dask[dataframe]==2023.3.1->waymo-open-dataset-tf-2-11-0==1.5.1) (23.0)\n",
            "Requirement already satisfied: cloudpickle>=1.1.1 in /usr/local/lib/python3.9/dist-packages (from dask[dataframe]==2023.3.1->waymo-open-dataset-tf-2-11-0==1.5.1) (2.2.1)\n",
            "Requirement already satisfied: fsspec>=0.6.0 in /usr/local/lib/python3.9/dist-packages (from dask[dataframe]==2023.3.1->waymo-open-dataset-tf-2-11-0==1.5.1) (2023.3.0)\n",
            "Requirement already satisfied: pyyaml>=5.3.1 in /usr/local/lib/python3.9/dist-packages (from dask[dataframe]==2023.3.1->waymo-open-dataset-tf-2-11-0==1.5.1) (6.0)\n",
            "Requirement already satisfied: click>=7.0 in /usr/local/lib/python3.9/dist-packages (from dask[dataframe]==2023.3.1->waymo-open-dataset-tf-2-11-0==1.5.1) (8.1.3)\n",
            "Requirement already satisfied: toolz>=0.8.2 in /usr/local/lib/python3.9/dist-packages (from dask[dataframe]==2023.3.1->waymo-open-dataset-tf-2-11-0==1.5.1) (0.12.0)\n",
            "Requirement already satisfied: partd>=1.2.0 in /usr/local/lib/python3.9/dist-packages (from dask[dataframe]==2023.3.1->waymo-open-dataset-tf-2-11-0==1.5.1) (1.3.0)\n",
            "Requirement already satisfied: pyasn1-modules>=0.2.1 in /usr/local/lib/python3.9/dist-packages (from google-auth==2.16.2->waymo-open-dataset-tf-2-11-0==1.5.1) (0.2.8)\n",
            "Requirement already satisfied: rsa<5,>=3.1.4 in /usr/local/lib/python3.9/dist-packages (from google-auth==2.16.2->waymo-open-dataset-tf-2-11-0==1.5.1) (4.9)\n",
            "Requirement already satisfied: cachetools<6.0,>=2.0.0 in /usr/local/lib/python3.9/dist-packages (from google-auth==2.16.2->waymo-open-dataset-tf-2-11-0==1.5.1) (5.3.0)\n",
            "Requirement already satisfied: six>=1.9.0 in /usr/local/lib/python3.9/dist-packages (from google-auth==2.16.2->waymo-open-dataset-tf-2-11-0==1.5.1) (1.15.0)\n",
            "Requirement already satisfied: cycler>=0.10 in /usr/local/lib/python3.9/dist-packages (from matplotlib==3.6.1->waymo-open-dataset-tf-2-11-0==1.5.1) (0.11.0)\n",
            "Requirement already satisfied: pyparsing>=2.2.1 in /usr/local/lib/python3.9/dist-packages (from matplotlib==3.6.1->waymo-open-dataset-tf-2-11-0==1.5.1) (3.0.9)\n",
            "Requirement already satisfied: fonttools>=4.22.0 in /usr/local/lib/python3.9/dist-packages (from matplotlib==3.6.1->waymo-open-dataset-tf-2-11-0==1.5.1) (4.39.3)\n",
            "Requirement already satisfied: kiwisolver>=1.0.1 in /usr/local/lib/python3.9/dist-packages (from matplotlib==3.6.1->waymo-open-dataset-tf-2-11-0==1.5.1) (1.4.4)\n",
            "Requirement already satisfied: contourpy>=1.0.1 in /usr/local/lib/python3.9/dist-packages (from matplotlib==3.6.1->waymo-open-dataset-tf-2-11-0==1.5.1) (1.0.7)\n",
            "Requirement already satisfied: python-dateutil>=2.7 in /usr/local/lib/python3.9/dist-packages (from matplotlib==3.6.1->waymo-open-dataset-tf-2-11-0==1.5.1) (2.8.2)\n",
            "Requirement already satisfied: pytz>=2020.1 in /usr/local/lib/python3.9/dist-packages (from pandas==1.5.3->waymo-open-dataset-tf-2-11-0==1.5.1) (2022.7.1)\n",
            "Requirement already satisfied: tenacity>=6.2.0 in /usr/local/lib/python3.9/dist-packages (from plotly==5.13.1->waymo-open-dataset-tf-2-11-0==1.5.1) (8.2.2)\n",
            "Requirement already satisfied: imageio>=2.4.1 in /usr/local/lib/python3.9/dist-packages (from scikit-image==0.20.0->waymo-open-dataset-tf-2-11-0==1.5.1) (2.25.1)\n",
            "Requirement already satisfied: PyWavelets>=1.1.1 in /usr/local/lib/python3.9/dist-packages (from scikit-image==0.20.0->waymo-open-dataset-tf-2-11-0==1.5.1) (1.4.1)\n",
            "Requirement already satisfied: lazy_loader>=0.1 in /usr/local/lib/python3.9/dist-packages (from scikit-image==0.20.0->waymo-open-dataset-tf-2-11-0==1.5.1) (0.2)\n",
            "Requirement already satisfied: networkx>=2.8 in /usr/local/lib/python3.9/dist-packages (from scikit-image==0.20.0->waymo-open-dataset-tf-2-11-0==1.5.1) (3.1)\n",
            "Requirement already satisfied: tifffile>=2019.7.26 in /usr/local/lib/python3.9/dist-packages (from scikit-image==0.20.0->waymo-open-dataset-tf-2-11-0==1.5.1) (2023.3.21)\n",
            "Collecting scipy<1.9.2,>=1.8\n",
            "  Using cached scipy-1.9.1-cp39-cp39-manylinux_2_17_x86_64.manylinux2014_x86_64.whl (43.9 MB)\n",
            "Requirement already satisfied: threadpoolctl>=2.0.0 in /usr/local/lib/python3.9/dist-packages (from scikit-learn==1.2.2->waymo-open-dataset-tf-2-11-0==1.5.1) (3.1.0)\n",
            "Requirement already satisfied: joblib>=1.1.1 in /usr/local/lib/python3.9/dist-packages (from scikit-learn==1.2.2->waymo-open-dataset-tf-2-11-0==1.5.1) (1.2.0)\n",
            "Requirement already satisfied: gast<=0.4.0,>=0.2.1 in /usr/local/lib/python3.9/dist-packages (from tensorflow==2.11->waymo-open-dataset-tf-2-11-0==1.5.1) (0.4.0)\n",
            "Requirement already satisfied: keras<2.12,>=2.11.0 in /usr/local/lib/python3.9/dist-packages (from tensorflow==2.11->waymo-open-dataset-tf-2-11-0==1.5.1) (2.11.0)\n",
            "Collecting tensorboard<2.12,>=2.11\n",
            "  Using cached tensorboard-2.11.2-py3-none-any.whl (6.0 MB)\n",
            "Requirement already satisfied: wrapt>=1.11.0 in /usr/local/lib/python3.9/dist-packages (from tensorflow==2.11->waymo-open-dataset-tf-2-11-0==1.5.1) (1.12.1)\n",
            "Requirement already satisfied: google-pasta>=0.1.1 in /usr/local/lib/python3.9/dist-packages (from tensorflow==2.11->waymo-open-dataset-tf-2-11-0==1.5.1) (0.2.0)\n",
            "Requirement already satisfied: tensorflow-io-gcs-filesystem>=0.23.1 in /usr/local/lib/python3.9/dist-packages (from tensorflow==2.11->waymo-open-dataset-tf-2-11-0==1.5.1) (0.32.0)\n",
            "Requirement already satisfied: astunparse>=1.6.0 in /usr/local/lib/python3.9/dist-packages (from tensorflow==2.11->waymo-open-dataset-tf-2-11-0==1.5.1) (1.6.3)\n",
            "Requirement already satisfied: flatbuffers>=2.0 in /usr/local/lib/python3.9/dist-packages (from tensorflow==2.11->waymo-open-dataset-tf-2-11-0==1.5.1) (23.3.3)\n",
            "Requirement already satisfied: protobuf<3.20,>=3.9.2 in /usr/local/lib/python3.9/dist-packages (from tensorflow==2.11->waymo-open-dataset-tf-2-11-0==1.5.1) (3.19.6)\n",
            "Requirement already satisfied: libclang>=13.0.0 in /usr/local/lib/python3.9/dist-packages (from tensorflow==2.11->waymo-open-dataset-tf-2-11-0==1.5.1) (16.0.0)\n",
            "Requirement already satisfied: opt-einsum>=2.3.2 in /usr/local/lib/python3.9/dist-packages (from tensorflow==2.11->waymo-open-dataset-tf-2-11-0==1.5.1) (3.3.0)\n",
            "Requirement already satisfied: tensorflow-estimator<2.12,>=2.11.0 in /usr/local/lib/python3.9/dist-packages (from tensorflow==2.11->waymo-open-dataset-tf-2-11-0==1.5.1) (2.11.0)\n",
            "Requirement already satisfied: termcolor>=1.1.0 in /usr/local/lib/python3.9/dist-packages (from tensorflow==2.11->waymo-open-dataset-tf-2-11-0==1.5.1) (1.1.0)\n",
            "Requirement already satisfied: typing-extensions>=3.6.6 in /usr/local/lib/python3.9/dist-packages (from tensorflow==2.11->waymo-open-dataset-tf-2-11-0==1.5.1) (3.7.4.3)\n",
            "Requirement already satisfied: h5py>=2.9.0 in /usr/local/lib/python3.9/dist-packages (from tensorflow==2.11->waymo-open-dataset-tf-2-11-0==1.5.1) (3.1.0)\n",
            "Requirement already satisfied: grpcio<2.0,>=1.24.3 in /usr/local/lib/python3.9/dist-packages (from tensorflow==2.11->waymo-open-dataset-tf-2-11-0==1.5.1) (1.53.0)\n",
            "Requirement already satisfied: psutil>=5.7.0 in /usr/local/lib/python3.9/dist-packages (from tensorflow_graphics==2021.12.3->waymo-open-dataset-tf-2-11-0==1.5.1) (5.9.4)\n",
            "Collecting trimesh>=2.37.22\n",
            "  Using cached trimesh-3.21.5-py3-none-any.whl (680 kB)\n",
            "Requirement already satisfied: tqdm>=4.45.0 in /usr/local/lib/python3.9/dist-packages (from tensorflow_graphics==2021.12.3->waymo-open-dataset-tf-2-11-0==1.5.1) (4.65.0)\n",
            "Collecting tensorflow-addons>=0.10.0\n",
            "  Using cached tensorflow_addons-0.20.0-cp39-cp39-manylinux_2_17_x86_64.manylinux2014_x86_64.whl (591 kB)\n",
            "Requirement already satisfied: tensorflow-datasets>=2.0.0 in /usr/local/lib/python3.9/dist-packages (from tensorflow_graphics==2021.12.3->waymo-open-dataset-tf-2-11-0==1.5.1) (4.8.3)\n",
            "Requirement already satisfied: decorator in /usr/local/lib/python3.9/dist-packages (from tensorflow_probability==0.19.0->waymo-open-dataset-tf-2-11-0==1.5.1) (4.4.2)\n",
            "Requirement already satisfied: dm-tree in /usr/local/lib/python3.9/dist-packages (from tensorflow_probability==0.19.0->waymo-open-dataset-tf-2-11-0==1.5.1) (0.1.8)\n",
            "Requirement already satisfied: wheel<1.0,>=0.23.0 in /usr/local/lib/python3.9/dist-packages (from astunparse>=1.6.0->tensorflow==2.11->waymo-open-dataset-tf-2-11-0==1.5.1) (0.40.0)\n",
            "Requirement already satisfied: locket in /usr/local/lib/python3.9/dist-packages (from partd>=1.2.0->dask[dataframe]==2023.3.1->waymo-open-dataset-tf-2-11-0==1.5.1) (1.0.0)\n",
            "Requirement already satisfied: pyasn1<0.5.0,>=0.4.6 in /usr/local/lib/python3.9/dist-packages (from pyasn1-modules>=0.2.1->google-auth==2.16.2->waymo-open-dataset-tf-2-11-0==1.5.1) (0.4.8)\n",
            "Requirement already satisfied: tensorboard-plugin-wit>=1.6.0 in /usr/local/lib/python3.9/dist-packages (from tensorboard<2.12,>=2.11->tensorflow==2.11->waymo-open-dataset-tf-2-11-0==1.5.1) (1.8.1)\n",
            "Requirement already satisfied: werkzeug>=1.0.1 in /usr/local/lib/python3.9/dist-packages (from tensorboard<2.12,>=2.11->tensorflow==2.11->waymo-open-dataset-tf-2-11-0==1.5.1) (2.2.3)\n",
            "Requirement already satisfied: tensorboard-data-server<0.7.0,>=0.6.0 in /usr/local/lib/python3.9/dist-packages (from tensorboard<2.12,>=2.11->tensorflow==2.11->waymo-open-dataset-tf-2-11-0==1.5.1) (0.6.1)\n",
            "Requirement already satisfied: markdown>=2.6.8 in /usr/local/lib/python3.9/dist-packages (from tensorboard<2.12,>=2.11->tensorflow==2.11->waymo-open-dataset-tf-2-11-0==1.5.1) (3.4.3)\n",
            "Requirement already satisfied: requests<3,>=2.21.0 in /usr/local/lib/python3.9/dist-packages (from tensorboard<2.12,>=2.11->tensorflow==2.11->waymo-open-dataset-tf-2-11-0==1.5.1) (2.27.1)\n",
            "Collecting google-auth-oauthlib<0.5,>=0.4.1\n",
            "  Using cached google_auth_oauthlib-0.4.6-py2.py3-none-any.whl (18 kB)\n",
            "Requirement already satisfied: typeguard<3.0.0,>=2.7 in /usr/local/lib/python3.9/dist-packages (from tensorflow-addons>=0.10.0->tensorflow_graphics==2021.12.3->waymo-open-dataset-tf-2-11-0==1.5.1) (2.13.3)\n",
            "Requirement already satisfied: etils[enp,epath]>=0.9.0 in /usr/local/lib/python3.9/dist-packages (from tensorflow-datasets>=2.0.0->tensorflow_graphics==2021.12.3->waymo-open-dataset-tf-2-11-0==1.5.1) (1.2.0)\n",
            "Requirement already satisfied: toml in /usr/local/lib/python3.9/dist-packages (from tensorflow-datasets>=2.0.0->tensorflow_graphics==2021.12.3->waymo-open-dataset-tf-2-11-0==1.5.1) (0.10.2)\n",
            "Requirement already satisfied: tensorflow-metadata in /usr/local/lib/python3.9/dist-packages (from tensorflow-datasets>=2.0.0->tensorflow_graphics==2021.12.3->waymo-open-dataset-tf-2-11-0==1.5.1) (1.13.0)\n",
            "Requirement already satisfied: promise in /usr/local/lib/python3.9/dist-packages (from tensorflow-datasets>=2.0.0->tensorflow_graphics==2021.12.3->waymo-open-dataset-tf-2-11-0==1.5.1) (2.3)\n",
            "Requirement already satisfied: zipp in /usr/local/lib/python3.9/dist-packages (from etils[enp,epath]>=0.9.0->tensorflow-datasets>=2.0.0->tensorflow_graphics==2021.12.3->waymo-open-dataset-tf-2-11-0==1.5.1) (3.15.0)\n",
            "Requirement already satisfied: importlib_resources in /usr/local/lib/python3.9/dist-packages (from etils[enp,epath]>=0.9.0->tensorflow-datasets>=2.0.0->tensorflow_graphics==2021.12.3->waymo-open-dataset-tf-2-11-0==1.5.1) (5.12.0)\n",
            "Requirement already satisfied: requests-oauthlib>=0.7.0 in /usr/local/lib/python3.9/dist-packages (from google-auth-oauthlib<0.5,>=0.4.1->tensorboard<2.12,>=2.11->tensorflow==2.11->waymo-open-dataset-tf-2-11-0==1.5.1) (1.3.1)\n",
            "Requirement already satisfied: importlib-metadata>=4.4 in /usr/local/lib/python3.9/dist-packages (from markdown>=2.6.8->tensorboard<2.12,>=2.11->tensorflow==2.11->waymo-open-dataset-tf-2-11-0==1.5.1) (6.2.0)\n",
            "Requirement already satisfied: certifi>=2017.4.17 in /usr/local/lib/python3.9/dist-packages (from requests<3,>=2.21.0->tensorboard<2.12,>=2.11->tensorflow==2.11->waymo-open-dataset-tf-2-11-0==1.5.1) (2022.12.7)\n",
            "Requirement already satisfied: charset-normalizer~=2.0.0 in /usr/local/lib/python3.9/dist-packages (from requests<3,>=2.21.0->tensorboard<2.12,>=2.11->tensorflow==2.11->waymo-open-dataset-tf-2-11-0==1.5.1) (2.0.12)\n",
            "Requirement already satisfied: urllib3<1.27,>=1.21.1 in /usr/local/lib/python3.9/dist-packages (from requests<3,>=2.21.0->tensorboard<2.12,>=2.11->tensorflow==2.11->waymo-open-dataset-tf-2-11-0==1.5.1) (1.26.15)\n",
            "Requirement already satisfied: idna<4,>=2.5 in /usr/local/lib/python3.9/dist-packages (from requests<3,>=2.21.0->tensorboard<2.12,>=2.11->tensorflow==2.11->waymo-open-dataset-tf-2-11-0==1.5.1) (3.4)\n",
            "Requirement already satisfied: MarkupSafe>=2.1.1 in /usr/local/lib/python3.9/dist-packages (from werkzeug>=1.0.1->tensorboard<2.12,>=2.11->tensorflow==2.11->waymo-open-dataset-tf-2-11-0==1.5.1) (2.1.2)\n",
            "Requirement already satisfied: googleapis-common-protos<2,>=1.52.0 in /usr/local/lib/python3.9/dist-packages (from tensorflow-metadata->tensorflow-datasets>=2.0.0->tensorflow_graphics==2021.12.3->waymo-open-dataset-tf-2-11-0==1.5.1) (1.59.0)\n",
            "Requirement already satisfied: oauthlib>=3.0.0 in /usr/local/lib/python3.9/dist-packages (from requests-oauthlib>=0.7.0->google-auth-oauthlib<0.5,>=0.4.1->tensorboard<2.12,>=2.11->tensorflow==2.11->waymo-open-dataset-tf-2-11-0==1.5.1) (3.2.2)\n",
            "\u001b[33mWARNING: Ignoring invalid distribution -eras (/usr/local/lib/python3.9/dist-packages)\u001b[0m\u001b[33m\n",
            "\u001b[0mInstalling collected packages: trimesh, tensorflow-addons, scipy, pyarrow, immutabledict, einsum, absl-py, scikit-image, matplotlib, google-auth, dask, google-auth-oauthlib, tensorboard, tensorflow, tensorflow_graphics, waymo-open-dataset-tf-2-11-0\n",
            "  Attempting uninstall: scipy\n",
            "\u001b[33m    WARNING: Ignoring invalid distribution -eras (/usr/local/lib/python3.9/dist-packages)\u001b[0m\u001b[33m\n",
            "\u001b[0m    Found existing installation: scipy 1.10.1\n",
            "    Uninstalling scipy-1.10.1:\n",
            "      Successfully uninstalled scipy-1.10.1\n",
            "  Attempting uninstall: pyarrow\n",
            "\u001b[33m    WARNING: Ignoring invalid distribution -eras (/usr/local/lib/python3.9/dist-packages)\u001b[0m\u001b[33m\n",
            "\u001b[0m    Found existing installation: pyarrow 9.0.0\n",
            "    Uninstalling pyarrow-9.0.0:\n",
            "      Successfully uninstalled pyarrow-9.0.0\n",
            "  Attempting uninstall: absl-py\n",
            "\u001b[33m    WARNING: Ignoring invalid distribution -eras (/usr/local/lib/python3.9/dist-packages)\u001b[0m\u001b[33m\n",
            "\u001b[0m    Found existing installation: absl-py 0.15.0\n",
            "    Uninstalling absl-py-0.15.0:\n",
            "      Successfully uninstalled absl-py-0.15.0\n",
            "  Attempting uninstall: scikit-image\n",
            "\u001b[33m    WARNING: Ignoring invalid distribution -eras (/usr/local/lib/python3.9/dist-packages)\u001b[0m\u001b[33m\n",
            "\u001b[0m    Found existing installation: scikit-image 0.19.3\n",
            "    Uninstalling scikit-image-0.19.3:\n",
            "      Successfully uninstalled scikit-image-0.19.3\n",
            "  Attempting uninstall: matplotlib\n",
            "\u001b[33m    WARNING: Ignoring invalid distribution -eras (/usr/local/lib/python3.9/dist-packages)\u001b[0m\u001b[33m\n",
            "\u001b[0m    Found existing installation: matplotlib 3.6.3\n",
            "    Uninstalling matplotlib-3.6.3:\n",
            "      Successfully uninstalled matplotlib-3.6.3\n",
            "  Attempting uninstall: google-auth\n",
            "\u001b[33m    WARNING: Ignoring invalid distribution -eras (/usr/local/lib/python3.9/dist-packages)\u001b[0m\u001b[33m\n",
            "\u001b[0m    Found existing installation: google-auth 2.17.2\n",
            "    Uninstalling google-auth-2.17.2:\n",
            "      Successfully uninstalled google-auth-2.17.2\n",
            "  Attempting uninstall: dask\n",
            "\u001b[33m    WARNING: Ignoring invalid distribution -eras (/usr/local/lib/python3.9/dist-packages)\u001b[0m\u001b[33m\n",
            "\u001b[0m    Found existing installation: dask 2022.12.1\n",
            "    Uninstalling dask-2022.12.1:\n",
            "      Successfully uninstalled dask-2022.12.1\n",
            "  Attempting uninstall: google-auth-oauthlib\n",
            "\u001b[33m    WARNING: Ignoring invalid distribution -eras (/usr/local/lib/python3.9/dist-packages)\u001b[0m\u001b[33m\n",
            "\u001b[0m    Found existing installation: google-auth-oauthlib 1.0.0\n",
            "    Uninstalling google-auth-oauthlib-1.0.0:\n",
            "      Successfully uninstalled google-auth-oauthlib-1.0.0\n",
            "  Attempting uninstall: tensorboard\n",
            "\u001b[33m    WARNING: Ignoring invalid distribution -eras (/usr/local/lib/python3.9/dist-packages)\u001b[0m\u001b[33m\n",
            "\u001b[0m    Found existing installation: tensorboard 2.12.1\n",
            "    Uninstalling tensorboard-2.12.1:\n",
            "      Successfully uninstalled tensorboard-2.12.1\n",
            "  Attempting uninstall: tensorflow\n",
            "\u001b[33m    WARNING: Ignoring invalid distribution -eras (/usr/local/lib/python3.9/dist-packages)\u001b[0m\u001b[33m\n",
            "\u001b[0m    Found existing installation: tensorflow 2.12.0\n",
            "    Uninstalling tensorflow-2.12.0:\n",
            "      Successfully uninstalled tensorflow-2.12.0\n",
            "\u001b[33mWARNING: Ignoring invalid distribution -eras (/usr/local/lib/python3.9/dist-packages)\u001b[0m\u001b[33m\n",
            "\u001b[0m\u001b[33mWARNING: Ignoring invalid distribution -eras (/usr/local/lib/python3.9/dist-packages)\u001b[0m\u001b[33m\n",
            "\u001b[0m\u001b[33mWARNING: Ignoring invalid distribution -eras (/usr/local/lib/python3.9/dist-packages)\u001b[0m\u001b[33m\n",
            "\u001b[0m\u001b[33mWARNING: Ignoring invalid distribution -eras (/usr/local/lib/python3.9/dist-packages)\u001b[0m\u001b[33m\n",
            "\u001b[0m\u001b[33mWARNING: Ignoring invalid distribution -eras (/usr/local/lib/python3.9/dist-packages)\u001b[0m\u001b[33m\n",
            "\u001b[0m\u001b[33mWARNING: Ignoring invalid distribution -eras (/usr/local/lib/python3.9/dist-packages)\u001b[0m\u001b[33m\n",
            "\u001b[0m\u001b[33mWARNING: Ignoring invalid distribution -eras (/usr/local/lib/python3.9/dist-packages)\u001b[0m\u001b[33m\n",
            "\u001b[0m\u001b[33mWARNING: Ignoring invalid distribution -eras (/usr/local/lib/python3.9/dist-packages)\u001b[0m\u001b[33m\n",
            "\u001b[0m\u001b[33mWARNING: Ignoring invalid distribution -eras (/usr/local/lib/python3.9/dist-packages)\u001b[0m\u001b[33m\n",
            "\u001b[0m\u001b[33mWARNING: Ignoring invalid distribution -eras (/usr/local/lib/python3.9/dist-packages)\u001b[0m\u001b[33m\n",
            "\u001b[0m\u001b[33mWARNING: Ignoring invalid distribution -eras (/usr/local/lib/python3.9/dist-packages)\u001b[0m\u001b[33m\n",
            "\u001b[0m\u001b[33mWARNING: Ignoring invalid distribution -eras (/usr/local/lib/python3.9/dist-packages)\u001b[0m\u001b[33m\n",
            "\u001b[0m\u001b[33mWARNING: Ignoring invalid distribution -eras (/usr/local/lib/python3.9/dist-packages)\u001b[0m\u001b[33m\n",
            "\u001b[0m\u001b[33mWARNING: Ignoring invalid distribution -eras (/usr/local/lib/python3.9/dist-packages)\u001b[0m\u001b[33m\n",
            "\u001b[0m\u001b[33mWARNING: Ignoring invalid distribution -eras (/usr/local/lib/python3.9/dist-packages)\u001b[0m\u001b[33m\n",
            "\u001b[0m\u001b[33mWARNING: Ignoring invalid distribution -eras (/usr/local/lib/python3.9/dist-packages)\u001b[0m\u001b[33m\n",
            "\u001b[0m\u001b[31mERROR: pip's dependency resolver does not currently take into account all the packages that are installed. This behaviour is the source of the following dependency conflicts.\n",
            "seaborn 0.12.2 requires matplotlib!=3.6.1,>=3.1, but you have matplotlib 3.6.1 which is incompatible.\n",
            "pandas-gbq 0.17.9 requires pyarrow<10.0dev,>=3.0.0, but you have pyarrow 10.0.0 which is incompatible.\n",
            "optax 0.1.4 requires typing-extensions>=3.10.0, but you have typing-extensions 3.7.4.3 which is incompatible.\n",
            "librosa 0.10.0.post2 requires typing-extensions>=4.1.1, but you have typing-extensions 3.7.4.3 which is incompatible.\n",
            "flax 0.6.8 requires typing-extensions>=4.1.1, but you have typing-extensions 3.7.4.3 which is incompatible.\n",
            "distributed 2022.12.1 requires dask==2022.12.1, but you have dask 2023.3.1 which is incompatible.\n",
            "chex 0.1.7 requires typing-extensions>=4.2.0; python_version < \"3.11\", but you have typing-extensions 3.7.4.3 which is incompatible.\n",
            "arviz 0.15.1 requires typing-extensions>=4.1.0, but you have typing-extensions 3.7.4.3 which is incompatible.\u001b[0m\u001b[31m\n",
            "\u001b[0mSuccessfully installed absl-py-1.4.0 dask-2023.3.1 einsum-0.3.0 google-auth-2.16.2 google-auth-oauthlib-0.4.6 immutabledict-2.2.0 matplotlib-3.6.1 pyarrow-10.0.0 scikit-image-0.20.0 scipy-1.9.1 tensorboard-2.11.2 tensorflow-2.11.0 tensorflow-addons-0.20.0 tensorflow_graphics-2021.12.3 trimesh-3.21.5 waymo-open-dataset-tf-2-11-0-1.5.1\n"
          ]
        }
      ]
    },
    {
      "cell_type": "markdown",
      "source": [
        "## 데이터셋 로드"
      ],
      "metadata": {
        "id": "svyklvHAQ_Ax"
      }
    },
    {
      "cell_type": "code",
      "source": [
        "from google.colab import drive\n",
        "\n",
        "drive.mount('/content/drive')"
      ],
      "metadata": {
        "id": "G-l8pbYlREUB",
        "outputId": "80b39b01-a690-4e62-99be-3a19b2d58eb4",
        "colab": {
          "base_uri": "https://localhost:8080/"
        }
      },
      "execution_count": 3,
      "outputs": [
        {
          "output_type": "stream",
          "name": "stdout",
          "text": [
            "Mounted at /content/drive\n"
          ]
        }
      ]
    },
    {
      "cell_type": "code",
      "source": [
        "WOD_PATH = '/content/drive/MyDrive/waymo-od-dataset/waymo_open_dataset_motion_v_1_2_0/uncompressed'\n",
        "!ls -al {WOD_PATH}"
      ],
      "metadata": {
        "colab": {
          "base_uri": "https://localhost:8080/"
        },
        "id": "qlW-eDasV1ES",
        "outputId": "92cf5fa5-3b88-4045-823d-a22a2bbf2298"
      },
      "execution_count": 20,
      "outputs": [
        {
          "output_type": "stream",
          "name": "stdout",
          "text": [
            "total 4\n",
            "drwx------ 4 root root 4096 Apr 13 10:34 tf_example\n"
          ]
        }
      ]
    },
    {
      "cell_type": "code",
      "source": [
        "VALIDSET_PATH = WOD_PATH + '/tf_example/validation'\n",
        "!ls -al {VALIDSET_PATH} | wc -l"
      ],
      "metadata": {
        "colab": {
          "base_uri": "https://localhost:8080/"
        },
        "id": "xHXG-vCWXM5d",
        "outputId": "c8bd8ad2-34c1-4ccc-9248-562825b5f602"
      },
      "execution_count": 21,
      "outputs": [
        {
          "output_type": "stream",
          "name": "stdout",
          "text": [
            "151\n"
          ]
        }
      ]
    },
    {
      "cell_type": "code",
      "source": [
        "import glob\n",
        "\n",
        "# 로컬 디렉토리에 저장된 TFRecord 파일들의 경로 리스트 생성\n",
        "file_paths = glob.glob(VALIDSET_PATH + \"/*.tfrecord*\")\n",
        "len(file_paths)"
      ],
      "metadata": {
        "colab": {
          "base_uri": "https://localhost:8080/"
        },
        "id": "m5CeKfboV1sc",
        "outputId": "1bae77e0-2e20-401d-9ae8-85f9db5e22ed"
      },
      "execution_count": 22,
      "outputs": [
        {
          "output_type": "execute_result",
          "data": {
            "text/plain": [
              "150"
            ]
          },
          "metadata": {},
          "execution_count": 22
        }
      ]
    },
    {
      "cell_type": "code",
      "source": [
        "import tensorflow as tf\n",
        "\n",
        "# TFRecordDataset 클래스를 사용하여 데이터를 읽어들임\n",
        "dataset = tf.data.TFRecordDataset(file_paths, compression_type='')"
      ],
      "metadata": {
        "id": "GjiMm7G4Y1KX"
      },
      "execution_count": 23,
      "outputs": []
    },
    {
      "cell_type": "code",
      "source": [
        "from waymo_open_dataset import dataset_pb2\n",
        "\n",
        "for data in dataset:\n",
        "  frame = dataset_pb2.Frame()\n",
        "  frame.ParseFromString(bytearray(data.numpy()))\n",
        "  break\n",
        "\n"
      ],
      "metadata": {
        "id": "PKgKlzMGcKVl"
      },
      "execution_count": 24,
      "outputs": []
    },
    {
      "cell_type": "code",
      "source": [],
      "metadata": {
        "id": "zDEPYFFxccmk"
      },
      "execution_count": 25,
      "outputs": []
    },
    {
      "cell_type": "code",
      "source": [
        "# 데이터셋 한 개만 읽어보기\n",
        "from waymo_open_dataset.protos import scenario_pb2\n",
        "\n",
        "for data in dataset:\n",
        "  scenario = scenario_pb2.Scenario()\n",
        "  scenario.ParseFromString(bytearray(data.numpy()))\n",
        "  break\n",
        "\n",
        "scenario"
      ],
      "metadata": {
        "colab": {
          "base_uri": "https://localhost:8080/",
          "height": 251
        },
        "id": "jDsHjcZvZk9_",
        "outputId": "92db2a2b-2976-4ba4-f459-4c58bbf59948"
      },
      "execution_count": 17,
      "outputs": [
        {
          "output_type": "error",
          "ename": "NameError",
          "evalue": "ignored",
          "traceback": [
            "\u001b[0;31m---------------------------------------------------------------------------\u001b[0m",
            "\u001b[0;31mNameError\u001b[0m                                 Traceback (most recent call last)",
            "\u001b[0;32m<ipython-input-17-c2f01a2b85a8>\u001b[0m in \u001b[0;36m<cell line: 4>\u001b[0;34m()\u001b[0m\n\u001b[1;32m      2\u001b[0m \u001b[0;32mfrom\u001b[0m \u001b[0mwaymo_open_dataset\u001b[0m\u001b[0;34m.\u001b[0m\u001b[0mprotos\u001b[0m \u001b[0;32mimport\u001b[0m \u001b[0mscenario_pb2\u001b[0m\u001b[0;34m\u001b[0m\u001b[0;34m\u001b[0m\u001b[0m\n\u001b[1;32m      3\u001b[0m \u001b[0;34m\u001b[0m\u001b[0m\n\u001b[0;32m----> 4\u001b[0;31m \u001b[0;32mfor\u001b[0m \u001b[0mdata\u001b[0m \u001b[0;32min\u001b[0m \u001b[0mdataset\u001b[0m\u001b[0;34m:\u001b[0m\u001b[0;34m\u001b[0m\u001b[0;34m\u001b[0m\u001b[0m\n\u001b[0m\u001b[1;32m      5\u001b[0m   \u001b[0mscenario\u001b[0m \u001b[0;34m=\u001b[0m \u001b[0mscenario_pb2\u001b[0m\u001b[0;34m.\u001b[0m\u001b[0mScenario\u001b[0m\u001b[0;34m(\u001b[0m\u001b[0;34m)\u001b[0m\u001b[0;34m\u001b[0m\u001b[0;34m\u001b[0m\u001b[0m\n\u001b[1;32m      6\u001b[0m   \u001b[0mscenario\u001b[0m\u001b[0;34m.\u001b[0m\u001b[0mParseFromString\u001b[0m\u001b[0;34m(\u001b[0m\u001b[0mbytearray\u001b[0m\u001b[0;34m(\u001b[0m\u001b[0mdata\u001b[0m\u001b[0;34m.\u001b[0m\u001b[0mnumpy\u001b[0m\u001b[0;34m(\u001b[0m\u001b[0;34m)\u001b[0m\u001b[0;34m)\u001b[0m\u001b[0;34m)\u001b[0m\u001b[0;34m\u001b[0m\u001b[0;34m\u001b[0m\u001b[0m\n",
            "\u001b[0;31mNameError\u001b[0m: name 'dataset' is not defined"
          ]
        }
      ]
    },
    {
      "cell_type": "code",
      "execution_count": null,
      "metadata": {
        "id": "BYv7t0nYGp23"
      },
      "outputs": [],
      "source": [
        "# tutorial/3_submit_test/gp-submit_test.ipynb"
      ]
    },
    {
      "cell_type": "code",
      "source": [],
      "metadata": {
        "id": "PMUT773LLjTj"
      },
      "execution_count": null,
      "outputs": []
    }
  ]
}