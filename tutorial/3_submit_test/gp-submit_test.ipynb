{
  "nbformat": 4,
  "nbformat_minor": 0,
  "metadata": {
    "colab": {
      "provenance": [],
      "collapsed_sections": [
        "lJR1y36zZq0J"
      ],
      "authorship_tag": "ABX9TyO0CLEDjBo6cMFuCTW/Q00x",
      "include_colab_link": true
    },
    "kernelspec": {
      "name": "python3",
      "display_name": "Python 3"
    },
    "language_info": {
      "name": "python"
    }
  },
  "cells": [
    {
      "cell_type": "markdown",
      "metadata": {
        "id": "view-in-github",
        "colab_type": "text"
      },
      "source": [
        "<a href=\"https://colab.research.google.com/github/RO-AD/waymo-od-motion-pred/blob/main/tutorial/3_submit_test/gp-submit_test.ipynb\" target=\"_parent\"><img src=\"https://colab.research.google.com/assets/colab-badge.svg\" alt=\"Open In Colab\"/></a>"
      ]
    },
    {
      "cell_type": "markdown",
      "source": [
        "# Submit Test\n",
        "\n",
        "제출 형태도 정해져있으므로 Validation Set을 이용해서 제출해보기"
      ],
      "metadata": {
        "id": "VMs0snH2HCDG"
      }
    },
    {
      "cell_type": "markdown",
      "source": [
        "## GCS(Google Cloud Stoarge)에서 Google Drive로 데이터셋 다운받기"
      ],
      "metadata": {
        "id": "ft-wdon0J9He"
      }
    },
    {
      "cell_type": "markdown",
      "source": [
        "google drive를 먼저 colab에 연동한 뒤, 해당 디렉토리에 GCS로부터 데이터셋 다운받기"
      ],
      "metadata": {
        "id": "TvKFf7rnKWAj"
      }
    },
    {
      "cell_type": "code",
      "source": [
        "# GCS에 접근하기 위해 인증\n",
        "\n",
        "from google.colab import auth\n",
        "auth.authenticate_user()"
      ],
      "metadata": {
        "id": "SbBI_c7AKC8C"
      },
      "execution_count": 3,
      "outputs": []
    },
    {
      "cell_type": "code",
      "source": [
        "# GCS 데이터 용량 확인. 전체를 다운받기에는 구글 클라우드로 감당이 안될듯.\n",
        "!gsutil ls -l \"gs://waymo_open_dataset_motion_v_1_2_0/uncompressed/\" | xargs -I{} gsutil du -sh  {}"
      ],
      "metadata": {
        "colab": {
          "base_uri": "https://localhost:8080/"
        },
        "id": "1hSePOVEBNyt",
        "outputId": "f035dd8e-4bec-4a32-9608-0feda481b742"
      },
      "execution_count": 2,
      "outputs": [
        {
          "output_type": "stream",
          "name": "stdout",
          "text": [
            "0 B          gs://waymo_open_dataset_motion_v_1_2_0/uncompressed/lidar\n",
            "645.92 GiB   gs://waymo_open_dataset_motion_v_1_2_0/uncompressed/scenario\n",
            "1.08 TiB     gs://waymo_open_dataset_motion_v_1_2_0/uncompressed/tf_example\n"
          ]
        }
      ]
    },
    {
      "cell_type": "code",
      "source": [
        "# 라이다 데이터 validation set만 확인\n",
        "!gsutil du -ch -s \"gs://waymo_open_dataset_motion_v_1_2_0/uncompressed/lidar/validation\""
      ],
      "metadata": {
        "id": "pg4Ow6AVRHDJ",
        "colab": {
          "base_uri": "https://localhost:8080/"
        },
        "outputId": "28cfc866-15f9-41ad-9eed-929cef2e719f"
      },
      "execution_count": 3,
      "outputs": [
        {
          "output_type": "stream",
          "name": "stdout",
          "text": [
            "200.35 GiB   gs://waymo_open_dataset_motion_v_1_2_0/uncompressed/lidar/validation\n",
            "200.35 GiB   total\n"
          ]
        }
      ]
    },
    {
      "cell_type": "code",
      "source": [
        "# 시나리오 데이터 validation set만 확인\n",
        "!gsutil du -ch -s \"gs://waymo_open_dataset_motion_v_1_2_0/uncompressed/scenario/validation\""
      ],
      "metadata": {
        "id": "4jbBZ0DhSE4K",
        "colab": {
          "base_uri": "https://localhost:8080/"
        },
        "outputId": "70f6e87b-ff89-459a-9158-cbec88aa6fbf"
      },
      "execution_count": 4,
      "outputs": [
        {
          "output_type": "stream",
          "name": "stdout",
          "text": [
            "38.4 GiB     gs://waymo_open_dataset_motion_v_1_2_0/uncompressed/scenario/validation\n",
            "38.4 GiB     total\n"
          ]
        }
      ]
    },
    {
      "cell_type": "markdown",
      "source": [
        "데이터셋을 저장할 Google Drive를 마운트"
      ],
      "metadata": {
        "id": "oQzICo10SfAo"
      }
    },
    {
      "cell_type": "code",
      "source": [
        "from google.colab import drive\n",
        "drive.mount('/content/drive')"
      ],
      "metadata": {
        "colab": {
          "base_uri": "https://localhost:8080/"
        },
        "id": "AxcCoGfSKQp0",
        "outputId": "6a5388f6-5902-4ce8-af37-3ebdb914a900"
      },
      "execution_count": 5,
      "outputs": [
        {
          "output_type": "stream",
          "name": "stdout",
          "text": [
            "Drive already mounted at /content/drive; to attempt to forcibly remount, call drive.mount(\"/content/drive\", force_remount=True).\n"
          ]
        }
      ]
    },
    {
      "cell_type": "code",
      "source": [
        "# 구글 드라이브 위치. 마운트 잘 됐는지 확인.\n",
        "GDRIVE_WOD_PATH = \"/content/drive/MyDrive/waymo-od-dataset/motion_v_1_2_0/uncompressed\"\n",
        "\n",
        "!ls -al {GDRIVE_WOD_PATH}"
      ],
      "metadata": {
        "colab": {
          "base_uri": "https://localhost:8080/"
        },
        "id": "TyVmJ0LXAJis",
        "outputId": "5765ddcb-0fb8-4701-ca27-f30529fd3068"
      },
      "execution_count": 6,
      "outputs": [
        {
          "output_type": "stream",
          "name": "stdout",
          "text": [
            "total 12\n",
            "drwx------ 2 root root 4096 Apr 14 03:28 .ipynb_checkpoints\n",
            "drwx------ 3 root root 4096 Apr 14 00:03 lidar\n",
            "drwx------ 2 root root 4096 Mar 29 06:17 tf_example\n"
          ]
        }
      ]
    },
    {
      "cell_type": "markdown",
      "source": [
        "GCS로부터 데이터셋을 다운로드. 라이다 데이터도 다운받으려고 했는데 몇시간 기다리다가 지쳐서 일단 보류. 당장 필요한 시나리오 데이터만 우선 받아본다"
      ],
      "metadata": {
        "id": "nJ8uDp9AwmUL"
      }
    },
    {
      "cell_type": "code",
      "source": [
        "# 시나리오 데이터 다운로드\n",
        "\n",
        "%%time\n",
        "%%capture\n",
        "\n",
        "!mkdir {GDRIVE_WOD_PATH}/scenario\n",
        "\n",
        "!gsutil -m cp -r \\\n",
        "  \"gs://waymo_open_dataset_motion_v_1_2_0/uncompressed/scenario/validation\" \\\n",
        "  {GDRIVE_WOD_PATH}/scenario/"
      ],
      "metadata": {
        "id": "8w1xDG5TKD4G",
        "colab": {
          "base_uri": "https://localhost:8080/"
        },
        "outputId": "8a159e25-0427-4210-897e-5f6bd70849e1"
      },
      "execution_count": 7,
      "outputs": [
        {
          "output_type": "stream",
          "name": "stdout",
          "text": [
            "CPU times: user 6.6 s, sys: 1.27 s, total: 7.86 s\n",
            "Wall time: 12min 1s\n"
          ]
        }
      ]
    },
    {
      "cell_type": "code",
      "source": [
        "from google.colab import drive\n",
        "drive.flush_and_unmount()"
      ],
      "metadata": {
        "id": "H9VDTzjhRtiV"
      },
      "execution_count": 8,
      "outputs": []
    },
    {
      "cell_type": "markdown",
      "source": [
        "## 환경세팅"
      ],
      "metadata": {
        "id": "lJR1y36zZq0J"
      }
    },
    {
      "cell_type": "code",
      "source": [
        "%%capture\n",
        "\n",
        "!pip3 install --upgrade pip\n",
        "!pip install waymo-open-dataset-tf-2-11-0==1.5.1 # 최신 버전으로 한 번 해볼까나?"
      ],
      "metadata": {
        "id": "LMoDZwAeZvAI"
      },
      "execution_count": 9,
      "outputs": []
    },
    {
      "cell_type": "code",
      "source": [
        "from google.colab import drive\n",
        "drive.mount('/content/drive')\n",
        "\n",
        "# 마운트 확인\n",
        "GDRIVE_WOD_PATH = \"/content/drive/MyDrive/waymo-od-dataset/motion_v_1_2_0/uncompressed\"\n",
        "VALIDSET_PATH   = GDRIVE_WOD_PATH + \"/scenario/validation\"\n",
        "\n",
        "!ls -al {VALIDSET_PATH} | wc -l"
      ],
      "metadata": {
        "colab": {
          "base_uri": "https://localhost:8080/"
        },
        "id": "iQgkw3wb3jHq",
        "outputId": "ea07bdb2-2564-43c5-8721-c07baa41c66b"
      },
      "execution_count": 13,
      "outputs": [
        {
          "output_type": "stream",
          "name": "stdout",
          "text": [
            "Mounted at /content/drive\n",
            "151\n"
          ]
        }
      ]
    },
    {
      "cell_type": "markdown",
      "source": [
        "## 데이터셋 로드"
      ],
      "metadata": {
        "id": "svyklvHAQ_Ax"
      }
    },
    {
      "cell_type": "code",
      "source": [
        "import glob\n",
        "\n",
        "# 로컬 디렉토리에 저장된 TFRecord 파일들의 경로 리스트 생성\n",
        "file_paths = glob.glob(VALIDSET_PATH + \"/*.tfrecord*\")\n",
        "len(file_paths)"
      ],
      "metadata": {
        "colab": {
          "base_uri": "https://localhost:8080/"
        },
        "id": "m5CeKfboV1sc",
        "outputId": "c04a73d1-b91a-450f-ee93-4dcc24f6dcf7"
      },
      "execution_count": 14,
      "outputs": [
        {
          "output_type": "execute_result",
          "data": {
            "text/plain": [
              "150"
            ]
          },
          "metadata": {},
          "execution_count": 14
        }
      ]
    },
    {
      "cell_type": "code",
      "source": [
        "import tensorflow as tf\n",
        "\n",
        "# TFRecordDataset 클래스를 사용하여 데이터를 읽어들임\n",
        "dataset = tf.data.TFRecordDataset(file_paths, compression_type='')"
      ],
      "metadata": {
        "id": "GjiMm7G4Y1KX"
      },
      "execution_count": 15,
      "outputs": []
    },
    {
      "cell_type": "code",
      "source": [
        "# 데이터셋 한 개만 읽어보기\n",
        "from waymo_open_dataset.protos import scenario_pb2\n",
        "\n",
        "for data in dataset:\n",
        "  scenario = scenario_pb2.Scenario()\n",
        "  scenario.ParseFromString(bytearray(data.numpy()))\n",
        "  break\n",
        "\n",
        "scenario.scenario_id"
      ],
      "metadata": {
        "colab": {
          "base_uri": "https://localhost:8080/",
          "height": 35
        },
        "id": "jDsHjcZvZk9_",
        "outputId": "0545c712-9a1e-4e25-f4c0-2f92cec26298"
      },
      "execution_count": 21,
      "outputs": [
        {
          "output_type": "execute_result",
          "data": {
            "text/plain": [
              "'a3cfb7f093ccd29'"
            ],
            "application/vnd.google.colaboratory.intrinsic+json": {
              "type": "string"
            }
          },
          "metadata": {},
          "execution_count": 21
        }
      ]
    },
    {
      "cell_type": "code",
      "execution_count": 20,
      "metadata": {
        "id": "BYv7t0nYGp23"
      },
      "outputs": [],
      "source": [
        "# tutorial/3_submit_test/gp-submit_test.ipynb"
      ]
    },
    {
      "cell_type": "code",
      "source": [],
      "metadata": {
        "id": "PMUT773LLjTj"
      },
      "execution_count": null,
      "outputs": []
    }
  ]
}