{
  "nbformat": 4,
  "nbformat_minor": 0,
  "metadata": {
    "colab": {
      "provenance": [],
      "collapsed_sections": [
        "ft-wdon0J9He",
        "lJR1y36zZq0J",
        "svyklvHAQ_Ax",
        "3eKjmK3A37Fy",
        "LH5QSWbh3sB_"
      ],
      "authorship_tag": "ABX9TyNChdnCrVchSyIepN4XoM/5",
      "include_colab_link": true
    },
    "kernelspec": {
      "name": "python3",
      "display_name": "Python 3"
    },
    "language_info": {
      "name": "python"
    },
    "accelerator": "GPU",
    "gpuClass": "standard"
  },
  "cells": [
    {
      "cell_type": "markdown",
      "metadata": {
        "id": "view-in-github",
        "colab_type": "text"
      },
      "source": [
        "<a href=\"https://colab.research.google.com/github/RO-AD/waymo-od-motion-pred/blob/main/tutorial/3_submit_test/gp-submit_test.ipynb\" target=\"_parent\"><img src=\"https://colab.research.google.com/assets/colab-badge.svg\" alt=\"Open In Colab\"/></a>"
      ]
    },
    {
      "cell_type": "markdown",
      "source": [
        "# Submit Test\n",
        "\n",
        "제출 형태도 정해져있으므로 Validation Set을 이용해서 제출해보기.\n",
        "- Waymo에서 제공하는 Motion Prediction 튜토리얼에는 모델 학습까지만 있고 제출용 결과물을 생성하는 코드가 없음.\n",
        "- 다른 challenge 튜토리얼 중 해당 부분이 존재하는 것을 확인.\n",
        "  - [Waymo Open Dataset 3D Semantic Segmentation Tutorial](https://github.com/waymo-research/waymo-open-dataset/blob/master/tutorial/tutorial_3d_semseg.ipynb)\n",
        "- proto만 변경해서 포맷에 맞게 세팅하면 될 것 같음. 해당 코드를 보고 Motion Prediction 제출용 결과물을 만들어보고자 함.\n",
        "  - [motion_submission.proto](https://github.com/waymo-research/waymo-open-dataset/blob/master/src/waymo_open_dataset/protos/motion_submission.proto)"
      ],
      "metadata": {
        "id": "VMs0snH2HCDG"
      }
    },
    {
      "cell_type": "markdown",
      "source": [
        "## GCS(Google Cloud Stoarge)에서 Google Drive로 데이터셋 다운받기"
      ],
      "metadata": {
        "id": "ft-wdon0J9He"
      }
    },
    {
      "cell_type": "markdown",
      "source": [
        "google drive를 먼저 colab에 연동한 뒤, 해당 디렉토리에 GCS로부터 데이터셋 다운받기"
      ],
      "metadata": {
        "id": "TvKFf7rnKWAj"
      }
    },
    {
      "cell_type": "code",
      "source": [
        "# GCS에 접근하기 위해 인증\n",
        "\n",
        "from google.colab import auth\n",
        "auth.authenticate_user()"
      ],
      "metadata": {
        "id": "SbBI_c7AKC8C"
      },
      "execution_count": null,
      "outputs": []
    },
    {
      "cell_type": "code",
      "source": [
        "# GCS 데이터 용량 확인. 전체를 다운받기에는 구글 클라우드로 감당이 안될듯.\n",
        "!gsutil ls -l \"gs://waymo_open_dataset_motion_v_1_2_0/uncompressed/\" | xargs -I{} gsutil du -sh  {}"
      ],
      "metadata": {
        "colab": {
          "base_uri": "https://localhost:8080/"
        },
        "id": "1hSePOVEBNyt",
        "outputId": "f035dd8e-4bec-4a32-9608-0feda481b742"
      },
      "execution_count": null,
      "outputs": [
        {
          "output_type": "stream",
          "name": "stdout",
          "text": [
            "0 B          gs://waymo_open_dataset_motion_v_1_2_0/uncompressed/lidar\n",
            "645.92 GiB   gs://waymo_open_dataset_motion_v_1_2_0/uncompressed/scenario\n",
            "1.08 TiB     gs://waymo_open_dataset_motion_v_1_2_0/uncompressed/tf_example\n"
          ]
        }
      ]
    },
    {
      "cell_type": "code",
      "source": [
        "# 라이다 데이터 validation set만 확인\n",
        "!gsutil du -ch -s \"gs://waymo_open_dataset_motion_v_1_2_0/uncompressed/lidar/validation\""
      ],
      "metadata": {
        "id": "pg4Ow6AVRHDJ",
        "colab": {
          "base_uri": "https://localhost:8080/"
        },
        "outputId": "28cfc866-15f9-41ad-9eed-929cef2e719f"
      },
      "execution_count": null,
      "outputs": [
        {
          "output_type": "stream",
          "name": "stdout",
          "text": [
            "200.35 GiB   gs://waymo_open_dataset_motion_v_1_2_0/uncompressed/lidar/validation\n",
            "200.35 GiB   total\n"
          ]
        }
      ]
    },
    {
      "cell_type": "code",
      "source": [
        "# 시나리오 데이터 validation set만 확인\n",
        "!gsutil du -ch -s \"gs://waymo_open_dataset_motion_v_1_2_0/uncompressed/scenario/validation\""
      ],
      "metadata": {
        "id": "4jbBZ0DhSE4K",
        "colab": {
          "base_uri": "https://localhost:8080/"
        },
        "outputId": "70f6e87b-ff89-459a-9158-cbec88aa6fbf"
      },
      "execution_count": null,
      "outputs": [
        {
          "output_type": "stream",
          "name": "stdout",
          "text": [
            "38.4 GiB     gs://waymo_open_dataset_motion_v_1_2_0/uncompressed/scenario/validation\n",
            "38.4 GiB     total\n"
          ]
        }
      ]
    },
    {
      "cell_type": "markdown",
      "source": [
        "데이터셋을 저장할 Google Drive를 마운트"
      ],
      "metadata": {
        "id": "oQzICo10SfAo"
      }
    },
    {
      "cell_type": "code",
      "source": [
        "from google.colab import drive\n",
        "drive.mount('/content/drive')"
      ],
      "metadata": {
        "colab": {
          "base_uri": "https://localhost:8080/"
        },
        "id": "AxcCoGfSKQp0",
        "outputId": "6a5388f6-5902-4ce8-af37-3ebdb914a900"
      },
      "execution_count": null,
      "outputs": [
        {
          "output_type": "stream",
          "name": "stdout",
          "text": [
            "Drive already mounted at /content/drive; to attempt to forcibly remount, call drive.mount(\"/content/drive\", force_remount=True).\n"
          ]
        }
      ]
    },
    {
      "cell_type": "code",
      "source": [
        "# 구글 드라이브 위치. 마운트 잘 됐는지 확인.\n",
        "GDRIVE_WOD_PATH = \"/content/drive/MyDrive/waymo-od-dataset/motion_v_1_2_0/uncompressed\"\n",
        "\n",
        "!ls -al {GDRIVE_WOD_PATH}"
      ],
      "metadata": {
        "colab": {
          "base_uri": "https://localhost:8080/"
        },
        "id": "TyVmJ0LXAJis",
        "outputId": "5765ddcb-0fb8-4701-ca27-f30529fd3068"
      },
      "execution_count": null,
      "outputs": [
        {
          "output_type": "stream",
          "name": "stdout",
          "text": [
            "total 12\n",
            "drwx------ 2 root root 4096 Apr 14 03:28 .ipynb_checkpoints\n",
            "drwx------ 3 root root 4096 Apr 14 00:03 lidar\n",
            "drwx------ 2 root root 4096 Mar 29 06:17 tf_example\n"
          ]
        }
      ]
    },
    {
      "cell_type": "markdown",
      "source": [
        "GCS로부터 데이터셋을 다운로드. 라이다 데이터도 다운받으려고 했는데 몇시간 기다리다가 지쳐서 일단 보류. 당장 필요한 시나리오 데이터만 우선 받아본다"
      ],
      "metadata": {
        "id": "nJ8uDp9AwmUL"
      }
    },
    {
      "cell_type": "code",
      "source": [
        "# 시나리오 데이터 다운로드\n",
        "\n",
        "%%time\n",
        "%%capture\n",
        "\n",
        "!mkdir {GDRIVE_WOD_PATH}/scenario\n",
        "\n",
        "!gsutil -m cp -r \\\n",
        "  \"gs://waymo_open_dataset_motion_v_1_2_0/uncompressed/scenario/validation\" \\\n",
        "  {GDRIVE_WOD_PATH}/scenario/"
      ],
      "metadata": {
        "id": "8w1xDG5TKD4G",
        "colab": {
          "base_uri": "https://localhost:8080/"
        },
        "outputId": "8a159e25-0427-4210-897e-5f6bd70849e1"
      },
      "execution_count": null,
      "outputs": [
        {
          "output_type": "stream",
          "name": "stdout",
          "text": [
            "CPU times: user 6.6 s, sys: 1.27 s, total: 7.86 s\n",
            "Wall time: 12min 1s\n"
          ]
        }
      ]
    },
    {
      "cell_type": "code",
      "source": [
        "from google.colab import drive\n",
        "drive.flush_and_unmount()"
      ],
      "metadata": {
        "id": "H9VDTzjhRtiV"
      },
      "execution_count": null,
      "outputs": []
    },
    {
      "cell_type": "markdown",
      "source": [
        "## 환경세팅"
      ],
      "metadata": {
        "id": "lJR1y36zZq0J"
      }
    },
    {
      "cell_type": "code",
      "source": [
        "%%capture\n",
        "\n",
        "!pip3 install --upgrade pip\n",
        "!pip install waymo-open-dataset-tf-2-11-0==1.5.1 # 최신 버전으로 한 번 해볼까나?"
      ],
      "metadata": {
        "id": "LMoDZwAeZvAI"
      },
      "execution_count": 2,
      "outputs": []
    },
    {
      "cell_type": "code",
      "source": [
        "from google.colab import drive\n",
        "drive.mount('/content/drive')\n",
        "\n",
        "# 마운트 확인\n",
        "GDRIVE_WOD_PATH = \"/content/drive/MyDrive/waymo-od-dataset/motion_v_1_2_0/uncompressed\"\n",
        "VALIDSET_PATH   = GDRIVE_WOD_PATH + \"/scenario/validation\"\n",
        "\n",
        "!ls -al {VALIDSET_PATH} | wc -l"
      ],
      "metadata": {
        "colab": {
          "base_uri": "https://localhost:8080/"
        },
        "id": "iQgkw3wb3jHq",
        "outputId": "3607d7c7-774c-4f95-93a6-6cfa7fe8fe21"
      },
      "execution_count": 3,
      "outputs": [
        {
          "output_type": "stream",
          "name": "stdout",
          "text": [
            "Mounted at /content/drive\n",
            "151\n"
          ]
        }
      ]
    },
    {
      "cell_type": "markdown",
      "source": [
        "## 데이터셋 로드"
      ],
      "metadata": {
        "id": "svyklvHAQ_Ax"
      }
    },
    {
      "cell_type": "code",
      "source": [
        "import glob\n",
        "\n",
        "# 로컬 디렉토리에 저장된 TFRecord 파일들의 경로 리스트 생성\n",
        "file_paths = glob.glob(VALIDSET_PATH + \"/*.tfrecord*\")\n",
        "len(file_paths)"
      ],
      "metadata": {
        "colab": {
          "base_uri": "https://localhost:8080/"
        },
        "id": "m5CeKfboV1sc",
        "outputId": "1ed07a4b-ea4e-4d52-8dbe-402cf88cacc3"
      },
      "execution_count": 4,
      "outputs": [
        {
          "output_type": "execute_result",
          "data": {
            "text/plain": [
              "150"
            ]
          },
          "metadata": {},
          "execution_count": 4
        }
      ]
    },
    {
      "cell_type": "code",
      "source": [
        "import tensorflow as tf\n",
        "\n",
        "# TFRecordDataset 클래스를 사용하여 데이터를 읽어들임\n",
        "dataset = tf.data.TFRecordDataset(file_paths, compression_type='')"
      ],
      "metadata": {
        "id": "GjiMm7G4Y1KX"
      },
      "execution_count": 5,
      "outputs": []
    },
    {
      "cell_type": "code",
      "source": [
        "# 데이터셋 한 개만 읽어보기\n",
        "from waymo_open_dataset.protos import scenario_pb2\n",
        "\n",
        "for data in dataset:\n",
        "  scenario = scenario_pb2.Scenario()\n",
        "  scenario.ParseFromString(bytearray(data.numpy()))\n",
        "  break\n",
        "\n",
        "scenario.scenario_id"
      ],
      "metadata": {
        "colab": {
          "base_uri": "https://localhost:8080/",
          "height": 0
        },
        "id": "jDsHjcZvZk9_",
        "outputId": "8958349c-c014-45c9-cb73-30f0b0991936"
      },
      "execution_count": 6,
      "outputs": [
        {
          "output_type": "execute_result",
          "data": {
            "text/plain": [
              "'a3cfb7f093ccd29'"
            ],
            "application/vnd.google.colaboratory.intrinsic+json": {
              "type": "string"
            }
          },
          "metadata": {},
          "execution_count": 6
        }
      ]
    },
    {
      "cell_type": "markdown",
      "source": [
        "## motion_submission import 및 metadata 채워보기"
      ],
      "metadata": {
        "id": "3eKjmK3A37Fy"
      }
    },
    {
      "cell_type": "markdown",
      "source": [
        "\n",
        "- [motion_submission.proto](https://github.com/waymo-research/waymo-open-dataset/blob/master/src/waymo_open_dataset/protos/motion_submission.proto) 참고\n",
        "\n",
        "```\n",
        "// A set of ScenarioPredictions protos. A ScenarioPredictions proto for each\n",
        "// example in the test or validation set must be included for a valid\n",
        "// submission.\n",
        "message MotionChallengeSubmission {\n",
        "  enum SubmissionType {\n",
        "    UNKNOWN = 0;\n",
        "\n",
        "    // A submission for the Waymo open dataset motion prediction challenge.\n",
        "    MOTION_PREDICTION = 1;\n",
        "\n",
        "    // A submission for the Waymo open dataset interaction prediction challenge.\n",
        "    INTERACTION_PREDICTION = 2;\n",
        "  }\n",
        "\n",
        "  // This must be set as the full email used to register at waymo.com/open.\n",
        "  optional string account_name = 3;\n",
        "\n",
        "  // This name needs to be short, descriptive and unique. Only the latest result\n",
        "  // of the method from a user will show up on the leaderboard.\n",
        "  optional string unique_method_name = 4;\n",
        "\n",
        "  // Author information.\n",
        "  repeated string authors = 5;\n",
        "  optional string affiliation = 6;\n",
        "\n",
        "  // A brief description of the method.\n",
        "  optional string description = 7;\n",
        "\n",
        "  // Link to paper or other link that describes the method.\n",
        "  optional string method_link = 8;\n",
        "\n",
        "  // The challenge submission type.\n",
        "  optional SubmissionType submission_type = 2;\n",
        "\n",
        "  // Set this to true if your model uses the lidar data provided in the motion\n",
        "  // dataset.\n",
        "  optional bool uses_lidar_data = 9;\n",
        "\n",
        "  // The set of scenario predictions to evaluate. One entry should exist for\n",
        "  // every record in the test set.\n",
        "  repeated ChallengeScenarioPredictions scenario_predictions = 1;\n",
        "}\n",
        "```"
      ],
      "metadata": {
        "id": "M_REo7CKv76V"
      }
    },
    {
      "cell_type": "code",
      "source": [
        "from waymo_open_dataset.protos import motion_submission_pb2\n",
        "\n",
        "submission = motion_submission_pb2.MotionChallengeSubmission()\n",
        "\n",
        "submission.account_name = 'dlwotmd1998@gmail.com'\n",
        "submission.unique_method_name = 'JSNet'\n",
        "submission.authors.append('Jaeseung Lee')\n",
        "submission.authors.append('Hyojin Lee')\n",
        "submission.affiliation = 'RO:AD'\n",
        "submission.description = \"Validation Set Test\"\n",
        "submission.method_link = 'NA'\n",
        "submission.submission_type = submission.MOTION_PREDICTION\n",
        "submission.uses_lidar_data = False\n",
        "submission.scenario_predictions # 이 부분이 실제 예측 값을 넣는 부분\n",
        "\n",
        "submission"
      ],
      "metadata": {
        "colab": {
          "base_uri": "https://localhost:8080/"
        },
        "id": "WG79fYf7xJVz",
        "outputId": "bc368de5-8ca0-4fc7-9f6e-cead8d5464e3"
      },
      "execution_count": 7,
      "outputs": [
        {
          "output_type": "execute_result",
          "data": {
            "text/plain": [
              "submission_type: MOTION_PREDICTION\n",
              "account_name: \"dlwotmd1998@gmail.com\"\n",
              "unique_method_name: \"JSNet\"\n",
              "authors: \"Jaeseung Lee\"\n",
              "authors: \"Hyojin Lee\"\n",
              "affiliation: \"RO:AD\"\n",
              "description: \"Validation Set Test\"\n",
              "method_link: \"NA\"\n",
              "uses_lidar_data: false"
            ]
          },
          "metadata": {},
          "execution_count": 7
        }
      ]
    },
    {
      "cell_type": "markdown",
      "source": [
        "## prediction 결과를 담는 구조 파악해보기"
      ],
      "metadata": {
        "id": "LH5QSWbh3sB_"
      }
    },
    {
      "cell_type": "markdown",
      "source": [
        "- 이제 **ChallengeScenarioPredictions[ ]** 자료형의 **scenario_predictions**를 채워주면 된다.\n",
        "\n",
        "```\n",
        "// A set of predictions for a single scenario.\n",
        "message ChallengeScenarioPredictions {\n",
        "  // The unique ID of the scenario being predicted. This ID must match the\n",
        "  // scenario_id field in the test or validation set tf.Example or scenario\n",
        "  // proto corresponding to this set of predictions.\n",
        "  optional string scenario_id = 1;\n",
        "\n",
        "  // The predictions for the scenario. For the motion prediction challenge,\n",
        "  // populate the predictions field. For the interaction prediction challenge,\n",
        "  // populate the joint_predictions_field.\n",
        "  oneof prediction_set {\n",
        "    // Single object predictions. This must be populated for the motion\n",
        "    // prediction challenge.\n",
        "    // 우리는 요거!!\n",
        "    PredictionSet single_predictions = 2;\n",
        "\n",
        "    // Joint predictions for the interacting objects. This must be populated for\n",
        "    // the interaction prediction challenge.\n",
        "    JointPrediction joint_prediction = 3;\n",
        "  }\n",
        "}\n",
        "```\n",
        "\n",
        "- **prediction_set**은 motion prediction challenge 이기 때문에 single_predictions를 선택한다\n",
        "- single_predictions은 **PredictionSet** 자료형을 가진다"
      ],
      "metadata": {
        "id": "DzyG1xfG4Dga"
      }
    },
    {
      "cell_type": "markdown",
      "source": [
        "```\n",
        "message PredictionSet {\n",
        "  // A list of predictions for the required objects in the scene. These must\n",
        "  // exactly match the objects in the tracks_to_predict field of the test\n",
        "  // scenario or tf.Example.\n",
        "  repeated SingleObjectPrediction predictions = 1;\n",
        "}\n",
        "```\n",
        "\n",
        "```\n",
        "message SingleObjectPrediction {\n",
        "  // The ID of the object being predicted. This must match the object_id field\n",
        "  // in the test or validation set tf.Example or scenario proto corresponding to\n",
        "  // this prediction. Note this must be the same as the object_id in the\n",
        "  // scenario track or the state/id field in the tf.Example, not the track\n",
        "  // index.\n",
        "  optional int32 object_id = 1;\n",
        "\n",
        "  // A set of up to 6 trajectory predictions for this object with varying\n",
        "  // confidences. Any predictions past the first six will be discarded.\n",
        "  repeated ScoredTrajectory trajectories = 2;\n",
        "}\n",
        "```\n",
        "\n",
        "```\n",
        "message ScoredTrajectory {\n",
        "  // The object predicted trajectory.\n",
        "  optional Trajectory trajectory = 1;\n",
        "\n",
        "  // An optional confidence measure for this joint prediction. These confidence\n",
        "  // scores should reflect confidence in the existence of the trajectory across\n",
        "  // scenes, not normalized within a scene or per-agent.\n",
        "  optional float confidence = 2;\n",
        "}\n",
        "```\n",
        "\n",
        "```\n",
        "message Trajectory {\n",
        "  // The predicted trajectory positions.\n",
        "  // For the Waymo prediction challenges, these fields must be exactly\n",
        "  // length 16 - 8 seconds with 2 steps per second starting at timestamp 1.5\n",
        "  // (step 15) in the scenario.\n",
        "  // IMPORTANT: For the challenges, the first entry in each of these fields must\n",
        "  // correspond to time step 15 in the scenario NOT step 10 or 11 (i.e. the\n",
        "  // entries in these fields must correspond to steps 15, 20, 25, ... 85, 90 in\n",
        "  // the scenario).\n",
        "  repeated float center_x = 2 [packed = true];\n",
        "  repeated float center_y = 3 [packed = true];\n",
        "}\n",
        "```\n",
        "\n",
        "- 드디어 실제 좌표값을 담는 부분까지 찾았다. 이제 내용을 담아 submission 결과물을 만들어본다"
      ],
      "metadata": {
        "id": "wfC7-vS21-mK"
      }
    },
    {
      "cell_type": "markdown",
      "source": [
        "## Validation 내 내용을 그대로 제출해보기"
      ],
      "metadata": {
        "id": "BVYHZ7k94rWv"
      }
    },
    {
      "cell_type": "code",
      "source": [
        "import glob\n",
        "import tensorflow as tf\n",
        "\n",
        "GDRIVE_WOD_PATH = \"/content/drive/MyDrive/waymo-od-dataset/motion_v_1_2_0/uncompressed\"\n",
        "VALIDSET_PATH   = GDRIVE_WOD_PATH + \"/scenario/validation\"\n",
        "\n",
        "file_paths = glob.glob(VALIDSET_PATH + \"/*.tfrecord*\")\n",
        "print(len(file_paths))\n",
        "\n",
        "dataset = tf.data.TFRecordDataset(file_paths, compression_type='')"
      ],
      "metadata": {
        "colab": {
          "base_uri": "https://localhost:8080/"
        },
        "id": "AXBz_4V_51n7",
        "outputId": "d4821b39-d6e9-41a3-952e-76e02de7bb57"
      },
      "execution_count": 16,
      "outputs": [
        {
          "output_type": "stream",
          "name": "stdout",
          "text": [
            "150\n"
          ]
        }
      ]
    },
    {
      "cell_type": "code",
      "source": [
        "from waymo_open_dataset.protos import motion_submission_pb2\n",
        "\n",
        "submission = motion_submission_pb2.MotionChallengeSubmission()\n",
        "\n",
        "submission.account_name = 'dlwotmd1998@gmail.com'\n",
        "submission.unique_method_name = 'JSNet'\n",
        "submission.authors.extend(['Jaeseung Lee', 'Hyojin Lee'])\n",
        "submission.affiliation = 'RO:AD'\n",
        "submission.description = \"Validation Set Test\"\n",
        "submission.method_link = 'NA'\n",
        "submission.submission_type = submission.MOTION_PREDICTION\n",
        "submission.uses_lidar_data = False\n",
        "\n",
        "submission"
      ],
      "metadata": {
        "colab": {
          "base_uri": "https://localhost:8080/"
        },
        "id": "Y6dG7W2OEnyY",
        "outputId": "abce59a5-b7da-4d2e-862e-2f7bb611d62c"
      },
      "execution_count": 17,
      "outputs": [
        {
          "output_type": "execute_result",
          "data": {
            "text/plain": [
              "submission_type: MOTION_PREDICTION\n",
              "account_name: \"dlwotmd1998@gmail.com\"\n",
              "unique_method_name: \"JSNet\"\n",
              "authors: \"Jaeseung Lee\"\n",
              "authors: \"Hyojin Lee\"\n",
              "affiliation: \"RO:AD\"\n",
              "description: \"Validation Set Test\"\n",
              "method_link: \"NA\"\n",
              "uses_lidar_data: false"
            ]
          },
          "metadata": {},
          "execution_count": 17
        }
      ]
    },
    {
      "cell_type": "code",
      "source": [
        "%%time\n",
        "\n",
        "from waymo_open_dataset.protos import scenario_pb2\n",
        "\n",
        "cnt = 1\n",
        "for data in dataset:\n",
        "  if cnt % 10000 == 0:\n",
        "    print(f\"** Scenario {cnt}\")\n",
        "  cnt += 1\n",
        "  \n",
        "  scenario = scenario_pb2.Scenario()\n",
        "  scenario.ParseFromString(bytearray(data.numpy()))\n",
        "\n",
        "  if len(scenario.tracks_to_predict) == 0:\n",
        "    continue\n",
        "\n",
        "  scenario_preds = motion_submission_pb2.ChallengeScenarioPredictions()\n",
        "  scenario_preds.scenario_id = scenario.scenario_id\n",
        "\n",
        "  for ttp in scenario.tracks_to_predict:\n",
        "    track = scenario.tracks[ttp.track_index]\n",
        "    prediction = motion_submission_pb2.SingleObjectPrediction()\n",
        "    prediction.object_id = track.id\n",
        "\n",
        "    scored_trajectory = motion_submission_pb2.ScoredTrajectory()\n",
        "\n",
        "    # 예측해야하는 답안. future. 8초간 0.5초씩 총 16개의 (x,y)를 예측\n",
        "    # 시작 지점은 15번째부터.\n",
        "    future_states = track.states[15::5]\n",
        "    for state in future_states:\n",
        "      scored_trajectory.trajectory.center_x.append(state.center_x)\n",
        "      scored_trajectory.trajectory.center_y.append(state.center_y)\n",
        "    prediction.trajectories.append(scored_trajectory)\n",
        "\n",
        "    scenario_preds.single_predictions.predictions.append(prediction)\n",
        "\n",
        "  submission.scenario_predictions.append(scenario_preds) # submission에 추가하기\n",
        "\n",
        "print(f\"** Scenario {cnt}\")"
      ],
      "metadata": {
        "colab": {
          "base_uri": "https://localhost:8080/"
        },
        "id": "6ecKzs_lEtko",
        "outputId": "694011f0-ba61-48d7-8d17-c393b701374d"
      },
      "execution_count": 18,
      "outputs": [
        {
          "output_type": "stream",
          "name": "stdout",
          "text": [
            "** Scenario 10000\n",
            "** Scenario 20000\n",
            "** Scenario 30000\n",
            "** Scenario 40000\n",
            "** Scenario 44098\n",
            "CPU times: user 22min 15s, sys: 28.7 s, total: 22min 44s\n",
            "Wall time: 25min 5s\n"
          ]
        }
      ]
    },
    {
      "cell_type": "markdown",
      "source": [
        "- 약 20분정도 걸림 (동적으로 데이터셋 로드하고 해제하다보니 반복이 느림)"
      ],
      "metadata": {
        "id": "HxS-utWWkVyg"
      }
    },
    {
      "cell_type": "code",
      "source": [
        "import tarfile\n",
        "from time import time\n",
        "import io\n",
        "from google.colab import files\n",
        "\n",
        "timestamp = str(time()).split('.')[0]\n",
        "fname = f'result-{timestamp}.tar.gz'\n",
        "\n",
        "# submission 파일의 형태는 bin이지만, tarball(tar.gz)로 압축해서 제출해야 함.\n",
        "with tarfile.open(fname, \"w:gz\") as tar:\n",
        "    f = io.BytesIO(submission.SerializeToString())\n",
        "    info = tarfile.TarInfo(name=fname)\n",
        "    info.size = len(f.getvalue())\n",
        "    tar.addfile(tarinfo=info, fileobj=f)\n",
        "\n",
        "files.download(fname)"
      ],
      "metadata": {
        "colab": {
          "base_uri": "https://localhost:8080/",
          "height": 17
        },
        "id": "PgpQnJ7jFaUg",
        "outputId": "e9cf0ffd-c4a0-44e8-ab10-d30e27253170"
      },
      "execution_count": 19,
      "outputs": [
        {
          "output_type": "display_data",
          "data": {
            "text/plain": [
              "<IPython.core.display.Javascript object>"
            ],
            "application/javascript": [
              "\n",
              "    async function download(id, filename, size) {\n",
              "      if (!google.colab.kernel.accessAllowed) {\n",
              "        return;\n",
              "      }\n",
              "      const div = document.createElement('div');\n",
              "      const label = document.createElement('label');\n",
              "      label.textContent = `Downloading \"${filename}\": `;\n",
              "      div.appendChild(label);\n",
              "      const progress = document.createElement('progress');\n",
              "      progress.max = size;\n",
              "      div.appendChild(progress);\n",
              "      document.body.appendChild(div);\n",
              "\n",
              "      const buffers = [];\n",
              "      let downloaded = 0;\n",
              "\n",
              "      const channel = await google.colab.kernel.comms.open(id);\n",
              "      // Send a message to notify the kernel that we're ready.\n",
              "      channel.send({})\n",
              "\n",
              "      for await (const message of channel.messages) {\n",
              "        // Send a message to notify the kernel that we're ready.\n",
              "        channel.send({})\n",
              "        if (message.buffers) {\n",
              "          for (const buffer of message.buffers) {\n",
              "            buffers.push(buffer);\n",
              "            downloaded += buffer.byteLength;\n",
              "            progress.value = downloaded;\n",
              "          }\n",
              "        }\n",
              "      }\n",
              "      const blob = new Blob(buffers, {type: 'application/binary'});\n",
              "      const a = document.createElement('a');\n",
              "      a.href = window.URL.createObjectURL(blob);\n",
              "      a.download = filename;\n",
              "      div.appendChild(a);\n",
              "      a.click();\n",
              "      div.remove();\n",
              "    }\n",
              "  "
            ]
          },
          "metadata": {}
        },
        {
          "output_type": "display_data",
          "data": {
            "text/plain": [
              "<IPython.core.display.Javascript object>"
            ],
            "application/javascript": [
              "download(\"download_7715610d-54fd-4c8f-ba9f-04e2c0c210ed\", \"result-1681584772.tar.gz\", 22184452)"
            ]
          },
          "metadata": {}
        }
      ]
    },
    {
      "cell_type": "markdown",
      "source": [
        "![image.png](data:image/png;base64,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)"
      ],
      "metadata": {
        "id": "0JUE4RnkWjbP"
      }
    },
    {
      "cell_type": "markdown",
      "source": [
        "## 기타"
      ],
      "metadata": {
        "id": "8I6NuYqmEktm"
      }
    },
    {
      "cell_type": "markdown",
      "source": [
        "**Waymo 제출 시 메세지 정리**\n",
        "- This submission could not be found. If it was recently uploaded, it may still be processing. Check back in a few minutes.\n",
        "  - 업로드 한 직후 뜨는 메세지. 상황에 따라 다르지만 최소 15분정도 소요된다. 15분동안 다른 일 보다가 돌아오자.\n",
        "- INVALID_ARGUMENT\n",
        "  - INVALID_ARGUMENT: Not enough scenario predictions in submission : {숫자}\n",
        "    - 시나리오 몇개 빼먹었을 때. 처음에 너무 오래걸려서 for문에 break 넣었다가 맞이한 오류\n",
        "  - INVALID_ARGUMENT: Duplicate prediction scenario ID found : {시나리오 ID}\n",
        "    - 중복된 시나리오가 존재할 때. 중복이 발생한 원인 찾는게 머리아픔,,\n",
        "- CANCELLED\n",
        "  - CANCELLED: Invalid predicted trajectory length. Expected : 16 found : 0 trajectory : object_id: 1315\n",
        "    - 예측해야 할 trajectory인 16개가 충족되지 않은 경우. found 다음에 오는 숫자가 문제되는 부분이다. 16개의 궤적이 들어가야 하지만 내 데이터에는 0개라는 뜻.\n",
        "  - CANCELLED: Invalid predicted trajectory length. Expected : 16 found : 1 trajectory : object_id: 3039 center_x: -2903.2134 center_y: -8315.674\n",
        "    - 위와 마찬가지다. 이번에는 center_x가 array인데 여기에 16개를 넣지 않고 1개만 넣어서 발생."
      ],
      "metadata": {
        "id": "lY7DLELWP4fw"
      }
    },
    {
      "cell_type": "code",
      "execution_count": null,
      "metadata": {
        "id": "BYv7t0nYGp23"
      },
      "outputs": [],
      "source": [
        "# tutorial/3_submit_test/gp-submit_test.ipynb"
      ]
    }
  ]
}