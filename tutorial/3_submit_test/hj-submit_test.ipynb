{
  "nbformat": 4,
  "nbformat_minor": 0,
  "metadata": {
    "colab": {
      "provenance": [],
      "authorship_tag": "ABX9TyOPm/rJPZcbs6g+tKs8sllK",
      "include_colab_link": true
    },
    "kernelspec": {
      "name": "python3",
      "display_name": "Python 3"
    },
    "language_info": {
      "name": "python"
    }
  },
  "cells": [
    {
      "cell_type": "markdown",
      "metadata": {
        "id": "view-in-github",
        "colab_type": "text"
      },
      "source": [
        "<a href=\"https://colab.research.google.com/github/RO-AD/waymo-od-motion-pred/blob/main/tutorial/3_submit_test/hj-submit_test.ipynb\" target=\"_parent\"><img src=\"https://colab.research.google.com/assets/colab-badge.svg\" alt=\"Open In Colab\"/></a>"
      ]
    },
    {
      "cell_type": "markdown",
      "source": [
        "tutorial/3_submit_test/hj-submit_test.ipynb"
      ],
      "metadata": {
        "id": "XOuPbulLH5bd"
      }
    },
    {
      "cell_type": "markdown",
      "source": [
        "# Submit Test"
      ],
      "metadata": {
        "id": "IkM2fvc3H6xc"
      }
    },
    {
      "cell_type": "markdown",
      "source": [
        "Test Set은 30일에 3번만 제출 가능하지만, Validation Set은 무제한으로 제출 가능하다. Validationo Set으로 Submit Test 해보려고 한다."
      ],
      "metadata": {
        "id": "C-n-rsBuKBBN"
      }
    },
    {
      "cell_type": "markdown",
      "source": [
        "아래 명령은 Google Storage에 있는 Waymo Open Dataset을 구글 드라이브로 다운받는 명령어다. Validation Set만 약 74GB이므로 유료 결제한 재승이 구글 드라이브에 올리고 공유해서 사용해보려고 한다.\n",
        "```\n",
        "from google.colab import auth\n",
        "auth.authenticate_user()\n",
        "\n",
        "from google.colab import drive\n",
        "from oauth2client.client import GoogleCredentials\n",
        "creds = GoogleCredentials.get_application_default()\n",
        "drive.mount('/content/drive', force_remount=True)\n",
        "\n",
        "!gsutil -m cp -r \\\n",
        "  \"gs://waymo_open_dataset_motion_v_1_2_0/uncompressed/tf_example/validation\" \\\n",
        "  /content/drive/MyDrive/WaymoDataset/Validation/\n",
        "```"
      ],
      "metadata": {
        "id": "GCsTEw9nKPX0"
      }
    },
    {
      "cell_type": "markdown",
      "source": [
        "- 구글 드라이브 연동"
      ],
      "metadata": {
        "id": "y7THQU1eMUeM"
      }
    },
    {
      "cell_type": "code",
      "execution_count": 5,
      "metadata": {
        "colab": {
          "base_uri": "https://localhost:8080/"
        },
        "id": "laeY3EznHxrv",
        "outputId": "87f1593d-d7ed-4e85-db6f-74b9791140a0"
      },
      "outputs": [
        {
          "output_type": "stream",
          "name": "stdout",
          "text": [
            "Drive already mounted at /content/drive; to attempt to forcibly remount, call drive.mount(\"/content/drive\", force_remount=True).\n"
          ]
        }
      ],
      "source": [
        "from google.colab import drive\n",
        "drive.mount('/content/drive')"
      ]
    },
    {
      "cell_type": "code",
      "source": [
        "VALIDATION_PATH = \"/content/drive/MyDrive/waymo-od-dataset/waymo_open_dataset_motion_v_1_2_0/uncompressed/tf_example/validation/\""
      ],
      "metadata": {
        "id": "Y1As-NGYIWbQ"
      },
      "execution_count": 19,
      "outputs": []
    },
    {
      "cell_type": "markdown",
      "source": [
        "## Package Installaion"
      ],
      "metadata": {
        "id": "JFSXXwSIWXHR"
      }
    },
    {
      "cell_type": "code",
      "source": [
        "%%capture\n",
        "!pip3 install --upgrade pip\n",
        "!pip3 install waymo-open-dataset-tf-2-6-0"
      ],
      "metadata": {
        "id": "B5FIAQq-WahG"
      },
      "execution_count": 10,
      "outputs": []
    },
    {
      "cell_type": "markdown",
      "source": [
        "## Imports and global definitions"
      ],
      "metadata": {
        "id": "ycY8S244YGsq"
      }
    },
    {
      "cell_type": "code",
      "source": [
        "import os\n",
        "import matplotlib.pyplot as plt\n",
        "import tensorflow as tf\n",
        "import numpy as np\n",
        "\n",
        "tf.enable_eager_execution()\n",
        "\n",
        "from waymo_open_dataset.utils import  frame_utils\n",
        "from waymo_open_dataset import dataset_pb2 as open_dataset\n",
        "from waymo_open_dataset.protos import motion_metrics_pb2\n",
        "from waymo_open_dataset.protos import motion_submission_pb2"
      ],
      "metadata": {
        "id": "T5XRgZpQWb6Q"
      },
      "execution_count": 11,
      "outputs": []
    },
    {
      "cell_type": "code",
      "source": [
        "file_paths = tf.io.gfile.glob(VALIDATION_PATH + \"*.tfrecord*\")"
      ],
      "metadata": {
        "id": "HTgVHWO9YKvP"
      },
      "execution_count": 22,
      "outputs": []
    },
    {
      "cell_type": "markdown",
      "source": [
        "## Read motion prediction labels from Frame proto"
      ],
      "metadata": {
        "id": "3L9wwqsdbiKQ"
      }
    },
    {
      "cell_type": "code",
      "source": [
        "dataset = tf.data.TFRecordDataset(file_paths, compression_type='')\n",
        "for data in dataset :\n",
        "   frame = open_dataset.Frame()\n",
        "   frame.ParseFromString(bytearray(data.numpy()))\n",
        "   break\n",
        "frame"
      ],
      "metadata": {
        "colab": {
          "base_uri": "https://localhost:8080/"
        },
        "id": "brmbJZqII5dd",
        "outputId": "40ba044a-363a-46bb-e752-3b9f039c4d50"
      },
      "execution_count": 31,
      "outputs": [
        {
          "output_type": "execute_result",
          "data": {
            "text/plain": [
              "context {\n",
              "  name: \"\\n\\032traffic_light_state/past/z\\022\\206\\005\\022\\203\\005\\n\\200\\005\\262+\\272A\\211\\317\\272A\\211\\317\\272A\\211\\317\\272A\\000\\000\\200\\277\\000\\000\\200\\277\\000\\000\\200\\277\\000\\000\\200\\277\\000\\000\\200\\277\\000\\000\\200\\277\\000\\000\\200\\277\\000\\000\\200\\277\\000\\000\\200\\277\\000\\000\\200\\277\\000\\000\\200\\277\\000\\000\\200\\277\\262+\\272A\\211\\317\\272A\\211\\317\\272A\\211\\317\\272A\\000\\000\\200\\277\\000\\000\\200\\277\\000\\000\\200\\277\\000\\000\\200\\277\\000\\000\\200\\277\\000\\000\\200\\277\\000\\000\\200\\277\\000\\000\\200\\277\\000\\000\\200\\277\\000\\000\\200\\277\\000\\000\\200\\277\\000\\000\\200\\277\\262+\\272A\\211\\317\\272A\\211\\317\\272A\\211\\317\\272A\\000\\000\\200\\277\\000\\000\\200\\277\\000\\000\\200\\277\\000\\000\\200\\277\\000\\000\\200\\277\\000\\000\\200\\277\\000\\000\\200\\277\\000\\000\\200\\277\\000\\000\\200\\277\\000\\000\\200\\277\\000\\000\\200\\277\\000\\000\\200\\277\\262+\\272A\\211\\317\\272A\\211\\317\\272A\\211\\317\\272A\\000\\000\\200\\277\\000\\000\\200\\277\\000\\000\\200\\277\\000\\000\\200\\277\\000\\000\\200\\277\\000\\000\\200\\277\\000\\000\\200\\277\\000\\000\\200\\277\\000\\000\\200\\277\\000\\000\\200\\277\\000\\000\\200\\277\\000\\000\\200\\277\\262+\\272A\\211\\317\\272A\\211\\317\\272A\\211\\317\\272A\\000\\000\\200\\277\\000\\000\\200\\277\\000\\000\\200\\277\\000\\000\\200\\277\\000\\000\\200\\277\\000\\000\\200\\277\\000\\000\\200\\277\\000\\000\\200\\277\\000\\000\\200\\277\\000\\000\\200\\277\\000\\000\\200\\277\\000\\000\\200\\277\\262+\\272A\\211\\317\\272A\\211\\317\\272A\\211\\317\\272A\\000\\000\\200\\277\\000\\000\\200\\277\\000\\000\\200\\277\\000\\000\\200\\277\\000\\000\\200\\277\\000\\000\\200\\277\\000\\000\\200\\277\\000\\000\\200\\277\\000\\000\\200\\277\\000\\000\\200\\277\\000\\000\\200\\277\\000\\000\\200\\277\\262+\\272A\\211\\317\\272A\\211\\317\\272A\\211\\317\\272A\\000\\000\\200\\277\\000\\000\\200\\277\\000\\000\\200\\277\\000\\000\\200\\277\\000\\000\\200\\277\\000\\000\\200\\277\\000\\000\\200\\277\\000\\000\\200\\277\\000\\000\\200\\277\\000\\000\\200\\277\\000\\000\\200\\277\\000\\000\\200\\277\\262+\\272A\\211\\317\\272A\\211\\317\\272A\\211\\317\\272A\\000\\000\\200\\277\\000\\000\\200\\277\\000\\000\\200\\277\\000\\000\\200\\277\\000\\000\\200\\277\\000\\000\\200\\277\\000\\000\\200\\277\\000\\000\\200\\277\\000\\000\\200\\277\\000\\000\\200\\277\\000\\000\\200\\277\\000\\000\\200\\277\\262+\\272A\\211\\317\\272A\\211\\317\\272A\\211\\317\\272A\\000\\000\\200\\277\\000\\000\\200\\277\\000\\000\\200\\277\\000\\000\\200\\277\\000\\000\\200\\277\\000\\000\\200\\277\\000\\000\\200\\277\\000\\000\\200\\277\\000\\000\\200\\277\\000\\000\\200\\277\\000\\000\\200\\277\\000\\000\\200\\277\\262+\\272A\\211\\317\\272A\\211\\317\\272A\\211\\317\\272A\\000\\000\\200\\277\\000\\000\\200\\277\\000\\000\\200\\277\\000\\000\\200\\277\\000\\000\\200\\277\\000\\000\\200\\277\\000\\000\\200\\277\\000\\000\\200\\277\\000\\000\\200\\277\\000\\000\\200\\277\\000\\000\\200\\277\\000\\000\\200\\277\"\n",
              "}"
            ]
          },
          "metadata": {},
          "execution_count": 31
        }
      ]
    },
    {
      "cell_type": "code",
      "source": [],
      "metadata": {
        "id": "yiQtnMWscfKB"
      },
      "execution_count": null,
      "outputs": []
    }
  ]
}