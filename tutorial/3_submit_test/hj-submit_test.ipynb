{
  "nbformat": 4,
  "nbformat_minor": 0,
  "metadata": {
    "colab": {
      "provenance": [],
      "authorship_tag": "ABX9TyOYRPFXPRph1LIxNQloOOFi",
      "include_colab_link": true
    },
    "kernelspec": {
      "name": "python3",
      "display_name": "Python 3"
    },
    "language_info": {
      "name": "python"
    }
  },
  "cells": [
    {
      "cell_type": "markdown",
      "metadata": {
        "id": "view-in-github",
        "colab_type": "text"
      },
      "source": [
        "<a href=\"https://colab.research.google.com/github/RO-AD/waymo-od-motion-pred/blob/main/tutorial/3_submit_test/hj-submit_test.ipynb\" target=\"_parent\"><img src=\"https://colab.research.google.com/assets/colab-badge.svg\" alt=\"Open In Colab\"/></a>"
      ]
    },
    {
      "cell_type": "markdown",
      "source": [
        "tutorial/3_submit_test/hj-submit_test.ipynb"
      ],
      "metadata": {
        "id": "XOuPbulLH5bd"
      }
    },
    {
      "cell_type": "markdown",
      "source": [
        "# Submit Test"
      ],
      "metadata": {
        "id": "IkM2fvc3H6xc"
      }
    },
    {
      "cell_type": "markdown",
      "source": [
        "Test Set은 30일에 3번만 제출 가능하지만, Validation Set은 무제한으로 제출 가능하다. Validationo Set으로 Submit Test 해보려고 한다."
      ],
      "metadata": {
        "id": "C-n-rsBuKBBN"
      }
    },
    {
      "cell_type": "markdown",
      "source": [
        "아래 명령은 Google Storage에 있는 Waymo Open Dataset을 구글 드라이브로 다운받는 명령어다. Validation Set만 약 74GB이므로 유료 결제한 재승이 구글 드라이브에 올리고 공유해서 사용해보려고 한다.\n",
        "```\n",
        "from google.colab import auth\n",
        "auth.authenticate_user()\n",
        "\n",
        "from google.colab import drive\n",
        "from oauth2client.client import GoogleCredentials\n",
        "creds = GoogleCredentials.get_application_default()\n",
        "drive.mount('/content/drive', force_remount=True)\n",
        "\n",
        "!gsutil -m cp -r \\\n",
        "  \"gs://waymo_open_dataset_motion_v_1_2_0/uncompressed/tf_example/validation\" \\\n",
        "  /content/drive/MyDrive/WaymoDataset/Validation/\n",
        "```"
      ],
      "metadata": {
        "id": "GCsTEw9nKPX0"
      }
    },
    {
      "cell_type": "markdown",
      "source": [
        "## 구글 드라이브 연동"
      ],
      "metadata": {
        "id": "y7THQU1eMUeM"
      }
    },
    {
      "cell_type": "code",
      "execution_count": 1,
      "metadata": {
        "colab": {
          "base_uri": "https://localhost:8080/"
        },
        "id": "laeY3EznHxrv",
        "outputId": "9da30320-ee7e-4909-c424-e387afdf6c64"
      },
      "outputs": [
        {
          "output_type": "stream",
          "name": "stdout",
          "text": [
            "Mounted at /content/drive\n"
          ]
        }
      ],
      "source": [
        "from google.colab import drive\n",
        "drive.mount('/content/drive')"
      ]
    },
    {
      "cell_type": "code",
      "source": [
        "VALIDATION_PATH = \"/content/drive/MyDrive/waymo-od-dataset/motion_v_1_2_0/uncompressed/scenario/validation/\""
      ],
      "metadata": {
        "id": "Y1As-NGYIWbQ"
      },
      "execution_count": 2,
      "outputs": []
    },
    {
      "cell_type": "markdown",
      "source": [
        "## Package Installaion"
      ],
      "metadata": {
        "id": "JFSXXwSIWXHR"
      }
    },
    {
      "cell_type": "code",
      "source": [
        "%%capture\n",
        "!pip3 install --upgrade pip\n",
        "!pip install waymo-open-dataset-tf-2-11-0==1.5.1 # 최신 버전 라이브러리"
      ],
      "metadata": {
        "id": "B5FIAQq-WahG"
      },
      "execution_count": 3,
      "outputs": []
    },
    {
      "cell_type": "markdown",
      "source": [
        "## Imports and global definitions"
      ],
      "metadata": {
        "id": "ycY8S244YGsq"
      }
    },
    {
      "cell_type": "code",
      "source": [
        "import math\n",
        "import os\n",
        "import uuid\n",
        "import time\n",
        "\n",
        "import numpy as np\n",
        "import tensorflow as tf\n",
        "\n",
        "from google.protobuf import text_format\n",
        "from waymo_open_dataset.metrics.ops import py_metrics_ops\n",
        "from waymo_open_dataset.metrics.python import config_util_py as config_util\n",
        "from waymo_open_dataset.protos import motion_metrics_pb2"
      ],
      "metadata": {
        "id": "T5XRgZpQWb6Q"
      },
      "execution_count": 4,
      "outputs": []
    },
    {
      "cell_type": "code",
      "source": [
        "file_paths = tf.io.gfile.glob(VALIDATION_PATH + \"*.tfrecord*\")"
      ],
      "metadata": {
        "id": "HTgVHWO9YKvP"
      },
      "execution_count": 5,
      "outputs": []
    },
    {
      "cell_type": "markdown",
      "source": [
        "## Load motion prediction dataset"
      ],
      "metadata": {
        "id": "3L9wwqsdbiKQ"
      }
    },
    {
      "cell_type": "code",
      "source": [
        "from waymo_open_dataset.protos import scenario_pb2 \n",
        "\n",
        "dataset = tf.data.TFRecordDataset(file_paths, compression_type='')\n",
        "for data in dataset :\n",
        "   scenario = scenario_pb2.Scenario()\n",
        "   scenario.ParseFromString(data.numpy())\n",
        "   break"
      ],
      "metadata": {
        "id": "brmbJZqII5dd"
      },
      "execution_count": 9,
      "outputs": []
    },
    {
      "cell_type": "markdown",
      "source": [
        "## 제출 형태 작성"
      ],
      "metadata": {
        "id": "_eYxyguV9JPQ"
      }
    },
    {
      "cell_type": "markdown",
      "source": [
        "MotionChallengeSubmission 구조\n",
        "```javascript\n",
        "message MotionChallengeSubmission {\n",
        "  enum SubmissionType {\n",
        "    UNKNOWN = 0;\n",
        "\n",
        "    // A submission for the Waymo open dataset motion prediction challenge.\n",
        "    MOTION_PREDICTION = 1;\n",
        "\n",
        "    // A submission for the Waymo open dataset interaction prediction challenge.\n",
        "    INTERACTION_PREDICTION = 2;\n",
        "  }\n",
        "\n",
        "  // This must be set as the full email used to register at waymo.com/open.\n",
        "  optional string account_name = 3;\n",
        "\n",
        "  // This name needs to be short, descriptive and unique. Only the latest result\n",
        "  // of the method from a user will show up on the leaderboard.\n",
        "  optional string unique_method_name = 4;\n",
        "\n",
        "  // Author information.\n",
        "  repeated string authors = 5;\n",
        "  optional string affiliation = 6;\n",
        "\n",
        "  // A brief description of the method.\n",
        "  optional string description = 7;\n",
        "\n",
        "  // Link to paper or other link that describes the method.\n",
        "  optional string method_link = 8;\n",
        "\n",
        "  // The challenge submission type.\n",
        "  optional SubmissionType submission_type = 2;\n",
        "\n",
        "  // Set this to true if your model uses the lidar data provided in the motion\n",
        "  // dataset.\n",
        "  optional bool uses_lidar_data = 9;\n",
        "\n",
        "  // The set of scenario predictions to evaluate. One entry should exist for\n",
        "  // every record in the test set.\n",
        "  repeated ChallengeScenarioPredictions scenario_predictions = 1;\n",
        "}\n",
        "```"
      ],
      "metadata": {
        "id": "iwePJ_etEp1W"
      }
    },
    {
      "cell_type": "code",
      "source": [
        "from waymo_open_dataset.protos import motion_submission_pb2\n",
        "\n",
        "submission = motion_submission_pb2.MotionChallengeSubmission()\n",
        "\n",
        "submission.account_name = 'hyocurity@gmail.com'\n",
        "submission.unique_method_name = 'HJNet'\n",
        "submission.authors.append('Hyojin Lee')\n",
        "submission.authors.append('Jaeseung Lee')\n",
        "submission.affiliation = 'RO:AD'\n",
        "submission.description = \"Validation Set Test\"\n",
        "submission.method_link = 'NA'\n",
        "submission.submission_type = submission.MOTION_PREDICTION\n",
        "submission.uses_lidar_data = False\n",
        "\n",
        "submission"
      ],
      "metadata": {
        "colab": {
          "base_uri": "https://localhost:8080/"
        },
        "id": "bofCDfB-BxUK",
        "outputId": "0e2ae9ae-58f3-440e-c589-d140dd7b4d80"
      },
      "execution_count": 11,
      "outputs": [
        {
          "output_type": "execute_result",
          "data": {
            "text/plain": [
              "submission_type: MOTION_PREDICTION\n",
              "account_name: \"hyocurity@gmail.com\"\n",
              "unique_method_name: \"HJNet\"\n",
              "authors: \"Hyojin Lee\"\n",
              "authors: \"Jaeseung Lee\"\n",
              "affiliation: \"RO:AD\"\n",
              "description: \"Validation Set Test\"\n",
              "method_link: \"NA\"\n",
              "uses_lidar_data: false"
            ]
          },
          "metadata": {},
          "execution_count": 11
        }
      ]
    },
    {
      "cell_type": "code",
      "source": [
        "from waymo_open_dataset.protos import scenario_pb2\n",
        "\n",
        "cnt = 1\n",
        "for data in dataset :\n",
        "  if cnt % 10000 == 0:\n",
        "    print(f\"** Scenario {cnt}\")\n",
        "  cnt += 1\n",
        "  \n",
        "  scenario = scenario_pb2.Scenario()\n",
        "  scenario.ParseFromString(bytearray(data.numpy()))\n",
        "\n",
        "  if len(scenario.tracks_to_predict) == 0:\n",
        "    continue\n",
        "\n",
        "  scenario_preds = motion_submission_pb2.ChallengeScenarioPredictions()\n",
        "  scenario_preds.scenario_id = scenario.scenario_id\n",
        "\n",
        "  for ttp in scenario.tracks_to_predict:\n",
        "    track = scenario.tracks[ttp.track_index]\n",
        "    prediction = motion_submission_pb2.SingleObjectPrediction()\n",
        "    prediction.object_id = track.id\n",
        "\n",
        "    scored_trajectory = motion_submission_pb2.ScoredTrajectory()\n",
        "\n",
        "    # 예측해야하는 답안. future. 8초간 0.5초씩 총 16개의 (x,y)를 예측\n",
        "    # 시작 지점은 15번째부터.\n",
        "    future_states = track.states[15::5]\n",
        "    for state in future_states:\n",
        "      scored_trajectory.trajectory.center_x.append(state.center_x)\n",
        "      scored_trajectory.trajectory.center_y.append(state.center_y)\n",
        "    prediction.trajectories.append(scored_trajectory)\n",
        "\n",
        "    scenario_preds.single_predictions.predictions.append(prediction)\n",
        "\n",
        "  submission.scenario_predictions.append(scenario_preds) # submission에 추가하기\n",
        "\n",
        "print(f\"** Scenario {cnt}\")"
      ],
      "metadata": {
        "colab": {
          "base_uri": "https://localhost:8080/"
        },
        "id": "X_UpIVrP9OKZ",
        "outputId": "204dc3cf-b16d-4f19-f6e7-b53443ca5580"
      },
      "execution_count": 12,
      "outputs": [
        {
          "output_type": "stream",
          "name": "stdout",
          "text": [
            "** Scenario 10000\n",
            "** Scenario 20000\n",
            "** Scenario 30000\n",
            "** Scenario 40000\n",
            "** Scenario 44098\n"
          ]
        }
      ]
    },
    {
      "cell_type": "markdown",
      "source": [
        "- tracks_to_predict에 해당하는 tracks만 입력했다. 15번째 인덱스(1.5초)부터 0.5초 간격으로 결과값을 입력하면 된다.\n",
        "- 실행 시간은 25분 정도 걸린다."
      ],
      "metadata": {
        "id": "5rMAN-VsSJ2X"
      }
    },
    {
      "cell_type": "code",
      "source": [
        "import tarfile\n",
        "from time import time\n",
        "import io\n",
        "from google.colab import files\n",
        "\n",
        "timestamp = str(time()).split('.')[0]\n",
        "fname = f'{timestamp}-motion-pred-submission.tar.gz'\n",
        "\n",
        "# submission 파일의 형태는 bin이지만, tarball(tar.gz)로 압축해서 제출해야 함.\n",
        "with tarfile.open(fname, \"w:gz\") as tar:\n",
        "    f = io.BytesIO(submission.SerializeToString())\n",
        "    info = tarfile.TarInfo(name=fname)\n",
        "    info.size = len(f.getvalue())\n",
        "    tar.addfile(tarinfo=info, fileobj=f)\n",
        "\n",
        "files.download(fname)"
      ],
      "metadata": {
        "colab": {
          "base_uri": "https://localhost:8080/",
          "height": 17
        },
        "id": "AmDNSCAUFq9b",
        "outputId": "3a33c2ea-3a78-4111-927b-48b1789ad023"
      },
      "execution_count": 13,
      "outputs": [
        {
          "output_type": "display_data",
          "data": {
            "text/plain": [
              "<IPython.core.display.Javascript object>"
            ],
            "application/javascript": [
              "\n",
              "    async function download(id, filename, size) {\n",
              "      if (!google.colab.kernel.accessAllowed) {\n",
              "        return;\n",
              "      }\n",
              "      const div = document.createElement('div');\n",
              "      const label = document.createElement('label');\n",
              "      label.textContent = `Downloading \"${filename}\": `;\n",
              "      div.appendChild(label);\n",
              "      const progress = document.createElement('progress');\n",
              "      progress.max = size;\n",
              "      div.appendChild(progress);\n",
              "      document.body.appendChild(div);\n",
              "\n",
              "      const buffers = [];\n",
              "      let downloaded = 0;\n",
              "\n",
              "      const channel = await google.colab.kernel.comms.open(id);\n",
              "      // Send a message to notify the kernel that we're ready.\n",
              "      channel.send({})\n",
              "\n",
              "      for await (const message of channel.messages) {\n",
              "        // Send a message to notify the kernel that we're ready.\n",
              "        channel.send({})\n",
              "        if (message.buffers) {\n",
              "          for (const buffer of message.buffers) {\n",
              "            buffers.push(buffer);\n",
              "            downloaded += buffer.byteLength;\n",
              "            progress.value = downloaded;\n",
              "          }\n",
              "        }\n",
              "      }\n",
              "      const blob = new Blob(buffers, {type: 'application/binary'});\n",
              "      const a = document.createElement('a');\n",
              "      a.href = window.URL.createObjectURL(blob);\n",
              "      a.download = filename;\n",
              "      div.appendChild(a);\n",
              "      a.click();\n",
              "      div.remove();\n",
              "    }\n",
              "  "
            ]
          },
          "metadata": {}
        },
        {
          "output_type": "display_data",
          "data": {
            "text/plain": [
              "<IPython.core.display.Javascript object>"
            ],
            "application/javascript": [
              "download(\"download_ad35446f-39c3-4a07-ab27-ef8eb928d519\", \"1681655578-motion-pred-submission.tar.gz\", 22184513)"
            ]
          },
          "metadata": {}
        }
      ]
    },
    {
      "cell_type": "markdown",
      "source": [
        "- 제출했을 때 채점이 15분 정도 걸린다."
      ],
      "metadata": {
        "id": "vXxnVwulSFqr"
      }
    },
    {
      "cell_type": "code",
      "source": [],
      "metadata": {
        "id": "xZaeX9UBYpEq"
      },
      "execution_count": null,
      "outputs": []
    }
  ]
}