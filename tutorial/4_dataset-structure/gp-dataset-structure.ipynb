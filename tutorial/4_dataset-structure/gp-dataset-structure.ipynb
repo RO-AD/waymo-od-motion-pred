{
  "nbformat": 4,
  "nbformat_minor": 0,
  "metadata": {
    "colab": {
      "provenance": [],
      "collapsed_sections": [
        "4kdjcexQ4Jm5",
        "6IhK-tHRKa8h",
        "wcJnDaLiKzEN",
        "t_RurecCTFvH",
        "AgIKkryyVNaH",
        "6F_yorTwhpEo",
        "ckjx6N_Ih0C3",
        "eOl3En2fh5fD",
        "tY5U6rVBh51f",
        "PuTHAJ7Vh6UV"
      ],
      "authorship_tag": "ABX9TyOYiEBk7tH6+hhrYYrejRNH",
      "include_colab_link": true
    },
    "kernelspec": {
      "name": "python3",
      "display_name": "Python 3"
    },
    "language_info": {
      "name": "python"
    }
  },
  "cells": [
    {
      "cell_type": "markdown",
      "metadata": {
        "id": "view-in-github",
        "colab_type": "text"
      },
      "source": [
        "<a href=\"https://colab.research.google.com/github/RO-AD/waymo-od-motion-pred/blob/main/tutorial/4_dataset-structure/gp-dataset-structure.ipynb\" target=\"_parent\"><img src=\"https://colab.research.google.com/assets/colab-badge.svg\" alt=\"Open In Colab\"/></a>"
      ]
    },
    {
      "cell_type": "markdown",
      "source": [
        "# 데이터셋 구조 분석\n",
        "\n",
        "- 저번에는 공식 튜토리얼을 보고 진행했었다. `tf_example/` 하위의 데이터셋을 가지고 시각화를 진행했었는데, 아무래도 tf_example 파싱 부분이 마음에 안들어서 `scenario/` 데이터셋을 가지고 구조 분석 및 시각화를 다시 진행해보려고 한다. (본 문서에서는 구조분석만)"
      ],
      "metadata": {
        "id": "jgaTShkx0j_F"
      }
    },
    {
      "cell_type": "markdown",
      "source": [
        "- 총 3개의 proto 파일을 분석할 예정이다. **sceanario.proto** 에서 나머지 두 proto를 import 해서 사용하기 때문.\n",
        "  - [scenario.proto](https://github.com/waymo-research/waymo-open-dataset/blob/master/src/waymo_open_dataset/protos/scenario.proto)\n",
        "    ```python\n",
        "    import \"waymo_open_dataset/protos/compressed_lidar.proto\";\n",
        "    import \"waymo_open_dataset/protos/map.proto\";\n",
        "    ```\n",
        "  - [map.proto](https://github.com/waymo-research/waymo-open-dataset/blob/master/src/waymo_open_dataset/protos/map.proto)\n",
        "  - [compressed_lidar.proto](https://github.com/waymo-research/waymo-open-dataset/blob/master/src/waymo_open_dataset/protos/compressed_lidar.proto)"
      ],
      "metadata": {
        "id": "2y7WuwxmAnsD"
      }
    },
    {
      "cell_type": "markdown",
      "source": [
        "- proto 파일 분석 전 알아야 할 것\n",
        "  - proto 파일은 Protocol Buffers라는 구글에서 만든 직렬화 데이터 저장 방식.\n",
        "  - message로 선언.\n",
        "  - message 하위 요소들은 `{속성} {자료형} {이름}={넘버링};` 형태로 선언  \n",
        "  - 속성의 종류\n",
        "    - optional : 없어도 됨.\n",
        "    - repeated : 리스트 형태로 구현됨\n",
        "    - oneof : 하위 요소 중 하나 선택\n"
      ],
      "metadata": {
        "id": "poZ1yeaiAqfs"
      }
    },
    {
      "cell_type": "markdown",
      "source": [
        "## 환경세팅"
      ],
      "metadata": {
        "id": "NvwgKOSm2J0O"
      }
    },
    {
      "cell_type": "code",
      "execution_count": 1,
      "metadata": {
        "colab": {
          "base_uri": "https://localhost:8080/"
        },
        "id": "rO-hFAovy96i",
        "outputId": "48452ef9-8b30-4a6e-9d62-afa03b799686"
      },
      "outputs": [
        {
          "output_type": "stream",
          "name": "stdout",
          "text": [
            "Mounted at /content/drive\n",
            "151\n"
          ]
        }
      ],
      "source": [
        "from google.colab import drive\n",
        "drive.mount('/content/drive')\n",
        "\n",
        "# 구글 드라이브 위치. 마운트 잘 됐는지 확인.\n",
        "GDRIVE_WOD_PATH = \"/content/drive/MyDrive/waymo-od-dataset/motion_v_1_2_0/uncompressed\"\n",
        "VALIDSET_PATH   = GDRIVE_WOD_PATH + \"/scenario/validation\"\n",
        "\n",
        "# 마운트 확인\n",
        "!ls -al {VALIDSET_PATH} | wc -l"
      ]
    },
    {
      "cell_type": "code",
      "source": [
        "%%capture\n",
        "\n",
        "!pip3 install --upgrade pip\n",
        "!pip install waymo-open-dataset-tf-2-11-0==1.5.1"
      ],
      "metadata": {
        "id": "4dwKTubs1F0r"
      },
      "execution_count": 2,
      "outputs": []
    },
    {
      "cell_type": "markdown",
      "source": [
        "## [1] 데이터셋 로드"
      ],
      "metadata": {
        "id": "4kdjcexQ4Jm5"
      }
    },
    {
      "cell_type": "code",
      "source": [
        "!ls -al {VALIDSET_PATH} | head"
      ],
      "metadata": {
        "id": "ON4ek9Ln0inc",
        "colab": {
          "base_uri": "https://localhost:8080/"
        },
        "outputId": "c8a135ca-8d10-495d-b73d-d044b8fcb170"
      },
      "execution_count": 3,
      "outputs": [
        {
          "output_type": "stream",
          "name": "stdout",
          "text": [
            "total 40266256\n",
            "-rw------- 1 root root 273686917 Apr 14 03:30 validation.tfrecord-00000-of-00150\n",
            "-rw------- 1 root root 272253722 Apr 14 03:30 validation.tfrecord-00001-of-00150\n",
            "-rw------- 1 root root 281894961 Apr 14 03:30 validation.tfrecord-00002-of-00150\n",
            "-rw------- 1 root root 283858404 Apr 14 03:30 validation.tfrecord-00003-of-00150\n",
            "-rw------- 1 root root 293786123 Apr 14 03:30 validation.tfrecord-00004-of-00150\n",
            "-rw------- 1 root root 275962185 Apr 14 03:30 validation.tfrecord-00005-of-00150\n",
            "-rw------- 1 root root 262424772 Apr 14 03:29 validation.tfrecord-00006-of-00150\n",
            "-rw------- 1 root root 263608876 Apr 14 03:29 validation.tfrecord-00007-of-00150\n",
            "-rw------- 1 root root 287419235 Apr 14 03:30 validation.tfrecord-00008-of-00150\n"
          ]
        }
      ]
    },
    {
      "cell_type": "code",
      "source": [
        "import tensorflow as tf\n",
        "from waymo_open_dataset.protos import scenario_pb2\n",
        "\n",
        "# TFRecordDataset 클래스를 사용하여 데이터를 읽어들임\n",
        "dataset = tf.data.TFRecordDataset(VALIDSET_PATH + '/validation.tfrecord-00000-of-00150')\n",
        "\n",
        "for data in dataset:\n",
        "  scenario = scenario_pb2.Scenario()\n",
        "  scenario.ParseFromString(bytearray(data.numpy()))\n",
        "  break\n",
        "\n",
        "scenario.scenario_id"
      ],
      "metadata": {
        "colab": {
          "base_uri": "https://localhost:8080/",
          "height": 36
        },
        "id": "0r13sI9t3_Z7",
        "outputId": "212bbeef-b8dc-4217-da14-8064ed3e65df"
      },
      "execution_count": 4,
      "outputs": [
        {
          "output_type": "execute_result",
          "data": {
            "text/plain": [
              "'19a486cd29abd7a7'"
            ],
            "application/vnd.google.colaboratory.intrinsic+json": {
              "type": "string"
            }
          },
          "metadata": {},
          "execution_count": 4
        }
      ]
    },
    {
      "cell_type": "markdown",
      "source": [
        "## [2] Scenario 1-depth 분석"
      ],
      "metadata": {
        "id": "6IhK-tHRKa8h"
      }
    },
    {
      "cell_type": "markdown",
      "source": [
        "- 앞서 scenario 인스턴스를 생성해서 데이터를 파싱했다. proto 파일에 작성된 구조는 다음과 같다.\n",
        "  ```proto\n",
        "  message Scenario {\n",
        "    reserved 9;\n",
        "\n",
        "    optional string scenario_id = 5;\n",
        "    repeated double timestamps_seconds = 1;\n",
        "    optional int32 current_time_index = 10;\n",
        "    repeated Track tracks = 2;\n",
        "    repeated DynamicMapState dynamic_map_states = 7;\n",
        "    repeated MapFeature map_features = 8;\n",
        "    optional int32 sdc_track_index = 6;\n",
        "    repeated int32 objects_of_interest = 4;\n",
        "    repeated RequiredPrediction tracks_to_predict = 11;\n",
        "    repeated CompressedFrameLaserData compressed_frame_laser_data = 12;\n",
        "  }\n",
        "  ```\n",
        "- string, double, int 등 단순한 자료형으로 선언되어있는 요소들을 먼저 본다."
      ],
      "metadata": {
        "id": "30YQBqWA-1H7"
      }
    },
    {
      "cell_type": "code",
      "source": [
        "# optional string scenario_id = 5;\n",
        "\n",
        "# 시나리오 고유 넘버\n",
        "scenario.scenario_id"
      ],
      "metadata": {
        "colab": {
          "base_uri": "https://localhost:8080/",
          "height": 36
        },
        "id": "iaduSYns9cGh",
        "outputId": "d0b5c193-b362-465e-cc38-c615167de3ed"
      },
      "execution_count": null,
      "outputs": [
        {
          "output_type": "execute_result",
          "data": {
            "text/plain": [
              "'19a486cd29abd7a7'"
            ],
            "application/vnd.google.colaboratory.intrinsic+json": {
              "type": "string"
            }
          },
          "metadata": {},
          "execution_count": 24
        }
      ]
    },
    {
      "cell_type": "code",
      "source": [
        "# repeated double timestamps_seconds\n",
        "\n",
        "# 본 시나리오에서 각 장면을 측정한 시각\n",
        "# 총 9초. 과거(1초) + 미래(9초)\n",
        "# 실제 testset에서는 앞 1초만 제공되어 뒤 8초를 예측해야 함.\n",
        "scenario.timestamps_seconds"
      ],
      "metadata": {
        "colab": {
          "base_uri": "https://localhost:8080/"
        },
        "id": "zymo67Lj_pwI",
        "outputId": "c1acfcce-fb79-4fc6-d3e6-f22ebcb18ba4"
      },
      "execution_count": null,
      "outputs": [
        {
          "output_type": "execute_result",
          "data": {
            "text/plain": [
              "[0.0, 0.10004, 0.20005, 0.3, 0.40001, 0.49998, 0.59998, 0.69998, 0.79999, 0.89999, 0.99999, 1.09995, 1.19996, 1.29992, 1.39991, 1.49988, 1.59987, 1.69992, 1.79991, 1.89994, 1.99994, 2.09994, 2.19994, 2.29995, 2.39998, 2.49998, 2.59998, 2.69998, 2.79998, 2.89998, 2.99998, 3.10001, 3.20005, 3.30009, 3.40013, 3.50013, 3.60013, 3.70017, 3.80017, 3.90017, 4.00017, 4.10018, 4.20014, 4.30011, 4.40006, 4.50002, 4.59999, 4.69995, 4.79992, 4.89988, 4.99988, 5.09984, 5.19984, 5.29984, 5.39984, 5.49988, 5.59989, 5.69993, 5.79993, 5.89996, 6.0, 6.1, 6.2, 6.30003, 6.40003, 6.5, 6.6, 6.7, 6.8, 6.9, 6.99997, 7.09997, 7.19996, 7.29993, 7.39988, 7.49988, 7.59988, 7.69988, 7.79988, 7.89992, 7.99992, 8.09992, 8.19993, 8.29996, 8.39997, 8.49997, 8.59997, 8.69997, 8.79998, 8.89998, 8.99994]"
            ]
          },
          "metadata": {},
          "execution_count": 25
        }
      ]
    },
    {
      "cell_type": "code",
      "source": [
        "# optional int32 current_time_index\n",
        "\n",
        "# 전체 관측 중 '현재'라고 판단하는 시점의 index.\n",
        "# 과거 1초가 거의 끝난 0.99999초 부분이 현재임을 알 수 있음.\n",
        "print(scenario.current_time_index)\n",
        "print(scenario.timestamps_seconds[scenario.current_time_index])"
      ],
      "metadata": {
        "colab": {
          "base_uri": "https://localhost:8080/"
        },
        "id": "I6B5vVNC_wHx",
        "outputId": "962549c2-9424-4ef1-d4f6-b94debff83d6"
      },
      "execution_count": null,
      "outputs": [
        {
          "output_type": "stream",
          "name": "stdout",
          "text": [
            "10\n",
            "0.99999\n"
          ]
        }
      ]
    },
    {
      "cell_type": "code",
      "source": [
        "# repeated Track tracks = 2;\n",
        "\n",
        "# Map 내에 존재하는 Agent들의 상태정보를 가지고 있음.\n",
        "# Track 구조에 대해서는 2depth에서 다시 언급\n",
        "print(type(scenario.tracks))\n",
        "print(type(scenario.tracks[0]))"
      ],
      "metadata": {
        "colab": {
          "base_uri": "https://localhost:8080/"
        },
        "id": "qw2YXDK_EEve",
        "outputId": "cfd3c3c4-c7b4-4369-8d73-1fd1b60aa529"
      },
      "execution_count": null,
      "outputs": [
        {
          "output_type": "stream",
          "name": "stdout",
          "text": [
            "<class 'google.protobuf.pyext._message.RepeatedCompositeContainer'>\n",
            "<class 'waymo_open_dataset.protos.scenario_pb2.Track'>\n"
          ]
        }
      ]
    },
    {
      "cell_type": "code",
      "source": [
        "# repeated DynamicMapState dynamic_map_states = 7;\n",
        "\n",
        "# 맵 정보 중 동적인 요소에 대한 정보를 담고 있음.\n",
        "# DynamicMapState 구조에 대해서는 2depth에서 다시 언급\n",
        "print(type(scenario.dynamic_map_states))\n",
        "print(type(scenario.dynamic_map_states[0]))"
      ],
      "metadata": {
        "colab": {
          "base_uri": "https://localhost:8080/"
        },
        "id": "w8FDnnsVEFCb",
        "outputId": "ab863318-f42a-49a6-93a2-bf1a2f103a49"
      },
      "execution_count": null,
      "outputs": [
        {
          "output_type": "stream",
          "name": "stdout",
          "text": [
            "<class 'google.protobuf.pyext._message.RepeatedCompositeContainer'>\n",
            "<class 'waymo_open_dataset.protos.scenario_pb2.DynamicMapState'>\n"
          ]
        }
      ]
    },
    {
      "cell_type": "code",
      "source": [
        "# repeated MapFeature map_features = 8;\n",
        "\n",
        "# 맵 정보에 대한 정보를 담고 있음(정적)\n",
        "# MapFeature 구조에 대해서는 map.proto에서 다시 언급\n",
        "print(type(scenario.map_features))\n",
        "print(type(scenario.map_features[0]))"
      ],
      "metadata": {
        "colab": {
          "base_uri": "https://localhost:8080/"
        },
        "id": "AhWxW9obEFUf",
        "outputId": "8e2df1b8-5b76-42be-f48f-f0104158108d"
      },
      "execution_count": null,
      "outputs": [
        {
          "output_type": "stream",
          "name": "stdout",
          "text": [
            "<class 'google.protobuf.pyext._message.RepeatedCompositeContainer'>\n",
            "<class 'waymo_open_dataset.protos.map_pb2.MapFeature'>\n"
          ]
        }
      ]
    },
    {
      "cell_type": "code",
      "source": [
        "# optional int32 sdc_track_index\n",
        "\n",
        "# sdc : Self-Driving Car\n",
        "# 각 장면에는 장면을 측정하고 있는 agent 존재\n",
        "# Tracks 내 여러 agent 중 sdc_track_index에 해당하는 agent가 측정용 객체.\n",
        "scenario.sdc_track_index"
      ],
      "metadata": {
        "colab": {
          "base_uri": "https://localhost:8080/"
        },
        "id": "vPK5MEXpCJgd",
        "outputId": "0417f48a-1029-4118-fae2-3985312aed41"
      },
      "execution_count": null,
      "outputs": [
        {
          "output_type": "execute_result",
          "data": {
            "text/plain": [
              "10"
            ]
          },
          "metadata": {},
          "execution_count": 40
        }
      ]
    },
    {
      "cell_type": "code",
      "source": [
        "# repeated int32 objects_of_interest\n",
        "\n",
        "# Track 내부에 obejct id 정보가 있는데, 관심있는 대상의 object id를 모아놓은 것.\n",
        "# ('관심있다'에 대한 필요성 및 중요도는 아직 잘 모르겠음)\n",
        "scenario.objects_of_interest"
      ],
      "metadata": {
        "colab": {
          "base_uri": "https://localhost:8080/"
        },
        "id": "b0Zdk2p9Cm80",
        "outputId": "504f1512-a3b6-4792-aeee-3fdad15c5010"
      },
      "execution_count": null,
      "outputs": [
        {
          "output_type": "execute_result",
          "data": {
            "text/plain": [
              "[]"
            ]
          },
          "metadata": {},
          "execution_count": 46
        }
      ]
    },
    {
      "cell_type": "code",
      "source": [
        "# repeated RequiredPrediction tracks_to_predict\n",
        "\n",
        "# 예측해야 할 track에 대한 정보를 담고있음.\n",
        "# 이 외의 track은 예측 시 무시해도 됨.\n",
        "scenario.tracks_to_predict"
      ],
      "metadata": {
        "colab": {
          "base_uri": "https://localhost:8080/"
        },
        "id": "rokpPyXsFmXl",
        "outputId": "88329f2e-ff6d-4afe-f0dd-b219018e10e2"
      },
      "execution_count": null,
      "outputs": [
        {
          "output_type": "execute_result",
          "data": {
            "text/plain": [
              "[track_index: 2\n",
              "difficulty: LEVEL_1\n",
              "]"
            ]
          },
          "metadata": {},
          "execution_count": 47
        }
      ]
    },
    {
      "cell_type": "code",
      "source": [
        "# repeated CompressedFrameLaserData compressed_frame_laser_data\n",
        "\n",
        "# 라이다 데이터가 담기는 공간이라고 함.\n",
        "# 근데 제공된 데이터셋에는 라이다 데이터셋이 따로 제공됨.\n",
        "# (안쓰는건가,,?)\n",
        "scenario.compressed_frame_laser_data"
      ],
      "metadata": {
        "colab": {
          "base_uri": "https://localhost:8080/"
        },
        "id": "Qi6t1LinGDiS",
        "outputId": "d8a2b48a-56e9-4c03-8656-2875fd5bed46"
      },
      "execution_count": null,
      "outputs": [
        {
          "output_type": "execute_result",
          "data": {
            "text/plain": [
              "[]"
            ]
          },
          "metadata": {},
          "execution_count": 48
        }
      ]
    },
    {
      "cell_type": "markdown",
      "source": [
        "## [3] Scenario 2-depth 분석"
      ],
      "metadata": {
        "id": "wcJnDaLiKzEN"
      }
    },
    {
      "cell_type": "markdown",
      "source": [
        "- scenario 메세지 내부에 기본 자료형으로 선언되지 않은 요소들이 있었음.\n",
        "  - repeated **Track tracks** = 2;\n",
        "  - repeated **DynamicMapState dynamic_map_states** = 7;\n",
        "  - repeated **MapFeature map_features** = 8;\n",
        "    - MapFeature는 map.proto에 선언되어 있으므로 추후 다시 언급\n",
        "  - repeated **RequiredPrediction tracks_to_predict**\n",
        "  - repeated **CompressedFrameLaserData compressed_frame_laser_data**\n",
        "    - CompressedFrameLaserData는 compressed_lidar.proto에 선언되어 있으므로 추후 다시 언급\n",
        "- 이 요소들을 한단계 더 나아가 분석해보고자 함."
      ],
      "metadata": {
        "id": "d6rInbqHLxIE"
      }
    },
    {
      "cell_type": "markdown",
      "source": [
        "### [3-1] repeated Track tracks = 2;"
      ],
      "metadata": {
        "id": "Fasfux6AQ39C"
      }
    },
    {
      "cell_type": "markdown",
      "source": [
        "```proto\n",
        "message Track {\n",
        "  enum ObjectType {\n",
        "    TYPE_UNSET = 0;  // This is an invalid state that indicates an error.\n",
        "    TYPE_VEHICLE = 1;\n",
        "    TYPE_PEDESTRIAN = 2;\n",
        "    TYPE_CYCLIST = 3;\n",
        "    TYPE_OTHER = 4;\n",
        "  }\n",
        "\n",
        "  optional int32 id = 1;\n",
        "  optional ObjectType object_type = 2;\n",
        "  repeated ObjectState states = 3;\n",
        "}\n",
        "```"
      ],
      "metadata": {
        "id": "YKK3TMFxMKbZ"
      }
    },
    {
      "cell_type": "code",
      "source": [
        "# repeated Track tracks = 2;\n",
        "\n",
        "# Map 내에 존재하는 Agent들의 상태정보를 가지고 있음.\n",
        "print(len(scenario.tracks))\n",
        "\n",
        "track = scenario.tracks[0]\n",
        "print(f'* Track id   : {track.id}')\n",
        "print(f'* Track type : {track.object_type}') # TYPE_VEHICLE\n",
        "print(f'      -> {track.object_type == track.TYPE_VEHICLE}')\n",
        "print(type(track.states))\n",
        "print(type(track.states[0])) # ObjectState에 대해서는 3depth에서 다룰 예정"
      ],
      "metadata": {
        "colab": {
          "base_uri": "https://localhost:8080/"
        },
        "id": "OPqb0HBmGVvv",
        "outputId": "fffc9e8c-7f4c-44ba-d71c-4a03e4b19053"
      },
      "execution_count": null,
      "outputs": [
        {
          "output_type": "stream",
          "name": "stdout",
          "text": [
            "11\n",
            "* Track id   : 368\n",
            "* Track type : 1\n",
            "      -> True\n",
            "<class 'google.protobuf.pyext._message.RepeatedCompositeContainer'>\n",
            "<class 'waymo_open_dataset.protos.scenario_pb2.ObjectState'>\n"
          ]
        }
      ]
    },
    {
      "cell_type": "markdown",
      "source": [
        "### [3-2] repeated DynamicMapState dynamic_map_states = 7;"
      ],
      "metadata": {
        "id": "8H5rn99XQ767"
      }
    },
    {
      "cell_type": "markdown",
      "source": [
        "```proto\n",
        "message DynamicMapState {\n",
        "  // The traffic signal states for all observed signals at this time step.\n",
        "  repeated TrafficSignalLaneState lane_states = 1;\n",
        "}\n",
        "```"
      ],
      "metadata": {
        "id": "P3QZ3_RBOUDr"
      }
    },
    {
      "cell_type": "code",
      "source": [
        "# repeated DynamicMapState dynamic_map_states = 7;\n",
        "\n",
        "# 맵 정보 중 동적인 요소에 대한 정보를 담고 있음.\n",
        "print(f'* dynamic map stats length: {len(scenario.dynamic_map_states)}')\n",
        "\n",
        "dynamic_lane_states = scenario.dynamic_map_states[0].lane_states\n",
        "print(f'* dynamic lane state length : {len(dynamic_lane_states)}')\n",
        "dynamic_lane_states[0] # TrafficSignalLaneState에 대해서는 map.proto 에서 다시 언급"
      ],
      "metadata": {
        "colab": {
          "base_uri": "https://localhost:8080/"
        },
        "id": "7vW_jbShK75G",
        "outputId": "504c22d2-9f24-4238-dd9b-3ffb52cba3a4"
      },
      "execution_count": null,
      "outputs": [
        {
          "output_type": "stream",
          "name": "stdout",
          "text": [
            "* dynamic map stats length: 91\n",
            "* dynamic lane state length : 4\n"
          ]
        },
        {
          "output_type": "execute_result",
          "data": {
            "text/plain": [
              "lane: 120\n",
              "state: LANE_STATE_GO\n",
              "stop_point {\n",
              "  x: 8391.668352965295\n",
              "  y: 7316.195065592189\n",
              "  z: -14.848865196389456\n",
              "}"
            ]
          },
          "metadata": {},
          "execution_count": 78
        }
      ]
    },
    {
      "cell_type": "markdown",
      "source": [
        "### [3-3] repeated RequiredPrediction tracks_to_predict"
      ],
      "metadata": {
        "id": "ylv0NB-MRCNH"
      }
    },
    {
      "cell_type": "markdown",
      "source": [
        "```\n",
        "message RequiredPrediction {\n",
        "  enum DifficultyLevel {\n",
        "    NONE = 0;\n",
        "    LEVEL_1 = 1;\n",
        "    LEVEL_2 = 2;\n",
        "  }\n",
        "  optional int32 track_index = 1;\n",
        "  optional DifficultyLevel difficulty = 2;\n",
        "}\n",
        "```"
      ],
      "metadata": {
        "id": "gWgJX1fzPkuM"
      }
    },
    {
      "cell_type": "code",
      "source": [
        "# repeated RequiredPrediction tracks_to_predict\n",
        "\n",
        "# 예측해야 할 track에 대한 정보를 담고있음.\n",
        "# 이 외의 track은 예측 시 무시해도 됨.\n",
        "print(f'* TTP length  : {len(scenario.tracks_to_predict)}')\n",
        "\n",
        "ttp = scenario.tracks_to_predict[0]\n",
        "print(f'    * Track Index : {ttp.track_index}')\n",
        "print(f'    * Difficulty  : {ttp.difficulty}')\n",
        "\n",
        "print(ttp)"
      ],
      "metadata": {
        "colab": {
          "base_uri": "https://localhost:8080/"
        },
        "id": "9gxWeyrNLBRn",
        "outputId": "14d9ceef-e621-4bd8-bd1f-678bf0653dc4"
      },
      "execution_count": null,
      "outputs": [
        {
          "output_type": "stream",
          "name": "stdout",
          "text": [
            "* TTP length  : 1\n",
            "    * Track Index : 2\n",
            "    * Difficulty  : 1\n",
            "track_index: 2\n",
            "difficulty: LEVEL_1\n",
            "\n"
          ]
        }
      ]
    },
    {
      "cell_type": "markdown",
      "source": [
        "## [4] Scenario 3-depth 분석"
      ],
      "metadata": {
        "id": "t_RurecCTFvH"
      }
    },
    {
      "cell_type": "markdown",
      "source": [
        "`Scenario -> Track -> State` 부분을 자세히 살펴본다."
      ],
      "metadata": {
        "id": "uWq4F7XvO-CA"
      }
    },
    {
      "cell_type": "markdown",
      "source": [
        "State는 ObjectState 라는 메세지로 선언되어 있으며, 다음과 같다.\n",
        "\n",
        "```proto\n",
        "message ObjectState {\n",
        "  optional double center_x = 2;\n",
        "  optional double center_y = 3;\n",
        "  optional double center_z = 4;\n",
        "\n",
        "  optional float length = 5;\n",
        "  optional float width = 6;\n",
        "  optional float height = 7;\n",
        "\n",
        "  optional float heading = 8;\n",
        "\n",
        "  optional float velocity_x = 9;\n",
        "  optional float velocity_y = 10;\n",
        "  \n",
        "  optional bool valid = 11;\n",
        "}\n",
        "```"
      ],
      "metadata": {
        "id": "sU8oQ4aYQ8sF"
      }
    },
    {
      "cell_type": "code",
      "source": [
        "# repeated Track tracks = 2;\n",
        "\n",
        "# Map 내에 존재하는 Agent들의 상태정보를 가지고 있음.\n",
        "print(f'* 시나리오 ID : {scenario.scenario_id}')\n",
        "print(f'  * 해당 시나리오 내 Track 개수 : {len(scenario.tracks)}')\n",
        "\n",
        "track = scenario.tracks[0]\n",
        "print(f'  * tracks[0]')\n",
        "print(f'    * Track ID : {track.id}')\n",
        "print(f'    * Track type : {track.object_type}') # TYPE_VEHICLE\n",
        "print(f'    * 해당 Track의 state 개수 : {len(track.states)}')\n",
        "\n",
        "state = track.states[0]\n",
        "print(f'    * [0] State')\n",
        "\n",
        "# map 상에서 bounding box의 중심점 x,y,z 좌표\n",
        "print(f'      * center_x: {state.center_x}')\n",
        "print(f'      * center_y: {state.center_y}')\n",
        "print(f'      * center_z: {state.center_z}')\n",
        "\n",
        "# bbox의 크기\n",
        "print(f'      * length: {state.length} m')\n",
        "print(f'      * width: {state.width} m')\n",
        "print(f'      * height: {state.height} m')\n",
        "\n",
        "# bbox의 yaw값\n",
        "print(f'      * heading: {state.heading} yaw')\n",
        "\n",
        "# bbox의 속도\n",
        "print(f'      * velocity_x: {state.velocity_x} m/s')\n",
        "print(f'      * velocity_y: {state.velocity_y} m/s')\n",
        "\n",
        "# 데이터 유효성. 손실되거나 유효하지 않으면 False\n",
        "print(f'      * valid: {state.valid}')"
      ],
      "metadata": {
        "id": "Fhg8aNj8TLRt",
        "colab": {
          "base_uri": "https://localhost:8080/"
        },
        "outputId": "56850c74-624b-482c-be5c-2bf3158ea95c"
      },
      "execution_count": 12,
      "outputs": [
        {
          "output_type": "stream",
          "name": "stdout",
          "text": [
            "* 시나리오 ID : 19a486cd29abd7a7\n",
            "  * 해당 시나리오 내 Track 개수 : 11\n",
            "  * tracks[0]\n",
            "    * Track ID : 368\n",
            "    * Track type : 1\n",
            "    * 해당 Track의 state 개수 : 91\n",
            "    * [0] State\n",
            "      * center_x: 8382.083984375\n",
            "      * center_y: 7213.89013671875\n",
            "      * center_z: -13.732300758361816\n",
            "      * length: 4.414564609527588 m\n",
            "      * width: 1.943734884262085 m\n",
            "      * height: 1.4712934494018555 m\n",
            "      * heading: -1.5578702688217163 yaw\n",
            "      * velocity_x: 0.146484375 m/s\n",
            "      * velocity_y: -19.8193359375 m/s\n",
            "      * valid: True\n"
          ]
        }
      ]
    },
    {
      "cell_type": "markdown",
      "source": [
        "## [5] Map 분석"
      ],
      "metadata": {
        "id": "mI_7pglMTLvz"
      }
    },
    {
      "cell_type": "markdown",
      "source": [
        "앞서 **scenario.proto** 파일 내의 Scenario 메세지를 분석했다. 분석과정에서 map.proto에 존재하는 요소들이 있었는데, 다음과 같다.\n",
        "\n",
        "1. scenario.map_features -> **repeated MapFeature**\n",
        "2. scenario.dynamic_map_states -> **repeated DynamicMapState**\n",
        "\n",
        "위 두 메세지를 중심적으로 살펴보려고 한다. 이번에는 depth 구분 없이 쭉 분석한다."
      ],
      "metadata": {
        "id": "PdS3wsSzT5d_"
      }
    },
    {
      "cell_type": "markdown",
      "source": [
        "분석에 앞서 map.proto에서 공통적으로 사용되는 하나의 메세지를 살펴본다.\n",
        "```proto\n",
        "message MapPoint {\n",
        "  // Position in meters. The origin is an arbitrary location.\n",
        "  optional double x = 1;\n",
        "  optional double y = 2;\n",
        "  optional double z = 3;\n",
        "}\n",
        "```\n",
        "\n",
        "x,y,z 좌표를 표현할 때는 MapPoint를 이용한다."
      ],
      "metadata": {
        "id": "rfVx1zC9X836"
      }
    },
    {
      "cell_type": "markdown",
      "source": [
        "### [5-1] repeated DynamicMapState"
      ],
      "metadata": {
        "id": "AgIKkryyVNaH"
      }
    },
    {
      "cell_type": "markdown",
      "source": [
        "```proto\n",
        "message DynamicState {\n",
        "  // The timestamp associated with the dynamic feature data.\n",
        "  optional double timestamp_seconds = 1;\n",
        "\n",
        "  // The set of traffic signal states for the associated time step.\n",
        "  repeated TrafficSignalLaneState lane_states = 2;\n",
        "}\n",
        "```\n",
        "- **DynamicMapState**는 동적인 맵 정보를 담고있다. 신호등 정보만 다루는 것으로 보인다."
      ],
      "metadata": {
        "id": "ysZnNGOdVyEy"
      }
    },
    {
      "cell_type": "code",
      "source": [
        "dynamic_map_state = scenario.dynamic_map_states[0]\n",
        "# print(dynamic_map_state.timestamp_seconds) # 속성이 없음. 필요없나?\n",
        "print(f'* lane state length: {len(dynamic_map_state.lane_states)}')"
      ],
      "metadata": {
        "colab": {
          "base_uri": "https://localhost:8080/"
        },
        "id": "P_0p9vegV4Hd",
        "outputId": "fbf97c98-9ca7-4b04-e2f6-89f236d1f861"
      },
      "execution_count": 26,
      "outputs": [
        {
          "output_type": "stream",
          "name": "stdout",
          "text": [
            "* lane state length: 4\n"
          ]
        }
      ]
    },
    {
      "cell_type": "markdown",
      "source": [
        "```proto\n",
        "message TrafficSignalLaneState {\n",
        "  // The ID for the MapFeature corresponding to the lane controlled by this\n",
        "  // traffic signal state.\n",
        "  optional int64 lane = 1;\n",
        "\n",
        "  enum State {\n",
        "    LANE_STATE_UNKNOWN = 0;\n",
        "\n",
        "    // 화살표가 함께있는 신호등\n",
        "    LANE_STATE_ARROW_STOP = 1;\n",
        "    LANE_STATE_ARROW_CAUTION = 2;\n",
        "    LANE_STATE_ARROW_GO = 3;\n",
        "\n",
        "    // 일반적인 원형 신호등\n",
        "    LANE_STATE_STOP = 4;\n",
        "    LANE_STATE_CAUTION = 5;\n",
        "    LANE_STATE_GO = 6;\n",
        "\n",
        "    // 깜빡이는 신호등\n",
        "    LANE_STATE_FLASHING_STOP = 7;\n",
        "    LANE_STATE_FLASHING_CAUTION = 8;\n",
        "  }\n",
        "\n",
        "  // 신호등 상태\n",
        "  optional State state = 2;\n",
        "\n",
        "  // 객체가 멈춰야 하는 지점 = 정지선 위치\n",
        "  optional MapPoint stop_point = 3;\n",
        "}\n",
        "```"
      ],
      "metadata": {
        "id": "SMFzUFuQXM8D"
      }
    },
    {
      "cell_type": "code",
      "source": [
        "lane_state = dynamic_map_state = scenario.dynamic_map_states[0].lane_states[0]\n",
        "print(f'* 이 신호 정보가 영향을 미치는 lane의 ID : {lane_state.lane}')\n",
        "print(f'* 신호상태 : {lane_state.state}') # LANE_STATE_GO\n",
        "print(f'* 정지선 위치 : ')\n",
        "print(lane_state.stop_point)"
      ],
      "metadata": {
        "id": "exF2EW9dTSkS",
        "colab": {
          "base_uri": "https://localhost:8080/"
        },
        "outputId": "49f9f570-db0a-456b-fd3d-3b74a1d35c4d"
      },
      "execution_count": 31,
      "outputs": [
        {
          "output_type": "stream",
          "name": "stdout",
          "text": [
            "* 이 신호 정보가 영향을 미치는 lane의 ID : 120\n",
            "* 신호상태 : 6\n",
            "* 정지선 위치 : \n",
            "x: 8391.668352965295\n",
            "y: 7316.195065592189\n",
            "z: -14.848865196389456\n",
            "\n"
          ]
        }
      ]
    },
    {
      "cell_type": "markdown",
      "source": [
        "### [5-2] repeated MapFeature"
      ],
      "metadata": {
        "id": "gGhsaR4hVQX4"
      }
    },
    {
      "cell_type": "markdown",
      "source": [
        "```proto\n",
        "message MapFeature {\n",
        "  optional int64 id = 1;\n",
        "\n",
        "  oneof feature_data {\n",
        "    LaneCenter lane = 3;\n",
        "    RoadLine road_line = 4;\n",
        "    RoadEdge road_edge = 5;\n",
        "    StopSign stop_sign = 7;\n",
        "    Crosswalk crosswalk = 8;\n",
        "    SpeedBump speed_bump = 9;\n",
        "    Driveway driveway = 10;\n",
        "  }\n",
        "}\n",
        "```"
      ],
      "metadata": {
        "id": "W7TUUQ5dVZJl"
      }
    },
    {
      "cell_type": "code",
      "source": [
        "map_feature = scenario.map_features[0]\n",
        "print(map_feature.id)\n",
        "print('---- feature_data ----')\n",
        "print(map_feature.lane)\n",
        "print(map_feature.road_line)\n",
        "#print(map_feature.road_edge) # 여기에 데이터가 있음\n",
        "print(map_feature.stop_sign)\n",
        "print(map_feature.crosswalk)\n",
        "print(map_feature.speed_bump)\n",
        "print(map_feature.driveway)\n",
        "print('---- end ----')"
      ],
      "metadata": {
        "colab": {
          "base_uri": "https://localhost:8080/"
        },
        "id": "yrsdn_JxVTPM",
        "outputId": "4d66207c-288e-4357-c44a-fe51d17e8733"
      },
      "execution_count": 60,
      "outputs": [
        {
          "output_type": "stream",
          "name": "stdout",
          "text": [
            "3\n",
            "---- feature_data ----\n",
            "\n",
            "\n",
            "\n",
            "\n",
            "\n",
            "\n",
            "---- end ----\n"
          ]
        }
      ]
    },
    {
      "cell_type": "markdown",
      "source": [
        "- map_features에는 어떤 데이터인지 구분할 수 있는 type 정보가 없다. 어떻게 알 수 있을까?\n",
        "  - HasField 라는 내부 메소드를 사용하면 된다."
      ],
      "metadata": {
        "id": "3mEFEKr8g-Ay"
      }
    },
    {
      "cell_type": "code",
      "source": [
        "if map_feature.HasField('lane'):\n",
        "    print('lane')\n",
        "elif map_feature.HasField('road_line'):\n",
        "    print('road_line')\n",
        "elif map_feature.HasField('road_edge'):\n",
        "    print('road_edge')\n",
        "elif map_feature.HasField('stop_sign'):\n",
        "    print('stop_sign')\n",
        "elif map_feature.HasField('crosswalk'):\n",
        "    print('crosswalk')\n",
        "elif map_feature.HasField('speed_bump'):\n",
        "    print('speed_bump')\n",
        "elif map_feature.HasField('driveway'):\n",
        "    print('driveway')"
      ],
      "metadata": {
        "colab": {
          "base_uri": "https://localhost:8080/"
        },
        "id": "mh8_Cs6VgjsG",
        "outputId": "fa6e92f1-7ad1-4ddd-eace-a9b52e81c3a5"
      },
      "execution_count": 61,
      "outputs": [
        {
          "output_type": "stream",
          "name": "stdout",
          "text": [
            "road_edge\n"
          ]
        }
      ]
    },
    {
      "cell_type": "markdown",
      "source": [
        "- 이제 각 요소 별로 message 선언부를 살펴보자"
      ],
      "metadata": {
        "id": "J_Ntf58hhYaf"
      }
    },
    {
      "cell_type": "markdown",
      "source": [
        "#### [5-2-1] LaneCenter lane"
      ],
      "metadata": {
        "id": "6F_yorTwhpEo"
      }
    },
    {
      "cell_type": "markdown",
      "source": [
        "```proto\n",
        "message LaneCenter {\n",
        "  // The speed limit for this lane.\n",
        "  optional double speed_limit_mph = 1;\n",
        "\n",
        "  // Type of this lane.\n",
        "  enum LaneType {\n",
        "    TYPE_UNDEFINED = 0;\n",
        "    TYPE_FREEWAY = 1;\n",
        "    TYPE_SURFACE_STREET = 2;\n",
        "    TYPE_BIKE_LANE = 3;\n",
        "  }\n",
        "  optional LaneType type = 2;\n",
        "\n",
        "  // True if the lane interpolates between two other lanes.\n",
        "  optional bool interpolating = 3;\n",
        "\n",
        "  repeated MapPoint polyline = 8;\n",
        "  \n",
        "  repeated int64 entry_lanes = 9 [packed = true];\n",
        "  repeated int64 exit_lanes = 10 [packed = true];\n",
        "  repeated BoundarySegment left_boundaries = 13;\n",
        "  repeated BoundarySegment right_boundaries = 14;\n",
        "  repeated LaneNeighbor left_neighbors = 11;\n",
        "  repeated LaneNeighbor right_neighbors = 12;\n",
        "}\n",
        "```"
      ],
      "metadata": {
        "id": "W8DLusSRoOL9"
      }
    },
    {
      "cell_type": "code",
      "source": [
        "for map_feature in scenario.map_features:\n",
        "  if map_feature.HasField('lane'):\n",
        "    print(f'* Map Feature ID: {map_feature.id}')\n",
        "    lane = map_feature.lane\n",
        "    print(f'* 해당 도로의 속도제한: {lane.speed_limit_mph} mph')\n",
        "    print(f'* 도로 종류: {lane.type}') # 2: TYPE_SURFACE_STREET\n",
        "    print(f'* polyline의 점 개수: {len(map_feature.lane.polyline)}')\n",
        "    print(f'* 이 도로로 들어올 수 있는 도로들의 ID: {lane.entry_lanes}')\n",
        "    print(f'* 이 도로를 통해 나갈 수 있는 도로들의 ID: {lane.exit_lanes}')\n",
        "    # BoundarySegment. 바로 다음에서 다시 설명\n",
        "    print(f'* 좌측 도로 경계 개수: {len(lane.left_boundaries)}')\n",
        "    print(f'* 우측 도로 경계 개수: {len(lane.right_boundaries)}')\n",
        "    # LaneNeighbor. 바로 다음에서 다시 설명\n",
        "    print(f'* 좌측 인접 차선 개수: {len(lane.left_neighbors)}')\n",
        "    print(f'* 우측 인접 차선 개수: {len(lane.right_neighbors)}')\n",
        "    break"
      ],
      "metadata": {
        "colab": {
          "base_uri": "https://localhost:8080/"
        },
        "id": "HcNsmprphV6H",
        "outputId": "e89ad932-5e88-494a-9276-03defd1c04f9"
      },
      "execution_count": 99,
      "outputs": [
        {
          "output_type": "stream",
          "name": "stdout",
          "text": [
            "* Map Feature ID: 73\n",
            "* 해당 도로의 속도제한: 25.0 mph\n",
            "* 도로 종류: 2\n",
            "* polyline의 점 개수: 169\n",
            "* 이 도로로 들어올 수 있는 도로들의 ID: []\n",
            "* 이 도로를 통해 나갈 수 있는 도로들의 ID: [175, 173, 174]\n",
            "* 좌측 도로 경계 개수: 0\n",
            "* 우측 도로 경계 개수: 2\n",
            "* 좌측 인접 차선 개수: 0\n",
            "* 우측 인접 차선 개수: 0\n"
          ]
        }
      ]
    },
    {
      "cell_type": "markdown",
      "source": [
        "- BoundarySegment: 도로 경계에 대한 정보\n",
        "\n",
        "```proto\n",
        "// A segment of a lane with a given adjacent boundary.\n",
        "message BoundarySegment {\n",
        "  // lane 경계의 시작과 끝지점 인덱스\n",
        "  optional int32 lane_start_index = 1;\n",
        "  optional int32 lane_end_index = 2;\n",
        "\n",
        "  // 본 경계에 매칭되는 도로선 정보(RoadLine/RoadEdge)의 ID.\n",
        "  optional int64 boundary_feature_id = 3;\n",
        "\n",
        "  // 도로선의 종류. 만약 도로선이 아니라 RoadEdge에 해당한다면\n",
        "  // TYPE_UNKNOWN으로 설정됨.\n",
        "  optional RoadLine.RoadLineType boundary_type = 4;\n",
        "}\n",
        "```"
      ],
      "metadata": {
        "id": "Q0gqn0ywqyil"
      }
    },
    {
      "cell_type": "markdown",
      "source": [
        "- LaneNeighbor : 인접 차선에 대한 정보\n",
        "\n",
        "```proto\n",
        "message LaneNeighbor {\n",
        "  // The feature ID of the neighbor lane.\n",
        "  optional int64 feature_id = 1;\n",
        "\n",
        "  // 현재차선 기준 이웃차선과 인접한 부분의 시작과 끝지점 인덱스\n",
        "  optional int32 self_start_index = 2;\n",
        "  optional int32 self_end_index = 3;\n",
        "\n",
        "  // 이웃차선 기준 현재차선과 인접한 부분의 시작과 끝지점 인덱스\n",
        "  optional int32 neighbor_start_index = 4;\n",
        "  optional int32 neighbor_end_index = 5;\n",
        "\n",
        "  // 현재차선과 이웃차선 사이 경계에 대한 정보\n",
        "  repeated BoundarySegment boundaries = 6;\n",
        "}\n",
        "```"
      ],
      "metadata": {
        "id": "YFCu_xLeq-U9"
      }
    },
    {
      "cell_type": "markdown",
      "source": [
        "#### [5-2-2] RoadLine road_line"
      ],
      "metadata": {
        "id": "8PE7BjJahvI9"
      }
    },
    {
      "cell_type": "markdown",
      "source": [
        "```proto\n",
        "message RoadLine {\n",
        "  // Type of this road line.\n",
        "  enum RoadLineType {\n",
        "    TYPE_UNKNOWN = 0;\n",
        "    TYPE_BROKEN_SINGLE_WHITE = 1;\n",
        "    TYPE_SOLID_SINGLE_WHITE = 2;\n",
        "    TYPE_SOLID_DOUBLE_WHITE = 3;\n",
        "    TYPE_BROKEN_SINGLE_YELLOW = 4;\n",
        "    TYPE_BROKEN_DOUBLE_YELLOW = 5;\n",
        "    TYPE_SOLID_SINGLE_YELLOW = 6;\n",
        "    TYPE_SOLID_DOUBLE_YELLOW = 7;\n",
        "    TYPE_PASSING_DOUBLE_YELLOW = 8;\n",
        "  }\n",
        "\n",
        "  // The type of the lane boundary.\n",
        "  optional RoadLineType type = 1;\n",
        "\n",
        "  // The polyline defining the road edge. A polyline is a list of points with\n",
        "  // segments defined between consecutive points.\n",
        "  repeated MapPoint polyline = 2;\n",
        "}\n",
        "```"
      ],
      "metadata": {
        "id": "-A4YsM1RlOfE"
      }
    },
    {
      "cell_type": "code",
      "source": [
        "for map_feature in scenario.map_features:\n",
        "  if map_feature.HasField('road_line'):\n",
        "    print(f'* Map Feature ID: {map_feature.id}')\n",
        "    print(f'* 도로 선 종류: {map_feature.road_line.type}') # 2: TYPE_SOLID_SINGLE_WHITE\n",
        "    print(f'* polyline의 점 개수: {len(map_feature.road_line.polyline)}')\n",
        "    break"
      ],
      "metadata": {
        "colab": {
          "base_uri": "https://localhost:8080/"
        },
        "id": "HseknutfhV2x",
        "outputId": "09a2e907-6013-47f9-e531-d646f64df7db"
      },
      "execution_count": 83,
      "outputs": [
        {
          "output_type": "stream",
          "name": "stdout",
          "text": [
            "* Map Feature ID: 17\n",
            "* 도로 선 종류: 2\n",
            "* polyline의 점 개수: 138\n"
          ]
        }
      ]
    },
    {
      "cell_type": "markdown",
      "source": [
        "#### [5-2-3] RoadEdge road_edge"
      ],
      "metadata": {
        "id": "ckjx6N_Ih0C3"
      }
    },
    {
      "cell_type": "markdown",
      "source": [
        "```proto\n",
        "message RoadEdge {\n",
        "  // Type of this road edge.\n",
        "  enum RoadEdgeType {\n",
        "    TYPE_UNKNOWN = 0;\n",
        "    // 도로와 도로가 아닌곳을 나누는 가장자리\n",
        "    TYPE_ROAD_EDGE_BOUNDARY = 1;\n",
        "    // 다른 교통과 분리되는 부분의 가장자리\n",
        "    TYPE_ROAD_EDGE_MEDIAN = 2;\n",
        "  }\n",
        "\n",
        "  // The type of road edge.\n",
        "  optional RoadEdgeType type = 1;\n",
        "\n",
        "  // The polyline defining the road edge. A polyline is a list of points with\n",
        "  // segments defined between consecutive points.\n",
        "  repeated MapPoint polyline = 2;\n",
        "}\n",
        "```"
      ],
      "metadata": {
        "id": "QGVjjs5llNav"
      }
    },
    {
      "cell_type": "code",
      "source": [
        "for map_feature in scenario.map_features:\n",
        "  if map_feature.HasField('road_edge'):\n",
        "    print(f'* Map Feature ID: {map_feature.id}')\n",
        "    print(f'* 도로 가장자리 종류: {map_feature.road_edge.type}') # 1: TYPE_ROAD_EDGE_BOUNDARY\n",
        "    print(f'* polyline의 점 개수: {len(map_feature.road_edge.polyline)}')\n",
        "    break"
      ],
      "metadata": {
        "colab": {
          "base_uri": "https://localhost:8080/"
        },
        "id": "6YDyyzwvh4PP",
        "outputId": "f4a014d4-eb6f-4e10-a15f-b72f10f2fb50"
      },
      "execution_count": 80,
      "outputs": [
        {
          "output_type": "stream",
          "name": "stdout",
          "text": [
            "* Map Feature ID: 3\n",
            "* 도로 가장자리 종류: 1\n",
            "* polyline의 점 개수: 119\n"
          ]
        }
      ]
    },
    {
      "cell_type": "markdown",
      "source": [
        "#### [5-2-4] StopSign stop_sign"
      ],
      "metadata": {
        "id": "eOl3En2fh5fD"
      }
    },
    {
      "cell_type": "markdown",
      "source": [
        "```proto\n",
        "message StopSign {\n",
        "  // The IDs of lane features controlled by this stop sign.\n",
        "  repeated int64 lane = 1;\n",
        "\n",
        "  // The position of the stop sign.\n",
        "  optional MapPoint position = 2;\n",
        "}\n",
        "```"
      ],
      "metadata": {
        "id": "V2dd18mHkC-l"
      }
    },
    {
      "cell_type": "code",
      "source": [
        "for map_feature in scenario.map_features:\n",
        "  if map_feature.HasField('stop_sign'):\n",
        "    print(f'* Map Feature ID: {map_feature.id}')\n",
        "    for lane_id in map_feature.stop_sign.lane:\n",
        "      print(f'* 이 정지 표시에 영향을 받는 도로의 ID: {lane_id}')\n",
        "    print('* 위치:')\n",
        "    print(map_feature.stop_sign.position)\n",
        "    break"
      ],
      "metadata": {
        "colab": {
          "base_uri": "https://localhost:8080/"
        },
        "id": "613Axx4Ph5Q2",
        "outputId": "f243f975-07b5-4425-8630-e9b6605fff80"
      },
      "execution_count": 74,
      "outputs": [
        {
          "output_type": "stream",
          "name": "stdout",
          "text": [
            "* Map Feature ID: 189\n",
            "* 이 정지 표시에 영향을 받는 도로의 ID: 173\n",
            "* 이 정지 표시에 영향을 받는 도로의 ID: 174\n",
            "* 이 정지 표시에 영향을 받는 도로의 ID: 175\n",
            "* 위치:\n",
            "x: 8372.941808625585\n",
            "y: 7178.621260407005\n",
            "z: -11.517769180857217\n",
            "\n"
          ]
        }
      ]
    },
    {
      "cell_type": "markdown",
      "source": [
        "#### [5-2-5] Crosswalk crosswalk"
      ],
      "metadata": {
        "id": "tY5U6rVBh51f"
      }
    },
    {
      "cell_type": "markdown",
      "source": [
        "```proto\n",
        "message Crosswalk {\n",
        "  // The polygon defining the outline of the crosswalk. The polygon is assumed\n",
        "  // to be closed (i.e. a segment exists between the last point and the first\n",
        "  // point).\n",
        "  repeated MapPoint polygon = 1;\n",
        "}\n",
        "```"
      ],
      "metadata": {
        "id": "lb8jac6gjtzN"
      }
    },
    {
      "cell_type": "code",
      "source": [
        "for map_feature in scenario.map_features:\n",
        "  if map_feature.HasField('crosswalk'):\n",
        "    print(f'* Map Feature ID: {map_feature.id}')\n",
        "    print(map_feature.crosswalk)\n",
        "    break"
      ],
      "metadata": {
        "colab": {
          "base_uri": "https://localhost:8080/"
        },
        "id": "nSeHDUdbh5En",
        "outputId": "27450476-94fb-4e18-e918-4bd339320157"
      },
      "execution_count": 71,
      "outputs": [
        {
          "output_type": "stream",
          "name": "stdout",
          "text": [
            "* Map Feature ID: 183\n",
            "polygon {\n",
            "  x: 8404.968667011328\n",
            "  y: 7337.301398328979\n",
            "  z: -14.858865196389447\n",
            "}\n",
            "polygon {\n",
            "  x: 8404.94074472753\n",
            "  y: 7340.828363021967\n",
            "  z: -14.858865196389447\n",
            "}\n",
            "polygon {\n",
            "  x: 8373.909781097123\n",
            "  y: 7340.628723511088\n",
            "  z: -14.858865196389447\n",
            "}\n",
            "polygon {\n",
            "  x: 8373.9377033796\n",
            "  y: 7337.1017588181\n",
            "  z: -14.858865196389447\n",
            "}\n",
            "\n"
          ]
        }
      ]
    },
    {
      "cell_type": "markdown",
      "source": [
        "#### [5-2-6] SpeedBump speed_bump"
      ],
      "metadata": {
        "id": "PuTHAJ7Vh6UV"
      }
    },
    {
      "cell_type": "markdown",
      "source": [
        "```proto\n",
        "message SpeedBump {\n",
        "  // The polygon defining the outline of the speed bump. The polygon is assumed\n",
        "  // to be closed (i.e. a segment exists between the last point and the first\n",
        "  // point).\n",
        "  repeated MapPoint polygon = 1;\n",
        "}\n",
        "```"
      ],
      "metadata": {
        "id": "cJUa4otTjgBw"
      }
    },
    {
      "cell_type": "code",
      "source": [
        "for map_feature in scenario.map_features:\n",
        "  if map_feature.HasField('speed_bump'):\n",
        "    print(f'* Map Feature ID: {map_feature.id}')\n",
        "    print(map_feature.speed_bump)\n",
        "    break"
      ],
      "metadata": {
        "colab": {
          "base_uri": "https://localhost:8080/"
        },
        "id": "oMobxgQEh5BI",
        "outputId": "62b7758c-93bb-4a6a-c6c4-8d6396aa7841"
      },
      "execution_count": 70,
      "outputs": [
        {
          "output_type": "stream",
          "name": "stdout",
          "text": [
            "* Map Feature ID: 186\n",
            "polygon {\n",
            "  x: 8462.497877030944\n",
            "  y: 7336.414111613698\n",
            "  z: -14.62386519638949\n",
            "}\n",
            "polygon {\n",
            "  x: 8462.479262175519\n",
            "  y: 7337.245942909422\n",
            "  z: -14.62386519638949\n",
            "}\n",
            "polygon {\n",
            "  x: 8440.541655312623\n",
            "  y: 7336.813390635457\n",
            "  z: -14.62386519638949\n",
            "}\n",
            "polygon {\n",
            "  x: 8440.56027016805\n",
            "  y: 7335.981559340521\n",
            "  z: -14.62386519638949\n",
            "}\n",
            "\n"
          ]
        }
      ]
    },
    {
      "cell_type": "markdown",
      "source": [
        "#### [5-2-7] Driveway driveway"
      ],
      "metadata": {
        "id": "t73iNRKmiI8t"
      }
    },
    {
      "cell_type": "markdown",
      "source": [
        "```proto\n",
        "message Driveway {\n",
        "  // The polygon defining the outline of the driveway region. The polygon is\n",
        "  // assumed to be closed (i.e. a segment exists between the last point and the\n",
        "  // first point).\n",
        "  repeated MapPoint polygon = 1;\n",
        "}\n",
        "```"
      ],
      "metadata": {
        "id": "vVIGrVl9iQqU"
      }
    },
    {
      "cell_type": "code",
      "source": [
        "for map_feature in scenario.map_features:\n",
        "  if map_feature.HasField('driveway'):\n",
        "    print(f'* Map Feature ID: {map_feature.id}')\n",
        "    print(map_feature.driveway)\n",
        "    break"
      ],
      "metadata": {
        "colab": {
          "base_uri": "https://localhost:8080/"
        },
        "id": "gxAxRXkMhV0k",
        "outputId": "2539d892-ff22-4390-902c-806685c4c833"
      },
      "execution_count": 67,
      "outputs": [
        {
          "output_type": "stream",
          "name": "stdout",
          "text": [
            "* Map Feature ID: 190\n",
            "polygon {\n",
            "  x: 8278.061891630727\n",
            "  y: 7324.2139192803525\n",
            "  z: -14.271789724691361\n",
            "}\n",
            "polygon {\n",
            "  x: 8277.605827678755\n",
            "  y: 7338.709965989203\n",
            "  z: -14.271789724691361\n",
            "}\n",
            "polygon {\n",
            "  x: 8273.715322939819\n",
            "  y: 7338.6656016537145\n",
            "  z: -14.271789724691361\n",
            "}\n",
            "polygon {\n",
            "  x: 8273.882856637325\n",
            "  y: 7324.2139192803525\n",
            "  z: -14.271789724691361\n",
            "}\n",
            "\n"
          ]
        }
      ]
    },
    {
      "cell_type": "markdown",
      "source": [
        "# 기타"
      ],
      "metadata": {
        "id": "jIDYe0brLI5g"
      }
    },
    {
      "cell_type": "code",
      "source": [
        "# tutorial/4_dataset-structure/gp-dataset-structure.ipynb"
      ],
      "metadata": {
        "id": "jSLQq5IqLJ98"
      },
      "execution_count": null,
      "outputs": []
    }
  ]
}