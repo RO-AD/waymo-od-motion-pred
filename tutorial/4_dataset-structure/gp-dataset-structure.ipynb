{
  "nbformat": 4,
  "nbformat_minor": 0,
  "metadata": {
    "colab": {
      "provenance": [],
      "collapsed_sections": [
        "4kdjcexQ4Jm5",
        "YKK3TMFxMKbZ",
        "P3QZ3_RBOUDr"
      ],
      "authorship_tag": "ABX9TyMgbWeKnakVDb+J/wENDc4H",
      "include_colab_link": true
    },
    "kernelspec": {
      "name": "python3",
      "display_name": "Python 3"
    },
    "language_info": {
      "name": "python"
    }
  },
  "cells": [
    {
      "cell_type": "markdown",
      "metadata": {
        "id": "view-in-github",
        "colab_type": "text"
      },
      "source": [
        "<a href=\"https://colab.research.google.com/github/RO-AD/waymo-od-motion-pred/blob/main/tutorial/4_dataset-structure/gp-dataset-structure.ipynb\" target=\"_parent\"><img src=\"https://colab.research.google.com/assets/colab-badge.svg\" alt=\"Open In Colab\"/></a>"
      ]
    },
    {
      "cell_type": "markdown",
      "source": [
        "# 데이터셋 구조 분석 및 시각화\n",
        "\n",
        "- 저번에는 공식 튜토리얼을 보고 진행했었다. `tf_example/` 하위의 데이터셋을 가지고 시각화를 진행했었는데, 아무래도 tf_example 파싱 부분이 마음에 안들어서 `scenario/` 데이터셋을 가지고 구조 분석 및 시각화를 다시 진행해보려고 한다."
      ],
      "metadata": {
        "id": "jgaTShkx0j_F"
      }
    },
    {
      "cell_type": "markdown",
      "source": [
        "- 총 3개의 proto 파일을 분석할 예정이다. **sceanario.proto** 에서 나머지 두 proto를 import 해서 사용하기 때문.\n",
        "  - [scenario.proto](https://github.com/waymo-research/waymo-open-dataset/blob/master/src/waymo_open_dataset/protos/scenario.proto)\n",
        "    ```python\n",
        "    import \"waymo_open_dataset/protos/compressed_lidar.proto\";\n",
        "    import \"waymo_open_dataset/protos/map.proto\";\n",
        "    ```\n",
        "  - [map.proto](https://github.com/waymo-research/waymo-open-dataset/blob/master/src/waymo_open_dataset/protos/map.proto)\n",
        "  - [compressed_lidar.proto](https://github.com/waymo-research/waymo-open-dataset/blob/master/src/waymo_open_dataset/protos/compressed_lidar.proto)"
      ],
      "metadata": {
        "id": "2y7WuwxmAnsD"
      }
    },
    {
      "cell_type": "markdown",
      "source": [
        "- proto 파일 분석 전 알아야 할 것\n",
        "  - proto 파일은 Protocol Buffers라는 구글에서 만든 직렬화 데이터 저장 방식.\n",
        "  - message로 선언.\n",
        "  - message 하위 요소들은 `{속성} {자료형} {이름}={넘버링};` 형태로 선언  \n",
        "  - 속성의 종류\n",
        "    - optional : 없어도 됨.\n",
        "    - repeated : 리스트 형태로 구현됨\n",
        "    - oneof : 하위 요소 중 하나 선택\n"
      ],
      "metadata": {
        "id": "poZ1yeaiAqfs"
      }
    },
    {
      "cell_type": "markdown",
      "source": [
        "## 환경세팅"
      ],
      "metadata": {
        "id": "NvwgKOSm2J0O"
      }
    },
    {
      "cell_type": "code",
      "execution_count": 4,
      "metadata": {
        "colab": {
          "base_uri": "https://localhost:8080/"
        },
        "id": "rO-hFAovy96i",
        "outputId": "be97f4b2-0477-4e0b-c30c-fc240bc6f620"
      },
      "outputs": [
        {
          "output_type": "stream",
          "name": "stdout",
          "text": [
            "Mounted at /content/drive\n",
            "151\n"
          ]
        }
      ],
      "source": [
        "from google.colab import drive\n",
        "drive.mount('/content/drive')\n",
        "\n",
        "# 구글 드라이브 위치. 마운트 잘 됐는지 확인.\n",
        "GDRIVE_WOD_PATH = \"/content/drive/MyDrive/waymo-od-dataset/motion_v_1_2_0/uncompressed\"\n",
        "VALIDSET_PATH   = GDRIVE_WOD_PATH + \"/scenario/validation\"\n",
        "\n",
        "# 마운트 확인\n",
        "!ls -al {VALIDSET_PATH} | wc -l"
      ]
    },
    {
      "cell_type": "code",
      "source": [
        "%%capture\n",
        "\n",
        "!pip3 install --upgrade pip\n",
        "!pip install waymo-open-dataset-tf-2-11-0==1.5.1"
      ],
      "metadata": {
        "id": "4dwKTubs1F0r"
      },
      "execution_count": 5,
      "outputs": []
    },
    {
      "cell_type": "markdown",
      "source": [
        "## [1] 데이터셋 로드"
      ],
      "metadata": {
        "id": "4kdjcexQ4Jm5"
      }
    },
    {
      "cell_type": "code",
      "source": [
        "!ls -al {VALIDSET_PATH} | head"
      ],
      "metadata": {
        "id": "ON4ek9Ln0inc",
        "colab": {
          "base_uri": "https://localhost:8080/"
        },
        "outputId": "4e8cf759-582e-46cd-d22b-23b37816fe74"
      },
      "execution_count": 6,
      "outputs": [
        {
          "output_type": "stream",
          "name": "stdout",
          "text": [
            "total 40266256\n",
            "-rw------- 1 root root 273686917 Apr 14 03:30 validation.tfrecord-00000-of-00150\n",
            "-rw------- 1 root root 272253722 Apr 14 03:30 validation.tfrecord-00001-of-00150\n",
            "-rw------- 1 root root 281894961 Apr 14 03:30 validation.tfrecord-00002-of-00150\n",
            "-rw------- 1 root root 283858404 Apr 14 03:30 validation.tfrecord-00003-of-00150\n",
            "-rw------- 1 root root 293786123 Apr 14 03:30 validation.tfrecord-00004-of-00150\n",
            "-rw------- 1 root root 275962185 Apr 14 03:30 validation.tfrecord-00005-of-00150\n",
            "-rw------- 1 root root 262424772 Apr 14 03:29 validation.tfrecord-00006-of-00150\n",
            "-rw------- 1 root root 263608876 Apr 14 03:29 validation.tfrecord-00007-of-00150\n",
            "-rw------- 1 root root 287419235 Apr 14 03:30 validation.tfrecord-00008-of-00150\n"
          ]
        }
      ]
    },
    {
      "cell_type": "code",
      "source": [
        "import tensorflow as tf\n",
        "from waymo_open_dataset.protos import scenario_pb2\n",
        "\n",
        "# TFRecordDataset 클래스를 사용하여 데이터를 읽어들임\n",
        "dataset = tf.data.TFRecordDataset(VALIDSET_PATH + '/validation.tfrecord-00000-of-00150')\n",
        "\n",
        "for data in dataset:\n",
        "  scenario = scenario_pb2.Scenario()\n",
        "  scenario.ParseFromString(bytearray(data.numpy()))\n",
        "  break\n",
        "\n",
        "scenario.scenario_id"
      ],
      "metadata": {
        "colab": {
          "base_uri": "https://localhost:8080/",
          "height": 36
        },
        "id": "0r13sI9t3_Z7",
        "outputId": "a03a3d94-a537-4d8c-fbfb-45fbc00bc959"
      },
      "execution_count": 10,
      "outputs": [
        {
          "output_type": "execute_result",
          "data": {
            "text/plain": [
              "'19a486cd29abd7a7'"
            ],
            "application/vnd.google.colaboratory.intrinsic+json": {
              "type": "string"
            }
          },
          "metadata": {},
          "execution_count": 10
        }
      ]
    },
    {
      "cell_type": "markdown",
      "source": [
        "## [2] Scenario 1-depth 분석"
      ],
      "metadata": {
        "id": "6IhK-tHRKa8h"
      }
    },
    {
      "cell_type": "markdown",
      "source": [
        "- 앞서 scenario 인스턴스를 생성해서 데이터를 파싱했다. proto 파일에 작성된 구조는 다음과 같다.\n",
        "  ```proto\n",
        "  message Scenario {\n",
        "    reserved 9;\n",
        "\n",
        "    optional string scenario_id = 5;\n",
        "    repeated double timestamps_seconds = 1;\n",
        "    optional int32 current_time_index = 10;\n",
        "    repeated Track tracks = 2;\n",
        "    repeated DynamicMapState dynamic_map_states = 7;\n",
        "    repeated MapFeature map_features = 8;\n",
        "    optional int32 sdc_track_index = 6;\n",
        "    repeated int32 objects_of_interest = 4;\n",
        "    repeated RequiredPrediction tracks_to_predict = 11;\n",
        "    repeated CompressedFrameLaserData compressed_frame_laser_data = 12;\n",
        "  }\n",
        "  ```\n",
        "- string, double, int 등 단순한 자료형으로 선언되어있는 요소들을 먼저 본다."
      ],
      "metadata": {
        "id": "30YQBqWA-1H7"
      }
    },
    {
      "cell_type": "code",
      "source": [
        "# optional string scenario_id = 5;\n",
        "\n",
        "# 시나리오 고유 넘버\n",
        "scenario.scenario_id"
      ],
      "metadata": {
        "colab": {
          "base_uri": "https://localhost:8080/",
          "height": 36
        },
        "id": "iaduSYns9cGh",
        "outputId": "d0b5c193-b362-465e-cc38-c615167de3ed"
      },
      "execution_count": 24,
      "outputs": [
        {
          "output_type": "execute_result",
          "data": {
            "text/plain": [
              "'19a486cd29abd7a7'"
            ],
            "application/vnd.google.colaboratory.intrinsic+json": {
              "type": "string"
            }
          },
          "metadata": {},
          "execution_count": 24
        }
      ]
    },
    {
      "cell_type": "code",
      "source": [
        "# repeated double timestamps_seconds\n",
        "\n",
        "# 본 시나리오에서 각 장면을 측정한 시각\n",
        "# 총 9초. 과거(1초) + 미래(9초)\n",
        "# 실제 testset에서는 앞 1초만 제공되어 뒤 8초를 예측해야 함.\n",
        "scenario.timestamps_seconds"
      ],
      "metadata": {
        "colab": {
          "base_uri": "https://localhost:8080/"
        },
        "id": "zymo67Lj_pwI",
        "outputId": "c1acfcce-fb79-4fc6-d3e6-f22ebcb18ba4"
      },
      "execution_count": 25,
      "outputs": [
        {
          "output_type": "execute_result",
          "data": {
            "text/plain": [
              "[0.0, 0.10004, 0.20005, 0.3, 0.40001, 0.49998, 0.59998, 0.69998, 0.79999, 0.89999, 0.99999, 1.09995, 1.19996, 1.29992, 1.39991, 1.49988, 1.59987, 1.69992, 1.79991, 1.89994, 1.99994, 2.09994, 2.19994, 2.29995, 2.39998, 2.49998, 2.59998, 2.69998, 2.79998, 2.89998, 2.99998, 3.10001, 3.20005, 3.30009, 3.40013, 3.50013, 3.60013, 3.70017, 3.80017, 3.90017, 4.00017, 4.10018, 4.20014, 4.30011, 4.40006, 4.50002, 4.59999, 4.69995, 4.79992, 4.89988, 4.99988, 5.09984, 5.19984, 5.29984, 5.39984, 5.49988, 5.59989, 5.69993, 5.79993, 5.89996, 6.0, 6.1, 6.2, 6.30003, 6.40003, 6.5, 6.6, 6.7, 6.8, 6.9, 6.99997, 7.09997, 7.19996, 7.29993, 7.39988, 7.49988, 7.59988, 7.69988, 7.79988, 7.89992, 7.99992, 8.09992, 8.19993, 8.29996, 8.39997, 8.49997, 8.59997, 8.69997, 8.79998, 8.89998, 8.99994]"
            ]
          },
          "metadata": {},
          "execution_count": 25
        }
      ]
    },
    {
      "cell_type": "code",
      "source": [
        "# optional int32 current_time_index\n",
        "\n",
        "# 전체 관측 중 '현재'라고 판단하는 시점의 index.\n",
        "# 과거 1초가 거의 끝난 0.99999초 부분이 현재임을 알 수 있음.\n",
        "print(scenario.current_time_index)\n",
        "print(scenario.timestamps_seconds[scenario.current_time_index])"
      ],
      "metadata": {
        "colab": {
          "base_uri": "https://localhost:8080/"
        },
        "id": "I6B5vVNC_wHx",
        "outputId": "962549c2-9424-4ef1-d4f6-b94debff83d6"
      },
      "execution_count": 27,
      "outputs": [
        {
          "output_type": "stream",
          "name": "stdout",
          "text": [
            "10\n",
            "0.99999\n"
          ]
        }
      ]
    },
    {
      "cell_type": "code",
      "source": [
        "# repeated Track tracks = 2;\n",
        "\n",
        "# Map 내에 존재하는 Agent들의 상태정보를 가지고 있음.\n",
        "# Track 구조에 대해서는 2depth에서 다시 언급\n",
        "print(type(scenario.tracks))\n",
        "print(type(scenario.tracks[0]))"
      ],
      "metadata": {
        "colab": {
          "base_uri": "https://localhost:8080/"
        },
        "id": "qw2YXDK_EEve",
        "outputId": "cfd3c3c4-c7b4-4369-8d73-1fd1b60aa529"
      },
      "execution_count": 36,
      "outputs": [
        {
          "output_type": "stream",
          "name": "stdout",
          "text": [
            "<class 'google.protobuf.pyext._message.RepeatedCompositeContainer'>\n",
            "<class 'waymo_open_dataset.protos.scenario_pb2.Track'>\n"
          ]
        }
      ]
    },
    {
      "cell_type": "code",
      "source": [
        "# repeated DynamicMapState dynamic_map_states = 7;\n",
        "\n",
        "# 맵 정보 중 동적인 요소에 대한 정보를 담고 있음.\n",
        "# DynamicMapState 구조에 대해서는 2depth에서 다시 언급\n",
        "print(type(scenario.dynamic_map_states))\n",
        "print(type(scenario.dynamic_map_states[0]))"
      ],
      "metadata": {
        "colab": {
          "base_uri": "https://localhost:8080/"
        },
        "id": "w8FDnnsVEFCb",
        "outputId": "ab863318-f42a-49a6-93a2-bf1a2f103a49"
      },
      "execution_count": 37,
      "outputs": [
        {
          "output_type": "stream",
          "name": "stdout",
          "text": [
            "<class 'google.protobuf.pyext._message.RepeatedCompositeContainer'>\n",
            "<class 'waymo_open_dataset.protos.scenario_pb2.DynamicMapState'>\n"
          ]
        }
      ]
    },
    {
      "cell_type": "code",
      "source": [
        "# repeated MapFeature map_features = 8;\n",
        "\n",
        "# 맵 정보에 대한 정보를 담고 있음(정적)\n",
        "# MapFeature 구조에 대해서는 map.proto에서 다시 언급\n",
        "print(type(scenario.map_features))\n",
        "print(type(scenario.map_features[0]))"
      ],
      "metadata": {
        "colab": {
          "base_uri": "https://localhost:8080/"
        },
        "id": "AhWxW9obEFUf",
        "outputId": "8e2df1b8-5b76-42be-f48f-f0104158108d"
      },
      "execution_count": 39,
      "outputs": [
        {
          "output_type": "stream",
          "name": "stdout",
          "text": [
            "<class 'google.protobuf.pyext._message.RepeatedCompositeContainer'>\n",
            "<class 'waymo_open_dataset.protos.map_pb2.MapFeature'>\n"
          ]
        }
      ]
    },
    {
      "cell_type": "code",
      "source": [
        "# optional int32 sdc_track_index\n",
        "\n",
        "# sdc : Self-Driving Car\n",
        "# 각 장면에는 장면을 측정하고 있는 agent 존재\n",
        "# Tracks 내 여러 agent 중 sdc_track_index에 해당하는 agent가 측정용 객체.\n",
        "scenario.sdc_track_index"
      ],
      "metadata": {
        "colab": {
          "base_uri": "https://localhost:8080/"
        },
        "id": "vPK5MEXpCJgd",
        "outputId": "0417f48a-1029-4118-fae2-3985312aed41"
      },
      "execution_count": 40,
      "outputs": [
        {
          "output_type": "execute_result",
          "data": {
            "text/plain": [
              "10"
            ]
          },
          "metadata": {},
          "execution_count": 40
        }
      ]
    },
    {
      "cell_type": "code",
      "source": [
        "# repeated int32 objects_of_interest\n",
        "\n",
        "# Track 내부에 obejct id 정보가 있는데, 관심있는 대상의 object id를 모아놓은 것.\n",
        "# ('관심있다'에 대한 필요성 및 중요도는 아직 잘 모르겠음)\n",
        "scenario.objects_of_interest"
      ],
      "metadata": {
        "colab": {
          "base_uri": "https://localhost:8080/"
        },
        "id": "b0Zdk2p9Cm80",
        "outputId": "504f1512-a3b6-4792-aeee-3fdad15c5010"
      },
      "execution_count": 46,
      "outputs": [
        {
          "output_type": "execute_result",
          "data": {
            "text/plain": [
              "[]"
            ]
          },
          "metadata": {},
          "execution_count": 46
        }
      ]
    },
    {
      "cell_type": "code",
      "source": [
        "# repeated RequiredPrediction tracks_to_predict\n",
        "\n",
        "# 예측해야 할 track에 대한 정보를 담고있음.\n",
        "# 이 외의 track은 예측 시 무시해도 됨.\n",
        "scenario.tracks_to_predict"
      ],
      "metadata": {
        "colab": {
          "base_uri": "https://localhost:8080/"
        },
        "id": "rokpPyXsFmXl",
        "outputId": "88329f2e-ff6d-4afe-f0dd-b219018e10e2"
      },
      "execution_count": 47,
      "outputs": [
        {
          "output_type": "execute_result",
          "data": {
            "text/plain": [
              "[track_index: 2\n",
              "difficulty: LEVEL_1\n",
              "]"
            ]
          },
          "metadata": {},
          "execution_count": 47
        }
      ]
    },
    {
      "cell_type": "code",
      "source": [
        "# repeated CompressedFrameLaserData compressed_frame_laser_data\n",
        "\n",
        "# 라이다 데이터가 담기는 공간이라고 함.\n",
        "# 근데 제공된 데이터셋에는 라이다 데이터셋이 따로 제공됨.\n",
        "# (안쓰는건가,,?)\n",
        "scenario.compressed_frame_laser_data"
      ],
      "metadata": {
        "colab": {
          "base_uri": "https://localhost:8080/"
        },
        "id": "Qi6t1LinGDiS",
        "outputId": "d8a2b48a-56e9-4c03-8656-2875fd5bed46"
      },
      "execution_count": 48,
      "outputs": [
        {
          "output_type": "execute_result",
          "data": {
            "text/plain": [
              "[]"
            ]
          },
          "metadata": {},
          "execution_count": 48
        }
      ]
    },
    {
      "cell_type": "markdown",
      "source": [
        "## [3] Scenario 2-depth 분석"
      ],
      "metadata": {
        "id": "wcJnDaLiKzEN"
      }
    },
    {
      "cell_type": "markdown",
      "source": [
        "- scenario 메세지 내부에 기본 자료형으로 선언되지 않은 요소들이 있었음.\n",
        "  - repeated **Track tracks** = 2;\n",
        "  - repeated **DynamicMapState dynamic_map_states** = 7;\n",
        "  - repeated **MapFeature map_features** = 8;\n",
        "    - MapFeature는 map.proto에 선언되어 있으므로 추후 다시 언급\n",
        "  - repeated **RequiredPrediction tracks_to_predict**\n",
        "  - repeated **CompressedFrameLaserData compressed_frame_laser_data**\n",
        "    - CompressedFrameLaserData는 compressed_lidar.proto에 선언되어 있으므로 추후 다시 언급\n",
        "- 이 요소들을 한단계 더 나아가 분석해보고자 함."
      ],
      "metadata": {
        "id": "d6rInbqHLxIE"
      }
    },
    {
      "cell_type": "markdown",
      "source": [
        "### [3-1] repeated Track tracks = 2;"
      ],
      "metadata": {
        "id": "Fasfux6AQ39C"
      }
    },
    {
      "cell_type": "markdown",
      "source": [
        "```proto\n",
        "message Track {\n",
        "  enum ObjectType {\n",
        "    TYPE_UNSET = 0;  // This is an invalid state that indicates an error.\n",
        "    TYPE_VEHICLE = 1;\n",
        "    TYPE_PEDESTRIAN = 2;\n",
        "    TYPE_CYCLIST = 3;\n",
        "    TYPE_OTHER = 4;\n",
        "  }\n",
        "\n",
        "  optional int32 id = 1;\n",
        "  optional ObjectType object_type = 2;\n",
        "  repeated ObjectState states = 3;\n",
        "}\n",
        "```"
      ],
      "metadata": {
        "id": "YKK3TMFxMKbZ"
      }
    },
    {
      "cell_type": "code",
      "source": [
        "# repeated Track tracks = 2;\n",
        "\n",
        "# Map 내에 존재하는 Agent들의 상태정보를 가지고 있음.\n",
        "print(len(scenario.tracks))\n",
        "\n",
        "track = scenario.tracks[0]\n",
        "print(f'* Track id   : {track.id}')\n",
        "print(f'* Track type : {track.object_type}') # TYPE_VEHICLE\n",
        "print(f'      -> {track.object_type == track.TYPE_VEHICLE}')\n",
        "print(type(track.states))\n",
        "print(type(track.states[0])) # ObjectState에 대해서는 3depth에서 다룰 예정"
      ],
      "metadata": {
        "colab": {
          "base_uri": "https://localhost:8080/"
        },
        "id": "OPqb0HBmGVvv",
        "outputId": "fffc9e8c-7f4c-44ba-d71c-4a03e4b19053"
      },
      "execution_count": 63,
      "outputs": [
        {
          "output_type": "stream",
          "name": "stdout",
          "text": [
            "11\n",
            "* Track id   : 368\n",
            "* Track type : 1\n",
            "      -> True\n",
            "<class 'google.protobuf.pyext._message.RepeatedCompositeContainer'>\n",
            "<class 'waymo_open_dataset.protos.scenario_pb2.ObjectState'>\n"
          ]
        }
      ]
    },
    {
      "cell_type": "markdown",
      "source": [
        "### [3-2] repeated DynamicMapState dynamic_map_states = 7;"
      ],
      "metadata": {
        "id": "8H5rn99XQ767"
      }
    },
    {
      "cell_type": "markdown",
      "source": [
        "```proto\n",
        "message DynamicMapState {\n",
        "  // The traffic signal states for all observed signals at this time step.\n",
        "  repeated TrafficSignalLaneState lane_states = 1;\n",
        "}\n",
        "```"
      ],
      "metadata": {
        "id": "P3QZ3_RBOUDr"
      }
    },
    {
      "cell_type": "code",
      "source": [
        "# repeated DynamicMapState dynamic_map_states = 7;\n",
        "\n",
        "# 맵 정보 중 동적인 요소에 대한 정보를 담고 있음.\n",
        "print(f'* dynamic map stats length: {len(scenario.dynamic_map_states)}')\n",
        "\n",
        "dynamic_lane_states = scenario.dynamic_map_states[0].lane_states\n",
        "print(f'* dynamic lane state length : {len(dynamic_lane_states)}')\n",
        "dynamic_lane_states[0] # TrafficSignalLaneState에 대해서는 map.proto 에서 다시 언급"
      ],
      "metadata": {
        "colab": {
          "base_uri": "https://localhost:8080/"
        },
        "id": "7vW_jbShK75G",
        "outputId": "504c22d2-9f24-4238-dd9b-3ffb52cba3a4"
      },
      "execution_count": 78,
      "outputs": [
        {
          "output_type": "stream",
          "name": "stdout",
          "text": [
            "* dynamic map stats length: 91\n",
            "* dynamic lane state length : 4\n"
          ]
        },
        {
          "output_type": "execute_result",
          "data": {
            "text/plain": [
              "lane: 120\n",
              "state: LANE_STATE_GO\n",
              "stop_point {\n",
              "  x: 8391.668352965295\n",
              "  y: 7316.195065592189\n",
              "  z: -14.848865196389456\n",
              "}"
            ]
          },
          "metadata": {},
          "execution_count": 78
        }
      ]
    },
    {
      "cell_type": "markdown",
      "source": [
        "### [3-3] repeated RequiredPrediction tracks_to_predict"
      ],
      "metadata": {
        "id": "ylv0NB-MRCNH"
      }
    },
    {
      "cell_type": "markdown",
      "source": [
        "```\n",
        "message RequiredPrediction {\n",
        "  enum DifficultyLevel {\n",
        "    NONE = 0;\n",
        "    LEVEL_1 = 1;\n",
        "    LEVEL_2 = 2;\n",
        "  }\n",
        "  optional int32 track_index = 1;\n",
        "  optional DifficultyLevel difficulty = 2;\n",
        "}\n",
        "```"
      ],
      "metadata": {
        "id": "gWgJX1fzPkuM"
      }
    },
    {
      "cell_type": "code",
      "source": [
        "# repeated RequiredPrediction tracks_to_predict\n",
        "\n",
        "# 예측해야 할 track에 대한 정보를 담고있음.\n",
        "# 이 외의 track은 예측 시 무시해도 됨.\n",
        "print(f'* TTP length  : {len(scenario.tracks_to_predict)}')\n",
        "\n",
        "ttp = scenario.tracks_to_predict[0]\n",
        "print(f'    * Track Index : {ttp.track_index}')\n",
        "print(f'    * Difficulty  : {ttp.difficulty}')\n",
        "\n",
        "print(ttp)"
      ],
      "metadata": {
        "colab": {
          "base_uri": "https://localhost:8080/"
        },
        "id": "9gxWeyrNLBRn",
        "outputId": "14d9ceef-e621-4bd8-bd1f-678bf0653dc4"
      },
      "execution_count": 73,
      "outputs": [
        {
          "output_type": "stream",
          "name": "stdout",
          "text": [
            "* TTP length  : 1\n",
            "    * Track Index : 2\n",
            "    * Difficulty  : 1\n",
            "track_index: 2\n",
            "difficulty: LEVEL_1\n",
            "\n"
          ]
        }
      ]
    },
    {
      "cell_type": "markdown",
      "source": [
        "## [4] Scenario 3-depth 분석"
      ],
      "metadata": {
        "id": "t_RurecCTFvH"
      }
    },
    {
      "cell_type": "code",
      "source": [],
      "metadata": {
        "id": "Fhg8aNj8TLRt"
      },
      "execution_count": null,
      "outputs": []
    },
    {
      "cell_type": "markdown",
      "source": [
        "## [5] Map 분석"
      ],
      "metadata": {
        "id": "mI_7pglMTLvz"
      }
    },
    {
      "cell_type": "code",
      "source": [],
      "metadata": {
        "id": "exF2EW9dTSkS"
      },
      "execution_count": null,
      "outputs": []
    },
    {
      "cell_type": "markdown",
      "source": [
        "# 기타"
      ],
      "metadata": {
        "id": "jIDYe0brLI5g"
      }
    },
    {
      "cell_type": "code",
      "source": [
        "# tutorial/4_dataset-structure/gp-dataset-structure.ipynb"
      ],
      "metadata": {
        "id": "jSLQq5IqLJ98"
      },
      "execution_count": 49,
      "outputs": []
    }
  ]
}