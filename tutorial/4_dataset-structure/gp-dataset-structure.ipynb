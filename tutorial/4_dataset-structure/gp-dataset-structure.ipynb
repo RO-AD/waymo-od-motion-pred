{
  "nbformat": 4,
  "nbformat_minor": 0,
  "metadata": {
    "colab": {
      "provenance": [],
      "authorship_tag": "ABX9TyNGHss6P3FbzrdrsF97y81C",
      "include_colab_link": true
    },
    "kernelspec": {
      "name": "python3",
      "display_name": "Python 3"
    },
    "language_info": {
      "name": "python"
    }
  },
  "cells": [
    {
      "cell_type": "markdown",
      "metadata": {
        "id": "view-in-github",
        "colab_type": "text"
      },
      "source": [
        "<a href=\"https://colab.research.google.com/github/RO-AD/waymo-od-motion-pred/blob/main/tutorial/4_dataset-structure/gp-dataset-structure.ipynb\" target=\"_parent\"><img src=\"https://colab.research.google.com/assets/colab-badge.svg\" alt=\"Open In Colab\"/></a>"
      ]
    },
    {
      "cell_type": "markdown",
      "source": [
        "# 데이터셋 구조 분석 및 시각화\n",
        "\n",
        "저번에는 공식 튜토리얼을 보고 진행했었다. `tf_example/` 하위의 데이터셋을 가지고 시각화를 진행했었는데, 아무래도 tf_example 파싱 부분이 마음에 안들어서 `scenario/` 데이터셋을 가지고 구조 분석 및 시각화를 다시 진행해보려고 한다."
      ],
      "metadata": {
        "id": "jgaTShkx0j_F"
      }
    },
    {
      "cell_type": "markdown",
      "source": [
        "## 환경세팅"
      ],
      "metadata": {
        "id": "NvwgKOSm2J0O"
      }
    },
    {
      "cell_type": "code",
      "execution_count": 4,
      "metadata": {
        "colab": {
          "base_uri": "https://localhost:8080/"
        },
        "id": "rO-hFAovy96i",
        "outputId": "be97f4b2-0477-4e0b-c30c-fc240bc6f620"
      },
      "outputs": [
        {
          "output_type": "stream",
          "name": "stdout",
          "text": [
            "Mounted at /content/drive\n",
            "151\n"
          ]
        }
      ],
      "source": [
        "from google.colab import drive\n",
        "drive.mount('/content/drive')\n",
        "\n",
        "# 구글 드라이브 위치. 마운트 잘 됐는지 확인.\n",
        "GDRIVE_WOD_PATH = \"/content/drive/MyDrive/waymo-od-dataset/motion_v_1_2_0/uncompressed\"\n",
        "VALIDSET_PATH   = GDRIVE_WOD_PATH + \"/scenario/validation\"\n",
        "\n",
        "# 마운트 확인\n",
        "!ls -al {VALIDSET_PATH} | wc -l"
      ]
    },
    {
      "cell_type": "code",
      "source": [
        "%%capture\n",
        "\n",
        "!pip3 install --upgrade pip\n",
        "!pip install waymo-open-dataset-tf-2-11-0==1.5.1"
      ],
      "metadata": {
        "id": "4dwKTubs1F0r"
      },
      "execution_count": 5,
      "outputs": []
    },
    {
      "cell_type": "markdown",
      "source": [],
      "metadata": {
        "id": "ON4ek9Ln0inc"
      }
    }
  ]
}