{
  "nbformat": 4,
  "nbformat_minor": 0,
  "metadata": {
    "colab": {
      "provenance": [],
      "authorship_tag": "ABX9TyPi3qmt3t3oN1Cc+f7RtHxJ",
      "include_colab_link": true
    },
    "kernelspec": {
      "name": "python3",
      "display_name": "Python 3"
    },
    "language_info": {
      "name": "python"
    }
  },
  "cells": [
    {
      "cell_type": "markdown",
      "metadata": {
        "id": "view-in-github",
        "colab_type": "text"
      },
      "source": [
        "<a href=\"https://colab.research.google.com/github/RO-AD/waymo-od-motion-pred/blob/main/tutorial/4_dataset-structure/hj-dataset-structure.ipynb\" target=\"_parent\"><img src=\"https://colab.research.google.com/assets/colab-badge.svg\" alt=\"Open In Colab\"/></a>"
      ]
    },
    {
      "cell_type": "markdown",
      "source": [
        "tutorial/4_dataset-structure/hj-dataset-structure.ipynb"
      ],
      "metadata": {
        "id": "51Bbrus12-Ql"
      }
    },
    {
      "cell_type": "markdown",
      "source": [
        "# Dataset Proto 구조 분석"
      ],
      "metadata": {
        "id": "aT5qAZ1w2tha"
      }
    },
    {
      "cell_type": "markdown",
      "source": [
        "## 환경세팅"
      ],
      "metadata": {
        "id": "F9sD_bIr28Mp"
      }
    },
    {
      "cell_type": "code",
      "execution_count": 1,
      "metadata": {
        "colab": {
          "base_uri": "https://localhost:8080/"
        },
        "id": "kv7CLoas2dn8",
        "outputId": "b83ce312-5874-4917-e1f1-f2268ea23476"
      },
      "outputs": [
        {
          "output_type": "stream",
          "name": "stdout",
          "text": [
            "Mounted at /content/drive\n"
          ]
        }
      ],
      "source": [
        "from google.colab import drive\n",
        "drive.mount('/content/drive')"
      ]
    },
    {
      "cell_type": "code",
      "source": [
        "VALIDATION_PATH = \"/content/drive/MyDrive/waymo-od-dataset/motion_v_1_2_0/uncompressed/scenario/validation/\""
      ],
      "metadata": {
        "id": "o75J7ccS36EX"
      },
      "execution_count": 2,
      "outputs": []
    },
    {
      "cell_type": "code",
      "source": [
        "%%capture\n",
        "!pip3 install --upgrade pip\n",
        "!pip install waymo-open-dataset-tf-2-11-0==1.5.1 # 최신 버전 라이브러리"
      ],
      "metadata": {
        "id": "GYsdVgZ931fO"
      },
      "execution_count": 3,
      "outputs": []
    },
    {
      "cell_type": "code",
      "source": [
        "import math\n",
        "import os\n",
        "import uuid\n",
        "import time\n",
        "\n",
        "import numpy as np\n",
        "import tensorflow as tf\n",
        "\n",
        "from google.protobuf import text_format\n",
        "from waymo_open_dataset.metrics.ops import py_metrics_ops\n",
        "from waymo_open_dataset.metrics.python import config_util_py as config_util\n",
        "from waymo_open_dataset.protos import motion_metrics_pb2"
      ],
      "metadata": {
        "id": "j71yLDP13-6d"
      },
      "execution_count": 4,
      "outputs": []
    },
    {
      "cell_type": "code",
      "source": [
        "filename = VALIDATION_PATH + 'validation.tfrecord-00000-of-00150'"
      ],
      "metadata": {
        "id": "xxsGWNG49fb6"
      },
      "execution_count": 7,
      "outputs": []
    },
    {
      "cell_type": "code",
      "source": [
        "from waymo_open_dataset.protos import scenario_pb2 \n",
        "\n",
        "dataset = tf.data.TFRecordDataset(filename, compression_type='')\n",
        "for data in dataset :\n",
        "   scenario = scenario_pb2.Scenario()\n",
        "   scenario.ParseFromString(data.numpy())\n",
        "   break"
      ],
      "metadata": {
        "id": "YrFk8PYb4Dm6"
      },
      "execution_count": 8,
      "outputs": []
    },
    {
      "cell_type": "code",
      "source": [
        "scenario.scenario_id"
      ],
      "metadata": {
        "colab": {
          "base_uri": "https://localhost:8080/",
          "height": 35
        },
        "id": "BA47k1dO9yNL",
        "outputId": "2342bdee-2c8c-4ec3-f538-41d8c26dd0ff"
      },
      "execution_count": 9,
      "outputs": [
        {
          "output_type": "execute_result",
          "data": {
            "text/plain": [
              "'19a486cd29abd7a7'"
            ],
            "application/vnd.google.colaboratory.intrinsic+json": {
              "type": "string"
            }
          },
          "metadata": {},
          "execution_count": 9
        }
      ]
    },
    {
      "cell_type": "markdown",
      "source": [
        "## Dataset 구조 분석\n",
        "waymo 공식 깃허브에 있는 proto 파일을 보며 Dataset 구조 분석 해보기\n",
        "- [scenario.proto](https://github.com/waymo-research/waymo-open-dataset/blob/master/src/waymo_open_dataset/protos/scenario.proto)\n",
        "- [map.proto](https://github.com/waymo-research/waymo-open-dataset/blob/master/src/waymo_open_dataset/protos/map.proto)\n",
        "- [compressed_lidar.proto](https://github.com/waymo-research/waymo-open-dataset/blob/master/src/waymo_open_dataset/protos/compressed_lidar.proto)"
      ],
      "metadata": {
        "id": "08c9JQga-R7B"
      }
    },
    {
      "cell_type": "markdown",
      "source": [
        "### scenario.proto"
      ],
      "metadata": {
        "id": "k90qXW1V_tLM"
      }
    },
    {
      "cell_type": "markdown",
      "source": [
        "```proto\n",
        "// This proto contains the  Waymo Open Dataset Motion source data.\n",
        "\n",
        "syntax = \"proto2\";\n",
        "\n",
        "package waymo.open_dataset;\n",
        "\n",
        "import \"waymo_open_dataset/protos/compressed_lidar.proto\";\n",
        "import \"waymo_open_dataset/protos/map.proto\";\n",
        "```\n",
        "\n",
        "`compressed_lidar.proto`와 `map.proto`를 import 한다."
      ],
      "metadata": {
        "id": "Y_wZaEPq_T5a"
      }
    },
    {
      "cell_type": "markdown",
      "source": [
        "```proto\n",
        "message Scenario {\n",
        "  reserved 9;\n",
        "\n",
        "  optional string scenario_id = 5;\n",
        "  repeated double timestamps_seconds = 1;\n",
        "  optional int32 current_time_index = 10;\n",
        "  repeated Track tracks = 2;\n",
        "  repeated DynamicMapState dynamic_map_states = 7;\n",
        "  repeated MapFeature map_features = 8;\n",
        "  optional int32 sdc_track_index = 6;\n",
        "  repeated int32 objects_of_interest = 4;\n",
        "  repeated RequiredPrediction tracks_to_predict = 11;\n",
        "  repeated CompressedFrameLaserData compressed_frame_laser_data = 12;\n",
        "}\n",
        "```"
      ],
      "metadata": {
        "id": "bADcT7RhF01a"
      }
    },
    {
      "cell_type": "markdown",
      "source": [
        "하나씩 값을 보며 분석\n",
        "```proto\n",
        "// scenario_id\n",
        "// The unique ID for this scenario. (옵션)\n",
        "optional string scenario_id = 5;\n",
        "```\n"
      ],
      "metadata": {
        "id": "M_P9aNYNGAtA"
      }
    },
    {
      "cell_type": "code",
      "source": [
        "scenario.scenario_id"
      ],
      "metadata": {
        "colab": {
          "base_uri": "https://localhost:8080/",
          "height": 35
        },
        "id": "lCNZvsghGJyL",
        "outputId": "9da937fa-9d99-439d-f392-7caed494443f"
      },
      "execution_count": 23,
      "outputs": [
        {
          "output_type": "execute_result",
          "data": {
            "text/plain": [
              "'19a486cd29abd7a7'"
            ],
            "application/vnd.google.colaboratory.intrinsic+json": {
              "type": "string"
            }
          },
          "metadata": {},
          "execution_count": 23
        }
      ]
    },
    {
      "cell_type": "markdown",
      "source": [
        "```proto\n",
        "// timestamps_seconds\n",
        "// 0.0부터 0.1초 간격으로 9초까지 91개의 값을 가지고 있는 리스트\n",
        "repeated double timestamps_seconds = 1;\n",
        "```"
      ],
      "metadata": {
        "id": "sd_9YvZgGY86"
      }
    },
    {
      "cell_type": "code",
      "source": [
        "scenario.timestamps_seconds"
      ],
      "metadata": {
        "colab": {
          "base_uri": "https://localhost:8080/"
        },
        "id": "SSKxRkLnGZyS",
        "outputId": "f5096448-bc49-4d48-9a04-e8023a30db3c"
      },
      "execution_count": 24,
      "outputs": [
        {
          "output_type": "execute_result",
          "data": {
            "text/plain": [
              "[0.0, 0.10004, 0.20005, 0.3, 0.40001, 0.49998, 0.59998, 0.69998, 0.79999, 0.89999, 0.99999, 1.09995, 1.19996, 1.29992, 1.39991, 1.49988, 1.59987, 1.69992, 1.79991, 1.89994, 1.99994, 2.09994, 2.19994, 2.29995, 2.39998, 2.49998, 2.59998, 2.69998, 2.79998, 2.89998, 2.99998, 3.10001, 3.20005, 3.30009, 3.40013, 3.50013, 3.60013, 3.70017, 3.80017, 3.90017, 4.00017, 4.10018, 4.20014, 4.30011, 4.40006, 4.50002, 4.59999, 4.69995, 4.79992, 4.89988, 4.99988, 5.09984, 5.19984, 5.29984, 5.39984, 5.49988, 5.59989, 5.69993, 5.79993, 5.89996, 6.0, 6.1, 6.2, 6.30003, 6.40003, 6.5, 6.6, 6.7, 6.8, 6.9, 6.99997, 7.09997, 7.19996, 7.29993, 7.39988, 7.49988, 7.59988, 7.69988, 7.79988, 7.89992, 7.99992, 8.09992, 8.19993, 8.29996, 8.39997, 8.49997, 8.59997, 8.69997, 8.79998, 8.89998, 8.99994]"
            ]
          },
          "metadata": {},
          "execution_count": 24
        }
      ]
    },
    {
      "cell_type": "markdown",
      "source": [
        "```proto\n",
        "// current_time_index\n",
        "// 현재 시간의 인덱스. timestamps_seconds[10]은 약 1.0이다 (옵션)\n",
        "optional int32 current_time_index = 10;\n",
        "```\n"
      ],
      "metadata": {
        "id": "9a2Tt3gaJV5I"
      }
    },
    {
      "cell_type": "code",
      "source": [
        "scenario.current_time_index"
      ],
      "metadata": {
        "colab": {
          "base_uri": "https://localhost:8080/"
        },
        "id": "_mQQxqOAJVVf",
        "outputId": "aa3bd1c3-fcdb-4ead-db28-7174522d6d7d"
      },
      "execution_count": 25,
      "outputs": [
        {
          "output_type": "execute_result",
          "data": {
            "text/plain": [
              "10"
            ]
          },
          "metadata": {},
          "execution_count": 25
        }
      ]
    },
    {
      "cell_type": "markdown",
      "source": [
        "```proto\n",
        "// tracks\n",
        "// 시나리오의 모든 개체 트랙 리스트로, len(tracks[i].states)은 91로 동일하다. \n",
        "// tracks[i].states[j]는 timestamps_seconds[j] 시간에 해당하는 i번째 에이전트의 상태이다.\n",
        "repeated Track tracks = 2;\n",
        "```"
      ],
      "metadata": {
        "id": "7ckBK7ZpJlvA"
      }
    },
    {
      "cell_type": "code",
      "source": [
        "print(len(scenario.tracks))\n",
        "print(len(scenario.tracks[0].states))\n",
        "print(scenario.tracks[0].id)\n",
        "print(scenario.tracks[0].states[2])"
      ],
      "metadata": {
        "colab": {
          "base_uri": "https://localhost:8080/"
        },
        "id": "YO3SN8ZDJlfM",
        "outputId": "41a310cc-72b6-41e8-db48-03b79cc0337d"
      },
      "execution_count": 30,
      "outputs": [
        {
          "output_type": "stream",
          "name": "stdout",
          "text": [
            "11\n",
            "91\n",
            "368\n",
            "center_x: 8382.134765625\n",
            "center_y: 7209.99072265625\n",
            "center_z: -13.698562246539266\n",
            "length: 4.469150066375732\n",
            "width: 1.9771449565887451\n",
            "height: 1.4942156076431274\n",
            "heading: -1.5596644878387451\n",
            "velocity_x: 0.361328125\n",
            "velocity_y: -19.1748046875\n",
            "valid: true\n",
            "\n"
          ]
        }
      ]
    },
    {
      "cell_type": "markdown",
      "source": [
        "```proto\n",
        "// dynamic_map_states\n",
        "// 시나리오의 동적 맵 상태 리스트 (예: 교통 신호 상태)\n",
        "// 이 필드의 길이는 timestamp_seconds와 동일하다\n",
        "// dynamic_map_states[i]는 timestamps_seconds[i] 시 동적 맵 상태를 인덱싱한다\n",
        "repeated DynamicMapState dynamic_map_states = 7;\n",
        "```"
      ],
      "metadata": {
        "id": "Y0lTmu5cKSfA"
      }
    },
    {
      "cell_type": "code",
      "source": [
        "scenario.dynamic_map_states[0]"
      ],
      "metadata": {
        "colab": {
          "base_uri": "https://localhost:8080/"
        },
        "id": "oxlOvi02KSRa",
        "outputId": "d3af86e0-17cb-4410-fdbf-8c394b92b40f"
      },
      "execution_count": 36,
      "outputs": [
        {
          "output_type": "execute_result",
          "data": {
            "text/plain": [
              "lane_states {\n",
              "  lane: 120\n",
              "  state: LANE_STATE_GO\n",
              "  stop_point {\n",
              "    x: 8391.668352965295\n",
              "    y: 7316.195065592189\n",
              "    z: -14.848865196389456\n",
              "  }\n",
              "}\n",
              "lane_states {\n",
              "  lane: 121\n",
              "  state: LANE_STATE_GO\n",
              "  stop_point {\n",
              "    x: 8394.981797191336\n",
              "    y: 7316.2616120958155\n",
              "    z: -14.868865196389438\n",
              "  }\n",
              "}\n",
              "lane_states {\n",
              "  lane: 122\n",
              "  state: LANE_STATE_GO\n",
              "  stop_point {\n",
              "    x: 8394.981797191336\n",
              "    y: 7316.2616120958155\n",
              "    z: -14.868865196389438\n",
              "  }\n",
              "}\n",
              "lane_states {\n",
              "  lane: 123\n",
              "  state: LANE_STATE_GO\n",
              "  stop_point {\n",
              "    x: 8397.46688036219\n",
              "    y: 7316.206156676259\n",
              "    z: -14.92886519638944\n",
              "  }\n",
              "}"
            ]
          },
          "metadata": {},
          "execution_count": 36
        }
      ]
    },
    {
      "cell_type": "markdown",
      "source": [
        "```proto\n",
        "// map_features\n",
        "// 시나리오의 정적 맵 기능 리스트 집합\n",
        "repeated MapFeature map_features = 8;\n",
        "```"
      ],
      "metadata": {
        "id": "gk-2qF_SKuKC"
      }
    },
    {
      "cell_type": "code",
      "source": [
        "scenario.map_features[0].id"
      ],
      "metadata": {
        "colab": {
          "base_uri": "https://localhost:8080/"
        },
        "id": "RB8rVGiyKt7I",
        "outputId": "812ac62e-7804-4705-972a-5057d28263b2"
      },
      "execution_count": 39,
      "outputs": [
        {
          "output_type": "execute_result",
          "data": {
            "text/plain": [
              "3"
            ]
          },
          "metadata": {},
          "execution_count": 39
        }
      ]
    },
    {
      "cell_type": "code",
      "source": [
        "scenario.map_features[0].road_edge.polyline[0]"
      ],
      "metadata": {
        "colab": {
          "base_uri": "https://localhost:8080/"
        },
        "id": "EkpuRMXWLD1d",
        "outputId": "fe5a3e1c-0c9e-4acc-cdb5-8092acaa21d0"
      },
      "execution_count": 42,
      "outputs": [
        {
          "output_type": "execute_result",
          "data": {
            "text/plain": [
              "x: 8292.619348114988\n",
              "y: 7179.778677513115\n",
              "z: -14.258546045464358"
            ]
          },
          "metadata": {},
          "execution_count": 42
        }
      ]
    },
    {
      "cell_type": "markdown",
      "source": [
        "```proto\n",
        "// sdc_track_index\n",
        "// sdc : Self-Driving Car\n",
        "// 맵 정보를 촬영하는 자율주행 차량 개체의 track 리스트에 해당하는 인덱스 (옵션)\n",
        "// 보행자, 자전거, 자동차 등의 에이전트를 포함한 track 리스트 중 해당 인덱스는 무시\n",
        "optional int32 sdc_track_index = 6;\n",
        "```"
      ],
      "metadata": {
        "id": "2BB9BNbeNMkS"
      }
    },
    {
      "cell_type": "code",
      "source": [
        "scenario.sdc_track_index"
      ],
      "metadata": {
        "colab": {
          "base_uri": "https://localhost:8080/"
        },
        "id": "Nc-uzWBRNMTN",
        "outputId": "ea182b98-55f6-4f12-dad5-526ff856883d"
      },
      "execution_count": 43,
      "outputs": [
        {
          "output_type": "execute_result",
          "data": {
            "text/plain": [
              "10"
            ]
          },
          "metadata": {},
          "execution_count": 43
        }
      ]
    },
    {
      "cell_type": "markdown",
      "source": [
        "```proto\n",
        "// objects_of_interest\n",
        "// 상호작용(interactive) 동작이 감지된 scene의 객체(Object) ID 목록 리스트\n",
        "// 이 필드에 포함된 ID는 tracks 필드의 ID에 해당되며, tracks 필드의 객체와 일치한다\n",
        "// 예를 들어, 자율주행 자동차가 도로를 따라 이동하는 동안, \n",
        "// 이 필드는 차량 주위에 위치한 보행자나 자전거 등과 같은 상호작용 객체 ID를 포함할 수 있다\n",
        "// 이러한 객체들은 자율주행 자동차와의 상호작용을 감지하는 데 사용될 수 있다.\n",
        "repeated int32 objects_of_interest = 4;\n",
        "```"
      ],
      "metadata": {
        "id": "JhouvnYtOlZz"
      }
    },
    {
      "cell_type": "code",
      "source": [
        "scenario.objects_of_interest"
      ],
      "metadata": {
        "colab": {
          "base_uri": "https://localhost:8080/"
        },
        "id": "uaXSpfhPOlNZ",
        "outputId": "516726f8-eb57-4d0f-826a-5561e5ff0225"
      },
      "execution_count": 46,
      "outputs": [
        {
          "output_type": "execute_result",
          "data": {
            "text/plain": [
              "[]"
            ]
          },
          "metadata": {},
          "execution_count": 46
        }
      ]
    },
    {
      "cell_type": "markdown",
      "source": [
        "```proto\n",
        "// tracks_to_predict\n",
        "// 예측을 생성하려는 추적 대상 객체 ID의 목록 리스트\n",
        "// 해당 필드는 추적 대상 객체를 학습하는 데 사용된다\n",
        "// tracks[tracks_to_predict.track_index].states[15::5]의 center_x, center_y를 예측해야 한다\n",
        "// 즉, future timestamp인 1.5초부터 0.5초 간격으로 states의 center_x, center_y를 예측해야 한다 \n",
        "repeated RequiredPrediction tracks_to_predict = 11;\n",
        "```"
      ],
      "metadata": {
        "id": "ESzvn-vqPxhS"
      }
    },
    {
      "cell_type": "code",
      "source": [
        "scenario.tracks_to_predict"
      ],
      "metadata": {
        "colab": {
          "base_uri": "https://localhost:8080/"
        },
        "id": "V_gDTFBePxTW",
        "outputId": "94df383d-eab4-4bb5-c9ef-bfc8f5eddfa2"
      },
      "execution_count": 47,
      "outputs": [
        {
          "output_type": "execute_result",
          "data": {
            "text/plain": [
              "[track_index: 2\n",
              "difficulty: LEVEL_1\n",
              "]"
            ]
          },
          "metadata": {},
          "execution_count": 47
        }
      ]
    },
    {
      "cell_type": "markdown",
      "source": [
        "```proto\n",
        "// compressed_frame_laser_data\n",
        "// time step에서의 Lidar 데이터를 담고 있다\n",
        "// compressed_frame_laser_data[i]는 timestamps_seconds[i]에서의 상태를 나타낸다\n",
        "// 이 필드는 현재 시간 인덱스보다 작거나 같은 모든 시간 단계에 대한 데이터를 포함한다\n",
        "repeated CompressedFrameLaserData compressed_frame_laser_data = 12;\n",
        "```"
      ],
      "metadata": {
        "id": "pTVMT8mhRUG-"
      }
    },
    {
      "cell_type": "code",
      "source": [
        "scenario.compressed_frame_laser_data"
      ],
      "metadata": {
        "colab": {
          "base_uri": "https://localhost:8080/"
        },
        "id": "JEJbmZiiRT7Q",
        "outputId": "eadb2b20-8bbe-4ef5-8fe1-e4fe09936115"
      },
      "execution_count": 48,
      "outputs": [
        {
          "output_type": "execute_result",
          "data": {
            "text/plain": [
              "[]"
            ]
          },
          "metadata": {},
          "execution_count": 48
        }
      ]
    },
    {
      "cell_type": "markdown",
      "source": [],
      "metadata": {
        "id": "MAXdsiIvAVfs"
      }
    },
    {
      "cell_type": "code",
      "source": [],
      "metadata": {
        "id": "FkLe9Gh891E3"
      },
      "execution_count": null,
      "outputs": []
    }
  ]
}