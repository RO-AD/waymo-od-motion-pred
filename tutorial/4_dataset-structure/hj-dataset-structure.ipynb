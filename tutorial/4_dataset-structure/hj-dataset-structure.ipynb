{
  "nbformat": 4,
  "nbformat_minor": 0,
  "metadata": {
    "colab": {
      "provenance": [],
      "collapsed_sections": [
        "F9sD_bIr28Mp"
      ],
      "authorship_tag": "ABX9TyMU6E3TtoPR30RASI6yiHZ4",
      "include_colab_link": true
    },
    "kernelspec": {
      "name": "python3",
      "display_name": "Python 3"
    },
    "language_info": {
      "name": "python"
    }
  },
  "cells": [
    {
      "cell_type": "markdown",
      "metadata": {
        "id": "view-in-github",
        "colab_type": "text"
      },
      "source": [
        "<a href=\"https://colab.research.google.com/github/RO-AD/waymo-od-motion-pred/blob/main/tutorial/4_dataset-structure/hj-dataset-structure.ipynb\" target=\"_parent\"><img src=\"https://colab.research.google.com/assets/colab-badge.svg\" alt=\"Open In Colab\"/></a>"
      ]
    },
    {
      "cell_type": "markdown",
      "source": [
        "tutorial/4_dataset-structure/hj-dataset-structure.ipynb"
      ],
      "metadata": {
        "id": "51Bbrus12-Ql"
      }
    },
    {
      "cell_type": "markdown",
      "source": [
        "# Dataset Proto 구조 분석"
      ],
      "metadata": {
        "id": "aT5qAZ1w2tha"
      }
    },
    {
      "cell_type": "markdown",
      "source": [
        "## 환경세팅"
      ],
      "metadata": {
        "id": "F9sD_bIr28Mp"
      }
    },
    {
      "cell_type": "code",
      "execution_count": 1,
      "metadata": {
        "colab": {
          "base_uri": "https://localhost:8080/"
        },
        "id": "kv7CLoas2dn8",
        "outputId": "a5fec773-f0a1-4311-c9c8-83fc202eb828"
      },
      "outputs": [
        {
          "output_type": "stream",
          "name": "stdout",
          "text": [
            "Mounted at /content/drive\n"
          ]
        }
      ],
      "source": [
        "from google.colab import drive\n",
        "drive.mount('/content/drive')"
      ]
    },
    {
      "cell_type": "code",
      "source": [
        "VALIDATION_PATH = \"/content/drive/MyDrive/waymo-od-dataset/motion_v_1_2_0/uncompressed/scenario/validation/\""
      ],
      "metadata": {
        "id": "o75J7ccS36EX"
      },
      "execution_count": 2,
      "outputs": []
    },
    {
      "cell_type": "code",
      "source": [
        "%%capture\n",
        "!pip3 install --upgrade pip\n",
        "!pip install waymo-open-dataset-tf-2-11-0==1.5.1 # 최신 버전 라이브러리"
      ],
      "metadata": {
        "id": "GYsdVgZ931fO"
      },
      "execution_count": 3,
      "outputs": []
    },
    {
      "cell_type": "code",
      "source": [
        "\n",
        "import math\n",
        "import os\n",
        "import uuid\n",
        "import time\n",
        "\n",
        "import numpy as np\n",
        "import tensorflow as tf\n",
        "\n",
        "from google.protobuf import text_format\n",
        "from waymo_open_dataset.metrics.ops import py_metrics_ops\n",
        "from waymo_open_dataset.metrics.python import config_util_py as config_util\n",
        "from waymo_open_dataset.protos import motion_metrics_pb2"
      ],
      "metadata": {
        "id": "j71yLDP13-6d"
      },
      "execution_count": 4,
      "outputs": []
    },
    {
      "cell_type": "code",
      "source": [
        "filename = VALIDATION_PATH + 'validation.tfrecord-00000-of-00150'"
      ],
      "metadata": {
        "id": "xxsGWNG49fb6"
      },
      "execution_count": 5,
      "outputs": []
    },
    {
      "cell_type": "code",
      "source": [
        "from waymo_open_dataset.protos import scenario_pb2 \n",
        "\n",
        "dataset = tf.data.TFRecordDataset(filename, compression_type='')\n",
        "for data in dataset :\n",
        "   scenario = scenario_pb2.Scenario()\n",
        "   scenario.ParseFromString(data.numpy())\n",
        "   break"
      ],
      "metadata": {
        "id": "YrFk8PYb4Dm6"
      },
      "execution_count": 6,
      "outputs": []
    },
    {
      "cell_type": "code",
      "source": [
        "scenario.scenario_id"
      ],
      "metadata": {
        "colab": {
          "base_uri": "https://localhost:8080/",
          "height": 35
        },
        "id": "BA47k1dO9yNL",
        "outputId": "2342bdee-2c8c-4ec3-f538-41d8c26dd0ff"
      },
      "execution_count": 9,
      "outputs": [
        {
          "output_type": "execute_result",
          "data": {
            "text/plain": [
              "'19a486cd29abd7a7'"
            ],
            "application/vnd.google.colaboratory.intrinsic+json": {
              "type": "string"
            }
          },
          "metadata": {},
          "execution_count": 9
        }
      ]
    },
    {
      "cell_type": "markdown",
      "source": [
        "## Dataset 구조 분석\n",
        "waymo 공식 깃허브에 있는 proto 파일을 보며 Dataset 구조 분석 해보기\n",
        "- [scenario.proto](https://github.com/waymo-research/waymo-open-dataset/blob/master/src/waymo_open_dataset/protos/scenario.proto)\n",
        "- [map.proto](https://github.com/waymo-research/waymo-open-dataset/blob/master/src/waymo_open_dataset/protos/map.proto)\n",
        "- [compressed_lidar.proto](https://github.com/waymo-research/waymo-open-dataset/blob/master/src/waymo_open_dataset/protos/compressed_lidar.proto)"
      ],
      "metadata": {
        "id": "08c9JQga-R7B"
      }
    },
    {
      "cell_type": "markdown",
      "source": [
        "```proto\n",
        "// This proto contains the  Waymo Open Dataset Motion source data.\n",
        "\n",
        "syntax = \"proto2\";\n",
        "\n",
        "package waymo.open_dataset;\n",
        "\n",
        "import \"waymo_open_dataset/protos/compressed_lidar.proto\";\n",
        "import \"waymo_open_dataset/protos/map.proto\";\n",
        "```\n",
        "\n",
        "`compressed_lidar.proto`와 `map.proto`를 import 한다."
      ],
      "metadata": {
        "id": "Y_wZaEPq_T5a"
      }
    },
    {
      "cell_type": "markdown",
      "source": [
        "```proto\n",
        "message Scenario {\n",
        "  reserved 9;\n",
        "\n",
        "  optional string scenario_id = 5;\n",
        "  repeated double timestamps_seconds = 1;\n",
        "  optional int32 current_time_index = 10;\n",
        "  repeated Track tracks = 2;\n",
        "  repeated DynamicMapState dynamic_map_states = 7;\n",
        "  repeated MapFeature map_features = 8;\n",
        "  optional int32 sdc_track_index = 6;\n",
        "  repeated int32 objects_of_interest = 4;\n",
        "  repeated RequiredPrediction tracks_to_predict = 11;\n",
        "  repeated CompressedFrameLaserData compressed_frame_laser_data = 12;\n",
        "}\n",
        "```"
      ],
      "metadata": {
        "id": "bADcT7RhF01a"
      }
    },
    {
      "cell_type": "markdown",
      "source": [
        "하나씩 값을 보며 분석\n",
        "\n",
        "- scenario_id\n",
        "```proto\n",
        "optional string scenario_id = 5;\n",
        "```\n",
        "- The unique ID for this scenario.\n",
        "- `oprional`은 옵션을 의미한다.\n",
        "- 자료형은 `string`"
      ],
      "metadata": {
        "id": "M_P9aNYNGAtA"
      }
    },
    {
      "cell_type": "code",
      "source": [
        "scenario.scenario_id"
      ],
      "metadata": {
        "colab": {
          "base_uri": "https://localhost:8080/",
          "height": 35
        },
        "id": "lCNZvsghGJyL",
        "outputId": "9da937fa-9d99-439d-f392-7caed494443f"
      },
      "execution_count": 23,
      "outputs": [
        {
          "output_type": "execute_result",
          "data": {
            "text/plain": [
              "'19a486cd29abd7a7'"
            ],
            "application/vnd.google.colaboratory.intrinsic+json": {
              "type": "string"
            }
          },
          "metadata": {},
          "execution_count": 23
        }
      ]
    },
    {
      "cell_type": "markdown",
      "source": [
        "- timestamps_seconds\n",
        "```proto\n",
        "repeated double timestamps_seconds = 1;\n",
        "```\n",
        "- 0.0부터 0.1초 간격으로 9초까지 91개의 값을 가지고 있는 리스트\n",
        "- `repeated`는 리스트를 의미한다.\n",
        "- 자료형은 `double`"
      ],
      "metadata": {
        "id": "sd_9YvZgGY86"
      }
    },
    {
      "cell_type": "code",
      "source": [
        "scenario.timestamps_seconds"
      ],
      "metadata": {
        "colab": {
          "base_uri": "https://localhost:8080/"
        },
        "id": "SSKxRkLnGZyS",
        "outputId": "f5096448-bc49-4d48-9a04-e8023a30db3c"
      },
      "execution_count": 24,
      "outputs": [
        {
          "output_type": "execute_result",
          "data": {
            "text/plain": [
              "[0.0, 0.10004, 0.20005, 0.3, 0.40001, 0.49998, 0.59998, 0.69998, 0.79999, 0.89999, 0.99999, 1.09995, 1.19996, 1.29992, 1.39991, 1.49988, 1.59987, 1.69992, 1.79991, 1.89994, 1.99994, 2.09994, 2.19994, 2.29995, 2.39998, 2.49998, 2.59998, 2.69998, 2.79998, 2.89998, 2.99998, 3.10001, 3.20005, 3.30009, 3.40013, 3.50013, 3.60013, 3.70017, 3.80017, 3.90017, 4.00017, 4.10018, 4.20014, 4.30011, 4.40006, 4.50002, 4.59999, 4.69995, 4.79992, 4.89988, 4.99988, 5.09984, 5.19984, 5.29984, 5.39984, 5.49988, 5.59989, 5.69993, 5.79993, 5.89996, 6.0, 6.1, 6.2, 6.30003, 6.40003, 6.5, 6.6, 6.7, 6.8, 6.9, 6.99997, 7.09997, 7.19996, 7.29993, 7.39988, 7.49988, 7.59988, 7.69988, 7.79988, 7.89992, 7.99992, 8.09992, 8.19993, 8.29996, 8.39997, 8.49997, 8.59997, 8.69997, 8.79998, 8.89998, 8.99994]"
            ]
          },
          "metadata": {},
          "execution_count": 24
        }
      ]
    },
    {
      "cell_type": "markdown",
      "source": [
        "- current_time_index\n",
        "```proto\n",
        "optional int32 current_time_index = 10;\n",
        "```\n",
        "- 현재 시간의 인덱스. timestamps_seconds[10]은 약 1.0이다.\n",
        "- 옵션이고 자료형은 `int32`\n"
      ],
      "metadata": {
        "id": "9a2Tt3gaJV5I"
      }
    },
    {
      "cell_type": "code",
      "source": [
        "scenario.current_time_index"
      ],
      "metadata": {
        "colab": {
          "base_uri": "https://localhost:8080/"
        },
        "id": "_mQQxqOAJVVf",
        "outputId": "aa3bd1c3-fcdb-4ead-db28-7174522d6d7d"
      },
      "execution_count": 25,
      "outputs": [
        {
          "output_type": "execute_result",
          "data": {
            "text/plain": [
              "10"
            ]
          },
          "metadata": {},
          "execution_count": 25
        }
      ]
    },
    {
      "cell_type": "markdown",
      "source": [
        "- tracks\n",
        "```proto\n",
        "repeated Track tracks = 2;\n",
        "```\n",
        "- 시나리오의 모든 개체 트랙 리스트로, `len(tracks[i].states)`은 91로 동일하다. \n",
        "- `tracks[i].states[j]`는 `timestamps_seconds[j]` 시간에 해당하는 i번째 에이전트의 상태이다.\n",
        "- 자료형은 `Track`이다. `Track` 형태는 같은 파일 내에 선언되어 있다."
      ],
      "metadata": {
        "id": "7ckBK7ZpJlvA"
      }
    },
    {
      "cell_type": "code",
      "source": [
        "print(len(scenario.tracks))\n",
        "print(len(scenario.tracks[0].states))\n",
        "print(scenario.tracks[0].id)\n",
        "print(scenario.tracks[0].states[2])"
      ],
      "metadata": {
        "colab": {
          "base_uri": "https://localhost:8080/"
        },
        "id": "YO3SN8ZDJlfM",
        "outputId": "41a310cc-72b6-41e8-db48-03b79cc0337d"
      },
      "execution_count": 30,
      "outputs": [
        {
          "output_type": "stream",
          "name": "stdout",
          "text": [
            "11\n",
            "91\n",
            "368\n",
            "center_x: 8382.134765625\n",
            "center_y: 7209.99072265625\n",
            "center_z: -13.698562246539266\n",
            "length: 4.469150066375732\n",
            "width: 1.9771449565887451\n",
            "height: 1.4942156076431274\n",
            "heading: -1.5596644878387451\n",
            "velocity_x: 0.361328125\n",
            "velocity_y: -19.1748046875\n",
            "valid: true\n",
            "\n"
          ]
        }
      ]
    },
    {
      "cell_type": "markdown",
      "source": [
        "- Track\n",
        "```proto\n",
        "message Track {\n",
        "  enum ObjectType {\n",
        "    TYPE_UNSET = 0;  // This is an invalid state that indicates an error.\n",
        "    TYPE_VEHICLE = 1;\n",
        "    TYPE_PEDESTRIAN = 2;\n",
        "    TYPE_CYCLIST = 3;\n",
        "    TYPE_OTHER = 4;\n",
        "  }\n",
        "\n",
        "  optional int32 id = 1;  // track 개체의 고유 ID\n",
        "  optional ObjectType object_type = 2; // track 개체 유형. 위에 선언되어 있는 ObjectType 중 하나\n",
        "  repeated ObjectState states = 3; // 객체 상태 표시. 3D 경계 상자 및 속도 포함\n",
        "}\n",
        "```\n"
      ],
      "metadata": {
        "id": "K3e-2nioRJKN"
      }
    },
    {
      "cell_type": "code",
      "source": [
        "[e for e in scenario.tracks[0].__dir__() if e[0] != '_'][:10]"
      ],
      "metadata": {
        "colab": {
          "base_uri": "https://localhost:8080/"
        },
        "id": "5OM0n_LsRI6s",
        "outputId": "2b6fde15-608e-4da0-d259-88b8e28859bb"
      },
      "execution_count": 23,
      "outputs": [
        {
          "output_type": "execute_result",
          "data": {
            "text/plain": [
              "['DESCRIPTOR',\n",
              " 'id',\n",
              " 'object_type',\n",
              " 'states',\n",
              " 'ObjectType',\n",
              " 'TYPE_UNSET',\n",
              " 'TYPE_VEHICLE',\n",
              " 'TYPE_PEDESTRIAN',\n",
              " 'TYPE_CYCLIST',\n",
              " 'TYPE_OTHER']"
            ]
          },
          "metadata": {},
          "execution_count": 23
        }
      ]
    },
    {
      "cell_type": "markdown",
      "source": [
        "- ObjectState\n",
        "```proto\n",
        "message ObjectState {\n",
        "  // 객체 경계 상자의 중심 좌표\n",
        "  optional double center_x = 2;\n",
        "  optional double center_y = 3;\n",
        "  optional double center_z = 4;\n",
        "\n",
        "  // 미터 단위의 경계 상자 치수\n",
        "  optional float length = 5;\n",
        "  optional float width = 6;\n",
        "  optional float height = 7;\n",
        "\n",
        "  // X축(Z축을 중심으로 한 오른쪽 시스템)에서 시계 반대 방향으로 경계 상자의 전방 방향(상자의 중심에서 전면 상자 세그먼트의 중간까지의 벡터)의 yaw 각도(라디안).\n",
        "  // 이 각도는 [-pi, pi)로 정규화된다.\n",
        "  optional float heading = 8;\n",
        "\n",
        "  // 속도 벡터. 이 벡터 방향은 경계 상자의 heading과 약간 다를 수 있다.\n",
        "  optional float velocity_x = 9;\n",
        "  optional float velocity_y = 10;\n",
        "\n",
        "  // 상태 데이터가 잘못되었거나 누락된 경우 False\n",
        "  optional bool valid = 11;\n",
        "}\n",
        "```\n",
        "- `Track`에서 선언된 `state`의 자료형으로, `scenario.proto`에 있다.\n"
      ],
      "metadata": {
        "id": "H3E-v9TtV9pB"
      }
    },
    {
      "cell_type": "code",
      "source": [
        "scenario.tracks[0].states[0]"
      ],
      "metadata": {
        "colab": {
          "base_uri": "https://localhost:8080/"
        },
        "id": "66b_LVqqV9cj",
        "outputId": "fab8629c-f183-4ddd-b1c2-61d1e05a1cf4"
      },
      "execution_count": 25,
      "outputs": [
        {
          "output_type": "execute_result",
          "data": {
            "text/plain": [
              "center_x: 8382.083984375\n",
              "center_y: 7213.89013671875\n",
              "center_z: -13.732300758361816\n",
              "length: 4.414564609527588\n",
              "width: 1.943734884262085\n",
              "height: 1.4712934494018555\n",
              "heading: -1.5578702688217163\n",
              "velocity_x: 0.146484375\n",
              "velocity_y: -19.8193359375\n",
              "valid: true"
            ]
          },
          "metadata": {},
          "execution_count": 25
        }
      ]
    },
    {
      "cell_type": "markdown",
      "source": [
        "- dynamic_map_states\n",
        "```proto\n",
        "repeated DynamicMapState dynamic_map_states = 7;\n",
        "```\n",
        "- 시나리오의 동적 맵 상태 리스트 (예: 교통 신호 상태)\n",
        "- 이 필드의 길이는 `timestamp_seconds`와 동일하다.\n",
        "- `dynamic_map_states[i]`는 `timestamps_seconds[i]` 시 동적 맵 상태를 인덱싱한다.\n",
        "- `DynamicMapState` 자료형이고, 해당 자료형은 `scenario.proto`에 선언되어 있다."
      ],
      "metadata": {
        "id": "Y0lTmu5cKSfA"
      }
    },
    {
      "cell_type": "markdown",
      "source": [
        "- DynamicMapState\n",
        "```proto\n",
        "message DynamicMapState {\n",
        "  // The traffic signal states for all observed signals at this time step.\n",
        "  repeated TrafficSignalLaneState lane_states = 1;\n",
        "}\n",
        "```\n",
        "- `TrafficSignalLaneState` 자료형의 리스트이다.\n",
        "- `TrafficSignalLaneState`에 대한 선언은 `map.proto`에 있다.\n",
        "\n"
      ],
      "metadata": {
        "id": "MjwSZQMqTNIT"
      }
    },
    {
      "cell_type": "code",
      "source": [
        "scenario.dynamic_map_states[0].__dir__()[4]"
      ],
      "metadata": {
        "colab": {
          "base_uri": "https://localhost:8080/",
          "height": 35
        },
        "id": "IAtApbiMcL4F",
        "outputId": "d09bb052-2dd0-4759-e8a8-8a914c5f803e"
      },
      "execution_count": 28,
      "outputs": [
        {
          "output_type": "execute_result",
          "data": {
            "text/plain": [
              "'lane_states'"
            ],
            "application/vnd.google.colaboratory.intrinsic+json": {
              "type": "string"
            }
          },
          "metadata": {},
          "execution_count": 28
        }
      ]
    },
    {
      "cell_type": "markdown",
      "source": [
        "- TrafficSignalLaneState\n",
        "```proto\n",
        "message TrafficSignalLaneState {\n",
        "  // 이 트래픽 신호 상태에 의해 제어되는 차선에 해당하는 MapFeature의 ID\n",
        "  optional int64 lane = 1;\n",
        "\n",
        "  enum State {\n",
        "    LANE_STATE_UNKNOWN = 0;\n",
        "\n",
        "    // 화살표가 있는 신호의 상태\n",
        "    LANE_STATE_ARROW_STOP = 1;\n",
        "    LANE_STATE_ARROW_CAUTION = 2;\n",
        "    LANE_STATE_ARROW_GO = 3;\n",
        "\n",
        "    // 표준 왕복 교통 신호\n",
        "    LANE_STATE_STOP = 4;\n",
        "    LANE_STATE_CAUTION = 5;\n",
        "    LANE_STATE_GO = 6;\n",
        "\n",
        "    // 깜빡이는 불빛 신호\n",
        "    LANE_STATE_FLASHING_STOP = 7;\n",
        "    LANE_STATE_FLASHING_CAUTION = 8;\n",
        "  }\n",
        "\n",
        "  // 트래픽 신호의 상태\n",
        "  // 위 State에 있는 값 중 하나\n",
        "  optional State state = 2;\n",
        "\n",
        "  // 교통 신호에 의해 제어되는 차선의 정지 지점\n",
        "  // 신호가 정지 상태일 때 동적 물체가 정지해야 하는 지점\n",
        "  optional MapPoint stop_point = 3;\n",
        "}\n",
        "```\n",
        "- `map.proto`에 선언되어 있다.\n",
        "- `stop_point`의 자료형인 `MapPoint`도 `map.proto`에 선언되어 있다.\n",
        "<br><br>\n",
        "- MapPoint\n",
        "```proto\n",
        "message MapPoint {\n",
        "  // 미터 단위의 위치. origin은 임의의 위치이다.\n",
        "  optional double x = 1;\n",
        "  optional double y = 2;\n",
        "  optional double z = 3;\n",
        "}\n",
        "```"
      ],
      "metadata": {
        "id": "sYjA-HjbTmwA"
      }
    },
    {
      "cell_type": "code",
      "source": [
        "scenario.dynamic_map_states[0].lane_states[0]"
      ],
      "metadata": {
        "colab": {
          "base_uri": "https://localhost:8080/"
        },
        "id": "8FQKxoNXce0w",
        "outputId": "b50a428e-9c26-4270-c27b-a9d7833dac49"
      },
      "execution_count": 29,
      "outputs": [
        {
          "output_type": "execute_result",
          "data": {
            "text/plain": [
              "lane: 120\n",
              "state: LANE_STATE_GO\n",
              "stop_point {\n",
              "  x: 8391.668352965295\n",
              "  y: 7316.195065592189\n",
              "  z: -14.848865196389456\n",
              "}"
            ]
          },
          "metadata": {},
          "execution_count": 29
        }
      ]
    },
    {
      "cell_type": "markdown",
      "source": [
        "- map_features\n",
        "```proto\n",
        "repeated MapFeature map_features = 8;\n",
        "```\n",
        "- 시나리오의 정적 맵 기능 리스트 집합\n",
        "- 자료형은 `MapFeature`이고, 이 자료형은 `map.proto`에 선언되어 있다."
      ],
      "metadata": {
        "id": "gk-2qF_SKuKC"
      }
    },
    {
      "cell_type": "markdown",
      "source": [
        "- MapFeature\n",
        "```proto\n",
        "message MapFeature {\n",
        "  // feature의 고유 ID\n",
        "  optional int64 id = 1;\n",
        "\n",
        "  // Type specific data.\n",
        "  oneof feature_data {\n",
        "    LaneCenter lane = 3;\n",
        "    RoadLine road_line = 4;\n",
        "    RoadEdge road_edge = 5;\n",
        "    StopSign stop_sign = 7;\n",
        "    Crosswalk crosswalk = 8;\n",
        "    SpeedBump speed_bump = 9;\n",
        "    Driveway driveway = 10;\n",
        "  }\n",
        "}\n",
        "```\n",
        "- `oneof`는 선언된 필드 중 하나만 사용할 수 있도록 하는 구조체\n",
        "- `feature_data` 필드 종류\n",
        "  - LaneCenter: 차선 중앙의 위치를 나타내는 데이터 타입\n",
        "  - RoadLine: 도로 경계선을 나타내는 데이터 타입\n",
        "  - RoadEdge: 도로 가장자리를 나타내는 데이터 타입\n",
        "  - StopSign: 정지 신호를 나타내는 데이터 타입\n",
        "  - Crosswalk: 횡단보도를 나타내는 데이터 타입\n",
        "  - SpeedBump: 속도 저하털을 나타내는 데이터 타입\n",
        "  - Driveway: 차량 출입구를 나타내는 데이터 타입\n",
        "- `feature_data` 중 어떤 필드인지 알기 위해서는 아래처럼 작성하면 된다."
      ],
      "metadata": {
        "id": "MmLYz5Zbi8MY"
      }
    },
    {
      "cell_type": "code",
      "source": [
        "scenario.map_features[0].WhichOneof('feature_data')"
      ],
      "metadata": {
        "colab": {
          "base_uri": "https://localhost:8080/",
          "height": 35
        },
        "id": "A4OGGwiSi7_h",
        "outputId": "ca67a3c4-b935-4859-b073-482c2b0cc9ac"
      },
      "execution_count": 41,
      "outputs": [
        {
          "output_type": "execute_result",
          "data": {
            "text/plain": [
              "'road_edge'"
            ],
            "application/vnd.google.colaboratory.intrinsic+json": {
              "type": "string"
            }
          },
          "metadata": {},
          "execution_count": 41
        }
      ]
    },
    {
      "cell_type": "code",
      "source": [
        "feature = scenario.map_features[0]\n",
        "\n",
        "if feature.HasField('lane'):\n",
        "    feature_data = feature.lane\n",
        "    print('lane')\n",
        "elif feature.HasField('road_line'):\n",
        "    feature_data = feature.road_line\n",
        "    print('road_line')\n",
        "elif feature.HasField('road_edge'):\n",
        "    feature_data = feature.road_edge\n",
        "    print('road_edge')\n",
        "elif feature.HasField('stop_sign'):\n",
        "    feature_data = feature.stop_sign\n",
        "    print('stop_sign')\n",
        "elif feature.HasField('crosswalk'):\n",
        "    feature_data = feature.crosswalk\n",
        "    print('crosswalk')\n",
        "elif feature.HasField('speed_bump'):\n",
        "    feature_data = feature.speed_bump\n",
        "    print('speed_bump')\n",
        "elif feature.HasField('driveway'):\n",
        "    feature_data = feature.driveway\n",
        "    print('driveway')\n",
        "else:\n",
        "    print(\"No feature data found.\")"
      ],
      "metadata": {
        "colab": {
          "base_uri": "https://localhost:8080/"
        },
        "id": "-76q0q89lxkG",
        "outputId": "96dcf620-9b14-4898-c589-d3865ab6e1bd"
      },
      "execution_count": 50,
      "outputs": [
        {
          "output_type": "stream",
          "name": "stdout",
          "text": [
            "road_edge\n"
          ]
        }
      ]
    },
    {
      "cell_type": "markdown",
      "source": [
        "- LaneCenter\n",
        "```proto\n",
        "message LaneCenter {\n",
        "  // 차선 제한 속도\n",
        "  optional double speed_limit_mph = 1;\n",
        "\n",
        "  // Type of this lane\n",
        "  enum LaneType {\n",
        "    TYPE_UNDEFINED = 0;\n",
        "    TYPE_FREEWAY = 1;\n",
        "    TYPE_SURFACE_STREET = 2;\n",
        "    TYPE_BIKE_LANE = 3;\n",
        "  }\n",
        "  optional LaneType type = 2;\n",
        "\n",
        "  // 차선이 다른 차선 두 개 사이를 보간(두 값 사이에 위치한 값을 추정)하는 경우 True\n",
        "  optional bool interpolating = 3;\n",
        "\n",
        "  // 차선의 폴리선(연속된 점 사이에 세그먼트가 정의된 점 리스트) 데이터\n",
        "  repeated MapPoint polyline = 8;\n",
        "\n",
        "  // 차선 객체에서 해당 차선으로 진입할 수 있는 차선 ID 리스트\n",
        "  // packed 형태로 저장되어 있어서 하나의 varint로 여러 개의 entry_lanes를 인코딩\n",
        "  repeated int64 entry_lanes = 9 [packed = true];\n",
        "\n",
        "  // 이 차선에서 나갈 수 있는 차선의 ID 리스트\n",
        "  repeated int64 exit_lanes = 10 [packed = true];\n",
        "\n",
        "  // BoundarySegment에 대해서는 다음 블록에서 설명\n",
        "  repeated BoundarySegment left_boundaries = 13;\n",
        "  repeated BoundarySegment right_boundaries = 14;\n",
        "\n",
        "  // LaneNeighbor에 대해서는 다음 블록에서 설명\n",
        "  repeated LaneNeighbor left_neighbors = 11;\n",
        "  repeated LaneNeighbor right_neighbors = 12;\n",
        "}\n",
        "```"
      ],
      "metadata": {
        "id": "QhTP9IQKpvGA"
      }
    },
    {
      "cell_type": "markdown",
      "source": [
        "- BoundarySegment\n",
        "```proto\n",
        "// 지정된 인접 경계가 있는 차선의 세그먼트\n",
        "message BoundarySegment {\n",
        "  // 이 차선 경계가 시작되는 차선의 폴리라인에 대한 인덱스\n",
        "  optional int32 lane_start_index = 1;\n",
        "\n",
        "  // 이 차선 경계가 끝나는 차선의 폴리라인에 대한 인덱스\n",
        "  optional int32 lane_end_index = 2;\n",
        "\n",
        "  // 경계에 대한 지도 feature의 인접 경계 feature ID\n",
        "  // 이 기능은 RoadLine 기능 또는 RoadEdge 기능일 수 있다.\n",
        "  optional int64 boundary_feature_id = 3;\n",
        "\n",
        "  // 인접 경계 유형\n",
        "  // 경계가 도로 선이 아닌 도로 가장자리인 경우 이 값은 TYPE_UNKNOWN으로 설정\n",
        "  optional RoadLine.RoadLineType boundary_type = 4;\n",
        "}\n",
        "```\n",
        "\n",
        "- LaneNeighbor\n",
        "```proto\n",
        "message LaneNeighbor {\n",
        "  // 인접 차선의 feature ID\n",
        "  optional int64 feature_id = 1;\n",
        "\n",
        "  // 현재 차선 내에서 이웃 차선이 인접한 위치의 시작 인덱스\n",
        "  optional int32 self_start_index = 2;\n",
        "  // 현재 차선 내에서 이웃 차선이 인접한 위치의 끝 인덱스\n",
        "  optional int32 self_end_index = 3;\n",
        "\n",
        "  // 인접한 차선 내에서 현재 차선이 인접한 위치의 시작 인덱스\n",
        "  optional int32 neighbor_start_index = 4;\n",
        "  // 인접한 차선 내에서 현재 차선이 인접한 위치의 끝 인덱스\n",
        "  optional int32 neighbor_end_index = 5;\n",
        "\n",
        "  // 현재 차선(차도)과 이웃 차선(차도) 사이의 경계를 정의하는 차선 경계 세그먼트의 리스트\n",
        "  // 각각의 항목은 경계 유형과 경계가 시작되는 인덱스 및 끝나는 인덱스\n",
        "  repeated BoundarySegment boundaries = 6;\n",
        "}\n",
        "```"
      ],
      "metadata": {
        "id": "O_u5jLdOuYPQ"
      }
    },
    {
      "cell_type": "markdown",
      "source": [
        "- RoadLine\n",
        "```proto\n",
        "message RoadLine {\n",
        "  // Type of this road line\n",
        "  enum RoadLineType {\n",
        "    TYPE_UNKNOWN = 0;\n",
        "    TYPE_BROKEN_SINGLE_WHITE = 1;\n",
        "    TYPE_SOLID_SINGLE_WHITE = 2;\n",
        "    TYPE_SOLID_DOUBLE_WHITE = 3;\n",
        "    TYPE_BROKEN_SINGLE_YELLOW = 4;\n",
        "    TYPE_BROKEN_DOUBLE_YELLOW = 5;\n",
        "    TYPE_SOLID_SINGLE_YELLOW = 6;\n",
        "    TYPE_SOLID_DOUBLE_YELLOW = 7;\n",
        "    TYPE_PASSING_DOUBLE_YELLOW = 8;\n",
        "  }\n",
        "  \n",
        "  // 위에 선언한 RoadLineType 중 하나\n",
        "  optional RoadLineType type = 1;\n",
        "\n",
        "  // 도로 가장자리를 정의하는 폴리선\n",
        "  // 폴리선은 연속된 점 사이에 세그먼트가 정의된 점 리스트\n",
        "  // MapPoint는 위에서 정리함\n",
        "  repeated MapPoint polyline = 2;\n",
        "}\n",
        "```"
      ],
      "metadata": {
        "id": "MUI6BIdQpukq"
      }
    },
    {
      "cell_type": "markdown",
      "source": [
        "- RoadEdge\n",
        "```proto\n",
        "message RoadEdge {\n",
        "  enum RoadEdgeType {\n",
        "    TYPE_UNKNOWN = 0;\n",
        "    TYPE_ROAD_EDGE_BOUNDARY = 1;  // 도로를 외부에서 분리하는 물리적인 도로 가장자리\n",
        "    TYPE_ROAD_EDGE_MEDIAN = 2;  // 자동차와 다른 교통을 구분하는 물리적인 도로 가장자리\n",
        "  }\n",
        "  optional RoadEdgeType type = 1;  // 도로 가장자리\n",
        "  repeated MapPoint polyline = 2;  \n",
        "}\n",
        "```"
      ],
      "metadata": {
        "id": "oW7BxcBxqP8l"
      }
    },
    {
      "cell_type": "markdown",
      "source": [
        "- StopSign\n",
        "```proto\n",
        "message StopSign {\n",
        "  // 이 정지 신호로 제어되는 차선의 특징 ID\n",
        "  repeated int64 lane = 1;\n",
        "\n",
        "  // 정지 신호 위치\n",
        "  optional MapPoint position = 2;\n",
        "}\n",
        "```"
      ],
      "metadata": {
        "id": "MQI4bXjXqP5G"
      }
    },
    {
      "cell_type": "markdown",
      "source": [
        "- Crosswalk\n",
        "```proto\n",
        "message Crosswalk {\n",
        "  // 횡단보도의 윤곽선을 정의하는 닫힌 다각형\n",
        "  // 세그먼트가 첫 번째 점과 마지막 점 사이에 존재\n",
        "  repeated MapPoint polygon = 1;\n",
        "}\n",
        "```"
      ],
      "metadata": {
        "id": "PFiGwAmPqO8O"
      }
    },
    {
      "cell_type": "markdown",
      "source": [
        "- SpeedBump\n",
        "```proto\n",
        "message SpeedBump {\n",
        "  // 과속방지턱의 윤곽을 정의하는 닫힌 다각형\n",
        "  // 세그먼트가 첫 번째 점과 마지막 점 사이에 존재\n",
        "  repeated MapPoint polygon = 1;\n",
        "}\n",
        "```"
      ],
      "metadata": {
        "id": "J2I1-SQKqkQD"
      }
    },
    {
      "cell_type": "markdown",
      "source": [
        "- Driveway\n",
        "```proto\n",
        "message Driveway {\n",
        "  // 차량 진입로 영역의 윤곽선을 정의하는 닫힌 다각형\n",
        "  // 세그먼트가 첫 번째 점과 마지막 점 사이에 존재\n",
        "  repeated MapPoint polygon = 1;\n",
        "}\n",
        "```"
      ],
      "metadata": {
        "id": "upNrT9z7qkMU"
      }
    },
    {
      "cell_type": "code",
      "source": [
        "scenario.map_features[0].road_edge.polyline[0]"
      ],
      "metadata": {
        "colab": {
          "base_uri": "https://localhost:8080/"
        },
        "id": "RB8rVGiyKt7I",
        "outputId": "58490afc-514d-4d17-8641-ce0f7138b3ce"
      },
      "execution_count": 52,
      "outputs": [
        {
          "output_type": "execute_result",
          "data": {
            "text/plain": [
              "x: 8292.619348114988\n",
              "y: 7179.778677513115\n",
              "z: -14.258546045464358"
            ]
          },
          "metadata": {},
          "execution_count": 52
        }
      ]
    },
    {
      "cell_type": "markdown",
      "source": [
        "- sdc_track_index\n",
        "```proto\n",
        "optional int32 sdc_track_index = 6;\n",
        "```\n",
        "- sdc : Self-Driving Car\n",
        "- 맵 정보를 촬영하는 자율주행 차량 개체의 track 리스트에 해당하는 인덱스 (옵션)\n",
        "- 보행자, 자전거, 자동차 등의 에이전트를 포함한 track 리스트 중 해당 인덱스는 무시"
      ],
      "metadata": {
        "id": "2BB9BNbeNMkS"
      }
    },
    {
      "cell_type": "code",
      "source": [
        "scenario.sdc_track_index"
      ],
      "metadata": {
        "colab": {
          "base_uri": "https://localhost:8080/"
        },
        "id": "Nc-uzWBRNMTN",
        "outputId": "ea182b98-55f6-4f12-dad5-526ff856883d"
      },
      "execution_count": 43,
      "outputs": [
        {
          "output_type": "execute_result",
          "data": {
            "text/plain": [
              "10"
            ]
          },
          "metadata": {},
          "execution_count": 43
        }
      ]
    },
    {
      "cell_type": "markdown",
      "source": [
        "- objects_of_interest\n",
        "```proto\n",
        "repeated int32 objects_of_interest = 4;\n",
        "```\n",
        "- 상호작용(interactive) 동작이 감지된 scene의 객체(Object) ID 목록 리스트\n",
        "- 이 필드에 포함된 ID는 tracks 필드의 ID에 해당되며, tracks 필드의 객체와 일치한다\n",
        "- 예를 들어, 자율주행 자동차가 도로를 따라 이동하는 동안, \n",
        "- 이 필드는 차량 주위에 위치한 보행자나 자전거 등과 같은 상호작용 객체 ID를 포함할 수 있다\n",
        "- 이러한 객체들은 자율주행 자동차와의 상호작용을 감지하는 데 사용될 수 있다."
      ],
      "metadata": {
        "id": "JhouvnYtOlZz"
      }
    },
    {
      "cell_type": "code",
      "source": [
        "scenario.objects_of_interest"
      ],
      "metadata": {
        "colab": {
          "base_uri": "https://localhost:8080/"
        },
        "id": "uaXSpfhPOlNZ",
        "outputId": "516726f8-eb57-4d0f-826a-5561e5ff0225"
      },
      "execution_count": 46,
      "outputs": [
        {
          "output_type": "execute_result",
          "data": {
            "text/plain": [
              "[]"
            ]
          },
          "metadata": {},
          "execution_count": 46
        }
      ]
    },
    {
      "cell_type": "markdown",
      "source": [
        "- tracks_to_predict\n",
        "```proto\n",
        "repeated RequiredPrediction tracks_to_predict = 11;\n",
        "```\n",
        "- 예측을 생성하려는 추적 대상 객체 ID의 목록 리스트\n",
        "- 자료형은 `RequiredPrediction`로 `scenario.proto`에 정의되어 있다.\n",
        "- 해당 필드는 추적 대상 객체를 학습하는 데 사용된다.\n",
        "- tracks[tracks_to_predict.track_index].states[15::5]의 center_x, center_y를 예측해야 한다.\n",
        "- 즉, future timestamp인 1.5초부터 0.5초 간격으로 states의 center_x, center_y를 예측해야 한다. "
      ],
      "metadata": {
        "id": "ESzvn-vqPxhS"
      }
    },
    {
      "cell_type": "markdown",
      "source": [
        "- RequiredPrediction\n",
        "```proto\n",
        "// 시나리오에 대해 예측해야 하는 개체\n",
        "message RequiredPrediction {\n",
        "  // 주어진 트랙을 예측하기 위한 난이도\n",
        "  enum DifficultyLevel {\n",
        "    NONE = 0;\n",
        "    LEVEL_1 = 1;\n",
        "    LEVEL_2 = 2;\n",
        "  }\n",
        "\n",
        "  // 예측할 객체에 대한 시나리오 tracks 필드의 인덱스\n",
        "  optional int32 track_index = 1;\n",
        "\n",
        "  // 위에서 선언한 난이도 구조체\n",
        "  optional DifficultyLevel difficulty = 2;\n",
        "}\n",
        "```"
      ],
      "metadata": {
        "id": "lbKTIz2FyQrz"
      }
    },
    {
      "cell_type": "code",
      "source": [
        "scenario.tracks_to_predict"
      ],
      "metadata": {
        "colab": {
          "base_uri": "https://localhost:8080/"
        },
        "id": "qyCHoBScy3zl",
        "outputId": "55ab368e-aa00-4979-d40a-9597c0d31d5d"
      },
      "execution_count": 53,
      "outputs": [
        {
          "output_type": "execute_result",
          "data": {
            "text/plain": [
              "[track_index: 2\n",
              "difficulty: LEVEL_1\n",
              "]"
            ]
          },
          "metadata": {},
          "execution_count": 53
        }
      ]
    },
    {
      "cell_type": "markdown",
      "source": [
        "- compressed_frame_laser_data\n",
        "```proto\n",
        "repeated CompressedFrameLaserData compressed_frame_laser_data = 12;\n",
        "```\n",
        "- time step에서의 Lidar 데이터를 담고 있다\n",
        "- compressed_frame_laser_data[i]는 timestamps_seconds[i]에서의 상태를 나타낸다\n",
        "- 이 필드는 현재 시간 인덱스보다 작거나 같은 모든 시간 단계에 대한 데이터를 포함한다\n"
      ],
      "metadata": {
        "id": "pTVMT8mhRUG-"
      }
    },
    {
      "cell_type": "code",
      "source": [
        "scenario.compressed_frame_laser_data"
      ],
      "metadata": {
        "colab": {
          "base_uri": "https://localhost:8080/"
        },
        "id": "JEJbmZiiRT7Q",
        "outputId": "eadb2b20-8bbe-4ef5-8fe1-e4fe09936115"
      },
      "execution_count": 48,
      "outputs": [
        {
          "output_type": "execute_result",
          "data": {
            "text/plain": [
              "[]"
            ]
          },
          "metadata": {},
          "execution_count": 48
        }
      ]
    },
    {
      "cell_type": "markdown",
      "source": [
        "`compressed_lidar.proto` 구조에 대해서는 분석하지 않았다."
      ],
      "metadata": {
        "id": "H8Pg7QIOy6wu"
      }
    },
    {
      "cell_type": "code",
      "source": [],
      "metadata": {
        "id": "kHCmjxyQzAne"
      },
      "execution_count": null,
      "outputs": []
    }
  ]
}