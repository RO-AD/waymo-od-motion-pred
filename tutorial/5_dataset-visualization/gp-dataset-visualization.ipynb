{
  "nbformat": 4,
  "nbformat_minor": 0,
  "metadata": {
    "colab": {
      "provenance": [],
      "authorship_tag": "ABX9TyNS0f2HF1YL3mrcRuLtUuuO",
      "include_colab_link": true
    },
    "kernelspec": {
      "name": "python3",
      "display_name": "Python 3"
    },
    "language_info": {
      "name": "python"
    }
  },
  "cells": [
    {
      "cell_type": "markdown",
      "metadata": {
        "id": "view-in-github",
        "colab_type": "text"
      },
      "source": [
        "<a href=\"https://colab.research.google.com/github/RO-AD/waymo-od-motion-pred/blob/main/tutorial/5_dataset-visualization/gp-dataset-visualization.ipynb\" target=\"_parent\"><img src=\"https://colab.research.google.com/assets/colab-badge.svg\" alt=\"Open In Colab\"/></a>"
      ]
    },
    {
      "cell_type": "markdown",
      "source": [
        "# 데이터셋 시각화"
      ],
      "metadata": {
        "id": "7elzH0ziuwu7"
      }
    },
    {
      "cell_type": "code",
      "source": [],
      "metadata": {
        "id": "0P4wRWTZu6kf"
      },
      "execution_count": null,
      "outputs": []
    },
    {
      "cell_type": "code",
      "source": [],
      "metadata": {
        "id": "v_FpT0RJu6hH"
      },
      "execution_count": null,
      "outputs": []
    },
    {
      "cell_type": "code",
      "source": [],
      "metadata": {
        "id": "LWOGYtYDu6fG"
      },
      "execution_count": null,
      "outputs": []
    },
    {
      "cell_type": "code",
      "source": [],
      "metadata": {
        "id": "ZstddnJpu6c2"
      },
      "execution_count": null,
      "outputs": []
    },
    {
      "cell_type": "markdown",
      "source": [
        "# 기타"
      ],
      "metadata": {
        "id": "LsZ6spKAu8pm"
      }
    },
    {
      "cell_type": "code",
      "source": [
        "# tutorial/5_dataset-visualization/gp-dataset-visualization.ipynb"
      ],
      "metadata": {
        "id": "cjzikIdIu6aZ"
      },
      "execution_count": 1,
      "outputs": []
    }
  ]
}