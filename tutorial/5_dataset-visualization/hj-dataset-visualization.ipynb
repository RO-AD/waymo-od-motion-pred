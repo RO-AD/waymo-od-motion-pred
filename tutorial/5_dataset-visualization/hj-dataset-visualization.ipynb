{
  "nbformat": 4,
  "nbformat_minor": 0,
  "metadata": {
    "colab": {
      "provenance": [],
      "authorship_tag": "ABX9TyMDMTQBWVVmw98QwgDRl3/u",
      "include_colab_link": true
    },
    "kernelspec": {
      "name": "python3",
      "display_name": "Python 3"
    },
    "language_info": {
      "name": "python"
    }
  },
  "cells": [
    {
      "cell_type": "markdown",
      "metadata": {
        "id": "view-in-github",
        "colab_type": "text"
      },
      "source": [
        "<a href=\"https://colab.research.google.com/github/RO-AD/waymo-od-motion-pred/blob/main/tutorial/5_dataset-visualization/hj-dataset-visualization.ipynb\" target=\"_parent\"><img src=\"https://colab.research.google.com/assets/colab-badge.svg\" alt=\"Open In Colab\"/></a>"
      ]
    },
    {
      "cell_type": "markdown",
      "source": [
        "tutorial/5_dataset-visualization/hj-dataset-visualization.ipynb"
      ],
      "metadata": {
        "id": "5tnjXmZ8zlLO"
      }
    },
    {
      "cell_type": "markdown",
      "source": [
        "# 데이터 시각화"
      ],
      "metadata": {
        "id": "idcxg53LzkdB"
      }
    },
    {
      "cell_type": "markdown",
      "source": [
        "- Map 먼저 그리기\n",
        "  - LaneCenter (차선 중간)\n",
        "  - RoadLine (차선)\n",
        "  - RoadEdge (가장자리)\n",
        "  - StopSign, Crosswalk, SpeedBump, Driveway\n",
        "- DynamicMapState 그리기\n",
        "  - TrafficSignalLaneState\n",
        "- Tracks 그리기\n"
      ],
      "metadata": {
        "id": "pxUdPTuS0AzK"
      }
    },
    {
      "cell_type": "code",
      "source": [],
      "metadata": {
        "id": "Z4bXNkR6zrfv"
      },
      "execution_count": null,
      "outputs": []
    }
  ]
}