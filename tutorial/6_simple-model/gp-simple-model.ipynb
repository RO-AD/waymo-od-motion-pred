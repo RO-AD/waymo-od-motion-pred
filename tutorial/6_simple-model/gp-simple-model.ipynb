{
  "nbformat": 4,
  "nbformat_minor": 0,
  "metadata": {
    "colab": {
      "provenance": [],
      "authorship_tag": "ABX9TyPeDzhnpdUsjnuJCrCULd+2",
      "include_colab_link": true
    },
    "kernelspec": {
      "name": "python3",
      "display_name": "Python 3"
    },
    "language_info": {
      "name": "python"
    },
    "accelerator": "GPU",
    "gpuClass": "standard"
  },
  "cells": [
    {
      "cell_type": "markdown",
      "metadata": {
        "id": "view-in-github",
        "colab_type": "text"
      },
      "source": [
        "<a href=\"https://colab.research.google.com/github/RO-AD/waymo-od-motion-pred/blob/main/tutorial/6_simple-model/gp-simple-model.ipynb\" target=\"_parent\"><img src=\"https://colab.research.google.com/assets/colab-badge.svg\" alt=\"Open In Colab\"/></a>"
      ]
    },
    {
      "cell_type": "markdown",
      "source": [
        "# 간단하게 모델 만들어보기\n",
        "\n",
        "map feature는 무시하고, agent만 고렿"
      ],
      "metadata": {
        "id": "Raeh-b4S9eZl"
      }
    },
    {
      "cell_type": "code",
      "source": [
        "# GCS에 접근하기 위해 인증\n",
        "\n",
        "from google.colab import auth\n",
        "auth.authenticate_user()"
      ],
      "metadata": {
        "id": "HwAam4DziF71"
      },
      "execution_count": 3,
      "outputs": []
    },
    {
      "cell_type": "code",
      "source": [
        "!gsutil du -ch -s \"gs://waymo_open_dataset_motion_v_1_2_0/uncompressed/scenario/\""
      ],
      "metadata": {
        "colab": {
          "base_uri": "https://localhost:8080/"
        },
        "id": "CX-gAmlgiJDe",
        "outputId": "57cc92ca-5da6-4436-fe45-590e160cf023"
      },
      "execution_count": 4,
      "outputs": [
        {
          "output_type": "stream",
          "name": "stdout",
          "text": [
            "645.92 GiB   gs://waymo_open_dataset_motion_v_1_2_0/uncompressed/scenario\n",
            "645.92 GiB   total\n"
          ]
        }
      ]
    },
    {
      "cell_type": "code",
      "source": [
        "!gsutil ls -l \"gs://waymo_open_dataset_motion_v_1_2_0/uncompressed/scenario/training/*-000*-of-*\" | wc -l"
      ],
      "metadata": {
        "colab": {
          "base_uri": "https://localhost:8080/"
        },
        "id": "MdQw8lxliQ-8",
        "outputId": "e148e59d-7dcb-4727-e6fd-4816e908ba47"
      },
      "execution_count": 8,
      "outputs": [
        {
          "output_type": "stream",
          "name": "stdout",
          "text": [
            "101\n"
          ]
        }
      ]
    },
    {
      "cell_type": "code",
      "source": [
        "from google.colab import drive\n",
        "drive.mount('/content/drive')"
      ],
      "metadata": {
        "colab": {
          "base_uri": "https://localhost:8080/"
        },
        "id": "Kty6Zepji2P_",
        "outputId": "ebcf4a16-940e-44e4-a95c-0fe28108ccfb"
      },
      "execution_count": 9,
      "outputs": [
        {
          "output_type": "stream",
          "name": "stdout",
          "text": [
            "Drive already mounted at /content/drive; to attempt to forcibly remount, call drive.mount(\"/content/drive\", force_remount=True).\n"
          ]
        }
      ]
    },
    {
      "cell_type": "code",
      "source": [
        "GDRIVE_WOD_PATH = \"/content/drive/MyDrive/waymo-od-dataset/motion_v_1_2_0/uncompressed\"\n",
        "!mkdir {GDRIVE_WOD_PATH}/scenario/training\n",
        "!ls -al {GDRIVE_WOD_PATH}/scenario"
      ],
      "metadata": {
        "colab": {
          "base_uri": "https://localhost:8080/"
        },
        "id": "gcrjDuCTi2Nu",
        "outputId": "3573a7f1-3585-4fac-f8b6-9b6438a55e04"
      },
      "execution_count": 12,
      "outputs": [
        {
          "output_type": "stream",
          "name": "stdout",
          "text": [
            "total 16\n",
            "drwx------ 2 root root 4096 Apr 25 14:43 testing\n",
            "drwx------ 2 root root 4096 Apr 26 12:46 training\n",
            "drwx------ 2 root root 4096 Apr 25 15:24 training_20s\n",
            "drwx------ 2 root root 4096 Apr 14 03:29 validation\n"
          ]
        }
      ]
    },
    {
      "cell_type": "code",
      "source": [
        "!gsutil -m cp -r \\\n",
        "  \"gs://waymo_open_dataset_motion_v_1_2_0/uncompressed/scenario/training/*-001*-of-*\" \\\n",
        "  {GDRIVE_WOD_PATH}/scenario/training"
      ],
      "metadata": {
        "colab": {
          "base_uri": "https://localhost:8080/"
        },
        "id": "9738LsCrmabr",
        "outputId": "709e575f-c577-4279-d82f-453ad4bd9be3"
      },
      "execution_count": 14,
      "outputs": [
        {
          "output_type": "stream",
          "name": "stdout",
          "text": [
            "Copying gs://waymo_open_dataset_motion_v_1_2_0/uncompressed/scenario/training/training.tfrecord-00102-of-01000...\n",
            "/ [0/100 files][    0.0 B/ 42.7 GiB]   0% Done                                  \rCopying gs://waymo_open_dataset_motion_v_1_2_0/uncompressed/scenario/training/training.tfrecord-00100-of-01000...\n",
            "/ [0/100 files][    0.0 B/ 42.7 GiB]   0% Done                                  \rCopying gs://waymo_open_dataset_motion_v_1_2_0/uncompressed/scenario/training/training.tfrecord-00101-of-01000...\n",
            "/ [0/100 files][    0.0 B/ 42.7 GiB]   0% Done                                  \r==> NOTE: You are downloading one or more large file(s), which would\n",
            "run significantly faster if you enabled sliced object downloads. This\n",
            "feature is enabled by default but requires that compiled crcmod be\n",
            "installed (see \"gsutil help crcmod\").\n",
            "\n",
            "Copying gs://waymo_open_dataset_motion_v_1_2_0/uncompressed/scenario/training/training.tfrecord-00105-of-01000...\n",
            "/ [0/100 files][    0.0 B/ 42.7 GiB]   0% Done                                  \rCopying gs://waymo_open_dataset_motion_v_1_2_0/uncompressed/scenario/training/training.tfrecord-00103-of-01000...\n",
            "/ [0/100 files][    0.0 B/ 42.7 GiB]   0% Done                                  \rCopying gs://waymo_open_dataset_motion_v_1_2_0/uncompressed/scenario/training/training.tfrecord-00109-of-01000...\n",
            "/ [0/100 files][    0.0 B/ 42.7 GiB]   0% Done                                  \rCopying gs://waymo_open_dataset_motion_v_1_2_0/uncompressed/scenario/training/training.tfrecord-00104-of-01000...\n",
            "/ [0/100 files][    0.0 B/ 42.7 GiB]   0% Done                                  \rCopying gs://waymo_open_dataset_motion_v_1_2_0/uncompressed/scenario/training/training.tfrecord-00106-of-01000...\n",
            "Copying gs://waymo_open_dataset_motion_v_1_2_0/uncompressed/scenario/training/training.tfrecord-00107-of-01000...\n",
            "Copying gs://waymo_open_dataset_motion_v_1_2_0/uncompressed/scenario/training/training.tfrecord-00108-of-01000...\n",
            "Copying gs://waymo_open_dataset_motion_v_1_2_0/uncompressed/scenario/training/training.tfrecord-00110-of-01000...\n",
            "Copying gs://waymo_open_dataset_motion_v_1_2_0/uncompressed/scenario/training/training.tfrecord-00111-of-01000...\n",
            "Copying gs://waymo_open_dataset_motion_v_1_2_0/uncompressed/scenario/training/training.tfrecord-00112-of-01000...\n",
            "Copying gs://waymo_open_dataset_motion_v_1_2_0/uncompressed/scenario/training/training.tfrecord-00113-of-01000...\n",
            "Copying gs://waymo_open_dataset_motion_v_1_2_0/uncompressed/scenario/training/training.tfrecord-00114-of-01000...\n",
            "Copying gs://waymo_open_dataset_motion_v_1_2_0/uncompressed/scenario/training/training.tfrecord-00115-of-01000...\n",
            "Copying gs://waymo_open_dataset_motion_v_1_2_0/uncompressed/scenario/training/training.tfrecord-00116-of-01000...\n",
            "Copying gs://waymo_open_dataset_motion_v_1_2_0/uncompressed/scenario/training/training.tfrecord-00117-of-01000...\n",
            "Copying gs://waymo_open_dataset_motion_v_1_2_0/uncompressed/scenario/training/training.tfrecord-00118-of-01000...\n",
            "Copying gs://waymo_open_dataset_motion_v_1_2_0/uncompressed/scenario/training/training.tfrecord-00119-of-01000...\n",
            "Copying gs://waymo_open_dataset_motion_v_1_2_0/uncompressed/scenario/training/training.tfrecord-00120-of-01000...\n",
            "Copying gs://waymo_open_dataset_motion_v_1_2_0/uncompressed/scenario/training/training.tfrecord-00121-of-01000...\n",
            "Copying gs://waymo_open_dataset_motion_v_1_2_0/uncompressed/scenario/training/training.tfrecord-00122-of-01000...\n",
            "Copying gs://waymo_open_dataset_motion_v_1_2_0/uncompressed/scenario/training/training.tfrecord-00123-of-01000...\n",
            "Copying gs://waymo_open_dataset_motion_v_1_2_0/uncompressed/scenario/training/training.tfrecord-00124-of-01000...\n",
            "Copying gs://waymo_open_dataset_motion_v_1_2_0/uncompressed/scenario/training/training.tfrecord-00125-of-01000...\n",
            "Copying gs://waymo_open_dataset_motion_v_1_2_0/uncompressed/scenario/training/training.tfrecord-00126-of-01000...\n",
            "Copying gs://waymo_open_dataset_motion_v_1_2_0/uncompressed/scenario/training/training.tfrecord-00127-of-01000...\n",
            "Copying gs://waymo_open_dataset_motion_v_1_2_0/uncompressed/scenario/training/training.tfrecord-00128-of-01000...\n",
            "Copying gs://waymo_open_dataset_motion_v_1_2_0/uncompressed/scenario/training/training.tfrecord-00129-of-01000...\n",
            "Copying gs://waymo_open_dataset_motion_v_1_2_0/uncompressed/scenario/training/training.tfrecord-00130-of-01000...\n",
            "Copying gs://waymo_open_dataset_motion_v_1_2_0/uncompressed/scenario/training/training.tfrecord-00131-of-01000...\n",
            "Copying gs://waymo_open_dataset_motion_v_1_2_0/uncompressed/scenario/training/training.tfrecord-00132-of-01000...\n",
            "Copying gs://waymo_open_dataset_motion_v_1_2_0/uncompressed/scenario/training/training.tfrecord-00133-of-01000...\n",
            "Copying gs://waymo_open_dataset_motion_v_1_2_0/uncompressed/scenario/training/training.tfrecord-00134-of-01000...\n",
            "Copying gs://waymo_open_dataset_motion_v_1_2_0/uncompressed/scenario/training/training.tfrecord-00135-of-01000...\n",
            "Copying gs://waymo_open_dataset_motion_v_1_2_0/uncompressed/scenario/training/training.tfrecord-00136-of-01000...\n",
            "Copying gs://waymo_open_dataset_motion_v_1_2_0/uncompressed/scenario/training/training.tfrecord-00137-of-01000...\n",
            "Copying gs://waymo_open_dataset_motion_v_1_2_0/uncompressed/scenario/training/training.tfrecord-00138-of-01000...\n",
            "Copying gs://waymo_open_dataset_motion_v_1_2_0/uncompressed/scenario/training/training.tfrecord-00139-of-01000...\n",
            "Copying gs://waymo_open_dataset_motion_v_1_2_0/uncompressed/scenario/training/training.tfrecord-00140-of-01000...\n",
            "Copying gs://waymo_open_dataset_motion_v_1_2_0/uncompressed/scenario/training/training.tfrecord-00141-of-01000...\n",
            "Copying gs://waymo_open_dataset_motion_v_1_2_0/uncompressed/scenario/training/training.tfrecord-00142-of-01000...\n",
            "Copying gs://waymo_open_dataset_motion_v_1_2_0/uncompressed/scenario/training/training.tfrecord-00143-of-01000...\n",
            "Copying gs://waymo_open_dataset_motion_v_1_2_0/uncompressed/scenario/training/training.tfrecord-00144-of-01000...\n",
            "Copying gs://waymo_open_dataset_motion_v_1_2_0/uncompressed/scenario/training/training.tfrecord-00145-of-01000...\n",
            "Copying gs://waymo_open_dataset_motion_v_1_2_0/uncompressed/scenario/training/training.tfrecord-00146-of-01000...\n",
            "Copying gs://waymo_open_dataset_motion_v_1_2_0/uncompressed/scenario/training/training.tfrecord-00147-of-01000...\n",
            "Copying gs://waymo_open_dataset_motion_v_1_2_0/uncompressed/scenario/training/training.tfrecord-00148-of-01000...\n",
            "Copying gs://waymo_open_dataset_motion_v_1_2_0/uncompressed/scenario/training/training.tfrecord-00149-of-01000...\n",
            "Copying gs://waymo_open_dataset_motion_v_1_2_0/uncompressed/scenario/training/training.tfrecord-00150-of-01000...\n",
            "Copying gs://waymo_open_dataset_motion_v_1_2_0/uncompressed/scenario/training/training.tfrecord-00151-of-01000...\n",
            "Copying gs://waymo_open_dataset_motion_v_1_2_0/uncompressed/scenario/training/training.tfrecord-00152-of-01000...\n",
            "Copying gs://waymo_open_dataset_motion_v_1_2_0/uncompressed/scenario/training/training.tfrecord-00153-of-01000...\n",
            "Copying gs://waymo_open_dataset_motion_v_1_2_0/uncompressed/scenario/training/training.tfrecord-00154-of-01000...\n",
            "Copying gs://waymo_open_dataset_motion_v_1_2_0/uncompressed/scenario/training/training.tfrecord-00155-of-01000...\n",
            "Copying gs://waymo_open_dataset_motion_v_1_2_0/uncompressed/scenario/training/training.tfrecord-00156-of-01000...\n",
            "Copying gs://waymo_open_dataset_motion_v_1_2_0/uncompressed/scenario/training/training.tfrecord-00157-of-01000...\n",
            "Copying gs://waymo_open_dataset_motion_v_1_2_0/uncompressed/scenario/training/training.tfrecord-00158-of-01000...\n",
            "Copying gs://waymo_open_dataset_motion_v_1_2_0/uncompressed/scenario/training/training.tfrecord-00159-of-01000...\n",
            "Copying gs://waymo_open_dataset_motion_v_1_2_0/uncompressed/scenario/training/training.tfrecord-00160-of-01000...\n",
            "Copying gs://waymo_open_dataset_motion_v_1_2_0/uncompressed/scenario/training/training.tfrecord-00161-of-01000...\n",
            "Copying gs://waymo_open_dataset_motion_v_1_2_0/uncompressed/scenario/training/training.tfrecord-00162-of-01000...\n",
            "Copying gs://waymo_open_dataset_motion_v_1_2_0/uncompressed/scenario/training/training.tfrecord-00163-of-01000...\n",
            "Copying gs://waymo_open_dataset_motion_v_1_2_0/uncompressed/scenario/training/training.tfrecord-00164-of-01000...\n",
            "Copying gs://waymo_open_dataset_motion_v_1_2_0/uncompressed/scenario/training/training.tfrecord-00165-of-01000...\n",
            "Copying gs://waymo_open_dataset_motion_v_1_2_0/uncompressed/scenario/training/training.tfrecord-00166-of-01000...\n",
            "Copying gs://waymo_open_dataset_motion_v_1_2_0/uncompressed/scenario/training/training.tfrecord-00167-of-01000...\n",
            "Copying gs://waymo_open_dataset_motion_v_1_2_0/uncompressed/scenario/training/training.tfrecord-00168-of-01000...\n",
            "Copying gs://waymo_open_dataset_motion_v_1_2_0/uncompressed/scenario/training/training.tfrecord-00169-of-01000...\n",
            "Copying gs://waymo_open_dataset_motion_v_1_2_0/uncompressed/scenario/training/training.tfrecord-00170-of-01000...\n",
            "Copying gs://waymo_open_dataset_motion_v_1_2_0/uncompressed/scenario/training/training.tfrecord-00171-of-01000...\n",
            "Copying gs://waymo_open_dataset_motion_v_1_2_0/uncompressed/scenario/training/training.tfrecord-00172-of-01000...\n",
            "Copying gs://waymo_open_dataset_motion_v_1_2_0/uncompressed/scenario/training/training.tfrecord-00173-of-01000...\n",
            "Copying gs://waymo_open_dataset_motion_v_1_2_0/uncompressed/scenario/training/training.tfrecord-00174-of-01000...\n",
            "Copying gs://waymo_open_dataset_motion_v_1_2_0/uncompressed/scenario/training/training.tfrecord-00175-of-01000...\n",
            "Copying gs://waymo_open_dataset_motion_v_1_2_0/uncompressed/scenario/training/training.tfrecord-00176-of-01000...\n",
            "Copying gs://waymo_open_dataset_motion_v_1_2_0/uncompressed/scenario/training/training.tfrecord-00177-of-01000...\n",
            "Copying gs://waymo_open_dataset_motion_v_1_2_0/uncompressed/scenario/training/training.tfrecord-00178-of-01000...\n",
            "Copying gs://waymo_open_dataset_motion_v_1_2_0/uncompressed/scenario/training/training.tfrecord-00179-of-01000...\n",
            "Copying gs://waymo_open_dataset_motion_v_1_2_0/uncompressed/scenario/training/training.tfrecord-00180-of-01000...\n",
            "Copying gs://waymo_open_dataset_motion_v_1_2_0/uncompressed/scenario/training/training.tfrecord-00181-of-01000...\n",
            "Copying gs://waymo_open_dataset_motion_v_1_2_0/uncompressed/scenario/training/training.tfrecord-00182-of-01000...\n",
            "Copying gs://waymo_open_dataset_motion_v_1_2_0/uncompressed/scenario/training/training.tfrecord-00183-of-01000...\n",
            "Copying gs://waymo_open_dataset_motion_v_1_2_0/uncompressed/scenario/training/training.tfrecord-00184-of-01000...\n",
            "Copying gs://waymo_open_dataset_motion_v_1_2_0/uncompressed/scenario/training/training.tfrecord-00185-of-01000...\n",
            "Copying gs://waymo_open_dataset_motion_v_1_2_0/uncompressed/scenario/training/training.tfrecord-00186-of-01000...\n",
            "Copying gs://waymo_open_dataset_motion_v_1_2_0/uncompressed/scenario/training/training.tfrecord-00187-of-01000...\n",
            "Copying gs://waymo_open_dataset_motion_v_1_2_0/uncompressed/scenario/training/training.tfrecord-00188-of-01000...\n",
            "Copying gs://waymo_open_dataset_motion_v_1_2_0/uncompressed/scenario/training/training.tfrecord-00189-of-01000...\n",
            "Copying gs://waymo_open_dataset_motion_v_1_2_0/uncompressed/scenario/training/training.tfrecord-00190-of-01000...\n",
            "Copying gs://waymo_open_dataset_motion_v_1_2_0/uncompressed/scenario/training/training.tfrecord-00191-of-01000...\n",
            "Copying gs://waymo_open_dataset_motion_v_1_2_0/uncompressed/scenario/training/training.tfrecord-00192-of-01000...\n",
            "Copying gs://waymo_open_dataset_motion_v_1_2_0/uncompressed/scenario/training/training.tfrecord-00193-of-01000...\n",
            "Copying gs://waymo_open_dataset_motion_v_1_2_0/uncompressed/scenario/training/training.tfrecord-00194-of-01000...\n",
            "Copying gs://waymo_open_dataset_motion_v_1_2_0/uncompressed/scenario/training/training.tfrecord-00195-of-01000...\n",
            "Copying gs://waymo_open_dataset_motion_v_1_2_0/uncompressed/scenario/training/training.tfrecord-00196-of-01000...\n",
            "Copying gs://waymo_open_dataset_motion_v_1_2_0/uncompressed/scenario/training/training.tfrecord-00197-of-01000...\n",
            "Copying gs://waymo_open_dataset_motion_v_1_2_0/uncompressed/scenario/training/training.tfrecord-00198-of-01000...\n",
            "Copying gs://waymo_open_dataset_motion_v_1_2_0/uncompressed/scenario/training/training.tfrecord-00199-of-01000...\n",
            "/ [100/100 files][ 42.7 GiB/ 42.7 GiB] 100% Done   1.6 MiB/s ETA 00:00:00       \n",
            "Operation completed over 100 objects/42.7 GiB.                                   \n"
          ]
        }
      ]
    },
    {
      "cell_type": "markdown",
      "source": [
        "## 1. 환경세팅"
      ],
      "metadata": {
        "id": "65QiCNxG94kX"
      }
    },
    {
      "cell_type": "code",
      "source": [
        "from google.colab import drive\n",
        "drive.mount('/content/drive')\n",
        "\n",
        "# 구글 드라이브 위치. 마운트 잘 됐는지 확인.\n",
        "GDRIVE_WOD_PATH = \"/content/drive/MyDrive/waymo-od-dataset/motion_v_1_2_0/uncompressed\"\n",
        "TRAIN_SET_PATH  = GDRIVE_WOD_PATH + \"/scenario/training\"\n",
        "VALID_SET_PATH  = GDRIVE_WOD_PATH + \"/scenario/validation\"\n",
        "\n",
        "# 마운트 확인\n",
        "!ls -al {VALIDSET_PATH} | wc -l"
      ],
      "metadata": {
        "colab": {
          "base_uri": "https://localhost:8080/"
        },
        "id": "6qfiyV609_QJ",
        "outputId": "fc50bf96-b47e-427c-b112-1f6b74747ad8"
      },
      "execution_count": 31,
      "outputs": [
        {
          "output_type": "stream",
          "name": "stdout",
          "text": [
            "Drive already mounted at /content/drive; to attempt to forcibly remount, call drive.mount(\"/content/drive\", force_remount=True).\n",
            "ls: cannot access '{VALIDSET_PATH}': No such file or directory\n",
            "0\n"
          ]
        }
      ]
    },
    {
      "cell_type": "code",
      "source": [
        "%%capture\n",
        "\n",
        "!pip3 install --upgrade pip\n",
        "!pip install waymo-open-dataset-tf-2-11-0==1.5.1"
      ],
      "metadata": {
        "id": "uZXTscr29_Mn"
      },
      "execution_count": 32,
      "outputs": []
    },
    {
      "cell_type": "markdown",
      "source": [
        "## 2. 데이터셋 로드"
      ],
      "metadata": {
        "id": "sGwlK7cuJ917"
      }
    },
    {
      "cell_type": "code",
      "source": [
        "import glob\n",
        "\n",
        "# 로컬 디렉토리에 저장된 TFRecord 파일들의 경로 리스트 생성\n",
        "train_set_paths = glob.glob(TRAIN_SET_PATH + \"/*\")\n",
        "valid_set_paths = glob.glob(VALID_SET_PATH + \"/*\")\n",
        "\n",
        "len(train_set_paths), len(valid_set_paths)"
      ],
      "metadata": {
        "colab": {
          "base_uri": "https://localhost:8080/"
        },
        "id": "MJBxgozl9_KG",
        "outputId": "100348fd-f0ea-4faf-a1e8-85cedd9f5001"
      },
      "execution_count": 33,
      "outputs": [
        {
          "output_type": "execute_result",
          "data": {
            "text/plain": [
              "(200, 150)"
            ]
          },
          "metadata": {},
          "execution_count": 33
        }
      ]
    },
    {
      "cell_type": "code",
      "source": [
        "import tensorflow as tf\n",
        "\n",
        "raw_train_set = tf.data.TFRecordDataset(train_set_paths)\n",
        "raw_valid_set = tf.data.TFRecordDataset(valid_set_paths)"
      ],
      "metadata": {
        "id": "S3dhxmhZKL5o"
      },
      "execution_count": 34,
      "outputs": []
    },
    {
      "cell_type": "markdown",
      "source": [
        "## 3. dataset parser 제작"
      ],
      "metadata": {
        "id": "t5vm2Uw-f6g4"
      }
    },
    {
      "cell_type": "code",
      "source": [
        "from waymo_open_dataset.protos import scenario_pb2\n",
        "import numpy as np\n",
        "\n",
        "MAX_AGENT_NUM = 1000\n",
        "\n",
        "def scenario_to_input(scenario):\n",
        "  agent_num = len(scenario.tracks)\n",
        "  input_data = []\n",
        "  output_data = []\n",
        "  for state_idx in range(len(scenario.timestamps_seconds)):\n",
        "    states = []\n",
        "    for track_idx in range(MAX_AGENT_NUM):\n",
        "      if track_idx < agent_num:\n",
        "        state = scenario.tracks[track_idx].states[state_idx]\n",
        "\n",
        "        if state.valid:\n",
        "          agent_state = [\n",
        "              state.center_x, state.center_y, state.center_z,\n",
        "              state.length, state.width, state.height, state.heading,\n",
        "              state.velocity_x, state.velocity_y, float(state.valid)]\n",
        "        else:\n",
        "          agent_state = [0.0 for _ in range(10)]\n",
        "      else:\n",
        "        agent_state = [0.0 for _ in range(10)]\n",
        "      \n",
        "      states.append(agent_state)\n",
        "    \n",
        "\n",
        "    if state_idx <= scenario.current_time_index:\n",
        "        input_data.append(states)\n",
        "    else:\n",
        "      output_data.append(states)\n",
        "\n",
        "  return np.array([input_data]), np.array([output_data])\n",
        "\n",
        "\n",
        "for raw_data in raw_train_set:\n",
        "  scenario = scenario_pb2.Scenario()\n",
        "  scenario.ParseFromString(bytearray(raw_data.numpy()))\n",
        "  \n",
        "  din, dout = scenario_to_input(scenario)\n",
        "  # shape : [num of state, num of agent(max), num of feature]\n",
        "  print(din.shape)\n",
        "  print(dout.shape)\n",
        "  break"
      ],
      "metadata": {
        "colab": {
          "base_uri": "https://localhost:8080/"
        },
        "id": "zcb-l2p07h-E",
        "outputId": "1d02bdcd-ce72-41dd-a565-2823811dd064"
      },
      "execution_count": 207,
      "outputs": [
        {
          "output_type": "stream",
          "name": "stdout",
          "text": [
            "(1, 11, 1000, 10)\n",
            "(1, 80, 1000, 10)\n"
          ]
        }
      ]
    },
    {
      "cell_type": "markdown",
      "source": [
        "## 4. 모델 제작"
      ],
      "metadata": {
        "id": "paT3cxT1Brss"
      }
    },
    {
      "cell_type": "code",
      "source": [
        "import tensorflow as tf\n",
        "from tensorflow.keras.models import Sequential\n",
        "from tensorflow.keras.layers import Input, Conv2D, Reshape, LSTM, RepeatVector, TimeDistributed, Dense\n",
        "\n",
        "model = Sequential()\n",
        "\n",
        "# input\n",
        "model.add(Input(shape=(11, 1000, 10)))\n",
        "\n",
        "# cnn\n",
        "model.add(Conv2D(filters=1, kernel_size=(1, 501)))\n",
        "model.add(Conv2D(filters=1, kernel_size=(1, 201)))\n",
        "model.add(Reshape((11, 300)))\n",
        "\n",
        "# LSTM (many to many)\n",
        "model.add(LSTM(100, activation='relu')) # encoder layer\n",
        "model.add(RepeatVector(80))   # repeat vector\n",
        "model.add(LSTM(100, activation='relu', return_sequences=True)) # decoder layer\n",
        "model.add(TimeDistributed(Dense(10000)))\n",
        "\n",
        "# output\n",
        "model.add(Reshape((80, 1000, 10)))\n",
        "\n",
        "\n",
        "model.compile(optimizer='adam', loss='mse')\n",
        "model.summary()"
      ],
      "metadata": {
        "colab": {
          "base_uri": "https://localhost:8080/"
        },
        "id": "sTZdzQnxOQun",
        "outputId": "f5c09dfc-0afe-4d29-a0c5-3aa3571cd2e9"
      },
      "execution_count": 208,
      "outputs": [
        {
          "output_type": "stream",
          "name": "stderr",
          "text": [
            "WARNING:tensorflow:Layer lstm_192 will not use cuDNN kernels since it doesn't meet the criteria. It will use a generic GPU kernel as fallback when running on GPU.\n",
            "WARNING:tensorflow:Layer lstm_193 will not use cuDNN kernels since it doesn't meet the criteria. It will use a generic GPU kernel as fallback when running on GPU.\n"
          ]
        },
        {
          "output_type": "stream",
          "name": "stdout",
          "text": [
            "Model: \"sequential_85\"\n",
            "_________________________________________________________________\n",
            " Layer (type)                Output Shape              Param #   \n",
            "=================================================================\n",
            " conv2d_152 (Conv2D)         (None, 11, 500, 1)        5011      \n",
            "                                                                 \n",
            " conv2d_153 (Conv2D)         (None, 11, 300, 1)        202       \n",
            "                                                                 \n",
            " reshape_46 (Reshape)        (None, 11, 300)           0         \n",
            "                                                                 \n",
            " lstm_192 (LSTM)             (None, 100)               160400    \n",
            "                                                                 \n",
            " repeat_vector_15 (RepeatVec  (None, 80, 100)          0         \n",
            " tor)                                                            \n",
            "                                                                 \n",
            " lstm_193 (LSTM)             (None, 80, 100)           80400     \n",
            "                                                                 \n",
            " time_distributed_17 (TimeDi  (None, 80, 10000)        1010000   \n",
            " stributed)                                                      \n",
            "                                                                 \n",
            " reshape_47 (Reshape)        (None, 80, 1000, 10)      0         \n",
            "                                                                 \n",
            "=================================================================\n",
            "Total params: 1,256,013\n",
            "Trainable params: 1,256,013\n",
            "Non-trainable params: 0\n",
            "_________________________________________________________________\n"
          ]
        }
      ]
    },
    {
      "cell_type": "code",
      "source": [
        "for idx, raw_data in enumerate(raw_train_set):\n",
        "  scenario = scenario_pb2.Scenario()\n",
        "  scenario.ParseFromString(bytearray(raw_data.numpy()))\n",
        "  _input, _output = scenario_to_input(scenario)\n",
        "  print(_input.shape)\n",
        "  _pred = model.predict(_input)\n",
        "  print(_pred.shape)\n",
        "  break"
      ],
      "metadata": {
        "colab": {
          "base_uri": "https://localhost:8080/"
        },
        "id": "uxGkb7S_TnPL",
        "outputId": "153ee9ee-ad1a-44b9-e9f4-6e48deb7b0e9"
      },
      "execution_count": 212,
      "outputs": [
        {
          "output_type": "stream",
          "name": "stdout",
          "text": [
            "(1, 11, 1000, 10)\n",
            "1/1 [==============================] - 0s 96ms/step\n",
            "(1, 80, 1000, 10)\n"
          ]
        }
      ]
    },
    {
      "cell_type": "markdown",
      "source": [
        "# 기타"
      ],
      "metadata": {
        "id": "h2B3zIvC9eRD"
      }
    },
    {
      "cell_type": "code",
      "execution_count": null,
      "metadata": {
        "id": "jEI7aPNT8-4f"
      },
      "outputs": [],
      "source": [
        "# tutorial/6_simple-model/gp-simple-model.ipynb"
      ]
    }
  ]
}