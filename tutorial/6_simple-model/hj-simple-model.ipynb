{
  "nbformat": 4,
  "nbformat_minor": 0,
  "metadata": {
    "colab": {
      "provenance": [],
      "authorship_tag": "ABX9TyPWqHCuA6Qat4rtZt/OhFkg",
      "include_colab_link": true
    },
    "kernelspec": {
      "name": "python3",
      "display_name": "Python 3"
    },
    "language_info": {
      "name": "python"
    },
    "accelerator": "GPU",
    "gpuClass": "standard"
  },
  "cells": [
    {
      "cell_type": "markdown",
      "metadata": {
        "id": "view-in-github",
        "colab_type": "text"
      },
      "source": [
        "<a href=\"https://colab.research.google.com/github/RO-AD/waymo-od-motion-pred/blob/main/tutorial/6_simple-model/hj-simple-model.ipynb\" target=\"_parent\"><img src=\"https://colab.research.google.com/assets/colab-badge.svg\" alt=\"Open In Colab\"/></a>"
      ]
    },
    {
      "cell_type": "markdown",
      "source": [
        "tutorial/6_simple-model/hj-simple-model.ipynb"
      ],
      "metadata": {
        "id": "bMKjTkJn80KQ"
      }
    },
    {
      "cell_type": "markdown",
      "source": [
        "# 간단한 모델 만들어서 제출해보기"
      ],
      "metadata": {
        "id": "hua3iOP18z_f"
      }
    },
    {
      "cell_type": "markdown",
      "source": [
        "간단하게 모델 만들어서 제출해볼 예정"
      ],
      "metadata": {
        "id": "WOEczJsE84V8"
      }
    },
    {
      "cell_type": "markdown",
      "source": [
        "## 환경세팅"
      ],
      "metadata": {
        "id": "BDePTedB9jyR"
      }
    },
    {
      "cell_type": "code",
      "source": [
        "%%capture\n",
        "!pip3 install --upgrade pip\n",
        "!pip install waymo-open-dataset-tf-2-11-0==1.5.1 # 최신 버전 라이브러리"
      ],
      "metadata": {
        "id": "PPN-PhT49p0J"
      },
      "execution_count": 10,
      "outputs": []
    },
    {
      "cell_type": "code",
      "execution_count": 11,
      "metadata": {
        "colab": {
          "base_uri": "https://localhost:8080/"
        },
        "id": "pLePjcXP8yKU",
        "outputId": "37163faa-df77-4ff2-8c0b-ce055f0b8a59"
      },
      "outputs": [
        {
          "output_type": "stream",
          "name": "stdout",
          "text": [
            "Drive already mounted at /content/drive; to attempt to forcibly remount, call drive.mount(\"/content/drive\", force_remount=True).\n"
          ]
        }
      ],
      "source": [
        "from google.colab import drive\n",
        "drive.mount('/content/drive')"
      ]
    },
    {
      "cell_type": "code",
      "source": [
        "VALIDATION_PATH = \"/content/drive/MyDrive/waymo-od-dataset/motion_v_1_2_0/uncompressed/scenario/validation/\"\n"
      ],
      "metadata": {
        "id": "QR5eU3oj9jdE"
      },
      "execution_count": 12,
      "outputs": []
    },
    {
      "cell_type": "code",
      "source": [
        "import os\n",
        "import tensorflow as tf\n",
        "\n",
        "os.environ[\"CUDA_VISIBLE_DEVICES\"]=\"0\"\n",
        "gpus = tf.config.experimental.list_physical_devices('GPU')\n",
        "if gpus:\n",
        "    try:\n",
        "        tf.config.experimental.set_memory_growth(gpus[0], True)\n",
        "    except RuntimeError as e:\n",
        "        print(e)"
      ],
      "metadata": {
        "id": "HGu2o7OTGcCB"
      },
      "execution_count": 13,
      "outputs": []
    },
    {
      "cell_type": "code",
      "source": [
        "import math\n",
        "import os\n",
        "import uuid\n",
        "import time\n",
        "\n",
        "import numpy as np\n",
        "import pandas as pd\n",
        "import tensorflow as tf\n",
        "\n",
        "from google.protobuf import text_format\n",
        "from waymo_open_dataset.metrics.ops import py_metrics_ops\n",
        "from waymo_open_dataset.metrics.python import config_util_py as config_util\n",
        "from waymo_open_dataset.protos import motion_metrics_pb2\n",
        "\n",
        "import plotly.graph_objs as go\n",
        "from plotly.subplots import make_subplots\n",
        "\n"
      ],
      "metadata": {
        "id": "KlsUF6VY9jaB"
      },
      "execution_count": 14,
      "outputs": []
    },
    {
      "cell_type": "code",
      "source": [
        "# submission 생성\n",
        "\n",
        "from waymo_open_dataset.protos import motion_submission_pb2\n",
        "\n",
        "submission = motion_submission_pb2.MotionChallengeSubmission()\n",
        "\n",
        "submission.account_name = 'hyocurity@gmail.com'\n",
        "submission.unique_method_name = 'HJNet'\n",
        "submission.authors.append('Hyojin Lee')\n",
        "submission.authors.append('Jaeseung Lee')\n",
        "submission.affiliation = 'RO:AD'\n",
        "submission.description = \"Validation Set Test\"\n",
        "submission.method_link = 'NA'\n",
        "submission.submission_type = submission.MOTION_PREDICTION\n",
        "submission.uses_lidar_data = False\n",
        "\n",
        "submission"
      ],
      "metadata": {
        "colab": {
          "base_uri": "https://localhost:8080/"
        },
        "id": "kG65jrWvBRkW",
        "outputId": "9b78c7fe-8a4d-4a73-915b-b1f5b5b48bbc"
      },
      "execution_count": 15,
      "outputs": [
        {
          "output_type": "execute_result",
          "data": {
            "text/plain": [
              "submission_type: MOTION_PREDICTION\n",
              "account_name: \"hyocurity@gmail.com\"\n",
              "unique_method_name: \"HJNet\"\n",
              "authors: \"Hyojin Lee\"\n",
              "authors: \"Jaeseung Lee\"\n",
              "affiliation: \"RO:AD\"\n",
              "description: \"Validation Set Test\"\n",
              "method_link: \"NA\"\n",
              "uses_lidar_data: false"
            ]
          },
          "metadata": {},
          "execution_count": 15
        }
      ]
    },
    {
      "cell_type": "code",
      "source": [
        "# train, test 용으로 데이터셋 분할\n",
        "\n",
        "file_paths = tf.io.gfile.glob(VALIDATION_PATH + \"*.tfrecord*\")\n",
        "tf.random.shuffle(file_paths)\n",
        "dataset_size = len(file_paths)\n",
        "\n",
        "train_ratio = 0.8\n",
        "test_ratio = 0.2\n",
        "\n",
        "train_size = int(dataset_size * train_ratio)\n",
        "test_size = dataset_size - train_size\n",
        "\n",
        "train_dataset = tf.data.TFRecordDataset(file_paths[:train_size], compression_type='')\n",
        "test_dataset = tf.data.TFRecordDataset(file_paths[train_size:], compression_type='')"
      ],
      "metadata": {
        "id": "01_neDb-91fy"
      },
      "execution_count": 16,
      "outputs": []
    },
    {
      "cell_type": "code",
      "source": [
        "from waymo_open_dataset.protos import scenario_pb2 \n",
        "\n",
        "dataset = tf.data.TFRecordDataset(file_paths, compression_type='')\n",
        "for data in dataset :\n",
        "   scenario = scenario_pb2.Scenario()\n",
        "   scenario.ParseFromString(data.numpy())\n",
        "   break"
      ],
      "metadata": {
        "id": "uX-g0EDgKcbj"
      },
      "execution_count": 17,
      "outputs": []
    },
    {
      "cell_type": "code",
      "source": [
        "len(scenario.tracks[0].states)"
      ],
      "metadata": {
        "colab": {
          "base_uri": "https://localhost:8080/"
        },
        "id": "KmE_MSOKKdeB",
        "outputId": "e884ce3a-a784-441f-9998-3a71e13c066b"
      },
      "execution_count": 18,
      "outputs": [
        {
          "output_type": "execute_result",
          "data": {
            "text/plain": [
              "91"
            ]
          },
          "metadata": {},
          "execution_count": 18
        }
      ]
    },
    {
      "cell_type": "markdown",
      "source": [
        "## 모델 생성"
      ],
      "metadata": {
        "id": "PBgKIVke_6Fi"
      }
    },
    {
      "cell_type": "code",
      "source": [
        "import tensorflow as tf\n",
        "\n",
        "class SimpleMotionPredictionModel(tf.keras.Model):\n",
        "    def __init__(self, num_classes, input_shape):\n",
        "        super(SimpleMotionPredictionModel, self).__init__()\n",
        "\n",
        "        # Convolutional Neural Network\n",
        "        self.conv1 = tf.keras.layers.Conv2D(64, 3, activation='relu', input_shape=input_shape)\n",
        "        self.conv2 = tf.keras.layers.Conv2D(128, 3, activation='relu')\n",
        "        self.conv3 = tf.keras.layers.Conv2D(256, 3, activation='relu')\n",
        "\n",
        "        # Long Short-Term Memory\n",
        "        self.lstm1 = tf.keras.layers.LSTM(256, return_sequences=True)\n",
        "        self.lstm2 = tf.keras.layers.LSTM(256, return_sequences=False)\n",
        "\n",
        "        # Fully Connected Layer\n",
        "        self.fc1 = tf.keras.layers.Dense(256, activation='relu')\n",
        "        self.fc2 = tf.keras.layers.Dense(num_classes)\n",
        "\n",
        "\n",
        "    def call(self, x):\n",
        "        # Convolutional Neural Network\n",
        "        x = self.conv1(x)\n",
        "        x = self.conv2(x)\n",
        "        x = self.conv3(x)\n",
        "\n",
        "        # Long Short-Term Memory\n",
        "        x = tf.keras.layers.Reshape((-1, 256))(x)\n",
        "        x = self.lstm1(x)\n",
        "        x = self.lstm2(x)\n",
        "\n",
        "        # Fully Connected Layer\n",
        "        x = self.fc1(x)\n",
        "        x = self.fc2(x)\n",
        "\n",
        "        return x\n"
      ],
      "metadata": {
        "id": "h6T0D6B3BYce"
      },
      "execution_count": 11,
      "outputs": []
    },
    {
      "cell_type": "markdown",
      "source": [
        "## 데이터 파싱"
      ],
      "metadata": {
        "id": "0i-cWsVcCn8P"
      }
    },
    {
      "cell_type": "markdown",
      "source": [
        "tracks(agent)만 파싱해보려고 한다. 구조는 다음과 같다.\n",
        "\n",
        "### Structure\n",
        "- scenario_id (M개)\n",
        "  - tracks[0]\n",
        "    - states[0:9] (past) - input\n",
        "      - center_x\n",
        "      - center_y\n",
        "      - ...\n",
        "      - velocity_y\n",
        "    - states[10] (current) - input\n",
        "    - states[11:90] (future) - output(prediction)\n",
        "  - tracks[1]\n",
        "  - ...\n",
        "  - tracks[N]\n",
        "\n",
        "### Shape\n",
        "- Input shape\n",
        "  - (M, 1, N, 11, 9)\n",
        "  - M : scenario 개수\n",
        "  - 1 : scenario_id\n",
        "  - N : tracks(agents) 개수\n",
        "  - 11 : past + current states\n",
        "  - 9 : feature (center_x, center_y 등)\n",
        "- Output shape\n",
        "  - (M, 1, N, 80, 2)\n",
        "  - M : scenario 개수\n",
        "  - 1 : scenario_id\n",
        "  - N : tracks(agents) 개수\n",
        "  - 80 : future states\n",
        "  - 2 : prediction feature(center_x, center_y)\n",
        "\n"
      ],
      "metadata": {
        "id": "SnKu5KIYMIkf"
      }
    },
    {
      "cell_type": "code",
      "source": [
        "len(scenario.tracks)"
      ],
      "metadata": {
        "colab": {
          "base_uri": "https://localhost:8080/"
        },
        "id": "8XSvhLJfQOjL",
        "outputId": "610a9b85-3aa7-4c74-af08-254c723279af"
      },
      "execution_count": 27,
      "outputs": [
        {
          "output_type": "execute_result",
          "data": {
            "text/plain": [
              "27"
            ]
          },
          "metadata": {},
          "execution_count": 27
        }
      ]
    },
    {
      "cell_type": "code",
      "source": [
        "len(scenario.tracks[0].states)"
      ],
      "metadata": {
        "colab": {
          "base_uri": "https://localhost:8080/"
        },
        "id": "bZfvOFd1DMDp",
        "outputId": "0703c83e-1211-402f-eeee-ac35f23181c1"
      },
      "execution_count": 35,
      "outputs": [
        {
          "output_type": "execute_result",
          "data": {
            "text/plain": [
              "91"
            ]
          },
          "metadata": {},
          "execution_count": 35
        }
      ]
    },
    {
      "cell_type": "code",
      "source": [
        "for data in dataset :\n",
        "  scenario = scenario_pb2.Scenario()\n",
        "  scenario.ParseFromString(data.numpy())\n",
        "  break"
      ],
      "metadata": {
        "id": "S7rfoNGZRcfQ"
      },
      "execution_count": 28,
      "outputs": []
    },
    {
      "cell_type": "code",
      "source": [
        "scenario.tracks[0].states[0]"
      ],
      "metadata": {
        "colab": {
          "base_uri": "https://localhost:8080/"
        },
        "id": "1XWLcfCjQPsw",
        "outputId": "de434e4c-e5cc-4675-9517-bb90c8c2e0e0"
      },
      "execution_count": 34,
      "outputs": [
        {
          "output_type": "execute_result",
          "data": {
            "text/plain": [
              "center_x: 5564.89306640625\n",
              "center_y: 2164.099609375\n",
              "center_z: 101.36456316413546\n",
              "length: 4.642587661743164\n",
              "width: 2.0364904403686523\n",
              "height: 1.5736640691757202\n",
              "heading: -0.4103038012981415\n",
              "velocity_x: 5.21484375\n",
              "velocity_y: -2.294921875\n",
              "valid: true"
            ]
          },
          "metadata": {},
          "execution_count": 34
        }
      ]
    },
    {
      "cell_type": "code",
      "source": [
        "def _parse(raw_scenario_data) :\n",
        "  scenario = scenario_pb2.Scenario()\n",
        "  scenario.ParseFromString(raw_scenario_data.numpy())\n",
        "\n",
        "  return scenario\n",
        "\n",
        "scenario_data = np.numpy\n",
        "\n",
        "for data in dataset :\n",
        "  scenario = _parse(data)\n",
        "  scenario_data\n",
        "\n",
        "  break\n"
      ],
      "metadata": {
        "id": "HRGgCYBjDKpl"
      },
      "execution_count": 36,
      "outputs": []
    },
    {
      "cell_type": "code",
      "source": [
        "scenario.scenario_id"
      ],
      "metadata": {
        "colab": {
          "base_uri": "https://localhost:8080/",
          "height": 35
        },
        "id": "Vs3aoyazDKl9",
        "outputId": "60716cc9-9ef7-46e4-f095-1655a619705a"
      },
      "execution_count": 38,
      "outputs": [
        {
          "output_type": "execute_result",
          "data": {
            "text/plain": [
              "'a3cfb7f093ccd29'"
            ],
            "application/vnd.google.colaboratory.intrinsic+json": {
              "type": "string"
            }
          },
          "metadata": {},
          "execution_count": 38
        }
      ]
    },
    {
      "cell_type": "code",
      "source": [],
      "metadata": {
        "id": "8YTsvysHDKjG"
      },
      "execution_count": null,
      "outputs": []
    },
    {
      "cell_type": "markdown",
      "source": [
        "## 학습하기"
      ],
      "metadata": {
        "id": "BATjFEbmQQYL"
      }
    },
    {
      "cell_type": "code",
      "source": [
        "def _parse(raw_scenario_data):\n",
        "    scenario = scenario_pb2.Scenario()\n",
        "    scenario.ParseFromString(raw_scenario_data.numpy())\n",
        "\n",
        "    return scenario\n",
        "\n",
        "def train() :\n",
        "\n",
        "  batch_size = 16 #32\n",
        "  shuffle_buffer_size = 1500 # dataset_size * 10 ~ dataset_size * 100\n",
        "  num_epochs = 3\n",
        "\n",
        "  scenario_data = []\n",
        "  \n",
        "  for data in train_dataset :\n",
        "    proto_string = data.numpy()\n",
        "    proto = scenario_pb2.Scenario()\n",
        "    proto.ParseFromString(proto_string)\n",
        "    scenario_data.append(proto)\n",
        "\n",
        "\n",
        "  scenario_data = scenario_data.batch(batch_size)\n",
        "  scenario_data = scenario_data.shuffle(buffer_size=shuffle_buffer_size)\n",
        "\n",
        "  input_shape=()\n",
        "\n",
        "  # 모델 클래스 생성\n",
        "  model = SimpleMotionPredictionModel(num_classes=6, input_shape=input_shape)\n",
        "\n",
        "  # 모델 컴파일\n",
        "  model.compile(optimizer='adam',\n",
        "                loss='mse',\n",
        "                metrics=['mae'])\n",
        "\n",
        "  # 모델 학습\n",
        "  model.fit(scenario_data,\n",
        "            epochs=num_epochs,\n",
        "            validation_data=scenario_data)\n",
        "  \n",
        "  return model"
      ],
      "metadata": {
        "id": "XMxL5yIoCnhS"
      },
      "execution_count": 15,
      "outputs": []
    },
    {
      "cell_type": "code",
      "source": [
        "train()"
      ],
      "metadata": {
        "id": "IHeHK9pPNAkN"
      },
      "execution_count": null,
      "outputs": []
    },
    {
      "cell_type": "code",
      "source": [
        "model = train()"
      ],
      "metadata": {
        "colab": {
          "base_uri": "https://localhost:8080/",
          "height": 1000
        },
        "id": "aCRaC0UcEv7l",
        "outputId": "77f04aa7-e07a-4d7d-d6d7-90bac2435af8"
      },
      "execution_count": 12,
      "outputs": [
        {
          "output_type": "stream",
          "name": "stdout",
          "text": [
            "Epoch 1/3\n"
          ]
        },
        {
          "output_type": "error",
          "ename": "ValueError",
          "evalue": "ignored",
          "traceback": [
            "\u001b[0;31m---------------------------------------------------------------------------\u001b[0m",
            "\u001b[0;31mValueError\u001b[0m                                Traceback (most recent call last)",
            "\u001b[0;32m<ipython-input-12-89c9c040f84a>\u001b[0m in \u001b[0;36m<cell line: 1>\u001b[0;34m()\u001b[0m\n\u001b[0;32m----> 1\u001b[0;31m \u001b[0mmodel\u001b[0m \u001b[0;34m=\u001b[0m \u001b[0mtrain\u001b[0m\u001b[0;34m(\u001b[0m\u001b[0;34m)\u001b[0m\u001b[0;34m\u001b[0m\u001b[0;34m\u001b[0m\u001b[0m\n\u001b[0m",
            "\u001b[0;32m<ipython-input-11-d57a397f1e25>\u001b[0m in \u001b[0;36mtrain\u001b[0;34m()\u001b[0m\n\u001b[1;32m     28\u001b[0m \u001b[0;34m\u001b[0m\u001b[0m\n\u001b[1;32m     29\u001b[0m   \u001b[0;31m# 모델 학습\u001b[0m\u001b[0;34m\u001b[0m\u001b[0;34m\u001b[0m\u001b[0m\n\u001b[0;32m---> 30\u001b[0;31m   model.fit(train_set,\n\u001b[0m\u001b[1;32m     31\u001b[0m             \u001b[0mepochs\u001b[0m\u001b[0;34m=\u001b[0m\u001b[0mnum_epochs\u001b[0m\u001b[0;34m,\u001b[0m\u001b[0;34m\u001b[0m\u001b[0;34m\u001b[0m\u001b[0m\n\u001b[1;32m     32\u001b[0m             validation_data=train_set)\n",
            "\u001b[0;32m/usr/local/lib/python3.9/dist-packages/keras/utils/traceback_utils.py\u001b[0m in \u001b[0;36merror_handler\u001b[0;34m(*args, **kwargs)\u001b[0m\n\u001b[1;32m     68\u001b[0m             \u001b[0;31m# To get the full stack trace, call:\u001b[0m\u001b[0;34m\u001b[0m\u001b[0;34m\u001b[0m\u001b[0m\n\u001b[1;32m     69\u001b[0m             \u001b[0;31m# `tf.debugging.disable_traceback_filtering()`\u001b[0m\u001b[0;34m\u001b[0m\u001b[0;34m\u001b[0m\u001b[0m\n\u001b[0;32m---> 70\u001b[0;31m             \u001b[0;32mraise\u001b[0m \u001b[0me\u001b[0m\u001b[0;34m.\u001b[0m\u001b[0mwith_traceback\u001b[0m\u001b[0;34m(\u001b[0m\u001b[0mfiltered_tb\u001b[0m\u001b[0;34m)\u001b[0m \u001b[0;32mfrom\u001b[0m \u001b[0;32mNone\u001b[0m\u001b[0;34m\u001b[0m\u001b[0;34m\u001b[0m\u001b[0m\n\u001b[0m\u001b[1;32m     71\u001b[0m         \u001b[0;32mfinally\u001b[0m\u001b[0;34m:\u001b[0m\u001b[0;34m\u001b[0m\u001b[0;34m\u001b[0m\u001b[0m\n\u001b[1;32m     72\u001b[0m             \u001b[0;32mdel\u001b[0m \u001b[0mfiltered_tb\u001b[0m\u001b[0;34m\u001b[0m\u001b[0;34m\u001b[0m\u001b[0m\n",
            "\u001b[0;32m/usr/local/lib/python3.9/dist-packages/keras/engine/training.py\u001b[0m in \u001b[0;36mtf__train_function\u001b[0;34m(iterator)\u001b[0m\n\u001b[1;32m     13\u001b[0m                 \u001b[0;32mtry\u001b[0m\u001b[0;34m:\u001b[0m\u001b[0;34m\u001b[0m\u001b[0;34m\u001b[0m\u001b[0m\n\u001b[1;32m     14\u001b[0m                     \u001b[0mdo_return\u001b[0m \u001b[0;34m=\u001b[0m \u001b[0;32mTrue\u001b[0m\u001b[0;34m\u001b[0m\u001b[0;34m\u001b[0m\u001b[0m\n\u001b[0;32m---> 15\u001b[0;31m                     \u001b[0mretval_\u001b[0m \u001b[0;34m=\u001b[0m \u001b[0mag__\u001b[0m\u001b[0;34m.\u001b[0m\u001b[0mconverted_call\u001b[0m\u001b[0;34m(\u001b[0m\u001b[0mag__\u001b[0m\u001b[0;34m.\u001b[0m\u001b[0mld\u001b[0m\u001b[0;34m(\u001b[0m\u001b[0mstep_function\u001b[0m\u001b[0;34m)\u001b[0m\u001b[0;34m,\u001b[0m \u001b[0;34m(\u001b[0m\u001b[0mag__\u001b[0m\u001b[0;34m.\u001b[0m\u001b[0mld\u001b[0m\u001b[0;34m(\u001b[0m\u001b[0mself\u001b[0m\u001b[0;34m)\u001b[0m\u001b[0;34m,\u001b[0m \u001b[0mag__\u001b[0m\u001b[0;34m.\u001b[0m\u001b[0mld\u001b[0m\u001b[0;34m(\u001b[0m\u001b[0miterator\u001b[0m\u001b[0;34m)\u001b[0m\u001b[0;34m)\u001b[0m\u001b[0;34m,\u001b[0m \u001b[0;32mNone\u001b[0m\u001b[0;34m,\u001b[0m \u001b[0mfscope\u001b[0m\u001b[0;34m)\u001b[0m\u001b[0;34m\u001b[0m\u001b[0;34m\u001b[0m\u001b[0m\n\u001b[0m\u001b[1;32m     16\u001b[0m                 \u001b[0;32mexcept\u001b[0m\u001b[0;34m:\u001b[0m\u001b[0;34m\u001b[0m\u001b[0;34m\u001b[0m\u001b[0m\n\u001b[1;32m     17\u001b[0m                     \u001b[0mdo_return\u001b[0m \u001b[0;34m=\u001b[0m \u001b[0;32mFalse\u001b[0m\u001b[0;34m\u001b[0m\u001b[0;34m\u001b[0m\u001b[0m\n",
            "\u001b[0;32m/tmp/__autograph_generated_file15ypbdyj.py\u001b[0m in \u001b[0;36mtf__call\u001b[0;34m(self, x)\u001b[0m\n\u001b[1;32m      8\u001b[0m                 \u001b[0mdo_return\u001b[0m \u001b[0;34m=\u001b[0m \u001b[0;32mFalse\u001b[0m\u001b[0;34m\u001b[0m\u001b[0;34m\u001b[0m\u001b[0m\n\u001b[1;32m      9\u001b[0m                 \u001b[0mretval_\u001b[0m \u001b[0;34m=\u001b[0m \u001b[0mag__\u001b[0m\u001b[0;34m.\u001b[0m\u001b[0mUndefinedReturnValue\u001b[0m\u001b[0;34m(\u001b[0m\u001b[0;34m)\u001b[0m\u001b[0;34m\u001b[0m\u001b[0;34m\u001b[0m\u001b[0m\n\u001b[0;32m---> 10\u001b[0;31m                 \u001b[0mx\u001b[0m \u001b[0;34m=\u001b[0m \u001b[0mag__\u001b[0m\u001b[0;34m.\u001b[0m\u001b[0mconverted_call\u001b[0m\u001b[0;34m(\u001b[0m\u001b[0mag__\u001b[0m\u001b[0;34m.\u001b[0m\u001b[0mld\u001b[0m\u001b[0;34m(\u001b[0m\u001b[0mself\u001b[0m\u001b[0;34m)\u001b[0m\u001b[0;34m.\u001b[0m\u001b[0mconv1\u001b[0m\u001b[0;34m,\u001b[0m \u001b[0;34m(\u001b[0m\u001b[0mag__\u001b[0m\u001b[0;34m.\u001b[0m\u001b[0mld\u001b[0m\u001b[0;34m(\u001b[0m\u001b[0mx\u001b[0m\u001b[0;34m)\u001b[0m\u001b[0;34m,\u001b[0m\u001b[0;34m)\u001b[0m\u001b[0;34m,\u001b[0m \u001b[0;32mNone\u001b[0m\u001b[0;34m,\u001b[0m \u001b[0mfscope\u001b[0m\u001b[0;34m)\u001b[0m\u001b[0;34m\u001b[0m\u001b[0;34m\u001b[0m\u001b[0m\n\u001b[0m\u001b[1;32m     11\u001b[0m                 \u001b[0mx\u001b[0m \u001b[0;34m=\u001b[0m \u001b[0mag__\u001b[0m\u001b[0;34m.\u001b[0m\u001b[0mconverted_call\u001b[0m\u001b[0;34m(\u001b[0m\u001b[0mag__\u001b[0m\u001b[0;34m.\u001b[0m\u001b[0mld\u001b[0m\u001b[0;34m(\u001b[0m\u001b[0mself\u001b[0m\u001b[0;34m)\u001b[0m\u001b[0;34m.\u001b[0m\u001b[0mconv2\u001b[0m\u001b[0;34m,\u001b[0m \u001b[0;34m(\u001b[0m\u001b[0mag__\u001b[0m\u001b[0;34m.\u001b[0m\u001b[0mld\u001b[0m\u001b[0;34m(\u001b[0m\u001b[0mx\u001b[0m\u001b[0;34m)\u001b[0m\u001b[0;34m,\u001b[0m\u001b[0;34m)\u001b[0m\u001b[0;34m,\u001b[0m \u001b[0;32mNone\u001b[0m\u001b[0;34m,\u001b[0m \u001b[0mfscope\u001b[0m\u001b[0;34m)\u001b[0m\u001b[0;34m\u001b[0m\u001b[0;34m\u001b[0m\u001b[0m\n\u001b[1;32m     12\u001b[0m                 \u001b[0mx\u001b[0m \u001b[0;34m=\u001b[0m \u001b[0mag__\u001b[0m\u001b[0;34m.\u001b[0m\u001b[0mconverted_call\u001b[0m\u001b[0;34m(\u001b[0m\u001b[0mag__\u001b[0m\u001b[0;34m.\u001b[0m\u001b[0mld\u001b[0m\u001b[0;34m(\u001b[0m\u001b[0mself\u001b[0m\u001b[0;34m)\u001b[0m\u001b[0;34m.\u001b[0m\u001b[0mconv3\u001b[0m\u001b[0;34m,\u001b[0m \u001b[0;34m(\u001b[0m\u001b[0mag__\u001b[0m\u001b[0;34m.\u001b[0m\u001b[0mld\u001b[0m\u001b[0;34m(\u001b[0m\u001b[0mx\u001b[0m\u001b[0;34m)\u001b[0m\u001b[0;34m,\u001b[0m\u001b[0;34m)\u001b[0m\u001b[0;34m,\u001b[0m \u001b[0;32mNone\u001b[0m\u001b[0;34m,\u001b[0m \u001b[0mfscope\u001b[0m\u001b[0;34m)\u001b[0m\u001b[0;34m\u001b[0m\u001b[0;34m\u001b[0m\u001b[0m\n",
            "\u001b[0;31mValueError\u001b[0m: in user code:\n\n    File \"/usr/local/lib/python3.9/dist-packages/keras/engine/training.py\", line 1249, in train_function  *\n        return step_function(self, iterator)\n    File \"/usr/local/lib/python3.9/dist-packages/keras/engine/training.py\", line 1233, in step_function  **\n        outputs = model.distribute_strategy.run(run_step, args=(data,))\n    File \"/usr/local/lib/python3.9/dist-packages/keras/engine/training.py\", line 1222, in run_step  **\n        outputs = model.train_step(data)\n    File \"/usr/local/lib/python3.9/dist-packages/keras/engine/training.py\", line 1023, in train_step\n        y_pred = self(x, training=True)\n    File \"/usr/local/lib/python3.9/dist-packages/keras/utils/traceback_utils.py\", line 70, in error_handler\n        raise e.with_traceback(filtered_tb) from None\n    File \"/tmp/__autograph_generated_file15ypbdyj.py\", line 10, in tf__call\n        x = ag__.converted_call(ag__.ld(self).conv1, (ag__.ld(x),), None, fscope)\n\n    ValueError: Exception encountered when calling layer 'simple_motion_prediction_model' (type SimpleMotionPredictionModel).\n    \n    in user code:\n    \n        File \"<ipython-input-8-325b5973c955>\", line 22, in call  *\n            x = self.conv1(x)\n        File \"/usr/local/lib/python3.9/dist-packages/keras/utils/traceback_utils.py\", line 70, in error_handler  **\n            raise e.with_traceback(filtered_tb) from None\n        File \"/usr/local/lib/python3.9/dist-packages/keras/layers/convolutional/base_conv.py\", line 409, in _get_input_channel\n            raise ValueError(\n    \n        ValueError: The channel dimension of the inputs should be defined. The input_shape received is (None, None, None, None), where axis -1 (0-based) is the channel dimension, which found to be `None`.\n    \n    \n    Call arguments received by layer 'simple_motion_prediction_model' (type SimpleMotionPredictionModel):\n      • x=tf.Tensor(shape=(None, None, None, None), dtype=uint8)\n"
          ]
        }
      ]
    },
    {
      "cell_type": "code",
      "source": [
        "from waymo_open_dataset.protos import scenario_pb2\n",
        "\n",
        "cnt = 1\n",
        "for data in dataset :\n",
        "  if cnt % 10000 == 0:\n",
        "    print(f\"** Scenario {cnt}\")\n",
        "  cnt += 1\n",
        "  \n",
        "  scenario = scenario_pb2.Scenario()\n",
        "  scenario.ParseFromString(bytearray(data.numpy()))\n",
        "\n",
        "  if len(scenario.tracks_to_predict) == 0:\n",
        "    continue\n",
        "\n",
        "  scenario_preds = motion_submission_pb2.ChallengeScenarioPredictions()\n",
        "  scenario_preds.scenario_id = scenario.scenario_id\n",
        "\n",
        "  for ttp in scenario.tracks_to_predict:\n",
        "    track = scenario.tracks[ttp.track_index]\n",
        "    prediction = motion_submission_pb2.SingleObjectPrediction()\n",
        "    prediction.object_id = track.id\n",
        "\n",
        "    scored_trajectory = motion_submission_pb2.ScoredTrajectory()\n",
        "\n",
        "    # 예측해야하는 답안. future. 8초간 0.5초씩 총 16개의 (x,y)를 예측\n",
        "    # 시작 지점은 15번째부터.\n",
        "    future_states = track.states[15::5]\n",
        "    for state in future_states:\n",
        "      scored_trajectory.trajectory.center_x.append(state.center_x)\n",
        "      scored_trajectory.trajectory.center_y.append(state.center_y)\n",
        "    prediction.trajectories.append(scored_trajectory)\n",
        "\n",
        "    scenario_preds.single_predictions.predictions.append(prediction)\n",
        "\n",
        "  submission.scenario_predictions.append(scenario_preds) # submission에 추가하기\n",
        "\n",
        "print(f\"** Scenario {cnt}\")"
      ],
      "metadata": {
        "id": "8UijhNfw9jVs"
      },
      "execution_count": null,
      "outputs": []
    },
    {
      "cell_type": "code",
      "source": [],
      "metadata": {
        "id": "szMzWZs_9jUF"
      },
      "execution_count": null,
      "outputs": []
    },
    {
      "cell_type": "code",
      "source": [],
      "metadata": {
        "id": "y4c2kVGo9jR3"
      },
      "execution_count": null,
      "outputs": []
    },
    {
      "cell_type": "code",
      "source": [],
      "metadata": {
        "id": "UK11eivB9jPo"
      },
      "execution_count": null,
      "outputs": []
    },
    {
      "cell_type": "markdown",
      "source": [],
      "metadata": {
        "id": "rg--Ia0g8zh9"
      }
    }
  ]
}